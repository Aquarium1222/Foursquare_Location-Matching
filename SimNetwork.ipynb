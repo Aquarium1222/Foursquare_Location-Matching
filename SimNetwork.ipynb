{
 "cells": [
  {
   "cell_type": "markdown",
   "metadata": {
    "collapsed": true,
    "pycharm": {
     "name": "#%% md\n"
    }
   },
   "source": [
    "# Sim Network"
   ]
  },
  {
   "cell_type": "code",
   "execution_count": 13,
   "metadata": {
    "pycharm": {
     "name": "#%%\n"
    }
   },
   "outputs": [],
   "source": [
    "import numpy as np\n",
    "import pandas as pd\n",
    "from tqdm import tqdm\n",
    "from itertools import combinations\n",
    "\n",
    "from translate import Translation"
   ]
  },
  {
   "cell_type": "code",
   "execution_count": 176,
   "metadata": {
    "pycharm": {
     "name": "#%%\n"
    }
   },
   "outputs": [],
   "source": [
    "class cfg:\n",
    "    TRAINING_DATA_PATH = './data/train.csv'\n",
    "    TRAINING_PAIRS_PATH = './data/train_pairs.csv'\n",
    "    TESTING_DATA_PATH = './data/test.csv'\n",
    "    PAIRS_LABEL_PATH = './data/pairs_label.csv'\n",
    "    MODEL_PATH = './checkpoint/checkpoint_10.pt'\n",
    "    CHOICE_FEATURE = ['name', 'latitude', 'longitude', 'city', 'state', 'zip', 'country', 'categories']\n",
    "\n",
    "    RAND_SEED = 3\n",
    "    TEST_SIZE = 0.2\n",
    "    CHUNK_SIZE = 10000\n",
    "    LOG_STEPS = 10\n",
    "\n",
    "    BATCH_SIZE = 64\n",
    "    LR = 0.0002"
   ]
  },
  {
   "cell_type": "code",
   "execution_count": 15,
   "metadata": {
    "pycharm": {
     "name": "#%%\n"
    }
   },
   "outputs": [],
   "source": [
    "pair1_cols = ['name1', 'latitude1', 'longitude1', 'city1', 'state1', 'zip1', 'country1', 'categories1']\n",
    "pair2_cols = ['name2', 'latitude2', 'longitude2', 'city2', 'state2', 'zip2', 'country2', 'categories2']"
   ]
  },
  {
   "cell_type": "markdown",
   "metadata": {
    "pycharm": {
     "name": "#%% md\n"
    }
   },
   "source": [
    "## Prepare data"
   ]
  },
  {
   "cell_type": "code",
   "execution_count": 5,
   "metadata": {
    "pycharm": {
     "name": "#%%\n"
    }
   },
   "outputs": [
    {
     "ename": "FileNotFoundError",
     "evalue": "[Errno 2] No such file or directory: './data/train.csv'",
     "output_type": "error",
     "traceback": [
      "\u001B[1;31m---------------------------------------------------------------------------\u001B[0m",
      "\u001B[1;31mFileNotFoundError\u001B[0m                         Traceback (most recent call last)",
      "Input \u001B[1;32mIn [5]\u001B[0m, in \u001B[0;36m<cell line: 1>\u001B[1;34m()\u001B[0m\n\u001B[1;32m----> 1\u001B[0m df \u001B[38;5;241m=\u001B[39m \u001B[43mpd\u001B[49m\u001B[38;5;241;43m.\u001B[39;49m\u001B[43mread_csv\u001B[49m\u001B[43m(\u001B[49m\u001B[43mcfg\u001B[49m\u001B[38;5;241;43m.\u001B[39;49m\u001B[43mTRAINING_DATA_PATH\u001B[49m\u001B[43m)\u001B[49m\n\u001B[0;32m      2\u001B[0m df \u001B[38;5;241m=\u001B[39m df[[\u001B[38;5;124m'\u001B[39m\u001B[38;5;124mid\u001B[39m\u001B[38;5;124m'\u001B[39m] \u001B[38;5;241m+\u001B[39m cfg\u001B[38;5;241m.\u001B[39mCHOICE_FEATURE \u001B[38;5;241m+\u001B[39m [\u001B[38;5;124m'\u001B[39m\u001B[38;5;124mpoint_of_interest\u001B[39m\u001B[38;5;124m'\u001B[39m]]\n\u001B[0;32m      3\u001B[0m \u001B[38;5;66;03m# df = df[10000:20000].reset_index()\u001B[39;00m\n",
      "File \u001B[1;32mC:\\MySpace\\WorkSpace\\Anaconda3\\envs\\pytorch\\lib\\site-packages\\pandas\\util\\_decorators.py:311\u001B[0m, in \u001B[0;36mdeprecate_nonkeyword_arguments.<locals>.decorate.<locals>.wrapper\u001B[1;34m(*args, **kwargs)\u001B[0m\n\u001B[0;32m    305\u001B[0m \u001B[38;5;28;01mif\u001B[39;00m \u001B[38;5;28mlen\u001B[39m(args) \u001B[38;5;241m>\u001B[39m num_allow_args:\n\u001B[0;32m    306\u001B[0m     warnings\u001B[38;5;241m.\u001B[39mwarn(\n\u001B[0;32m    307\u001B[0m         msg\u001B[38;5;241m.\u001B[39mformat(arguments\u001B[38;5;241m=\u001B[39marguments),\n\u001B[0;32m    308\u001B[0m         \u001B[38;5;167;01mFutureWarning\u001B[39;00m,\n\u001B[0;32m    309\u001B[0m         stacklevel\u001B[38;5;241m=\u001B[39mstacklevel,\n\u001B[0;32m    310\u001B[0m     )\n\u001B[1;32m--> 311\u001B[0m \u001B[38;5;28;01mreturn\u001B[39;00m func(\u001B[38;5;241m*\u001B[39margs, \u001B[38;5;241m*\u001B[39m\u001B[38;5;241m*\u001B[39mkwargs)\n",
      "File \u001B[1;32mC:\\MySpace\\WorkSpace\\Anaconda3\\envs\\pytorch\\lib\\site-packages\\pandas\\io\\parsers\\readers.py:586\u001B[0m, in \u001B[0;36mread_csv\u001B[1;34m(filepath_or_buffer, sep, delimiter, header, names, index_col, usecols, squeeze, prefix, mangle_dupe_cols, dtype, engine, converters, true_values, false_values, skipinitialspace, skiprows, skipfooter, nrows, na_values, keep_default_na, na_filter, verbose, skip_blank_lines, parse_dates, infer_datetime_format, keep_date_col, date_parser, dayfirst, cache_dates, iterator, chunksize, compression, thousands, decimal, lineterminator, quotechar, quoting, doublequote, escapechar, comment, encoding, encoding_errors, dialect, error_bad_lines, warn_bad_lines, on_bad_lines, delim_whitespace, low_memory, memory_map, float_precision, storage_options)\u001B[0m\n\u001B[0;32m    571\u001B[0m kwds_defaults \u001B[38;5;241m=\u001B[39m _refine_defaults_read(\n\u001B[0;32m    572\u001B[0m     dialect,\n\u001B[0;32m    573\u001B[0m     delimiter,\n\u001B[1;32m   (...)\u001B[0m\n\u001B[0;32m    582\u001B[0m     defaults\u001B[38;5;241m=\u001B[39m{\u001B[38;5;124m\"\u001B[39m\u001B[38;5;124mdelimiter\u001B[39m\u001B[38;5;124m\"\u001B[39m: \u001B[38;5;124m\"\u001B[39m\u001B[38;5;124m,\u001B[39m\u001B[38;5;124m\"\u001B[39m},\n\u001B[0;32m    583\u001B[0m )\n\u001B[0;32m    584\u001B[0m kwds\u001B[38;5;241m.\u001B[39mupdate(kwds_defaults)\n\u001B[1;32m--> 586\u001B[0m \u001B[38;5;28;01mreturn\u001B[39;00m \u001B[43m_read\u001B[49m\u001B[43m(\u001B[49m\u001B[43mfilepath_or_buffer\u001B[49m\u001B[43m,\u001B[49m\u001B[43m \u001B[49m\u001B[43mkwds\u001B[49m\u001B[43m)\u001B[49m\n",
      "File \u001B[1;32mC:\\MySpace\\WorkSpace\\Anaconda3\\envs\\pytorch\\lib\\site-packages\\pandas\\io\\parsers\\readers.py:482\u001B[0m, in \u001B[0;36m_read\u001B[1;34m(filepath_or_buffer, kwds)\u001B[0m\n\u001B[0;32m    479\u001B[0m _validate_names(kwds\u001B[38;5;241m.\u001B[39mget(\u001B[38;5;124m\"\u001B[39m\u001B[38;5;124mnames\u001B[39m\u001B[38;5;124m\"\u001B[39m, \u001B[38;5;28;01mNone\u001B[39;00m))\n\u001B[0;32m    481\u001B[0m \u001B[38;5;66;03m# Create the parser.\u001B[39;00m\n\u001B[1;32m--> 482\u001B[0m parser \u001B[38;5;241m=\u001B[39m TextFileReader(filepath_or_buffer, \u001B[38;5;241m*\u001B[39m\u001B[38;5;241m*\u001B[39mkwds)\n\u001B[0;32m    484\u001B[0m \u001B[38;5;28;01mif\u001B[39;00m chunksize \u001B[38;5;129;01mor\u001B[39;00m iterator:\n\u001B[0;32m    485\u001B[0m     \u001B[38;5;28;01mreturn\u001B[39;00m parser\n",
      "File \u001B[1;32mC:\\MySpace\\WorkSpace\\Anaconda3\\envs\\pytorch\\lib\\site-packages\\pandas\\io\\parsers\\readers.py:811\u001B[0m, in \u001B[0;36mTextFileReader.__init__\u001B[1;34m(self, f, engine, **kwds)\u001B[0m\n\u001B[0;32m    808\u001B[0m \u001B[38;5;28;01mif\u001B[39;00m \u001B[38;5;124m\"\u001B[39m\u001B[38;5;124mhas_index_names\u001B[39m\u001B[38;5;124m\"\u001B[39m \u001B[38;5;129;01min\u001B[39;00m kwds:\n\u001B[0;32m    809\u001B[0m     \u001B[38;5;28mself\u001B[39m\u001B[38;5;241m.\u001B[39moptions[\u001B[38;5;124m\"\u001B[39m\u001B[38;5;124mhas_index_names\u001B[39m\u001B[38;5;124m\"\u001B[39m] \u001B[38;5;241m=\u001B[39m kwds[\u001B[38;5;124m\"\u001B[39m\u001B[38;5;124mhas_index_names\u001B[39m\u001B[38;5;124m\"\u001B[39m]\n\u001B[1;32m--> 811\u001B[0m \u001B[38;5;28mself\u001B[39m\u001B[38;5;241m.\u001B[39m_engine \u001B[38;5;241m=\u001B[39m \u001B[38;5;28;43mself\u001B[39;49m\u001B[38;5;241;43m.\u001B[39;49m\u001B[43m_make_engine\u001B[49m\u001B[43m(\u001B[49m\u001B[38;5;28;43mself\u001B[39;49m\u001B[38;5;241;43m.\u001B[39;49m\u001B[43mengine\u001B[49m\u001B[43m)\u001B[49m\n",
      "File \u001B[1;32mC:\\MySpace\\WorkSpace\\Anaconda3\\envs\\pytorch\\lib\\site-packages\\pandas\\io\\parsers\\readers.py:1040\u001B[0m, in \u001B[0;36mTextFileReader._make_engine\u001B[1;34m(self, engine)\u001B[0m\n\u001B[0;32m   1036\u001B[0m     \u001B[38;5;28;01mraise\u001B[39;00m \u001B[38;5;167;01mValueError\u001B[39;00m(\n\u001B[0;32m   1037\u001B[0m         \u001B[38;5;124mf\u001B[39m\u001B[38;5;124m\"\u001B[39m\u001B[38;5;124mUnknown engine: \u001B[39m\u001B[38;5;132;01m{\u001B[39;00mengine\u001B[38;5;132;01m}\u001B[39;00m\u001B[38;5;124m (valid options are \u001B[39m\u001B[38;5;132;01m{\u001B[39;00mmapping\u001B[38;5;241m.\u001B[39mkeys()\u001B[38;5;132;01m}\u001B[39;00m\u001B[38;5;124m)\u001B[39m\u001B[38;5;124m\"\u001B[39m\n\u001B[0;32m   1038\u001B[0m     )\n\u001B[0;32m   1039\u001B[0m \u001B[38;5;66;03m# error: Too many arguments for \"ParserBase\"\u001B[39;00m\n\u001B[1;32m-> 1040\u001B[0m \u001B[38;5;28;01mreturn\u001B[39;00m mapping[engine](\u001B[38;5;28mself\u001B[39m\u001B[38;5;241m.\u001B[39mf, \u001B[38;5;241m*\u001B[39m\u001B[38;5;241m*\u001B[39m\u001B[38;5;28mself\u001B[39m\u001B[38;5;241m.\u001B[39moptions)\n",
      "File \u001B[1;32mC:\\MySpace\\WorkSpace\\Anaconda3\\envs\\pytorch\\lib\\site-packages\\pandas\\io\\parsers\\c_parser_wrapper.py:51\u001B[0m, in \u001B[0;36mCParserWrapper.__init__\u001B[1;34m(self, src, **kwds)\u001B[0m\n\u001B[0;32m     48\u001B[0m kwds[\u001B[38;5;124m\"\u001B[39m\u001B[38;5;124musecols\u001B[39m\u001B[38;5;124m\"\u001B[39m] \u001B[38;5;241m=\u001B[39m \u001B[38;5;28mself\u001B[39m\u001B[38;5;241m.\u001B[39musecols\n\u001B[0;32m     50\u001B[0m \u001B[38;5;66;03m# open handles\u001B[39;00m\n\u001B[1;32m---> 51\u001B[0m \u001B[38;5;28;43mself\u001B[39;49m\u001B[38;5;241;43m.\u001B[39;49m\u001B[43m_open_handles\u001B[49m\u001B[43m(\u001B[49m\u001B[43msrc\u001B[49m\u001B[43m,\u001B[49m\u001B[43m \u001B[49m\u001B[43mkwds\u001B[49m\u001B[43m)\u001B[49m\n\u001B[0;32m     52\u001B[0m \u001B[38;5;28;01massert\u001B[39;00m \u001B[38;5;28mself\u001B[39m\u001B[38;5;241m.\u001B[39mhandles \u001B[38;5;129;01mis\u001B[39;00m \u001B[38;5;129;01mnot\u001B[39;00m \u001B[38;5;28;01mNone\u001B[39;00m\n\u001B[0;32m     54\u001B[0m \u001B[38;5;66;03m# Have to pass int, would break tests using TextReader directly otherwise :(\u001B[39;00m\n",
      "File \u001B[1;32mC:\\MySpace\\WorkSpace\\Anaconda3\\envs\\pytorch\\lib\\site-packages\\pandas\\io\\parsers\\base_parser.py:222\u001B[0m, in \u001B[0;36mParserBase._open_handles\u001B[1;34m(self, src, kwds)\u001B[0m\n\u001B[0;32m    218\u001B[0m \u001B[38;5;28;01mdef\u001B[39;00m \u001B[38;5;21m_open_handles\u001B[39m(\u001B[38;5;28mself\u001B[39m, src: FilePathOrBuffer, kwds: \u001B[38;5;28mdict\u001B[39m[\u001B[38;5;28mstr\u001B[39m, Any]) \u001B[38;5;241m-\u001B[39m\u001B[38;5;241m>\u001B[39m \u001B[38;5;28;01mNone\u001B[39;00m:\n\u001B[0;32m    219\u001B[0m     \u001B[38;5;124;03m\"\"\"\u001B[39;00m\n\u001B[0;32m    220\u001B[0m \u001B[38;5;124;03m    Let the readers open IOHandles after they are done with their potential raises.\u001B[39;00m\n\u001B[0;32m    221\u001B[0m \u001B[38;5;124;03m    \"\"\"\u001B[39;00m\n\u001B[1;32m--> 222\u001B[0m     \u001B[38;5;28mself\u001B[39m\u001B[38;5;241m.\u001B[39mhandles \u001B[38;5;241m=\u001B[39m \u001B[43mget_handle\u001B[49m\u001B[43m(\u001B[49m\n\u001B[0;32m    223\u001B[0m \u001B[43m        \u001B[49m\u001B[43msrc\u001B[49m\u001B[43m,\u001B[49m\n\u001B[0;32m    224\u001B[0m \u001B[43m        \u001B[49m\u001B[38;5;124;43m\"\u001B[39;49m\u001B[38;5;124;43mr\u001B[39;49m\u001B[38;5;124;43m\"\u001B[39;49m\u001B[43m,\u001B[49m\n\u001B[0;32m    225\u001B[0m \u001B[43m        \u001B[49m\u001B[43mencoding\u001B[49m\u001B[38;5;241;43m=\u001B[39;49m\u001B[43mkwds\u001B[49m\u001B[38;5;241;43m.\u001B[39;49m\u001B[43mget\u001B[49m\u001B[43m(\u001B[49m\u001B[38;5;124;43m\"\u001B[39;49m\u001B[38;5;124;43mencoding\u001B[39;49m\u001B[38;5;124;43m\"\u001B[39;49m\u001B[43m,\u001B[49m\u001B[43m \u001B[49m\u001B[38;5;28;43;01mNone\u001B[39;49;00m\u001B[43m)\u001B[49m\u001B[43m,\u001B[49m\n\u001B[0;32m    226\u001B[0m \u001B[43m        \u001B[49m\u001B[43mcompression\u001B[49m\u001B[38;5;241;43m=\u001B[39;49m\u001B[43mkwds\u001B[49m\u001B[38;5;241;43m.\u001B[39;49m\u001B[43mget\u001B[49m\u001B[43m(\u001B[49m\u001B[38;5;124;43m\"\u001B[39;49m\u001B[38;5;124;43mcompression\u001B[39;49m\u001B[38;5;124;43m\"\u001B[39;49m\u001B[43m,\u001B[49m\u001B[43m \u001B[49m\u001B[38;5;28;43;01mNone\u001B[39;49;00m\u001B[43m)\u001B[49m\u001B[43m,\u001B[49m\n\u001B[0;32m    227\u001B[0m \u001B[43m        \u001B[49m\u001B[43mmemory_map\u001B[49m\u001B[38;5;241;43m=\u001B[39;49m\u001B[43mkwds\u001B[49m\u001B[38;5;241;43m.\u001B[39;49m\u001B[43mget\u001B[49m\u001B[43m(\u001B[49m\u001B[38;5;124;43m\"\u001B[39;49m\u001B[38;5;124;43mmemory_map\u001B[39;49m\u001B[38;5;124;43m\"\u001B[39;49m\u001B[43m,\u001B[49m\u001B[43m \u001B[49m\u001B[38;5;28;43;01mFalse\u001B[39;49;00m\u001B[43m)\u001B[49m\u001B[43m,\u001B[49m\n\u001B[0;32m    228\u001B[0m \u001B[43m        \u001B[49m\u001B[43mstorage_options\u001B[49m\u001B[38;5;241;43m=\u001B[39;49m\u001B[43mkwds\u001B[49m\u001B[38;5;241;43m.\u001B[39;49m\u001B[43mget\u001B[49m\u001B[43m(\u001B[49m\u001B[38;5;124;43m\"\u001B[39;49m\u001B[38;5;124;43mstorage_options\u001B[39;49m\u001B[38;5;124;43m\"\u001B[39;49m\u001B[43m,\u001B[49m\u001B[43m \u001B[49m\u001B[38;5;28;43;01mNone\u001B[39;49;00m\u001B[43m)\u001B[49m\u001B[43m,\u001B[49m\n\u001B[0;32m    229\u001B[0m \u001B[43m        \u001B[49m\u001B[43merrors\u001B[49m\u001B[38;5;241;43m=\u001B[39;49m\u001B[43mkwds\u001B[49m\u001B[38;5;241;43m.\u001B[39;49m\u001B[43mget\u001B[49m\u001B[43m(\u001B[49m\u001B[38;5;124;43m\"\u001B[39;49m\u001B[38;5;124;43mencoding_errors\u001B[39;49m\u001B[38;5;124;43m\"\u001B[39;49m\u001B[43m,\u001B[49m\u001B[43m \u001B[49m\u001B[38;5;124;43m\"\u001B[39;49m\u001B[38;5;124;43mstrict\u001B[39;49m\u001B[38;5;124;43m\"\u001B[39;49m\u001B[43m)\u001B[49m\u001B[43m,\u001B[49m\n\u001B[0;32m    230\u001B[0m \u001B[43m    \u001B[49m\u001B[43m)\u001B[49m\n",
      "File \u001B[1;32mC:\\MySpace\\WorkSpace\\Anaconda3\\envs\\pytorch\\lib\\site-packages\\pandas\\io\\common.py:702\u001B[0m, in \u001B[0;36mget_handle\u001B[1;34m(path_or_buf, mode, encoding, compression, memory_map, is_text, errors, storage_options)\u001B[0m\n\u001B[0;32m    697\u001B[0m \u001B[38;5;28;01melif\u001B[39;00m \u001B[38;5;28misinstance\u001B[39m(handle, \u001B[38;5;28mstr\u001B[39m):\n\u001B[0;32m    698\u001B[0m     \u001B[38;5;66;03m# Check whether the filename is to be opened in binary mode.\u001B[39;00m\n\u001B[0;32m    699\u001B[0m     \u001B[38;5;66;03m# Binary mode does not support 'encoding' and 'newline'.\u001B[39;00m\n\u001B[0;32m    700\u001B[0m     \u001B[38;5;28;01mif\u001B[39;00m ioargs\u001B[38;5;241m.\u001B[39mencoding \u001B[38;5;129;01mand\u001B[39;00m \u001B[38;5;124m\"\u001B[39m\u001B[38;5;124mb\u001B[39m\u001B[38;5;124m\"\u001B[39m \u001B[38;5;129;01mnot\u001B[39;00m \u001B[38;5;129;01min\u001B[39;00m ioargs\u001B[38;5;241m.\u001B[39mmode:\n\u001B[0;32m    701\u001B[0m         \u001B[38;5;66;03m# Encoding\u001B[39;00m\n\u001B[1;32m--> 702\u001B[0m         handle \u001B[38;5;241m=\u001B[39m \u001B[38;5;28;43mopen\u001B[39;49m\u001B[43m(\u001B[49m\n\u001B[0;32m    703\u001B[0m \u001B[43m            \u001B[49m\u001B[43mhandle\u001B[49m\u001B[43m,\u001B[49m\n\u001B[0;32m    704\u001B[0m \u001B[43m            \u001B[49m\u001B[43mioargs\u001B[49m\u001B[38;5;241;43m.\u001B[39;49m\u001B[43mmode\u001B[49m\u001B[43m,\u001B[49m\n\u001B[0;32m    705\u001B[0m \u001B[43m            \u001B[49m\u001B[43mencoding\u001B[49m\u001B[38;5;241;43m=\u001B[39;49m\u001B[43mioargs\u001B[49m\u001B[38;5;241;43m.\u001B[39;49m\u001B[43mencoding\u001B[49m\u001B[43m,\u001B[49m\n\u001B[0;32m    706\u001B[0m \u001B[43m            \u001B[49m\u001B[43merrors\u001B[49m\u001B[38;5;241;43m=\u001B[39;49m\u001B[43merrors\u001B[49m\u001B[43m,\u001B[49m\n\u001B[0;32m    707\u001B[0m \u001B[43m            \u001B[49m\u001B[43mnewline\u001B[49m\u001B[38;5;241;43m=\u001B[39;49m\u001B[38;5;124;43m\"\u001B[39;49m\u001B[38;5;124;43m\"\u001B[39;49m\u001B[43m,\u001B[49m\n\u001B[0;32m    708\u001B[0m \u001B[43m        \u001B[49m\u001B[43m)\u001B[49m\n\u001B[0;32m    709\u001B[0m     \u001B[38;5;28;01melse\u001B[39;00m:\n\u001B[0;32m    710\u001B[0m         \u001B[38;5;66;03m# Binary mode\u001B[39;00m\n\u001B[0;32m    711\u001B[0m         handle \u001B[38;5;241m=\u001B[39m \u001B[38;5;28mopen\u001B[39m(handle, ioargs\u001B[38;5;241m.\u001B[39mmode)\n",
      "\u001B[1;31mFileNotFoundError\u001B[0m: [Errno 2] No such file or directory: './data/train.csv'"
     ]
    }
   ],
   "source": [
    "df = pd.read_csv(cfg.TRAINING_DATA_PATH)\n",
    "df = df[['id'] + cfg.CHOICE_FEATURE + ['point_of_interest']]\n",
    "# df = df[10000:20000].reset_index()\n",
    "df.head()"
   ]
  },
  {
   "cell_type": "code",
   "execution_count": 4,
   "metadata": {
    "pycharm": {
     "name": "#%%\n"
    }
   },
   "outputs": [],
   "source": [
    "df = df.fillna('NaN')"
   ]
  },
  {
   "cell_type": "code",
   "execution_count": 11,
   "metadata": {
    "pycharm": {
     "name": "#%%\n"
    }
   },
   "outputs": [],
   "source": [
    "def translate(data_list):\n",
    "    trans = Translation()\n",
    "    chunk_len = len(data_list) // 100\n",
    "    result = []\n",
    "    print(f'Chunk length: {chunk_len}')\n",
    "    for i in tqdm(range(100)):\n",
    "        start = i * chunk_len\n",
    "        stop = len(data_list) if i == 99 else (i + 1) * chunk_len\n",
    "        chunk = data_list[start:stop]\n",
    "        result.extend(trans.translate(chunk))\n",
    "    return result"
   ]
  },
  {
   "cell_type": "code",
   "execution_count": 7,
   "metadata": {
    "pycharm": {
     "name": "#%%\n"
    }
   },
   "outputs": [
    {
     "name": "stdout",
     "output_type": "stream",
     "text": [
      "Translating......\n",
      "Chunk length: 11388\n"
     ]
    },
    {
     "name": "stderr",
     "output_type": "stream",
     "text": [
      "100%|██████████| 100/100 [04:47<00:00,  2.88s/it]\n"
     ]
    },
    {
     "name": "stdout",
     "output_type": "stream",
     "text": [
      "name done.\n",
      "Chunk length: 11388\n"
     ]
    },
    {
     "name": "stderr",
     "output_type": "stream",
     "text": [
      "100%|██████████| 100/100 [04:25<00:00,  2.65s/it]\n"
     ]
    },
    {
     "name": "stdout",
     "output_type": "stream",
     "text": [
      "city done.\n",
      "Chunk length: 11388\n"
     ]
    },
    {
     "name": "stderr",
     "output_type": "stream",
     "text": [
      "100%|██████████| 100/100 [04:14<00:00,  2.55s/it]\n"
     ]
    },
    {
     "name": "stdout",
     "output_type": "stream",
     "text": [
      "state done.\n",
      "Chunk length: 11388\n"
     ]
    },
    {
     "name": "stderr",
     "output_type": "stream",
     "text": [
      "100%|██████████| 100/100 [04:14<00:00,  2.55s/it]\n"
     ]
    },
    {
     "name": "stdout",
     "output_type": "stream",
     "text": [
      "zip done.\n",
      "Chunk length: 11388\n"
     ]
    },
    {
     "name": "stderr",
     "output_type": "stream",
     "text": [
      "100%|██████████| 100/100 [03:46<00:00,  2.26s/it]\n"
     ]
    },
    {
     "name": "stdout",
     "output_type": "stream",
     "text": [
      "country done.\n",
      "Chunk length: 11388\n"
     ]
    },
    {
     "name": "stderr",
     "output_type": "stream",
     "text": [
      "100%|██████████| 100/100 [04:19<00:00,  2.59s/it]"
     ]
    },
    {
     "name": "stdout",
     "output_type": "stream",
     "text": [
      "categories done.\n"
     ]
    },
    {
     "name": "stderr",
     "output_type": "stream",
     "text": [
      "\n"
     ]
    },
    {
     "data": {
      "text/html": [
       "<div>\n",
       "<style scoped>\n",
       "    .dataframe tbody tr th:only-of-type {\n",
       "        vertical-align: middle;\n",
       "    }\n",
       "\n",
       "    .dataframe tbody tr th {\n",
       "        vertical-align: top;\n",
       "    }\n",
       "\n",
       "    .dataframe thead th {\n",
       "        text-align: right;\n",
       "    }\n",
       "</style>\n",
       "<table border=\"1\" class=\"dataframe\">\n",
       "  <thead>\n",
       "    <tr style=\"text-align: right;\">\n",
       "      <th></th>\n",
       "      <th>id</th>\n",
       "      <th>name</th>\n",
       "      <th>latitude</th>\n",
       "      <th>longitude</th>\n",
       "      <th>city</th>\n",
       "      <th>state</th>\n",
       "      <th>zip</th>\n",
       "      <th>country</th>\n",
       "      <th>categories</th>\n",
       "      <th>point_of_interest</th>\n",
       "    </tr>\n",
       "  </thead>\n",
       "  <tbody>\n",
       "    <tr>\n",
       "      <th>0</th>\n",
       "      <td>E_000001272c6c5d</td>\n",
       "      <td>Cafe City Oudenaarde</td>\n",
       "      <td>50.859975</td>\n",
       "      <td>3.634196</td>\n",
       "      <td>Nederename</td>\n",
       "      <td>East Flanders</td>\n",
       "      <td>9700</td>\n",
       "      <td>BE</td>\n",
       "      <td>Bars</td>\n",
       "      <td>P_677e840bb6fc7e</td>\n",
       "    </tr>\n",
       "    <tr>\n",
       "      <th>1</th>\n",
       "      <td>E_000002eae2a589</td>\n",
       "      <td>Carioca Manero</td>\n",
       "      <td>-22.907225</td>\n",
       "      <td>-43.178244</td>\n",
       "      <td>NaN</td>\n",
       "      <td>NaN</td>\n",
       "      <td>NaN</td>\n",
       "      <td>BR</td>\n",
       "      <td>Brazilian Restaurants</td>\n",
       "      <td>P_d82910d8382a83</td>\n",
       "    </tr>\n",
       "    <tr>\n",
       "      <th>2</th>\n",
       "      <td>E_000007f24ebc95</td>\n",
       "      <td>karaage barber shop</td>\n",
       "      <td>13.780813</td>\n",
       "      <td>100.484900</td>\n",
       "      <td>NaN</td>\n",
       "      <td>NaN</td>\n",
       "      <td>NaN</td>\n",
       "      <td>TH</td>\n",
       "      <td>Salons / Barbershops</td>\n",
       "      <td>P_b1066599e78477</td>\n",
       "    </tr>\n",
       "    <tr>\n",
       "      <th>3</th>\n",
       "      <td>E_000008a8ba4f48</td>\n",
       "      <td>Turkcell</td>\n",
       "      <td>37.844510</td>\n",
       "      <td>27.844202</td>\n",
       "      <td>NaN</td>\n",
       "      <td>NaN</td>\n",
       "      <td>NaN</td>\n",
       "      <td>TR</td>\n",
       "      <td>Mobile Phone Shops</td>\n",
       "      <td>P_b2ed86905a4cd3</td>\n",
       "    </tr>\n",
       "    <tr>\n",
       "      <th>4</th>\n",
       "      <td>E_00001d92066153</td>\n",
       "      <td>Cofino House Restaurant</td>\n",
       "      <td>43.338196</td>\n",
       "      <td>-4.326821</td>\n",
       "      <td>cavides</td>\n",
       "      <td>cantabria</td>\n",
       "      <td>NaN</td>\n",
       "      <td>ES</td>\n",
       "      <td>Spanish Restaurants</td>\n",
       "      <td>P_809a884d4407fb</td>\n",
       "    </tr>\n",
       "    <tr>\n",
       "      <th>...</th>\n",
       "      <td>...</td>\n",
       "      <td>...</td>\n",
       "      <td>...</td>\n",
       "      <td>...</td>\n",
       "      <td>...</td>\n",
       "      <td>...</td>\n",
       "      <td>...</td>\n",
       "      <td>...</td>\n",
       "      <td>...</td>\n",
       "      <td>...</td>\n",
       "    </tr>\n",
       "    <tr>\n",
       "      <th>1138807</th>\n",
       "      <td>E_ffffb80854f713</td>\n",
       "      <td>Blue frog</td>\n",
       "      <td>35.659020</td>\n",
       "      <td>139.700780</td>\n",
       "      <td>Shibuya Ward</td>\n",
       "      <td>Tokyo</td>\n",
       "      <td>150-0043</td>\n",
       "      <td>JP</td>\n",
       "      <td>NaN</td>\n",
       "      <td>P_7ccbeab96cd82e</td>\n",
       "    </tr>\n",
       "    <tr>\n",
       "      <th>1138808</th>\n",
       "      <td>E_ffffbf9a83e0ba</td>\n",
       "      <td>Deshon Place</td>\n",
       "      <td>40.872116</td>\n",
       "      <td>-79.945343</td>\n",
       "      <td>Butler</td>\n",
       "      <td>PA</td>\n",
       "      <td>16001</td>\n",
       "      <td>US</td>\n",
       "      <td>Housing Developments</td>\n",
       "      <td>P_db0abc418e7365</td>\n",
       "    </tr>\n",
       "    <tr>\n",
       "      <th>1138809</th>\n",
       "      <td>E_ffffc572b4d35b</td>\n",
       "      <td>Izmir Adnan Menderes Airport</td>\n",
       "      <td>38.423733</td>\n",
       "      <td>27.142826</td>\n",
       "      <td>İzmir</td>\n",
       "      <td>NaN</td>\n",
       "      <td>NaN</td>\n",
       "      <td>TR</td>\n",
       "      <td>Airport Services</td>\n",
       "      <td>P_ae96252a6a9380</td>\n",
       "    </tr>\n",
       "    <tr>\n",
       "      <th>1138810</th>\n",
       "      <td>E_ffffca745329ed</td>\n",
       "      <td>Yakiniku Japanese house</td>\n",
       "      <td>35.710712</td>\n",
       "      <td>139.775000</td>\n",
       "      <td>Taitō</td>\n",
       "      <td>Tokyo</td>\n",
       "      <td>110-0005</td>\n",
       "      <td>JP</td>\n",
       "      <td>BBQ Joints</td>\n",
       "      <td>P_146662f246d418</td>\n",
       "    </tr>\n",
       "    <tr>\n",
       "      <th>1138811</th>\n",
       "      <td>E_ffffe6f4652fbb</td>\n",
       "      <td>Waihi Beach</td>\n",
       "      <td>-37.417042</td>\n",
       "      <td>175.950466</td>\n",
       "      <td>Waihi Beach</td>\n",
       "      <td>Bay Of Plenty</td>\n",
       "      <td>3611</td>\n",
       "      <td>NZ</td>\n",
       "      <td>Surf Spots</td>\n",
       "      <td>P_ea6578bf39b406</td>\n",
       "    </tr>\n",
       "  </tbody>\n",
       "</table>\n",
       "<p>1138812 rows × 10 columns</p>\n",
       "</div>"
      ],
      "text/plain": [
       "                       id                          name   latitude  \\\n",
       "0        E_000001272c6c5d          Cafe City Oudenaarde  50.859975   \n",
       "1        E_000002eae2a589                Carioca Manero -22.907225   \n",
       "2        E_000007f24ebc95           karaage barber shop  13.780813   \n",
       "3        E_000008a8ba4f48                      Turkcell  37.844510   \n",
       "4        E_00001d92066153       Cofino House Restaurant  43.338196   \n",
       "...                   ...                           ...        ...   \n",
       "1138807  E_ffffb80854f713                     Blue frog  35.659020   \n",
       "1138808  E_ffffbf9a83e0ba                  Deshon Place  40.872116   \n",
       "1138809  E_ffffc572b4d35b  Izmir Adnan Menderes Airport  38.423733   \n",
       "1138810  E_ffffca745329ed       Yakiniku Japanese house  35.710712   \n",
       "1138811  E_ffffe6f4652fbb                   Waihi Beach -37.417042   \n",
       "\n",
       "          longitude          city          state       zip country  \\\n",
       "0          3.634196    Nederename  East Flanders      9700      BE   \n",
       "1        -43.178244           NaN            NaN       NaN      BR   \n",
       "2        100.484900           NaN            NaN       NaN      TH   \n",
       "3         27.844202           NaN            NaN       NaN      TR   \n",
       "4         -4.326821       cavides      cantabria       NaN      ES   \n",
       "...             ...           ...            ...       ...     ...   \n",
       "1138807  139.700780  Shibuya Ward          Tokyo  150-0043      JP   \n",
       "1138808  -79.945343        Butler             PA     16001      US   \n",
       "1138809   27.142826         İzmir            NaN       NaN      TR   \n",
       "1138810  139.775000         Taitō          Tokyo  110-0005      JP   \n",
       "1138811  175.950466   Waihi Beach  Bay Of Plenty      3611      NZ   \n",
       "\n",
       "                    categories point_of_interest  \n",
       "0                         Bars  P_677e840bb6fc7e  \n",
       "1        Brazilian Restaurants  P_d82910d8382a83  \n",
       "2         Salons / Barbershops  P_b1066599e78477  \n",
       "3           Mobile Phone Shops  P_b2ed86905a4cd3  \n",
       "4          Spanish Restaurants  P_809a884d4407fb  \n",
       "...                        ...               ...  \n",
       "1138807                    NaN  P_7ccbeab96cd82e  \n",
       "1138808   Housing Developments  P_db0abc418e7365  \n",
       "1138809       Airport Services  P_ae96252a6a9380  \n",
       "1138810             BBQ Joints  P_146662f246d418  \n",
       "1138811             Surf Spots  P_ea6578bf39b406  \n",
       "\n",
       "[1138812 rows x 10 columns]"
      ]
     },
     "execution_count": 7,
     "metadata": {},
     "output_type": "execute_result"
    }
   ],
   "source": [
    "print('Translating......')\n",
    "df['name'] = translate(df['name'].tolist())\n",
    "print('name done.')\n",
    "df['city'] = translate(df['city'].tolist())\n",
    "print('city done.')\n",
    "df['state'] = translate(df['state'].tolist())\n",
    "print('state done.')\n",
    "df['zip'] = translate(df['zip'].tolist())\n",
    "print('zip done.')\n",
    "df['country'] = translate(df['country'].tolist())\n",
    "print('country done.')\n",
    "df['categories'] = translate(df['categories'].tolist())\n",
    "print('categories done.')\n",
    "df"
   ]
  },
  {
   "cell_type": "code",
   "execution_count": 8,
   "metadata": {
    "pycharm": {
     "name": "#%%\n"
    }
   },
   "outputs": [
    {
     "data": {
      "text/html": [
       "<div>\n",
       "<style scoped>\n",
       "    .dataframe tbody tr th:only-of-type {\n",
       "        vertical-align: middle;\n",
       "    }\n",
       "\n",
       "    .dataframe tbody tr th {\n",
       "        vertical-align: top;\n",
       "    }\n",
       "\n",
       "    .dataframe thead th {\n",
       "        text-align: right;\n",
       "    }\n",
       "</style>\n",
       "<table border=\"1\" class=\"dataframe\">\n",
       "  <thead>\n",
       "    <tr style=\"text-align: right;\">\n",
       "      <th></th>\n",
       "      <th>name1</th>\n",
       "      <th>latitude1</th>\n",
       "      <th>longitude1</th>\n",
       "      <th>city1</th>\n",
       "      <th>state1</th>\n",
       "      <th>zip1</th>\n",
       "      <th>country1</th>\n",
       "      <th>categories1</th>\n",
       "      <th>name2</th>\n",
       "      <th>latitude2</th>\n",
       "      <th>longitude2</th>\n",
       "      <th>city2</th>\n",
       "      <th>state2</th>\n",
       "      <th>zip2</th>\n",
       "      <th>country2</th>\n",
       "      <th>categories2</th>\n",
       "    </tr>\n",
       "  </thead>\n",
       "  <tbody>\n",
       "  </tbody>\n",
       "</table>\n",
       "</div>"
      ],
      "text/plain": [
       "Empty DataFrame\n",
       "Columns: [name1, latitude1, longitude1, city1, state1, zip1, country1, categories1, name2, latitude2, longitude2, city2, state2, zip2, country2, categories2]\n",
       "Index: []"
      ]
     },
     "execution_count": 8,
     "metadata": {},
     "output_type": "execute_result"
    }
   ],
   "source": [
    "pair_df = pd.DataFrame(columns=pair1_cols + pair2_cols)\n",
    "new_pair = pair_df.copy(deep=True)\n",
    "pair_df"
   ]
  },
  {
   "cell_type": "code",
   "execution_count": 9,
   "metadata": {
    "pycharm": {
     "name": "#%%\n"
    }
   },
   "outputs": [
    {
     "name": "stderr",
     "output_type": "stream",
     "text": [
      "100%|██████████| 739972/739972 [1:00:40<00:00, 203.28it/s]\n"
     ]
    },
    {
     "name": "stdout",
     "output_type": "stream",
     "text": [
      "Total combinations: 672781\n",
      "Pair dataframe:\n",
      "                                                     name1  latitude1  \\\n",
      "0       Taichung International Airport (RMQ) (Taichung...  24.254227   \n",
      "1       Taichung International Airport (RMQ) (Taichung...  24.254227   \n",
      "2       Taichung International Airport (RMQ) (Taichung...  24.254227   \n",
      "3                         Taichung Airport Int'l Terminal  24.254209   \n",
      "4                         Taichung Airport Int'l Terminal  24.254209   \n",
      "...                                                   ...        ...   \n",
      "672776                    Forest Near Lebedyanskiye Ponds  55.775839   \n",
      "672777                                   Lebedyansky Pond  55.771589   \n",
      "672778                              Southern Highway, 30a  56.227364   \n",
      "672779                              Southern Highway, 30a  56.227364   \n",
      "672780                                        Yuzhka, 30a  56.227045   \n",
      "\n",
      "        longitude1            city1    state1   zip1 country1  \\\n",
      "0       120.599732         Taichung  Taichung  43346       TW   \n",
      "1       120.599732         Taichung  Taichung  43346       TW   \n",
      "2       120.599732         Taichung  Taichung  43346       TW   \n",
      "3       120.599844              NaN       NaN    NaN       TW   \n",
      "4       120.599844              NaN       NaN    NaN       TW   \n",
      "...            ...              ...       ...    ...      ...   \n",
      "672776   37.808085              NaN       NaN    NaN       RU   \n",
      "672777   37.818917              NaN       NaN    NaN       RU   \n",
      "672778   43.867168  Nizhny Novgorod       NaN    NaN       RU   \n",
      "672779   43.867168  Nizhny Novgorod       NaN    NaN       RU   \n",
      "672780   43.866928              NaN       NaN    NaN       RU   \n",
      "\n",
      "                                        categories1  \\\n",
      "0                          Airports, Military Bases   \n",
      "1                          Airports, Military Bases   \n",
      "2                          Airports, Military Bases   \n",
      "3                                 Airport Terminals   \n",
      "4                                 Airport Terminals   \n",
      "...                                             ...   \n",
      "672776                         Other Great Outdoors   \n",
      "672777                                        Parks   \n",
      "672778  Residential Buildings (Apartments / Condos)   \n",
      "672779  Residential Buildings (Apartments / Condos)   \n",
      "672780                              Assisted Living   \n",
      "\n",
      "                                  name2  latitude2  longitude2  \\\n",
      "0       Taichung Airport Int'l Terminal  24.254209  120.599844   \n",
      "1        Taichung International Airport   24.25548  120.600316   \n",
      "2             Taichung Qingquan Airport  24.214837  120.622577   \n",
      "3        Taichung International Airport   24.25548  120.600316   \n",
      "4             Taichung Qingquan Airport  24.214837  120.622577   \n",
      "...                                 ...        ...         ...   \n",
      "672776                 Lebedyansky Pond  55.776323   37.807971   \n",
      "672777                 Lebedyansky Pond  55.776323   37.807971   \n",
      "672778                      Yuzhka, 30a  56.227045   43.866928   \n",
      "672779                South Highway 30A   56.22763   43.866159   \n",
      "672780                South Highway 30A   56.22763   43.866159   \n",
      "\n",
      "                  city2  state2 zip2 country2  \\\n",
      "0                   NaN     NaN  NaN       TW   \n",
      "1                Taipei     NaN  NaN       TW   \n",
      "2                   NaN     NaN  NaN       TW   \n",
      "3                Taipei     NaN  NaN       TW   \n",
      "4                   NaN     NaN  NaN       TW   \n",
      "...                 ...     ...  ...      ...   \n",
      "672776           Moscow  Moscow  NaN       RU   \n",
      "672777           Moscow  Moscow  NaN       RU   \n",
      "672778              NaN     NaN  NaN       RU   \n",
      "672779  Nizhny Novgorod     NaN  NaN       RU   \n",
      "672780  Nizhny Novgorod     NaN  NaN       RU   \n",
      "\n",
      "                                        categories2  \n",
      "0                                 Airport Terminals  \n",
      "1                                          Airports  \n",
      "2                                          Airports  \n",
      "3                                          Airports  \n",
      "4                                          Airports  \n",
      "...                                             ...  \n",
      "672776                                        Lakes  \n",
      "672777                                        Lakes  \n",
      "672778                              Assisted Living  \n",
      "672779  Residential Buildings (Apartments / Condos)  \n",
      "672780  Residential Buildings (Apartments / Condos)  \n",
      "\n",
      "[672781 rows x 16 columns]\n"
     ]
    }
   ],
   "source": [
    "counter = 0\n",
    "for poi, poi_df in tqdm(df.groupby('point_of_interest')):\n",
    "    if len(poi_df) > 2:\n",
    "        poi_df = poi_df.drop(columns=['point_of_interest'])\n",
    "        new_pair = new_pair[0:0]\n",
    "        match_combs = np.array(list(combinations(poi_df['id'], 2)))\n",
    "        pair1 = pd.concat([poi_df[poi_df['id'] == comb][cfg.CHOICE_FEATURE] for comb in match_combs[:, 0]], ignore_index=True)\n",
    "        pair2 = pd.concat([poi_df[poi_df['id'] == comb][cfg.CHOICE_FEATURE] for comb in match_combs[:, 1]], ignore_index=True)\n",
    "        new_pair[pair1_cols] = pair1\n",
    "        new_pair[pair2_cols] = pair2\n",
    "        pair_df = pd.concat([pair_df, new_pair], ignore_index=True)\n",
    "        counter += len(match_combs)\n",
    "print(f'Total combinations: {counter}')\n",
    "print(f'Pair dataframe:\\n {pair_df}')"
   ]
  },
  {
   "cell_type": "markdown",
   "metadata": {
    "pycharm": {
     "name": "#%% md\n"
    }
   },
   "source": [
    "## Build Training Data\n",
    "1. How to build training data with positive / negative data?\n",
    "    - Total Data points: 1138812\n",
    "    - Total Data pairs: 672781\n",
    "    - Unique Data points: 739972\n",
    "    - For each data point, random sample 1 data point."
   ]
  },
  {
   "cell_type": "code",
   "execution_count": 11,
   "metadata": {
    "pycharm": {
     "name": "#%%\n"
    }
   },
   "outputs": [
    {
     "name": "stdout",
     "output_type": "stream",
     "text": [
      "739972\n"
     ]
    }
   ],
   "source": [
    "print(len(df['point_of_interest'].unique()))"
   ]
  },
  {
   "cell_type": "code",
   "execution_count": 13,
   "metadata": {
    "pycharm": {
     "name": "#%%\n"
    }
   },
   "outputs": [
    {
     "name": "stdout",
     "output_type": "stream",
     "text": [
      "Number of same POI in df & shuffle_df: 3\n",
      "                                name1  latitude1  longitude1         city1  \\\n",
      "0                Cafe City Oudenaarde  50.859975    3.634196    Nederename   \n",
      "1                      Carioca Manero -22.907225  -43.178244           NaN   \n",
      "2                 karaage barber shop  13.780813  100.484900           NaN   \n",
      "3                            Turkcell  37.844510   27.844202           NaN   \n",
      "4             Cofino House Restaurant  43.338196   -4.326821       cavides   \n",
      "...                               ...        ...         ...           ...   \n",
      "1138807                     Blue frog  35.659020  139.700780  Shibuya Ward   \n",
      "1138808                  Deshon Place  40.872116  -79.945343        Butler   \n",
      "1138809  Izmir Adnan Menderes Airport  38.423733   27.142826         İzmir   \n",
      "1138810       Yakiniku Japanese house  35.710712  139.775000         Taitō   \n",
      "1138811                   Waihi Beach -37.417042  175.950466   Waihi Beach   \n",
      "\n",
      "                state1      zip1 country1            categories1  \\\n",
      "0        East Flanders      9700       BE                   Bars   \n",
      "1                  NaN       NaN       BR  Brazilian Restaurants   \n",
      "2                  NaN       NaN       TH   Salons / Barbershops   \n",
      "3                  NaN       NaN       TR     Mobile Phone Shops   \n",
      "4            cantabria       NaN       ES    Spanish Restaurants   \n",
      "...                ...       ...      ...                    ...   \n",
      "1138807          Tokyo  150-0043       JP                    NaN   \n",
      "1138808             PA     16001       US   Housing Developments   \n",
      "1138809            NaN       NaN       TR       Airport Services   \n",
      "1138810          Tokyo  110-0005       JP             BBQ Joints   \n",
      "1138811  Bay Of Plenty      3611       NZ             Surf Spots   \n",
      "\n",
      "                                                  name2  latitude2  \\\n",
      "0                            BINUS International School  -6.276083   \n",
      "1                                   Balconies of Tibana   4.610142   \n",
      "2                                    Jack in the Donuts  34.881460   \n",
      "3                       ANS CAMPUS EDUCATIONAL BUILDING  38.808738   \n",
      "4                                                  Muji  52.256692   \n",
      "...                                                 ...        ...   \n",
      "1138807                      Hua Chang Temple @ Lopburi  14.789094   \n",
      "1138808                                     Good coffee  37.499597   \n",
      "1138809                         Cala es clot de sa cera  39.985195   \n",
      "1138810  Subang Utama National Secondary School (SMKSU)   3.068102   \n",
      "1138811                                       Sun House -23.632122   \n",
      "\n",
      "         longitude2              city2                state2     zip2  \\\n",
      "0        106.668050  Tangerang, Banten                Banten    15322   \n",
      "1        -74.106977                NaN                   NaN      NaN   \n",
      "2        136.826005      Tokoname City      Aichi prefecture      NaN   \n",
      "3         30.535176                NaN                   NaN      NaN   \n",
      "4         20.985625             Warsaw  Masovian Voivodeship   00-175   \n",
      "...             ...                ...                   ...      ...   \n",
      "1138807  100.671540           Tha Sala              Lop Buri      NaN   \n",
      "1138808  127.027520              Seoul                   NaN  135-932   \n",
      "1138809    3.839948         Ciutadella      Balearic Islands    07769   \n",
      "1138810  101.581606        Subang Jaya              Selangor    47500   \n",
      "1138811  -46.708142          Sao Paulo                   NaN      NaN   \n",
      "\n",
      "        country2                                  categories2  \n",
      "0             ID                        Schools, High Schools  \n",
      "1             CO  Residential Buildings (Apartments / Condos)  \n",
      "2             JP                                  Donut Shops  \n",
      "3             TR                                 High Schools  \n",
      "4             PL                          Miscellaneous Shops  \n",
      "...          ...                                          ...  \n",
      "1138807       TH                             Buddhist Temples  \n",
      "1138808       KR                                 Coffee Shops  \n",
      "1138809       ES                                      Beaches  \n",
      "1138810       MY                 High Schools, Middle Schools  \n",
      "1138811       BR                      Furniture / Home Stores  \n",
      "\n",
      "[1138812 rows x 16 columns]\n"
     ]
    }
   ],
   "source": [
    "shuffle_df = df.sample(n=len(df), random_state=3, ignore_index=True)\n",
    "shuffle_pairs = pd.concat([df[cfg.CHOICE_FEATURE], shuffle_df[cfg.CHOICE_FEATURE]], axis=1)\n",
    "shuffle_pairs.columns = pair1_cols + pair2_cols\n",
    "print(f'Number of same POI in df & shuffle_df: '\n",
    "      f'{np.where(shuffle_df.point_of_interest == df.point_of_interest, True, False).sum()}')\n",
    "print(shuffle_pairs)"
   ]
  },
  {
   "cell_type": "code",
   "execution_count": 14,
   "metadata": {
    "pycharm": {
     "name": "#%%\n"
    }
   },
   "outputs": [],
   "source": [
    "train_df = pd.concat([pair_df, shuffle_pairs], ignore_index=True)\n",
    "labels = pd.DataFrame(np.concatenate((np.ones(len(pair_df)), -(np.ones(len(df))))), columns=['label'])\n",
    "train_df.to_csv(cfg.TRAINING_PAIRS_PATH, index=False)\n",
    "labels.to_csv(cfg.PAIRS_LABEL_PATH, index=False)"
   ]
  },
  {
   "cell_type": "code",
   "execution_count": 87,
   "outputs": [],
   "source": [
    "labels = pd.DataFrame(np.concatenate((np.ones(672781), (np.zeros(1138812)))), columns=['label'])\n",
    "labels.to_csv(cfg.PAIRS_LABEL_PATH, index=False)"
   ],
   "metadata": {
    "collapsed": false,
    "pycharm": {
     "name": "#%%\n"
    }
   }
  },
  {
   "cell_type": "code",
   "execution_count": 15,
   "metadata": {
    "pycharm": {
     "name": "#%%\n"
    }
   },
   "outputs": [
    {
     "name": "stdout",
     "output_type": "stream",
     "text": [
      "Pair 1:                                                 name   latitude   longitude  \\\n",
      "0  Taichung International Airport (RMQ) (Taichung...  24.254227  120.599732   \n",
      "1  Taichung International Airport (RMQ) (Taichung...  24.254227  120.599732   \n",
      "2  Taichung International Airport (RMQ) (Taichung...  24.254227  120.599732   \n",
      "3                    Taichung Airport Int'l Terminal  24.254209  120.599844   \n",
      "4                    Taichung Airport Int'l Terminal  24.254209  120.599844   \n",
      "\n",
      "       city     state    zip country                categories  \n",
      "0  Taichung  Taichung  43346      TW  Airports, Military Bases  \n",
      "1  Taichung  Taichung  43346      TW  Airports, Military Bases  \n",
      "2  Taichung  Taichung  43346      TW  Airports, Military Bases  \n",
      "3       NaN       NaN    NaN      TW         Airport Terminals  \n",
      "4       NaN       NaN    NaN      TW         Airport Terminals  \n",
      "Pair 2:                               name   latitude   longitude    city state  zip  \\\n",
      "0  Taichung Airport Int'l Terminal  24.254209  120.599844     NaN   NaN  NaN   \n",
      "1   Taichung International Airport   24.25548  120.600316  Taipei   NaN  NaN   \n",
      "2        Taichung Qingquan Airport  24.214837  120.622577     NaN   NaN  NaN   \n",
      "3   Taichung International Airport   24.25548  120.600316  Taipei   NaN  NaN   \n",
      "4        Taichung Qingquan Airport  24.214837  120.622577     NaN   NaN  NaN   \n",
      "\n",
      "  country         categories  \n",
      "0      TW  Airport Terminals  \n",
      "1      TW           Airports  \n",
      "2      TW           Airports  \n",
      "3      TW           Airports  \n",
      "4      TW           Airports  \n",
      "Labels:          label\n",
      "0          1.0\n",
      "1          1.0\n",
      "2          1.0\n",
      "3          1.0\n",
      "4          1.0\n",
      "...        ...\n",
      "1811588   -1.0\n",
      "1811589   -1.0\n",
      "1811590   -1.0\n",
      "1811591   -1.0\n",
      "1811592   -1.0\n",
      "\n",
      "[1811593 rows x 1 columns]\n",
      "Number of 1: label    672781.0\n",
      "dtype: float64\n",
      "Number of -1: label    1138812.0\n",
      "dtype: float64\n"
     ]
    }
   ],
   "source": [
    "pair1_df = train_df[pair1_cols]\n",
    "pair2_df = train_df[pair2_cols]\n",
    "pair1_df.columns = cfg.CHOICE_FEATURE\n",
    "pair2_df.columns = cfg.CHOICE_FEATURE\n",
    "print(f'Pair 1: {pair1_df.head()}')\n",
    "print(f'Pair 2: {pair2_df.head()}')\n",
    "print(f'Labels: {labels}\\nNumber of 1: {labels[labels == 1].sum()}\\nNumber of -1: {-(labels[labels == -1].sum())}')"
   ]
  },
  {
   "cell_type": "markdown",
   "metadata": {
    "pycharm": {
     "name": "#%% md\n"
    }
   },
   "source": [
    "## Processing Embeddings"
   ]
  },
  {
   "cell_type": "markdown",
   "source": [
    "### Loading raw datas"
   ],
   "metadata": {
    "collapsed": false,
    "pycharm": {
     "name": "#%% md\n"
    }
   }
  },
  {
   "cell_type": "code",
   "execution_count": 205,
   "outputs": [
    {
     "name": "stderr",
     "output_type": "stream",
     "text": [
      "C:\\Users\\Gougon\\AppData\\Local\\Temp\\ipykernel_8104\\1168386033.py:19: DtypeWarning: Columns (5,13) have mixed types.Specify dtype option on import or set low_memory=False.\n",
      "  pair1_df, pair2_df, labels = loading_raw_data()\n"
     ]
    },
    {
     "name": "stdout",
     "output_type": "stream",
     "text": [
      "Pair 1:                                                 name   latitude   longitude  \\\n",
      "0  Taichung International Airport (RMQ) (Taichung...  24.254227  120.599732   \n",
      "1  Taichung International Airport (RMQ) (Taichung...  24.254227  120.599732   \n",
      "2  Taichung International Airport (RMQ) (Taichung...  24.254227  120.599732   \n",
      "3                    Taichung Airport Int'l Terminal  24.254209  120.599844   \n",
      "4                    Taichung Airport Int'l Terminal  24.254209  120.599844   \n",
      "\n",
      "       city     state    zip country                categories  \n",
      "0  Taichung  Taichung  43346      TW  Airports, Military Bases  \n",
      "1  Taichung  Taichung  43346      TW  Airports, Military Bases  \n",
      "2  Taichung  Taichung  43346      TW  Airports, Military Bases  \n",
      "3      Null      Null   Null      TW         Airport Terminals  \n",
      "4      Null      Null   Null      TW         Airport Terminals  \n",
      "Pair 2:                               name   latitude   longitude    city state   zip  \\\n",
      "0  Taichung Airport Int'l Terminal  24.254209  120.599844    Null  Null  Null   \n",
      "1   Taichung International Airport  24.255480  120.600316  Taipei  Null  Null   \n",
      "2        Taichung Qingquan Airport  24.214837  120.622577    Null  Null  Null   \n",
      "3   Taichung International Airport  24.255480  120.600316  Taipei  Null  Null   \n",
      "4        Taichung Qingquan Airport  24.214837  120.622577    Null  Null  Null   \n",
      "\n",
      "  country         categories  \n",
      "0      TW  Airport Terminals  \n",
      "1      TW           Airports  \n",
      "2      TW           Airports  \n",
      "3      TW           Airports  \n",
      "4      TW           Airports  \n",
      "Total pair number: 1811593\n",
      "Labels:          label\n",
      "0          1.0\n",
      "1          1.0\n",
      "2          1.0\n",
      "3          1.0\n",
      "4          1.0\n",
      "...        ...\n",
      "1811588    0.0\n",
      "1811589    0.0\n",
      "1811590    0.0\n",
      "1811591    0.0\n",
      "1811592    0.0\n",
      "\n",
      "[1811593 rows x 1 columns]\n",
      "Number of 1: label    672781.0\n",
      "dtype: float64\n",
      "Number of -1: label   -0.0\n",
      "dtype: float64\n"
     ]
    }
   ],
   "source": [
    "def loading_raw_data(slice=None):\n",
    "    train_df = pd.read_csv(cfg.TRAINING_PAIRS_PATH)\n",
    "    train_df = train_df.fillna('Null')\n",
    "    labels = pd.read_csv(cfg.PAIRS_LABEL_PATH)\n",
    "\n",
    "    train_df = train_df[:len(train_df) if slice is None else slice]\n",
    "    labels = labels[:len(train_df) if slice is None else slice]\n",
    "\n",
    "    pair1_df = train_df[pair1_cols]\n",
    "    pair2_df = train_df[pair2_cols]\n",
    "    pair1_df.columns = cfg.CHOICE_FEATURE\n",
    "    pair2_df.columns = cfg.CHOICE_FEATURE\n",
    "    print(f'Pair 1: {pair1_df.head()}')\n",
    "    print(f'Pair 2: {pair2_df.head()}')\n",
    "    print(f'Total pair number: {len(train_df)}')\n",
    "    print(f'Labels: {labels}\\nNumber of 1: {labels[labels == 1].sum()}\\nNumber of -1: {-(labels[labels == -1].sum())}')\n",
    "    return pair1_df, pair2_df, labels\n",
    "\n",
    "pair1_df, pair2_df, labels = loading_raw_data()"
   ],
   "metadata": {
    "collapsed": false,
    "pycharm": {
     "name": "#%%\n"
    }
   }
  },
  {
   "cell_type": "markdown",
   "source": [
    "### Divide embedding into several chunks"
   ],
   "metadata": {
    "collapsed": false,
    "pycharm": {
     "name": "#%% md\n"
    }
   }
  },
  {
   "cell_type": "code",
   "execution_count": 31,
   "outputs": [
    {
     "data": {
      "text/plain": "device(type='cuda')"
     },
     "execution_count": 31,
     "metadata": {},
     "output_type": "execute_result"
    }
   ],
   "source": [
    "def get_device():\n",
    "    device = 'cpu'\n",
    "    if torch.cuda.is_available():\n",
    "        device = 'cuda'\n",
    "    device = torch.device(device)\n",
    "    return device\n",
    "\n",
    "get_device()"
   ],
   "metadata": {
    "collapsed": false,
    "pycharm": {
     "name": "#%%\n"
    }
   }
  },
  {
   "cell_type": "code",
   "execution_count": 33,
   "outputs": [
    {
     "name": "stderr",
     "output_type": "stream",
     "text": [
      "WARNING:root:No sentence-transformers model found with name C:\\Users\\Gougon/.cache\\torch\\sentence_transformers\\xlm-roberta-base. Creating a new one with MEAN pooling.\n",
      "Some weights of the model checkpoint at C:\\Users\\Gougon/.cache\\torch\\sentence_transformers\\xlm-roberta-base were not used when initializing XLMRobertaModel: ['lm_head.bias', 'lm_head.dense.weight', 'lm_head.dense.bias', 'lm_head.layer_norm.weight', 'lm_head.decoder.weight', 'lm_head.layer_norm.bias']\n",
      "- This IS expected if you are initializing XLMRobertaModel from the checkpoint of a model trained on another task or with another architecture (e.g. initializing a BertForSequenceClassification model from a BertForPreTraining model).\n",
      "- This IS NOT expected if you are initializing XLMRobertaModel from the checkpoint of a model that you expect to be exactly identical (initializing a BertForSequenceClassification model from a BertForSequenceClassification model).\n"
     ]
    }
   ],
   "source": [
    "from sentence_transformers import SentenceTransformer\n",
    "\n",
    "sen_model = SentenceTransformer('xlm-roberta-base', device=get_device())"
   ],
   "metadata": {
    "collapsed": false,
    "pycharm": {
     "name": "#%%\n"
    }
   }
  },
  {
   "cell_type": "code",
   "execution_count": 203,
   "outputs": [],
   "source": [
    "def encode_features(model, chunk, pair1, pair2):\n",
    "    pair1['text'] = pair1['name'] + '[SEP]' + pair1['city'] + '[SEP]' + pair1['state'] + '[SEP]' + \\\n",
    "                    pair1['country'] + '[SEP]' + pair1['categories']\n",
    "    pair2['text'] = pair2['name'] + '[SEP]' + pair2['city'] + '[SEP]' + pair2['state'] + '[SEP]' + \\\n",
    "                    pair2['country'] + '[SEP]' + pair2['categories']\n",
    "    pair1_sentence = pair1['text'].tolist()\n",
    "    pair2_sentence = pair2['text'].tolist()\n",
    "    print(pair1_sentence)\n",
    "    embedding1 = model.encode(pair1_sentence)\n",
    "    embedding2 = model.encode(pair2_sentence)\n",
    "    if chunk != -1:\n",
    "        pd.DataFrame(embedding1).to_csv(f'./data/embedding/sentence1_{str(chunk)}.csv', index=False)\n",
    "        pd.DataFrame(embedding2).to_csv(f'./data/embedding/sentence2_{str(chunk)}.csv', index=False)\n",
    "    return embedding1, embedding2"
   ],
   "metadata": {
    "collapsed": false,
    "pycharm": {
     "name": "#%%\n"
    }
   }
  },
  {
   "cell_type": "code",
   "execution_count": 206,
   "outputs": [
    {
     "name": "stderr",
     "output_type": "stream",
     "text": [
      "  0%|          | 0/10000 [00:00<?, ?it/s]C:\\Users\\Gougon\\AppData\\Local\\Temp\\ipykernel_8104\\759444899.py:2: SettingWithCopyWarning: \n",
      "A value is trying to be set on a copy of a slice from a DataFrame.\n",
      "Try using .loc[row_indexer,col_indexer] = value instead\n",
      "\n",
      "See the caveats in the documentation: https://pandas.pydata.org/pandas-docs/stable/user_guide/indexing.html#returning-a-view-versus-a-copy\n",
      "  pair1['text'] = pair1['name'] + '[SEP]' + pair1['city'] + '[SEP]' + pair1['state'] + '[SEP]' + \\\n",
      "C:\\Users\\Gougon\\AppData\\Local\\Temp\\ipykernel_8104\\759444899.py:4: SettingWithCopyWarning: \n",
      "A value is trying to be set on a copy of a slice from a DataFrame.\n",
      "Try using .loc[row_indexer,col_indexer] = value instead\n",
      "\n",
      "See the caveats in the documentation: https://pandas.pydata.org/pandas-docs/stable/user_guide/indexing.html#returning-a-view-versus-a-copy\n",
      "  pair2['text'] = pair2['name'] + '[SEP]' + pair2['city'] + '[SEP]' + pair2['state'] + '[SEP]' + \\\n"
     ]
    },
    {
     "name": "stdout",
     "output_type": "stream",
     "text": [
      "['Taichung International Airport (RMQ) (Taichung International Airport)[SEP]Taichung[SEP]Taichung[SEP]TW[SEP]Airports, Military Bases', 'Taichung International Airport (RMQ) (Taichung International Airport)[SEP]Taichung[SEP]Taichung[SEP]TW[SEP]Airports, Military Bases', 'Taichung International Airport (RMQ) (Taichung International Airport)[SEP]Taichung[SEP]Taichung[SEP]TW[SEP]Airports, Military Bases', \"Taichung Airport Int'l Terminal[SEP]Null[SEP]Null[SEP]TW[SEP]Airport Terminals\", \"Taichung Airport Int'l Terminal[SEP]Null[SEP]Null[SEP]TW[SEP]Airport Terminals\", 'Taichung International Airport[SEP]Taipei[SEP]Null[SEP]TW[SEP]Airports', 'history office[SEP]Null[SEP]Null[SEP]RU[SEP]Schools', 'history office[SEP]Null[SEP]Null[SEP]RU[SEP]Schools', 'history office[SEP]Null[SEP]Null[SEP]RU[SEP]Schools', 'history office[SEP]Null[SEP]Null[SEP]RU[SEP]Schools', '👽👽👽[SEP]Null[SEP]Null[SEP]RU[SEP]Schools', '👽👽👽[SEP]Null[SEP]Null[SEP]RU[SEP]Schools', '👽👽👽[SEP]Null[SEP]Null[SEP]RU[SEP]Schools', 'physics classroom🤓🤓[SEP]Null[SEP]Null[SEP]RU[SEP]College Classrooms', 'physics classroom🤓🤓[SEP]Null[SEP]Null[SEP]RU[SEP]College Classrooms', 'at the school[SEP]Null[SEP]Null[SEP]RU[SEP]Schools', 'Rink!!!!!!!!!!!![SEP]Newark[SEP]OF[SEP]US[SEP]Comedy Clubs', 'Rink!!!!!!!!!!!![SEP]Newark[SEP]OF[SEP]US[SEP]Comedy Clubs', 'The Pond Ice Arena[SEP]Newark[SEP]OF[SEP]US[SEP]Skating Rinks', 'Yeouido Park in front of the pond[SEP]Seoul[SEP]Null[SEP]KR[SEP]Lakes', 'Yeouido Park in front of the pond[SEP]Seoul[SEP]Null[SEP]KR[SEP]Lakes', 'Yeouido Park in front of the pond[SEP]Seoul[SEP]Null[SEP]KR[SEP]Lakes', 'Yeouido Park[SEP]Seoul[SEP]Null[SEP]KR[SEP]Parks', 'Yeouido Park[SEP]Seoul[SEP]Null[SEP]KR[SEP]Parks', 'Yoido Cherry Blossom[SEP]Null[SEP]Null[SEP]KR[SEP]Null', 'Shabu Sai[SEP]Null[SEP]Null[SEP]SG[SEP]Null', 'Shabu Sai[SEP]Null[SEP]Null[SEP]SG[SEP]Null', 'Shabu Sai[SEP]Singapore[SEP]Null[SEP]SG[SEP]Shabu-Shabu Restaurants, Japanese Restaurants', 'Cesme State Hospital[SEP]Null[SEP]Null[SEP]TR[SEP]Hospitals', 'Cesme State Hospital[SEP]Null[SEP]Null[SEP]TR[SEP]Hospitals', 'Cesme State Hospital[SEP]Null[SEP]Null[SEP]TR[SEP]Hospitals', 'Cesme State Hospital[SEP]Fountain[SEP]İzmir[SEP]TR[SEP]Hospitals', 'Cesme State Hospital[SEP]Fountain[SEP]İzmir[SEP]TR[SEP]Hospitals', 'fountain state hospital[SEP]Null[SEP]Null[SEP]TR[SEP]Hospitals', 'Kartal Beach[SEP]Eagle[SEP]Istanbul[SEP]TR[SEP]Waterfronts', 'Kartal Beach[SEP]Eagle[SEP]Istanbul[SEP]TR[SEP]Waterfronts', 'Kartal Beach[SEP]Eagle[SEP]Istanbul[SEP]TR[SEP]Waterfronts', 'Kartal Beach[SEP]Eagle[SEP]Istanbul[SEP]TR[SEP]Waterfronts', 'Kartal Beach[SEP]Eagle[SEP]Istanbul[SEP]TR[SEP]Waterfronts', 'aviator coast[SEP]Null[SEP]Null[SEP]TR[SEP]Null', 'aviator coast[SEP]Null[SEP]Null[SEP]TR[SEP]Null', 'aviator coast[SEP]Null[SEP]Null[SEP]TR[SEP]Null', 'aviator coast[SEP]Null[SEP]Null[SEP]TR[SEP]Null', 'Kartal Beach[SEP]Null[SEP]Null[SEP]TR[SEP]Aquariums', 'Kartal Beach[SEP]Null[SEP]Null[SEP]TR[SEP]Aquariums', 'Kartal Beach[SEP]Null[SEP]Null[SEP]TR[SEP]Aquariums', 'Kartal Pendik Beach[SEP]Null[SEP]Null[SEP]TR[SEP]Null', 'Kartal Pendik Beach[SEP]Null[SEP]Null[SEP]TR[SEP]Null', 'Kartal Beach[SEP]Null[SEP]Null[SEP]TR[SEP]Null', \"Olive's tree[SEP]Riyadh[SEP]Null[SEP]on[SEP]Restaurants\", \"Olive's tree[SEP]Riyadh[SEP]Null[SEP]on[SEP]Restaurants\", 'olive Tree[SEP]Riyadh[SEP]Null[SEP]on[SEP]Sandwich Places', 'Community of Christ Temple[SEP]Independence[SEP]MO[SEP]US[SEP]Churches', 'Community of Christ Temple[SEP]Independence[SEP]MO[SEP]US[SEP]Churches', 'Daily Prayer for Peace[SEP]Independence[SEP]MO[SEP]US[SEP]Temples', 'Birmingham-Shuttlesworth Airport[SEP]Birmingham[SEP]AL[SEP]US[SEP]Null', 'Birmingham-Shuttlesworth Airport[SEP]Birmingham[SEP]AL[SEP]US[SEP]Null', 'Drunk from sitting in the airport too long[SEP]Birmingham[SEP]AL[SEP]US[SEP]Airport Lounges', 'Kbox @ Gain City[SEP]Null[SEP]Null[SEP]SG[SEP]General Entertainment', 'Kbox @ Gain City[SEP]Null[SEP]Null[SEP]SG[SEP]General Entertainment', 'Kbox @ Gain City[SEP]Null[SEP]Null[SEP]SG[SEP]General Entertainment', 'K Box[SEP]Singapore[SEP]Null[SEP]SG[SEP]Karaoke Bars', 'K Box[SEP]Singapore[SEP]Null[SEP]SG[SEP]Karaoke Bars', 'Choa Chu Kang Kbox[SEP]Singapore[SEP]Null[SEP]SG[SEP]Music Venues', 'BSD[SEP]Tangerang[SEP]Banten[SEP]ID[SEP]Shopping Malls', 'BSD[SEP]Tangerang[SEP]Banten[SEP]ID[SEP]Shopping Malls', 'BSD Plaza[SEP]Tangerang[SEP]Banten[SEP]ID[SEP]Shopping Malls, Department Stores, Event Spaces', 'Cafe at the Cinema Center on Krasnaya Presnya[SEP]Null[SEP]Null[SEP]RU[SEP]Cafés', 'Cafe at the Cinema Center on Krasnaya Presnya[SEP]Null[SEP]Null[SEP]RU[SEP]Cafés', 'Cinematic[SEP]Null[SEP]Null[SEP]RU[SEP]Cafés', 'Neo+ Awana by Aston International[SEP]Yogyakarta[SEP]In Yogyakarta[SEP]ID[SEP]Hotels', 'Neo+ Awana by Aston International[SEP]Yogyakarta[SEP]In Yogyakarta[SEP]ID[SEP]Hotels', 'Neo+ Awana by Aston International[SEP]Yogyakarta[SEP]In Yogyakarta[SEP]ID[SEP]Hotels', 'Neo+ Awana by Aston International[SEP]Yogyakarta[SEP]In Yogyakarta[SEP]ID[SEP]Hotels', 'Neo+ Awana by Aston International[SEP]Yogyakarta[SEP]In Yogyakarta[SEP]ID[SEP]Hotels', 'Neo+ Awana by Aston International[SEP]Yogyakarta[SEP]In Yogyakarta[SEP]ID[SEP]Hotels', 'Hotel Neo+ Awana[SEP]Null[SEP]Null[SEP]ID[SEP]Null', 'Hotel Neo+ Awana[SEP]Null[SEP]Null[SEP]ID[SEP]Null', 'Hotel Neo+ Awana[SEP]Null[SEP]Null[SEP]ID[SEP]Null', 'Hotel Neo+ Awana[SEP]Null[SEP]Null[SEP]ID[SEP]Null', 'Hotel Neo+ Awana[SEP]Null[SEP]Null[SEP]ID[SEP]Null', 'Hotel Neo+ Awana[SEP]Null[SEP]Null[SEP]ID[SEP]Null', 'Hotel Neo+ Awana[SEP]Null[SEP]Null[SEP]ID[SEP]Null', 'Hotel Neo+ Awana[SEP]Null[SEP]Null[SEP]ID[SEP]Null', 'Hotel Neo+ Awana[SEP]Null[SEP]Null[SEP]ID[SEP]Null', 'Hotel Neo+ Awana Yogyakarta[SEP]Null[SEP]Null[SEP]ID[SEP]Null', 'Hotel Neo+ Awana Yogyakarta[SEP]Null[SEP]Null[SEP]ID[SEP]Null', 'Hotel Neo+ Awana Yogyakarta[SEP]Null[SEP]Null[SEP]ID[SEP]Null', 'hotel neo awana[SEP]Null[SEP]Null[SEP]ID[SEP]Null', 'hotel neo awana[SEP]Null[SEP]Null[SEP]ID[SEP]Null', 'Neo+Awana Hotel Yogyakarta[SEP]Null[SEP]Null[SEP]ID[SEP]Null', 'Uyut Classic[SEP]Null[SEP]Null[SEP]RU[SEP]Motels', 'Uyut Classic[SEP]Null[SEP]Null[SEP]RU[SEP]Motels', 'Azimuth[SEP]Astrakhan[SEP]Astrakhan region[SEP]RU[SEP]Hotels', 'Court Jester kettle bells[SEP]Johnson City[SEP]NY[SEP]US[SEP]Gyms', 'Court Jester kettle bells[SEP]Johnson City[SEP]NY[SEP]US[SEP]Gyms', 'Court Jester kettle bells[SEP]Johnson City[SEP]NY[SEP]US[SEP]Gyms', 'Court Jester[SEP]Johnson City[SEP]NY[SEP]US[SEP]Gyms', 'Court Jester[SEP]Johnson City[SEP]NY[SEP]US[SEP]Gyms', 'Court Jester Ab Crunch[SEP]Binghamton[SEP]NY[SEP]US[SEP]Gyms', 'Luofu Technology Co., Ltd.[SEP]Taipei City[SEP]Null[SEP]TW[SEP]Radio Stations', 'Luofu Technology Co., Ltd.[SEP]Taipei City[SEP]Null[SEP]TW[SEP]Radio Stations', 'Rover Technology[SEP]Taipei City[SEP]Null[SEP]TW[SEP]Electronics Stores', 'Yerözler[SEP]Sakarya[SEP]Turkey[SEP]TR[SEP]Mobile Phone Shops', 'Yerözler[SEP]Sakarya[SEP]Turkey[SEP]TR[SEP]Mobile Phone Shops', 'Yerözler[SEP]Sakarya[SEP]Turkey[SEP]TR[SEP]Mobile Phone Shops', 'Floriade 2013 Canberra[SEP]Null[SEP]Null[SEP]AU[SEP]Gardens', 'Floriade 2013 Canberra[SEP]Null[SEP]Null[SEP]AU[SEP]Gardens', 'Floriade 2013 Canberra[SEP]Null[SEP]Null[SEP]AU[SEP]Gardens', 'Floriade[SEP]Parks[SEP]ACT[SEP]AU[SEP]Festivals, Gardens', 'Floriade[SEP]Parks[SEP]ACT[SEP]AU[SEP]Festivals, Gardens', 'Floriade 2013[SEP]Null[SEP]Null[SEP]AU[SEP]Null', 'Park Parvin[SEP]Tabriz[SEP]East Azerbaijan Province[SEP]IR[SEP]Parks', 'Park Parvin[SEP]Tabriz[SEP]East Azerbaijan Province[SEP]IR[SEP]Parks', 'Parvin Etesami Park | Parvin Etesami Park[SEP]Tabriz[SEP]East Azerbaijan[SEP]IR[SEP]Parks', 'AT&T[SEP]Clackamas[SEP]OR[SEP]US[SEP]Mobile Phone Shops', 'AT&T[SEP]Clackamas[SEP]OR[SEP]US[SEP]Mobile Phone Shops', 'AT&T[SEP]Happy Valley[SEP]OR[SEP]US[SEP]Mobile Phone Shops, Electronics Stores', 'Nile River | The Nile River[SEP]Luxor[SEP]Luxor[SEP]EG[SEP]Rivers', 'Nile River | The Nile River[SEP]Luxor[SEP]Luxor[SEP]EG[SEP]Rivers', 'Nile River | The Nile River[SEP]Luxor[SEP]Luxor[SEP]EG[SEP]Rivers', 'Luxor Nile[SEP]Null[SEP]Null[SEP]EG[SEP]Harbors / Marinas', 'Luxor Nile[SEP]Null[SEP]Null[SEP]EG[SEP]Harbors / Marinas', 'Red Sea[SEP]Null[SEP]Null[SEP]EG[SEP]Beaches', 'Beer Keller Sapporo Pioneer[SEP]Null[SEP]Null[SEP]JP[SEP]Restaurants', 'Beer Keller Sapporo Pioneer[SEP]Null[SEP]Null[SEP]JP[SEP]Restaurants', 'Beer Keller Sapporo Pioneer[SEP]Sapporo[SEP]Hokkaido[SEP]JP[SEP]Beer Gardens, Japanese Restaurants', 'Madison Rentals Inc[SEP]Madison[SEP]GA[SEP]US[SEP]Rental Services', 'Madison Rentals Inc[SEP]Madison[SEP]GA[SEP]US[SEP]Rental Services', 'madison rentals[SEP]Madison[SEP]GA[SEP]US[SEP]Automotive Shops, Rental Services', 'D&R[SEP]Null[SEP]Null[SEP]TR[SEP]Bookstores', 'D&R[SEP]Null[SEP]Null[SEP]TR[SEP]Bookstores', 'D&R[SEP]Null[SEP]Null[SEP]TR[SEP]Outdoor Sculptures', 'The Village[SEP]Waterbury[SEP]CT[SEP]US[SEP]Residential Buildings (Apartments / Condos)', 'The Village[SEP]Waterbury[SEP]CT[SEP]US[SEP]Residential Buildings (Apartments / Condos)', 'The Village at East Farms![SEP]Waterbury[SEP]CT[SEP]US[SEP]Residential Buildings (Apartments / Condos), Medical Centers', 'Johnny Rockets[SEP]Milford[SEP]CT[SEP]US[SEP]Burger Joints', 'Johnny Rockets[SEP]Milford[SEP]CT[SEP]US[SEP]Burger Joints', 'Johnny Rockets[SEP]Milford[SEP]CT[SEP]US[SEP]Burger Joints', 'Garbaldi[SEP]Apopka[SEP]FL[SEP]US[SEP]Mexican Restaurants', 'Garbaldi[SEP]Apopka[SEP]FL[SEP]US[SEP]Mexican Restaurants', 'Garibaldi[SEP]Orlando[SEP]FL[SEP]US[SEP]Mexican Restaurants', 'The price gap of Hermès land is big - one to one original single A luxury seat[SEP]Null[SEP]KS[SEP]US[SEP]Ethiopian Restaurants', 'The price gap of Hermès land is big - one to one original single A luxury seat[SEP]Null[SEP]KS[SEP]US[SEP]Ethiopian Restaurants', 'Hermès land price - one to one original single A luxury goods[SEP]Null[SEP]KS[SEP]US[SEP]Ethiopian Restaurants', 'Serra da Canasta[SEP]Null[SEP]Null[SEP]BR[SEP]Null', 'Serra da Canasta[SEP]Null[SEP]Null[SEP]BR[SEP]Null', 'Serra da Canasta[SEP]Null[SEP]Null[SEP]BR[SEP]Historic Sites', '58th Infantry Regiment[SEP]burdur[SEP]burdur[SEP]TR[SEP]Other Nightlife', '58th Infantry Regiment[SEP]burdur[SEP]burdur[SEP]TR[SEP]Other Nightlife', 'Burdur 58th Infantry Training Regiment[SEP]BURDUR[SEP]Burdur[SEP]TR[SEP]Military Bases, Other Events', 'Jollibee Banlic[SEP]Calamba City[SEP]Null[SEP]PH[SEP]Fast Food Restaurants', 'Jollibee Banlic[SEP]Calamba City[SEP]Null[SEP]PH[SEP]Fast Food Restaurants', 'Jollibee, Mamatid[SEP]Null[SEP]Null[SEP]PH[SEP]Fast Food Restaurants', 'Watkinsville, GA[SEP]Watkinsville[SEP]GA[SEP]US[SEP]General Travel', 'Watkinsville, GA[SEP]Watkinsville[SEP]GA[SEP]US[SEP]General Travel', 'Watkinsville, Ga[SEP]Watkinsville[SEP]GA[SEP]US[SEP]General Travel', '7-11#03240@Khaha Prachaniwet[SEP]Bangkok[SEP]Bangkok[SEP]TH[SEP]Convenience Stores', '7-11#03240@Khaha Prachaniwet[SEP]Bangkok[SEP]Bangkok[SEP]TH[SEP]Convenience Stores', '7-Eleven (Seven Eleven)[SEP]Chatuchak[SEP]Bangkok[SEP]TH[SEP]Convenience Stores', 'Global Citizen Festival Great Lawn Central Park[SEP]New York[SEP]NY[SEP]US[SEP]Parks', 'Global Citizen Festival Great Lawn Central Park[SEP]New York[SEP]NY[SEP]US[SEP]Parks', 'The Great Lawn[SEP]New York[SEP]NY[SEP]US[SEP]Fields', \"Bread Papa's[SEP]Null[SEP]Null[SEP]RU[SEP]Donut Shops\", \"Bread Papa's[SEP]Null[SEP]Null[SEP]RU[SEP]Donut Shops\", 'at Uncle&#39;s (Beard Papa&#39;s)[SEP]Moscow[SEP]Null[SEP]RU[SEP]Cupcake Shops', 'Cafe RNIMU[SEP]Moscow[SEP]Moscow[SEP]RU[SEP]College Cafeterias', 'Cafe RNIMU[SEP]Moscow[SEP]Moscow[SEP]RU[SEP]College Cafeterias', 'Canteen RNIMU[SEP]Moscow[SEP]Null[SEP]RU[SEP]College Cafeterias', \"McDonald's[SEP]Ankara[SEP]Turkey[SEP]TR[SEP]Fast Food Restaurants\", \"McDonald's[SEP]Ankara[SEP]Turkey[SEP]TR[SEP]Fast Food Restaurants\", 'Mc Donals[SEP]Null[SEP]Null[SEP]TR[SEP]Burger Joints', 'Renren One Stop Restaurant[SEP]Null[SEP]Null[SEP]MY[SEP]Asian Restaurants', 'Renren One Stop Restaurant[SEP]Null[SEP]Null[SEP]MY[SEP]Asian Restaurants', 'Restaurant Yan Yan A One[SEP]Kuala Lumpur[SEP]WP Kuala Lumpur[SEP]MY[SEP]Dim Sum Restaurants', '21 Cinema Makassar Town Square[SEP]Null[SEP]Null[SEP]ID[SEP]Null', '21 Cinema Makassar Town Square[SEP]Null[SEP]Null[SEP]ID[SEP]Null', '21 Cinema Makassar Town Square[SEP]Null[SEP]Null[SEP]ID[SEP]Null', '21 Cinema Makassar Town Square[SEP]Null[SEP]Null[SEP]ID[SEP]Null', '21 Cinema Makassar Town Square[SEP]Null[SEP]Null[SEP]ID[SEP]Null', '21 Cinema Makassar Town Square[SEP]Null[SEP]Null[SEP]ID[SEP]Null']\n"
     ]
    },
    {
     "name": "stderr",
     "output_type": "stream",
     "text": [
      "  0%|          | 1/10000 [00:00<2:10:51,  1.27it/s]"
     ]
    },
    {
     "name": "stdout",
     "output_type": "stream",
     "text": [
      "['21 Cinema Makassar Town Square[SEP]Null[SEP]Null[SEP]ID[SEP]Null', 'Cinema 21[SEP]Null[SEP]Null[SEP]ID[SEP]Multiplexes', 'Cinema 21[SEP]Null[SEP]Null[SEP]ID[SEP]Multiplexes', 'Cinema 21[SEP]Null[SEP]Null[SEP]ID[SEP]Multiplexes', 'Cinema 21[SEP]Null[SEP]Null[SEP]ID[SEP]Multiplexes', 'Cinema 21[SEP]Null[SEP]Null[SEP]ID[SEP]Multiplexes', 'Cinema 21[SEP]Null[SEP]Null[SEP]ID[SEP]Multiplexes', '21 Makassar Town Square[SEP]Null[SEP]Null[SEP]ID[SEP]Null', '21 Makassar Town Square[SEP]Null[SEP]Null[SEP]ID[SEP]Null', '21 Makassar Town Square[SEP]Null[SEP]Null[SEP]ID[SEP]Null', '21 Makassar Town Square[SEP]Null[SEP]Null[SEP]ID[SEP]Null', '21 Makassar Town Square[SEP]Null[SEP]Null[SEP]ID[SEP]Null', 'Cinema 21 M-Tos[SEP]Macassar[SEP]sulsel[SEP]ID[SEP]Multiplexes', 'Cinema 21 M-Tos[SEP]Macassar[SEP]sulsel[SEP]ID[SEP]Multiplexes', 'Cinema 21 M-Tos[SEP]Macassar[SEP]sulsel[SEP]ID[SEP]Multiplexes', 'Cinema 21 M-Tos[SEP]Macassar[SEP]sulsel[SEP]ID[SEP]Multiplexes', 'M&#39;Tos XXI[SEP]Makassar[SEP]South Sulawesi[SEP]ID[SEP]Multiplexes', 'M&#39;Tos XXI[SEP]Makassar[SEP]South Sulawesi[SEP]ID[SEP]Multiplexes', 'M&#39;Tos XXI[SEP]Makassar[SEP]South Sulawesi[SEP]ID[SEP]Multiplexes', 'Studio 21 - Makassar Town Square[SEP]Makassar[SEP]Indonesia[SEP]ID[SEP]Film Studios', 'Studio 21 - Makassar Town Square[SEP]Makassar[SEP]Indonesia[SEP]ID[SEP]Film Studios', \"Cinema21 M'Tos[SEP]Makassar[SEP]Null[SEP]ID[SEP]Multiplexes\", 'Jae Liap shop, the old one, opposite the Royal Thai Air Force Station 5[SEP]Samsen Nai[SEP]Bangkok[SEP]TH[SEP]Null', 'Jae Liap shop, the old one, opposite the Royal Thai Air Force Station 5[SEP]Samsen Nai[SEP]Bangkok[SEP]TH[SEP]Null', 'Je Liep Seafood[SEP]Phaya Thai[SEP]Bangkok[SEP]TH[SEP]Seafood Restaurants', 'KKH Ward 43[SEP]Singapore[SEP]Null[SEP]SG[SEP]Hospitals', 'KKH Ward 43[SEP]Singapore[SEP]Null[SEP]SG[SEP]Hospitals', 'KKH Ward 43 Bed 26[SEP]Null[SEP]Null[SEP]SG[SEP]Hospitals', 'Picadilly Circus[SEP]Null[SEP]Null[SEP]GB[SEP]Null', 'Picadilly Circus[SEP]Null[SEP]Null[SEP]GB[SEP]Null', 'picadilly circus[SEP]Null[SEP]Null[SEP]GB[SEP]Null', '7-Eleven[SEP]Bangkok[SEP]Bangkok[SEP]TH[SEP]Convenience Stores', '7-Eleven[SEP]Bangkok[SEP]Bangkok[SEP]TH[SEP]Convenience Stores', '7-Eleven[SEP]Bangkok[SEP]Bangkok[SEP]TH[SEP]Convenience Stores', '7-11 Nawamin House[SEP]Null[SEP]Null[SEP]TH[SEP]Convenience Stores', '7-11 Nawamin House[SEP]Null[SEP]Null[SEP]TH[SEP]Convenience Stores', '7-Eleven (Seven Eleven)[SEP]Bueng Kum[SEP]Bangkok[SEP]TH[SEP]Convenience Stores', 'SDU Faculty of Engineering[SEP]Null[SEP]Null[SEP]TR[SEP]College Engineering Buildings', 'SDU Faculty of Engineering[SEP]Null[SEP]Null[SEP]TR[SEP]College Engineering Buildings', 'SDU Faculty of Engineering[SEP]Null[SEP]Null[SEP]TR[SEP]College Engineering Buildings', 'SDU Faculty of Engineering[SEP]Null[SEP]Null[SEP]TR[SEP]College Engineering Buildings', 'SDU Faculty of Engineering[SEP]Null[SEP]Null[SEP]TR[SEP]College Engineering Buildings', 'Faculty of Engineering West Campus[SEP]Null[SEP]Null[SEP]TR[SEP]Community Colleges', 'Faculty of Engineering West Campus[SEP]Null[SEP]Null[SEP]TR[SEP]Community Colleges', 'Faculty of Engineering West Campus[SEP]Null[SEP]Null[SEP]TR[SEP]Community Colleges', 'Faculty of Engineering West Campus[SEP]Null[SEP]Null[SEP]TR[SEP]Community Colleges', 'E9 jfz4[SEP]Null[SEP]Null[SEP]TR[SEP]College Classrooms', 'E9 jfz4[SEP]Null[SEP]Null[SEP]TR[SEP]College Classrooms', 'E9 jfz4[SEP]Null[SEP]Null[SEP]TR[SEP]College Classrooms', 'E-7 Front[SEP]Null[SEP]Null[SEP]TR[SEP]Hookah Bars', 'E-7 Front[SEP]Null[SEP]Null[SEP]TR[SEP]Hookah Bars', 'engineering faculty[SEP]Isparta[SEP]It turns out[SEP]TR[SEP]College Engineering Buildings', 'Apartment metro lt15 1525B[SEP]Null[SEP]Null[SEP]ID[SEP]Residential Buildings (Apartments / Condos)', 'Apartment metro lt15 1525B[SEP]Null[SEP]Null[SEP]ID[SEP]Residential Buildings (Apartments / Condos)', 'Apartment metro lt15 1525B[SEP]Null[SEP]Null[SEP]ID[SEP]Residential Buildings (Apartments / Condos)', 'Apartment metro lt15 1525B[SEP]Null[SEP]Null[SEP]ID[SEP]Residential Buildings (Apartments / Condos)', 'sunter metro apartment, 906[SEP]Null[SEP]Null[SEP]ID[SEP]Residential Buildings (Apartments / Condos)', 'sunter metro apartment, 906[SEP]Null[SEP]Null[SEP]ID[SEP]Residential Buildings (Apartments / Condos)', 'sunter metro apartment, 906[SEP]Null[SEP]Null[SEP]ID[SEP]Residential Buildings (Apartments / Condos)', 'ApartmentN Metro Sunter, RooM 242A[SEP]North Jakarta[SEP]DKI[SEP]ID[SEP]Residential Buildings (Apartments / Condos)', 'ApartmentN Metro Sunter, RooM 242A[SEP]North Jakarta[SEP]DKI[SEP]ID[SEP]Residential Buildings (Apartments / Condos)', 'Sunter metro apartment 308[SEP]Null[SEP]Null[SEP]ID[SEP]Residential Buildings (Apartments / Condos)', 'Carrefour Market[SEP]Loppem[SEP]West Flanders[SEP]BE[SEP]Supermarkets, Grocery Stores', 'Carrefour Market[SEP]Loppem[SEP]West Flanders[SEP]BE[SEP]Supermarkets, Grocery Stores', 'GB loppem[SEP]Null[SEP]Null[SEP]BE[SEP]Null', 'Futsal leather[SEP]Jogja[SEP]Null[SEP]ID[SEP]Null', 'Futsal leather[SEP]Jogja[SEP]Null[SEP]ID[SEP]Null', 'futsal leather[SEP]sleman[SEP]indonesia[SEP]ID[SEP]Null', 'Catow[SEP]Null[SEP]Null[SEP]TH[SEP]Bakeries', 'Catow[SEP]Null[SEP]Null[SEP]TH[SEP]Bakeries', 'House Cakes[SEP]Bangkok[SEP]Null[SEP]TH[SEP]Bakeries', 'Oklahoma / Texas Border[SEP]Denison[SEP]TX[SEP]US[SEP]Border Crossings', 'Oklahoma / Texas Border[SEP]Denison[SEP]TX[SEP]US[SEP]Border Crossings', 'Oklahoma / Texas Border[SEP]Denison[SEP]TX[SEP]US[SEP]Border Crossings', 'Oklahoma / Texas Border[SEP]Denison[SEP]TX[SEP]US[SEP]Border Crossings', 'Texas[SEP]Null[SEP]Null[SEP]US[SEP]Other Great Outdoors', 'Texas[SEP]Null[SEP]Null[SEP]US[SEP]Other Great Outdoors', 'Texas[SEP]Null[SEP]Null[SEP]US[SEP]Other Great Outdoors', 'Texas[SEP]Colbert[SEP]TX[SEP]US[SEP]Null', 'Texas[SEP]Colbert[SEP]TX[SEP]US[SEP]Null', 'TEXAS!!![SEP]Denison[SEP]TX[SEP]US[SEP]Theme Parks', 'Érd and its surroundings Savings Cooperative[SEP]Null[SEP]Null[SEP]HU[SEP]Banks', 'Érd and its surroundings Savings Cooperative[SEP]Null[SEP]Null[SEP]HU[SEP]Banks', 'Savings[SEP]Null[SEP]Null[SEP]HU[SEP]Banks', 'Karaalioglu Park[SEP]Null[SEP]Null[SEP]TR[SEP]Null', 'Karaalioglu Park[SEP]Null[SEP]Null[SEP]TR[SEP]Null', 'Karaalioglu Park[SEP]Null[SEP]Null[SEP]TR[SEP]Null', 'Karaalioglu Park[SEP]Null[SEP]Null[SEP]TR[SEP]Null', 'Karaalioglu Park[SEP]Null[SEP]Null[SEP]TR[SEP]Null', 'Karaalioglu Park[SEP]Null[SEP]Null[SEP]TR[SEP]Null', 'Karaalioglu Park[SEP]Null[SEP]Null[SEP]TR[SEP]Null', 'Karalioğlu Park (Hodrimeydan)[SEP]Antalya[SEP]Muratpasa[SEP]TR[SEP]Parks', 'Karalioğlu Park (Hodrimeydan)[SEP]Antalya[SEP]Muratpasa[SEP]TR[SEP]Parks', 'Karalioğlu Park (Hodrimeydan)[SEP]Antalya[SEP]Muratpasa[SEP]TR[SEP]Parks', 'Karalioğlu Park (Hodrimeydan)[SEP]Antalya[SEP]Muratpasa[SEP]TR[SEP]Parks', 'Karalioğlu Park (Hodrimeydan)[SEP]Antalya[SEP]Muratpasa[SEP]TR[SEP]Parks', 'Karalioğlu Park (Hodrimeydan)[SEP]Antalya[SEP]Muratpasa[SEP]TR[SEP]Parks', 'karakioglu parki kermes[SEP]Null[SEP]Null[SEP]TR[SEP]Other Events', 'karakioglu parki kermes[SEP]Null[SEP]Null[SEP]TR[SEP]Other Events', 'karakioglu parki kermes[SEP]Null[SEP]Null[SEP]TR[SEP]Other Events', 'karakioglu parki kermes[SEP]Null[SEP]Null[SEP]TR[SEP]Other Events', 'karakioglu parki kermes[SEP]Null[SEP]Null[SEP]TR[SEP]Other Events', 'Karaalioglu Park[SEP]Muratpasa[SEP]Turkey[SEP]TR[SEP]Parks, Gardens', 'Karaalioglu Park[SEP]Muratpasa[SEP]Turkey[SEP]TR[SEP]Parks, Gardens', 'Karaalioglu Park[SEP]Muratpasa[SEP]Turkey[SEP]TR[SEP]Parks, Gardens', 'Karaalioglu Park[SEP]Muratpasa[SEP]Turkey[SEP]TR[SEP]Parks, Gardens', 'Karaalioğlu Parki[SEP]Null[SEP]Null[SEP]TR[SEP]Parks', 'Karaalioğlu Parki[SEP]Null[SEP]Null[SEP]TR[SEP]Parks', 'Karaalioğlu Parki[SEP]Null[SEP]Null[SEP]TR[SEP]Parks', 'Black Ali Boy Park[SEP]Null[SEP]Null[SEP]TR[SEP]Parks', 'Black Ali Boy Park[SEP]Null[SEP]Null[SEP]TR[SEP]Parks', 'Karaalioglu Park[SEP]Null[SEP]Null[SEP]TR[SEP]Parks', 'unique pine bar[SEP]Null[SEP]Null[SEP]TR[SEP]Bars, Wine Bars, Bistros', 'unique pine bar[SEP]Null[SEP]Null[SEP]TR[SEP]Bars, Wine Bars, Bistros', 'Bircik Camlik Restaurant[SEP]Denizli[SEP]Denizli[SEP]TR[SEP]Restaurants', '8101 Pearl Plaza[SEP]Null[SEP]Null[SEP]PH[SEP]Residential Buildings (Apartments / Condos)', '8101 Pearl Plaza[SEP]Null[SEP]Null[SEP]PH[SEP]Residential Buildings (Apartments / Condos)', '8101 Pearl Drive[SEP]Null[SEP]Null[SEP]PH[SEP]Shops & Services', '7-Eleven (Seven Eleven)[SEP]Phasi Charoen[SEP]Null[SEP]TH[SEP]Convenience Stores', '7-Eleven (Seven Eleven)[SEP]Phasi Charoen[SEP]Null[SEP]TH[SEP]Convenience Stores', '7/11#00220 Petchkasem33[SEP]Bangkok[SEP]Bangkok[SEP]TH[SEP]Convenience Stores', 'Istanbul High School[SEP]İstanbul[SEP]Null[SEP]TR[SEP]Housing Developments', 'Istanbul High School[SEP]İstanbul[SEP]Null[SEP]TR[SEP]Housing Developments', 'Istanbul High School[SEP]İstanbul[SEP]Null[SEP]TR[SEP]Housing Developments', 'Istanbul High School[SEP]İstanbul[SEP]Null[SEP]TR[SEP]Housing Developments', 'Istanbul High School[SEP]İstanbul[SEP]Null[SEP]TR[SEP]Housing Developments', 'Istanbul High School[SEP]İstanbul[SEP]Null[SEP]TR[SEP]Buildings', 'Istanbul High School[SEP]İstanbul[SEP]Null[SEP]TR[SEP]Buildings', 'Istanbul High School[SEP]İstanbul[SEP]Null[SEP]TR[SEP]Buildings', 'Istanbul High School[SEP]İstanbul[SEP]Null[SEP]TR[SEP]Buildings', 'istanbul high school[SEP]Null[SEP]Null[SEP]TR[SEP]Null', 'istanbul high school[SEP]Null[SEP]Null[SEP]TR[SEP]Null', 'istanbul high school[SEP]Null[SEP]Null[SEP]TR[SEP]Null', 'model classroom[SEP]Null[SEP]Null[SEP]TR[SEP]College Classrooms', 'model classroom[SEP]Null[SEP]Null[SEP]TR[SEP]College Classrooms', 'Istanbul Boys&#39; High School Restoration Site[SEP]İstanbul[SEP]Cagaloglu[SEP]TR[SEP]High Schools', 'I am a Russian bitch🇬🇧[SEP]Null[SEP]Null[SEP]RU[SEP]College Academic Buildings', 'I am a Russian bitch🇬🇧[SEP]Null[SEP]Null[SEP]RU[SEP]College Academic Buildings', 'I am a Russian bitch🇬🇧[SEP]Null[SEP]Null[SEP]RU[SEP]College Academic Buildings', 'I am a Russian bitch🇬🇧[SEP]Null[SEP]Null[SEP]RU[SEP]College Academic Buildings', 'I am a Russian bitch🇬🇧[SEP]Null[SEP]Null[SEP]RU[SEP]College Academic Buildings', 'I am a Russian bitch🇬🇧[SEP]Null[SEP]Null[SEP]RU[SEP]College Academic Buildings', 'I am a Russian bitch🇬🇧[SEP]Null[SEP]Null[SEP]RU[SEP]College Academic Buildings', 'V ADU 😈[SEP]Null[SEP]Null[SEP]RU[SEP]College Auditoriums', 'V ADU 😈[SEP]Null[SEP]Null[SEP]RU[SEP]College Auditoriums', 'V ADU 😈[SEP]Null[SEP]Null[SEP]RU[SEP]College Auditoriums', 'V ADU 😈[SEP]Null[SEP]Null[SEP]RU[SEP]College Auditoriums', 'V ADU 😈[SEP]Null[SEP]Null[SEP]RU[SEP]College Auditoriums', 'V ADU 😈[SEP]Null[SEP]Null[SEP]RU[SEP]College Auditoriums', 'KSS #1[SEP]Null[SEP]Null[SEP]RU[SEP]Middle Schools', 'KSS #1[SEP]Null[SEP]Null[SEP]RU[SEP]Middle Schools', 'KSS #1[SEP]Null[SEP]Null[SEP]RU[SEP]Middle Schools', 'KSS #1[SEP]Null[SEP]Null[SEP]RU[SEP]Middle Schools', 'KSS #1[SEP]Null[SEP]Null[SEP]RU[SEP]Middle Schools', 'School № 2[SEP]Kirovsk[SEP]Leningrad region.[SEP]RU[SEP]Schools, College Auditoriums', 'School № 2[SEP]Kirovsk[SEP]Leningrad region.[SEP]RU[SEP]Schools, College Auditoriums', 'School № 2[SEP]Kirovsk[SEP]Leningrad region.[SEP]RU[SEP]Schools, College Auditoriums', 'School № 2[SEP]Kirovsk[SEP]Leningrad region.[SEP]RU[SEP]Schools, College Auditoriums', '36 office[SEP]Null[SEP]Null[SEP]RU[SEP]High Schools', '36 office[SEP]Null[SEP]Null[SEP]RU[SEP]High Schools', '36 office[SEP]Null[SEP]Null[SEP]RU[SEP]High Schools', 'SCHOOL•2[SEP]Null[SEP]Null[SEP]RU[SEP]High Schools', 'SCHOOL•2[SEP]Null[SEP]Null[SEP]RU[SEP]High Schools', 'Visiting Alkashka[SEP]Null[SEP]Null[SEP]RU[SEP]College Auditoriums', 'christmas walk[SEP]Null[SEP]Null[SEP]CH[SEP]Christmas Markets', 'christmas walk[SEP]Null[SEP]Null[SEP]CH[SEP]Christmas Markets', 'christmas walk[SEP]Null[SEP]Null[SEP]CH[SEP]Christmas Markets', 'Montreux Christmas Market[SEP]Montreux[SEP]Null[SEP]CH[SEP]Christmas Markets', 'Montreux Christmas Market[SEP]Montreux[SEP]Null[SEP]CH[SEP]Christmas Markets', 'Montreux Christmas Market[SEP]Montreux[SEP]Vaud[SEP]CH[SEP]Christmas Markets', 'IFC CGV Premium[SEP]Null[SEP]Null[SEP]KR[SEP]Movie Theaters', 'IFC CGV Premium[SEP]Null[SEP]Null[SEP]KR[SEP]Movie Theaters', 'IFC CGV Premium[SEP]Null[SEP]Null[SEP]KR[SEP]Movie Theaters', 'IFC CGV Premium[SEP]Null[SEP]Null[SEP]KR[SEP]Movie Theaters', 'HOTDOG & PIZZA CGV[SEP]Null[SEP]Null[SEP]KR[SEP]Snack Places', 'HOTDOG & PIZZA CGV[SEP]Null[SEP]Null[SEP]KR[SEP]Snack Places', 'HOTDOG & PIZZA CGV[SEP]Null[SEP]Null[SEP]KR[SEP]Snack Places', 'CGV Yeouido@IFC SEOUL[SEP]Null[SEP]Null[SEP]KR[SEP]Multiplexes', 'CGV Yeouido@IFC SEOUL[SEP]Null[SEP]Null[SEP]KR[SEP]Multiplexes', 'CGV IFCMALL Premium Hall[SEP]Null[SEP]Null[SEP]KR[SEP]Null', 'İkizdere state hospital EMERGENCY[SEP]Null[SEP]Null[SEP]TR[SEP]Government Buildings']\n"
     ]
    },
    {
     "name": "stderr",
     "output_type": "stream",
     "text": [
      "  0%|          | 2/10000 [00:01<2:07:22,  1.31it/s]"
     ]
    },
    {
     "name": "stdout",
     "output_type": "stream",
     "text": [
      "['İkizdere state hospital EMERGENCY[SEP]Null[SEP]Null[SEP]TR[SEP]Government Buildings', 'right emine sour district state hospital[SEP]Null[SEP]Null[SEP]TR[SEP]Emergency Rooms', 'Town Hall Zwevegem[SEP]Null[SEP]Null[SEP]BE[SEP]City Halls', 'Town Hall Zwevegem[SEP]Null[SEP]Null[SEP]BE[SEP]City Halls', 'Municipal point[SEP]Zwevegem[SEP]Null[SEP]BE[SEP]City Halls', 'Baggage claim[SEP]Null[SEP]Null[SEP]PE[SEP]Airports, Airport Lounges', 'Baggage claim[SEP]Null[SEP]Null[SEP]PE[SEP]Airports, Airport Lounges', 'baggage claim[SEP]Null[SEP]Null[SEP]PE[SEP]Airport Lounges', 'GVA Baggage Claim Belt 6[SEP]Grand Saconnex[SEP]GE[SEP]CH[SEP]Airports', 'GVA Baggage Claim Belt 6[SEP]Grand Saconnex[SEP]GE[SEP]CH[SEP]Airports', 'GVA Baggage Claim Belt 6[SEP]Grand Saconnex[SEP]GE[SEP]CH[SEP]Airports', 'GVA Baggage Claim Belt 9[SEP]Grand Saconnex[SEP]GE[SEP]CH[SEP]Airport Terminals', 'GVA Baggage Claim Belt 9[SEP]Grand Saconnex[SEP]GE[SEP]CH[SEP]Airport Terminals', 'GVA Baggage Claim[SEP]Grand Saconnex[SEP]GE[SEP]CH[SEP]General Travel', 'Ecopark[SEP]Null[SEP]Null[SEP]RU[SEP]Parks', 'Ecopark[SEP]Null[SEP]Null[SEP]RU[SEP]Parks', 'Natural Park &quot;Valley of the Yauza River&quot;[SEP]Moscow[SEP]Moscow[SEP]RU[SEP]Parks', 'McAdenville Christmas Lights[SEP]McAdenville[SEP]NC[SEP]US[SEP]Public Art', 'McAdenville Christmas Lights[SEP]McAdenville[SEP]NC[SEP]US[SEP]Public Art', 'Mcadenville, Christmas Town, Usa[SEP]Lowell[SEP]NC[SEP]US[SEP]Historic Sites', 'partyroom 1005[SEP]Null[SEP]Null[SEP]ES[SEP]Housing Developments', 'partyroom 1005[SEP]Null[SEP]Null[SEP]ES[SEP]Housing Developments', 'Hotel Montemar[SEP]Null[SEP]Null[SEP]ES[SEP]Hotels', 'My Office[SEP]Null[SEP]Null[SEP]IR[SEP]Offices', 'My Office[SEP]Null[SEP]Null[SEP]IR[SEP]Offices', 'My Office💻📠💰📑[SEP]Tabriz[SEP]Null[SEP]IR[SEP]Offices, Business Centers', 'PUSDAI[SEP]Null[SEP]Null[SEP]ID[SEP]Non-Profits', 'PUSDAI[SEP]Null[SEP]Null[SEP]ID[SEP]Non-Profits', 'PUSDAI[SEP]Null[SEP]Null[SEP]ID[SEP]Non-Profits', 'PUSDAI[SEP]Null[SEP]Null[SEP]ID[SEP]Non-Profits', 'Islamic Da&#39;wah Center (Pusdai)[SEP]Null[SEP]Null[SEP]ID[SEP]Mosques', 'Islamic Da&#39;wah Center (Pusdai)[SEP]Null[SEP]Null[SEP]ID[SEP]Mosques', 'Islamic Da&#39;wah Center (Pusdai)[SEP]Null[SEP]Null[SEP]ID[SEP]Mosques', 'PUSDAI[SEP]Bandung[SEP]Indonesia[SEP]ID[SEP]Gay Bars', 'PUSDAI[SEP]Bandung[SEP]Indonesia[SEP]ID[SEP]Gay Bars', 'PUSDAI Bandung[SEP]Null[SEP]Null[SEP]ID[SEP]Buildings', \"Michele's Patisserie HSBC centre[SEP]Null[SEP]Null[SEP]AU[SEP]Cafés\", \"Michele's Patisserie HSBC centre[SEP]Null[SEP]Null[SEP]AU[SEP]Cafés\", \"Michele's Patisserie HSBC centre[SEP]Null[SEP]Null[SEP]AU[SEP]Cafés\", \"Michele's Patisserie HSBC centre[SEP]Null[SEP]Null[SEP]AU[SEP]Cafés\", \"Michele's Patisserie HSBC centre[SEP]Null[SEP]Null[SEP]AU[SEP]Cafés\", \"Michel's Dry Cleaners[SEP]Sydney[SEP]NSW[SEP]AU[SEP]Laundry Services\", \"Michel's Dry Cleaners[SEP]Sydney[SEP]NSW[SEP]AU[SEP]Laundry Services\", \"Michel's Dry Cleaners[SEP]Sydney[SEP]NSW[SEP]AU[SEP]Laundry Services\", \"Michel's Dry Cleaners[SEP]Sydney[SEP]NSW[SEP]AU[SEP]Laundry Services\", 'Michel&#39;s Patisserie[SEP]Sydney[SEP]NSW[SEP]AU[SEP]Coffee Shops, Cafés, Bakeries', 'Michel&#39;s Patisserie[SEP]Sydney[SEP]NSW[SEP]AU[SEP]Coffee Shops, Cafés, Bakeries', 'Michel&#39;s Patisserie[SEP]Sydney[SEP]NSW[SEP]AU[SEP]Coffee Shops, Cafés, Bakeries', 'Michel&#39;s Patisserie[SEP]Sydney[SEP]NSW[SEP]AU[SEP]Coffee Shops, Cafés, Bakeries', 'Michel&#39;s Patisserie[SEP]Sydney[SEP]NSW[SEP]AU[SEP]Coffee Shops, Cafés, Bakeries', 'Michel&#39;s Patisserie[SEP]Sydney[SEP]NSW[SEP]AU[SEP]Coffee Shops', \"Chili's[SEP]Huntsville[SEP]TX[SEP]US[SEP]American Restaurants\", \"Chili's[SEP]Huntsville[SEP]TX[SEP]US[SEP]American Restaurants\", \"Chili's[SEP]Huntsville[SEP]TX[SEP]US[SEP]American Restaurants\", \"Chili's Grill & Bar[SEP]Huntsville[SEP]TX[SEP]US[SEP]Tex-Mex Restaurants, American Restaurants\", \"Chili's Grill & Bar[SEP]Huntsville[SEP]TX[SEP]US[SEP]Tex-Mex Restaurants, American Restaurants\", 'Chilis[SEP]Huntsville[SEP]Tx[SEP]US[SEP]Null', 'Aptkeka Constellation[SEP]St. Petersburg[SEP]Null[SEP]RU[SEP]Pharmacies', 'Aptkeka Constellation[SEP]St. Petersburg[SEP]Null[SEP]RU[SEP]Pharmacies', '&quot;Pharmacy \\\\&quot;Constellation\\\\&quot;&quot;[SEP]Null[SEP]Null[SEP]RU[SEP]Null', 'MhakBuri Station[SEP]Bangkok[SEP]Bangkok[SEP]TH[SEP]Coffee Shops', 'MhakBuri Station[SEP]Bangkok[SEP]Bangkok[SEP]TH[SEP]Coffee Shops', 'Cafe Cococano[SEP]Chom Thong[SEP]Thailand[SEP]TH[SEP]Coffee Shops, Dessert Shops', 'Liverpool Albert Dock[SEP]Liverpool[SEP]Null[SEP]GB[SEP]Harbors / Marinas', 'Liverpool Albert Dock[SEP]Liverpool[SEP]Null[SEP]GB[SEP]Harbors / Marinas', 'Royal Albert Dock Liverpool[SEP]Liverpool[SEP]England[SEP]GB[SEP]Null', 'Port of Marseille-Fos[SEP]Marseille[SEP]Provence-Alpes-Côte d&#39;Azur[SEP]FR[SEP]Harbors / Marinas', 'Port of Marseille-Fos[SEP]Marseille[SEP]Provence-Alpes-Côte d&#39;Azur[SEP]FR[SEP]Harbors / Marinas', 'Port of Marseilles[SEP]Null[SEP]Null[SEP]FR[SEP]Harbors / Marinas', 'The Enterprise Center[SEP]Makati City[SEP]Metro Manila[SEP]PH[SEP]Buildings', 'The Enterprise Center[SEP]Makati City[SEP]Metro Manila[SEP]PH[SEP]Buildings', 'ICTV - The Enterprise Center Tower 1[SEP]Makati City[SEP]Null[SEP]PH[SEP]Offices', 'Subway SpaceU8 Mall[SEP]Shah Alam[SEP]Selangor[SEP]MY[SEP]Sandwich Places', 'Subway SpaceU8 Mall[SEP]Shah Alam[SEP]Selangor[SEP]MY[SEP]Sandwich Places', 'Subway ™[SEP]Bukit Jelutong[SEP]Selangor[SEP]MY[SEP]Sandwich Places', 'cak BEJO[SEP]Malang[SEP]East Java[SEP]ID[SEP]Null', 'cak BEJO[SEP]Malang[SEP]East Java[SEP]ID[SEP]Null', 'cak BEJO[SEP]Malang[SEP]East Java[SEP]ID[SEP]Null', 'cak BEJO[SEP]Malang[SEP]East Java[SEP]ID[SEP]Null', 'Cak Bejo&#39;s Uduk Rice[SEP]Malang[SEP]East Java[SEP]ID[SEP]Indonesian Restaurants', 'Cak Bejo&#39;s Uduk Rice[SEP]Malang[SEP]East Java[SEP]ID[SEP]Indonesian Restaurants', 'Cak Bejo&#39;s Uduk Rice[SEP]Malang[SEP]East Java[SEP]ID[SEP]Indonesian Restaurants', 'Warung Cak Bejo[SEP]Null[SEP]Null[SEP]ID[SEP]Food Trucks', 'Warung Cak Bejo[SEP]Null[SEP]Null[SEP]ID[SEP]Food Trucks', 'Nasi Uduk - cak Bejo[SEP]Null[SEP]Null[SEP]ID[SEP]Asian Restaurants', 'Born Ga[SEP]Null[SEP]Null[SEP]ID[SEP]Null', 'Born Ga[SEP]Null[SEP]Null[SEP]ID[SEP]Null', 'Born Ga[SEP]Null[SEP]Null[SEP]ID[SEP]Null', 'TCT @ Bukit Merah[SEP]Null[SEP]Null[SEP]SG[SEP]Churches', 'TCT @ Bukit Merah[SEP]Null[SEP]Null[SEP]SG[SEP]Churches', 'Gateway Theatre[SEP]Null[SEP]Null[SEP]SG[SEP]Churches', 'Taichan[SEP]Central Jakarta[SEP]Jakarta[SEP]ID[SEP]Japanese Restaurants', 'Taichan[SEP]Central Jakarta[SEP]Jakarta[SEP]ID[SEP]Japanese Restaurants', 'Taichan plaza senayan[SEP]Null[SEP]Null[SEP]ID[SEP]Japanese Restaurants', 'Lotte Cinema[SEP]Hanoi[SEP]Null[SEP]VN[SEP]Multiplexes, Movie Theaters', 'Lotte Cinema[SEP]Hanoi[SEP]Null[SEP]VN[SEP]Multiplexes, Movie Theaters', 'Screening Room 2 @ Lotte Keangnam[SEP]Null[SEP]Null[SEP]VN[SEP]Movie Theaters', 'Elias Figueroa Stadium[SEP]Null[SEP]Null[SEP]CL[SEP]Soccer Stadiums', 'Elias Figueroa Stadium[SEP]Null[SEP]Null[SEP]CL[SEP]Soccer Stadiums', 'Elias Figueroa Stadium[SEP]Null[SEP]Null[SEP]CL[SEP]Soccer Stadiums', 'Elias Figueroa Brander Stadium[SEP]Valparaiso[SEP]Valparaiso Region[SEP]CL[SEP]Soccer Stadiums', 'Elias Figueroa Brander Stadium[SEP]Valparaiso[SEP]Valparaiso Region[SEP]CL[SEP]Soccer Stadiums', 'Elias Figueroa Stadium[SEP]Null[SEP]Null[SEP]CL[SEP]Football Stadiums', 'Alanya Tea Garden[SEP]Alanya[SEP]Antalya[SEP]TR[SEP]Tea Rooms', 'Alanya Tea Garden[SEP]Alanya[SEP]Antalya[SEP]TR[SEP]Tea Rooms', 'Alanya Tea Garden[SEP]Alanya[SEP]Antalya[SEP]TR[SEP]Tea Rooms', 'Alanya Municipality Family Tea Garden[SEP]Null[SEP]Null[SEP]TR[SEP]Null', 'Alanya Municipality Family Tea Garden[SEP]Null[SEP]Null[SEP]TR[SEP]Null', 'free tea garden[SEP]Null[SEP]Null[SEP]TR[SEP]Tea Rooms', 'Colosseum Club Jakarta[SEP]Null[SEP]Null[SEP]ID[SEP]Null', 'Colosseum Club Jakarta[SEP]Null[SEP]Null[SEP]ID[SEP]Null', 'Colosseum Club Jakarta[SEP]Null[SEP]Null[SEP]ID[SEP]Null', 'Colosseum Club Jakarta[SEP]Null[SEP]Null[SEP]ID[SEP]Null', 'Colosseum Club Jakarta[SEP]Null[SEP]Null[SEP]ID[SEP]Null', 'Colosseum 1001[SEP]Null[SEP]Null[SEP]ID[SEP]Null', 'Fukui CHOP[SEP]Fukui City[SEP]Fukui prefecture[SEP]JP[SEP]Rock Clubs', 'Fukui CHOP[SEP]Fukui City[SEP]Fukui prefecture[SEP]JP[SEP]Rock Clubs', 'Fukui chop[SEP]Fukui City[SEP]Fukui prefecture[SEP]JP[SEP]Rock Clubs', \"Nove's rockin' room[SEP]Bandung[SEP]West Java[SEP]ID[SEP]Jazz Clubs, Pools, Seafood Restaurants\", \"Nove's rockin' room[SEP]Bandung[SEP]West Java[SEP]ID[SEP]Jazz Clubs, Pools, Seafood Restaurants\", 'Noverian kitchen[SEP]Null[SEP]Null[SEP]ID[SEP]Chinese Restaurants', 'SMAN 1[SEP]Batam[SEP]Null[SEP]ID[SEP]Null', 'SMAN 1[SEP]Batam[SEP]Null[SEP]ID[SEP]Null', 'SMAN 1[SEP]Batam[SEP]Null[SEP]ID[SEP]Null', 'SMAN 1[SEP]Batam[SEP]Null[SEP]ID[SEP]Null', 'SMAN 1[SEP]Batam[SEP]Null[SEP]ID[SEP]Null', 'SMAN 1[SEP]Batam[SEP]Null[SEP]ID[SEP]Null', 'SMAN 1[SEP]Batam[SEP]Null[SEP]ID[SEP]Null', 'SMAN 1[SEP]Batam[SEP]Null[SEP]ID[SEP]Null', 'SMAN 1[SEP]Batam[SEP]Null[SEP]ID[SEP]Null', 'Chronicles XI Soc 1 SMANSA[SEP]Batam[SEP]kepri[SEP]ID[SEP]College Classrooms', 'Chronicles XI Soc 1 SMANSA[SEP]Batam[SEP]kepri[SEP]ID[SEP]College Classrooms', 'Chronicles XI Soc 1 SMANSA[SEP]Batam[SEP]kepri[SEP]ID[SEP]College Classrooms', 'Chronicles XI Soc 1 SMANSA[SEP]Batam[SEP]kepri[SEP]ID[SEP]College Classrooms', 'Chronicles XI Soc 1 SMANSA[SEP]Batam[SEP]kepri[SEP]ID[SEP]College Classrooms', 'Chronicles XI Soc 1 SMANSA[SEP]Batam[SEP]kepri[SEP]ID[SEP]College Classrooms', 'Chronicles XI Soc 1 SMANSA[SEP]Batam[SEP]kepri[SEP]ID[SEP]College Classrooms', 'Chronicles XI Soc 1 SMANSA[SEP]Batam[SEP]kepri[SEP]ID[SEP]College Classrooms', 'Foster The Partizans XI Social 1 SMANSA[SEP]Batam[SEP]Null[SEP]ID[SEP]College Classrooms', 'Foster The Partizans XI Social 1 SMANSA[SEP]Batam[SEP]Null[SEP]ID[SEP]College Classrooms', 'Foster The Partizans XI Social 1 SMANSA[SEP]Batam[SEP]Null[SEP]ID[SEP]College Classrooms', 'Foster The Partizans XI Social 1 SMANSA[SEP]Batam[SEP]Null[SEP]ID[SEP]College Classrooms', 'Foster The Partizans XI Social 1 SMANSA[SEP]Batam[SEP]Null[SEP]ID[SEP]College Classrooms', 'Foster The Partizans XI Social 1 SMANSA[SEP]Batam[SEP]Null[SEP]ID[SEP]College Classrooms', 'Foster The Partizans XI Social 1 SMANSA[SEP]Batam[SEP]Null[SEP]ID[SEP]College Classrooms', 'Batam High School[SEP]Null[SEP]Null[SEP]ID[SEP]College Cafeterias', 'Batam High School[SEP]Null[SEP]Null[SEP]ID[SEP]College Cafeterias', 'Batam High School[SEP]Null[SEP]Null[SEP]ID[SEP]College Cafeterias', 'Batam High School[SEP]Null[SEP]Null[SEP]ID[SEP]College Cafeterias', 'Batam High School[SEP]Null[SEP]Null[SEP]ID[SEP]College Cafeterias', 'Batam High School[SEP]Null[SEP]Null[SEP]ID[SEP]College Cafeterias', 'SyndicateSciFi class[SEP]Null[SEP]Null[SEP]ID[SEP]College Classrooms', 'SyndicateSciFi class[SEP]Null[SEP]Null[SEP]ID[SEP]College Classrooms', 'SyndicateSciFi class[SEP]Null[SEP]Null[SEP]ID[SEP]College Classrooms', 'SyndicateSciFi class[SEP]Null[SEP]Null[SEP]ID[SEP]College Classrooms', 'SyndicateSciFi class[SEP]Null[SEP]Null[SEP]ID[SEP]College Classrooms', 'excellent[SEP]Batam[SEP]Null[SEP]ID[SEP]College Classrooms', 'excellent[SEP]Batam[SEP]Null[SEP]ID[SEP]College Classrooms', 'excellent[SEP]Batam[SEP]Null[SEP]ID[SEP]College Classrooms', 'excellent[SEP]Batam[SEP]Null[SEP]ID[SEP]College Classrooms', 'Chronicles XI Social 1 SMANSA[SEP]Null[SEP]Null[SEP]ID[SEP]Null', 'Chronicles XI Social 1 SMANSA[SEP]Null[SEP]Null[SEP]ID[SEP]Null', 'Chronicles XI Social 1 SMANSA[SEP]Null[SEP]Null[SEP]ID[SEP]Null', 'XII IPA 2 (SWAT BASECAMP)[SEP]Null[SEP]Null[SEP]ID[SEP]Community Colleges', 'XII IPA 2 (SWAT BASECAMP)[SEP]Null[SEP]Null[SEP]ID[SEP]Community Colleges', 'SMAN 1 Batam[SEP]Batam[SEP]Riau islands[SEP]ID[SEP]High Schools, Student Centers', 'Open University[SEP]Kota Kinabalu[SEP]Sabah[SEP]MY[SEP]Universities', 'Open University[SEP]Kota Kinabalu[SEP]Sabah[SEP]MY[SEP]Universities', 'Open University Malaysia (OUM)[SEP]Kota Kinabalu[SEP]Sabah[SEP]MY[SEP]College Academic Buildings', 'Predator[SEP]Moscow[SEP]Moscow[SEP]RU[SEP]New American Restaurants', 'Predator[SEP]Moscow[SEP]Moscow[SEP]RU[SEP]New American Restaurants', 'Hishnik Steaks &amp; Burgers (Predator Steaks &amp; Burgers)[SEP]Moscow[SEP]Moscow[SEP]RU[SEP]Burger Joints', 'Rumpun&#39;s Pancake and Waffle[SEP]Null[SEP]Null[SEP]ID[SEP]Null', 'Rumpun&#39;s Pancake and Waffle[SEP]Null[SEP]Null[SEP]ID[SEP]Null', 'Rumpun&#39;s Pancake and Waffle[SEP]Null[SEP]Null[SEP]ID[SEP]Null', 'Rumpun&#39;s Pancake and Waffle[SEP]Null[SEP]Null[SEP]ID[SEP]Null', 'clumps of pancakes[SEP]Null[SEP]Null[SEP]ID[SEP]Cafés', 'clumps of pancakes[SEP]Null[SEP]Null[SEP]ID[SEP]Cafés', 'clumps of pancakes[SEP]Null[SEP]Null[SEP]ID[SEP]Cafés', 'Rumpun&#39;s Pancake[SEP]Null[SEP]Null[SEP]ID[SEP]Cafés', 'Rumpun&#39;s Pancake[SEP]Null[SEP]Null[SEP]ID[SEP]Cafés']\n"
     ]
    },
    {
     "name": "stderr",
     "output_type": "stream",
     "text": [
      "  0%|          | 3/10000 [00:02<2:04:43,  1.34it/s]"
     ]
    },
    {
     "name": "stdout",
     "output_type": "stream",
     "text": [
      "['Rumpun&#39;s Pancake[SEP]Null[SEP]Null[SEP]ID[SEP]Null', 'Butia Farm[SEP]Butia[SEP]Rio Grande do Sul[SEP]BR[SEP]Farms', 'Butia Farm[SEP]Butia[SEP]Rio Grande do Sul[SEP]BR[SEP]Farms', 'Butia Farm[SEP]Butia[SEP]Null[SEP]BR[SEP]Farms', 'Trip[SEP]Null[SEP]Null[SEP]TR[SEP]Bus Stops', 'Trip[SEP]Null[SEP]Null[SEP]TR[SEP]Bus Stops', 'parish[SEP]Null[SEP]Antalya[SEP]TR[SEP]Travel Agencies', 'Ice Palace &quot;Park of Legends&quot;[SEP]Moscow[SEP]Moscow[SEP]RU[SEP]Hockey Arenas', 'Ice Palace &quot;Park of Legends&quot;[SEP]Moscow[SEP]Moscow[SEP]RU[SEP]Hockey Arenas', 'Ice Palace &quot;Park of Legends&quot;[SEP]Moscow[SEP]Moscow[SEP]RU[SEP]Hockey Arenas', 'box 431[SEP]Null[SEP]Null[SEP]RU[SEP]Null', 'box 431[SEP]Null[SEP]Null[SEP]RU[SEP]Null', 'CSKA ARENA[SEP]Moscow[SEP]Moscow[SEP]RU[SEP]Hockey Rinks', 'Jcpenney Optical[SEP]Tampa[SEP]FL[SEP]US[SEP]Department Stores', 'Jcpenney Optical[SEP]Tampa[SEP]FL[SEP]US[SEP]Department Stores', 'JCPenney[SEP]Tampa[SEP]FL[SEP]US[SEP]Department Stores, Clothing Stores, Boutiques', 'El Rocio Lake[SEP]Pilar[SEP]Buenos Aires[SEP]AR[SEP]Lakes', 'El Rocio Lake[SEP]Pilar[SEP]Buenos Aires[SEP]AR[SEP]Lakes', 'Rocio Lakes[SEP]Center Pillar[SEP]Buenos Aires[SEP]AR[SEP]Lakes', 'Get[SEP]Kagoshima City[SEP]Kagoshima prefecture[SEP]JP[SEP]Ramen Restaurants', 'Get[SEP]Kagoshima City[SEP]Kagoshima prefecture[SEP]JP[SEP]Ramen Restaurants', 'Stop Ramen Ai GET54[SEP]Kagoshima City[SEP]Kagoshima prefecture[SEP]JP[SEP]Ramen Restaurants', 'Blue Jackets - On Ice[SEP]Columbus[SEP]OH[SEP]US[SEP]Hockey Arenas', 'Blue Jackets - On Ice[SEP]Columbus[SEP]OH[SEP]US[SEP]Hockey Arenas', 'Blue Jackets - On Ice[SEP]Columbus[SEP]OH[SEP]US[SEP]Hockey Arenas', 'Nationwide Arena Pbr[SEP]Columbus[SEP]OH[SEP]US[SEP]General Entertainment', 'Nationwide Arena Pbr[SEP]Columbus[SEP]OH[SEP]US[SEP]General Entertainment', 'Nationwide Arena[SEP]Columbus[SEP]OH[SEP]US[SEP]Hockey Arenas, Music Venues', 'Labuang Baji Hospital[SEP]Makassar[SEP]South Sulawesi[SEP]ID[SEP]Hospitals, Medical Centers, Emergency Rooms', 'Labuang Baji Hospital[SEP]Makassar[SEP]South Sulawesi[SEP]ID[SEP]Hospitals, Medical Centers, Emergency Rooms', 'Labuang Baji Hospital[SEP]Makassar[SEP]South Sulawesi[SEP]ID[SEP]Hospitals, Medical Centers, Emergency Rooms', 'Labuang Baji Hospital[SEP]Makassar[SEP]South Sulawesi[SEP]ID[SEP]Hospitals, Medical Centers, Emergency Rooms', 'Labuang Baji Hospital[SEP]Makassar[SEP]Null[SEP]ID[SEP]Medical Centers', 'Labuang Baji Hospital[SEP]Makassar[SEP]Null[SEP]ID[SEP]Medical Centers', 'Labuang Baji Hospital[SEP]Makassar[SEP]Null[SEP]ID[SEP]Medical Centers', 'Labang Baji Hospital laboratory[SEP]Makassar[SEP]South Sulawesi[SEP]ID[SEP]Medical Labs', 'Labang Baji Hospital laboratory[SEP]Makassar[SEP]South Sulawesi[SEP]ID[SEP]Medical Labs', 'Labuang Baji Hospital Household Room[SEP]Makassar[SEP]Null[SEP]ID[SEP]Coworking Spaces', 'Peacock Coffee[SEP]Semarang[SEP]Central Java[SEP]ID[SEP]Sake Bars', 'Peacock Coffee[SEP]Semarang[SEP]Central Java[SEP]ID[SEP]Sake Bars', 'Peacock Coffee[SEP]Semarang[SEP]Central Java[SEP]ID[SEP]Sake Bars', 'Peacock Coffee[SEP]Semarang[SEP]Central Java[SEP]ID[SEP]Coffee Shops', 'Peacock Coffee[SEP]Semarang[SEP]Central Java[SEP]ID[SEP]Coffee Shops', 'Peacock Caffe[SEP]Semarang[SEP]Indonesia[SEP]ID[SEP]Cafés', 'Sushitei Grand Indonesia[SEP]Null[SEP]Null[SEP]ID[SEP]Null', 'Sushitei Grand Indonesia[SEP]Null[SEP]Null[SEP]ID[SEP]Null', 'Sushi Tei[SEP]Central Jakarta[SEP]DKI Jakarta[SEP]ID[SEP]Sushi Restaurants, Japanese Restaurants', 'Isan Bonthon Potchana[SEP]Bangkok[SEP]Bangkok[SEP]TH[SEP]Thai Restaurants', 'Isan Bonthon Potchana[SEP]Bangkok[SEP]Bangkok[SEP]TH[SEP]Thai Restaurants', 'Boonthon Thai-Isan food[SEP]Bangkok[SEP]Null[SEP]TH[SEP]Som Tum Restaurants, Thai Restaurants, Breakfast Spots', 'Tobacco Shop[SEP]Null[SEP]Null[SEP]TR[SEP]Miscellaneous Shops', 'Tobacco Shop[SEP]Null[SEP]Null[SEP]TR[SEP]Miscellaneous Shops', 'Tobacco Shop[SEP]Antalya[SEP]Null[SEP]TR[SEP]Smoke Shops', 'Smolensky passage[SEP]Moscow[SEP]Moscow[SEP]RU[SEP]Shopping Malls', 'Smolensky passage[SEP]Moscow[SEP]Moscow[SEP]RU[SEP]Shopping Malls', 'Smolensky passage[SEP]Moscow[SEP]Moscow[SEP]RU[SEP]Shopping Malls', 'Smolensky passage[SEP]Moscow[SEP]Moscow[SEP]RU[SEP]Shopping Malls', 'Smolensky Passage Site Office[SEP]Null[SEP]Null[SEP]RU[SEP]Coworking Spaces', 'Smolensky Passage Site Office[SEP]Null[SEP]Null[SEP]RU[SEP]Coworking Spaces', 'Smolensky Passage Site Office[SEP]Null[SEP]Null[SEP]RU[SEP]Coworking Spaces', 'Smolensky Passage 2[SEP]Null[SEP]Null[SEP]RU[SEP]Shopping Malls', 'Smolensky Passage 2[SEP]Null[SEP]Null[SEP]RU[SEP]Shopping Malls', 'Smolensky Passage-2(Smolensky Passage-2)[SEP]Null[SEP]Null[SEP]RU[SEP]Null', 'Guadalajara Pharmacies[SEP]San Nicolas de los Garza, NLE[SEP]New Lion[SEP]MX[SEP]Pharmacies', 'Guadalajara Pharmacies[SEP]San Nicolas de los Garza, NLE[SEP]New Lion[SEP]MX[SEP]Pharmacies', 'Pharmacy Guadalajara[SEP]Null[SEP]Null[SEP]MX[SEP]Pharmacies', 'Cinepolis Junior[SEP]Null[SEP]Null[SEP]MX[SEP]Movie Theaters', 'Cinepolis Junior[SEP]Null[SEP]Null[SEP]MX[SEP]Movie Theaters', 'Cinepolis Junior[SEP]Null[SEP]Null[SEP]MX[SEP]Movie Theaters', 'Cinepolis Junior[SEP]Null[SEP]Null[SEP]MX[SEP]Movie Theaters', 'Cinepolis Junior[SEP]Null[SEP]Null[SEP]MX[SEP]Movie Theaters', 'Cinepolis[SEP]Naucalpan de Juarez, MEX[SEP]Mexico state[SEP]MX[SEP]Multiplexes', 'Cinepolis[SEP]Naucalpan de Juarez, MEX[SEP]Mexico state[SEP]MX[SEP]Multiplexes', 'Cinepolis[SEP]Naucalpan de Juarez, MEX[SEP]Mexico state[SEP]MX[SEP]Multiplexes', 'Cinepolis[SEP]Naucalpan de Juarez, MEX[SEP]Mexico state[SEP]MX[SEP]Multiplexes', 'cinepolis[SEP]Null[SEP]Null[SEP]MX[SEP]Movie Theaters, Multiplexes', 'cinepolis[SEP]Null[SEP]Null[SEP]MX[SEP]Movie Theaters, Multiplexes', 'cinepolis[SEP]Null[SEP]Null[SEP]MX[SEP]Movie Theaters, Multiplexes', 'Cinepolis Macro XE[SEP]Naucalpan de Juarez[SEP]Mexico state[SEP]MX[SEP]Movie Theaters', 'Cinepolis Macro XE[SEP]Naucalpan de Juarez[SEP]Mexico state[SEP]MX[SEP]Movie Theaters', 'Cinepolis Sala Junior[SEP]Null[SEP]Null[SEP]MX[SEP]Movie Theaters', 'Firestone Tire[SEP]Dothan[SEP]AL[SEP]US[SEP]Automotive Shops', 'Firestone Tire[SEP]Dothan[SEP]AL[SEP]US[SEP]Automotive Shops', 'Firestone[SEP]Dothan[SEP]AL[SEP]US[SEP]Automotive Shops, Auto Garages', 'Cinema Sputnik[SEP]Null[SEP]Null[SEP]UA[SEP]Movie Theaters', 'Cinema Sputnik[SEP]Null[SEP]Null[SEP]UA[SEP]Movie Theaters', 'Cinema Sputnik[SEP]Null[SEP]Null[SEP]UA[SEP]Movie Theaters', 'Satellite[SEP]Null[SEP]Null[SEP]UA[SEP]General Travel', 'Satellite[SEP]Null[SEP]Null[SEP]UA[SEP]General Travel', 'Satellite[SEP]Kyiv[SEP]m. Kyiv[SEP]UA[SEP]Movie Theaters', 'RAZGULYAY SC Olympiyskiy[SEP]Null[SEP]Null[SEP]RU[SEP]Concert Halls', 'RAZGULYAY SC Olympiyskiy[SEP]Null[SEP]Null[SEP]RU[SEP]Concert Halls', 'RAZGULYAY SC Olympiyskiy[SEP]Null[SEP]Null[SEP]RU[SEP]Concert Halls', 'RAZGULYAY SC Olympiyskiy[SEP]Null[SEP]Null[SEP]RU[SEP]Concert Halls', 'RAZGULYAY SC Olympiyskiy[SEP]Null[SEP]Null[SEP]RU[SEP]Concert Halls', 'RAZGULYAY SC Olympiyskiy[SEP]Null[SEP]Null[SEP]RU[SEP]Concert Halls', 'RAZGULYAY SC Olympiyskiy[SEP]Null[SEP]Null[SEP]RU[SEP]Concert Halls', 'RAZGULYAY SC Olympiyskiy[SEP]Null[SEP]Null[SEP]RU[SEP]Concert Halls', 'RAZGULYAY SC Olympiyskiy[SEP]Null[SEP]Null[SEP]RU[SEP]Concert Halls', 'RAZGULYAY SC Olympiyskiy[SEP]Null[SEP]Null[SEP]RU[SEP]Concert Halls', 'RAZGULYAY SC Olympiyskiy[SEP]Null[SEP]Null[SEP]RU[SEP]Concert Halls', 'RAZGULYAY SC Olympiyskiy[SEP]Null[SEP]Null[SEP]RU[SEP]Concert Halls', 'RAZGULYAY SC Olympiyskiy[SEP]Null[SEP]Null[SEP]RU[SEP]Concert Halls', 'RAZGULYAY SC Olympiyskiy[SEP]Null[SEP]Null[SEP]RU[SEP]Concert Halls', 'RAZGULYAY SC Olympiyskiy[SEP]Null[SEP]Null[SEP]RU[SEP]Concert Halls', 'RAZGULYAY SC Olympiyskiy[SEP]Null[SEP]Null[SEP]RU[SEP]Concert Halls', 'RAZGULYAY SC Olympiyskiy[SEP]Null[SEP]Null[SEP]RU[SEP]Concert Halls', 'Sector A 13[SEP]Null[SEP]Null[SEP]RU[SEP]General Entertainment', 'Sector A 13[SEP]Null[SEP]Null[SEP]RU[SEP]General Entertainment', 'Sector A 13[SEP]Null[SEP]Null[SEP]RU[SEP]General Entertainment', 'Sector A 13[SEP]Null[SEP]Null[SEP]RU[SEP]General Entertainment', 'Sector A 13[SEP]Null[SEP]Null[SEP]RU[SEP]General Entertainment', 'Sector A 13[SEP]Null[SEP]Null[SEP]RU[SEP]General Entertainment', 'Sector A 13[SEP]Null[SEP]Null[SEP]RU[SEP]General Entertainment', 'Sector A 13[SEP]Null[SEP]Null[SEP]RU[SEP]General Entertainment', 'Sector A 13[SEP]Null[SEP]Null[SEP]RU[SEP]General Entertainment', 'Sector A 13[SEP]Null[SEP]Null[SEP]RU[SEP]General Entertainment', 'Sector A 13[SEP]Null[SEP]Null[SEP]RU[SEP]General Entertainment', 'Sector A 13[SEP]Null[SEP]Null[SEP]RU[SEP]General Entertainment', 'Sector A 13[SEP]Null[SEP]Null[SEP]RU[SEP]General Entertainment', 'Sector A 13[SEP]Null[SEP]Null[SEP]RU[SEP]General Entertainment', 'Sector A 13[SEP]Null[SEP]Null[SEP]RU[SEP]General Entertainment', 'Sector A 13[SEP]Null[SEP]Null[SEP]RU[SEP]General Entertainment', 'Sony Tennis Hotspot[SEP]Moscow[SEP]Russia[SEP]RU[SEP]Tennis Stadiums', 'Sony Tennis Hotspot[SEP]Moscow[SEP]Russia[SEP]RU[SEP]Tennis Stadiums', 'Sony Tennis Hotspot[SEP]Moscow[SEP]Russia[SEP]RU[SEP]Tennis Stadiums', 'Sony Tennis Hotspot[SEP]Moscow[SEP]Russia[SEP]RU[SEP]Tennis Stadiums', 'Sony Tennis Hotspot[SEP]Moscow[SEP]Russia[SEP]RU[SEP]Tennis Stadiums', 'Sony Tennis Hotspot[SEP]Moscow[SEP]Russia[SEP]RU[SEP]Tennis Stadiums', 'Sony Tennis Hotspot[SEP]Moscow[SEP]Russia[SEP]RU[SEP]Tennis Stadiums', 'Sony Tennis Hotspot[SEP]Moscow[SEP]Russia[SEP]RU[SEP]Tennis Stadiums', 'Sony Tennis Hotspot[SEP]Moscow[SEP]Russia[SEP]RU[SEP]Tennis Stadiums', 'Sony Tennis Hotspot[SEP]Moscow[SEP]Russia[SEP]RU[SEP]Tennis Stadiums', 'Sony Tennis Hotspot[SEP]Moscow[SEP]Russia[SEP]RU[SEP]Tennis Stadiums', 'Sony Tennis Hotspot[SEP]Moscow[SEP]Russia[SEP]RU[SEP]Tennis Stadiums', 'Sony Tennis Hotspot[SEP]Moscow[SEP]Russia[SEP]RU[SEP]Tennis Stadiums', 'Sony Tennis Hotspot[SEP]Moscow[SEP]Russia[SEP]RU[SEP]Tennis Stadiums', 'Sony Tennis Hotspot[SEP]Moscow[SEP]Russia[SEP]RU[SEP]Tennis Stadiums', 'Olympic[SEP]Null[SEP]Null[SEP]RU[SEP]Hotel Bars, Offices', 'Olympic[SEP]Null[SEP]Null[SEP]RU[SEP]Hotel Bars, Offices', 'Olympic[SEP]Null[SEP]Null[SEP]RU[SEP]Hotel Bars, Offices', 'Olympic[SEP]Null[SEP]Null[SEP]RU[SEP]Hotel Bars, Offices', 'Olympic[SEP]Null[SEP]Null[SEP]RU[SEP]Hotel Bars, Offices', 'Olympic[SEP]Null[SEP]Null[SEP]RU[SEP]Hotel Bars, Offices', 'Olympic[SEP]Null[SEP]Null[SEP]RU[SEP]Hotel Bars, Offices', 'Olympic[SEP]Null[SEP]Null[SEP]RU[SEP]Hotel Bars, Offices', 'Olympic[SEP]Null[SEP]Null[SEP]RU[SEP]Hotel Bars, Offices', 'Olympic[SEP]Null[SEP]Null[SEP]RU[SEP]Hotel Bars, Offices', 'Olympic[SEP]Null[SEP]Null[SEP]RU[SEP]Hotel Bars, Offices', 'Olympic[SEP]Null[SEP]Null[SEP]RU[SEP]Hotel Bars, Offices', 'Olympic[SEP]Null[SEP]Null[SEP]RU[SEP]Hotel Bars, Offices', 'Olympic[SEP]Null[SEP]Null[SEP]RU[SEP]Hotel Bars, Offices', '&quot;Sports complex \\\\&quot;Olympic\\\\&quot; Olympic pr.16 building 1&quot;[SEP]Moscow[SEP]Null[SEP]RU[SEP]Tennis Stadiums', '&quot;Sports complex \\\\&quot;Olympic\\\\&quot; Olympic pr.16 building 1&quot;[SEP]Moscow[SEP]Null[SEP]RU[SEP]Tennis Stadiums', '&quot;Sports complex \\\\&quot;Olympic\\\\&quot; Olympic pr.16 building 1&quot;[SEP]Moscow[SEP]Null[SEP]RU[SEP]Tennis Stadiums', '&quot;Sports complex \\\\&quot;Olympic\\\\&quot; Olympic pr.16 building 1&quot;[SEP]Moscow[SEP]Null[SEP]RU[SEP]Tennis Stadiums', '&quot;Sports complex \\\\&quot;Olympic\\\\&quot; Olympic pr.16 building 1&quot;[SEP]Moscow[SEP]Null[SEP]RU[SEP]Tennis Stadiums', '&quot;Sports complex \\\\&quot;Olympic\\\\&quot; Olympic pr.16 building 1&quot;[SEP]Moscow[SEP]Null[SEP]RU[SEP]Tennis Stadiums', '&quot;Sports complex \\\\&quot;Olympic\\\\&quot; Olympic pr.16 building 1&quot;[SEP]Moscow[SEP]Null[SEP]RU[SEP]Tennis Stadiums', '&quot;Sports complex \\\\&quot;Olympic\\\\&quot; Olympic pr.16 building 1&quot;[SEP]Moscow[SEP]Null[SEP]RU[SEP]Tennis Stadiums', '&quot;Sports complex \\\\&quot;Olympic\\\\&quot; Olympic pr.16 building 1&quot;[SEP]Moscow[SEP]Null[SEP]RU[SEP]Tennis Stadiums', '&quot;Sports complex \\\\&quot;Olympic\\\\&quot; Olympic pr.16 building 1&quot;[SEP]Moscow[SEP]Null[SEP]RU[SEP]Tennis Stadiums', '&quot;Sports complex \\\\&quot;Olympic\\\\&quot; Olympic pr.16 building 1&quot;[SEP]Moscow[SEP]Null[SEP]RU[SEP]Tennis Stadiums', '&quot;Sports complex \\\\&quot;Olympic\\\\&quot; Olympic pr.16 building 1&quot;[SEP]Moscow[SEP]Null[SEP]RU[SEP]Tennis Stadiums', '&quot;Sports complex \\\\&quot;Olympic\\\\&quot; Olympic pr.16 building 1&quot;[SEP]Moscow[SEP]Null[SEP]RU[SEP]Tennis Stadiums', 'next to the olympic[SEP]Null[SEP]Null[SEP]RU[SEP]Buildings', 'next to the olympic[SEP]Null[SEP]Null[SEP]RU[SEP]Buildings', 'next to the olympic[SEP]Null[SEP]Null[SEP]RU[SEP]Buildings', 'next to the olympic[SEP]Null[SEP]Null[SEP]RU[SEP]Buildings', 'next to the olympic[SEP]Null[SEP]Null[SEP]RU[SEP]Buildings', 'next to the olympic[SEP]Null[SEP]Null[SEP]RU[SEP]Buildings', 'next to the olympic[SEP]Null[SEP]Null[SEP]RU[SEP]Buildings', 'next to the olympic[SEP]Null[SEP]Null[SEP]RU[SEP]Buildings', 'next to the olympic[SEP]Null[SEP]Null[SEP]RU[SEP]Buildings', 'next to the olympic[SEP]Null[SEP]Null[SEP]RU[SEP]Buildings', 'next to the olympic[SEP]Null[SEP]Null[SEP]RU[SEP]Buildings', 'next to the olympic[SEP]Null[SEP]Null[SEP]RU[SEP]Buildings', 'Olympic Stadium[SEP]Ð³Ð¾Ñ € Ð¾Ð´ ÐœÐ¾Ñ ÐºÐ²Ð °[SEP]ÐœÐ¾Ñ ÐºÐ²Ð °[SEP]RU[SEP]Null', 'Olympic Stadium[SEP]Ð³Ð¾Ñ € Ð¾Ð´ ÐœÐ¾Ñ ÐºÐ²Ð °[SEP]ÐœÐ¾Ñ ÐºÐ²Ð °[SEP]RU[SEP]Null', 'Olympic Stadium[SEP]Ð³Ð¾Ñ € Ð¾Ð´ ÐœÐ¾Ñ ÐºÐ²Ð °[SEP]ÐœÐ¾Ñ ÐºÐ²Ð °[SEP]RU[SEP]Null', 'Olympic Stadium[SEP]Ð³Ð¾Ñ € Ð¾Ð´ ÐœÐ¾Ñ ÐºÐ²Ð °[SEP]ÐœÐ¾Ñ ÐºÐ²Ð °[SEP]RU[SEP]Null']\n"
     ]
    },
    {
     "name": "stderr",
     "output_type": "stream",
     "text": [
      "  0%|          | 3/10000 [00:03<2:59:23,  1.08s/it]\n"
     ]
    },
    {
     "ename": "KeyboardInterrupt",
     "evalue": "",
     "output_type": "error",
     "traceback": [
      "\u001B[1;31m---------------------------------------------------------------------------\u001B[0m",
      "\u001B[1;31mKeyboardInterrupt\u001B[0m                         Traceback (most recent call last)",
      "Input \u001B[1;32mIn [206]\u001B[0m, in \u001B[0;36m<cell line: 2>\u001B[1;34m()\u001B[0m\n\u001B[0;32m      3\u001B[0m start \u001B[38;5;241m=\u001B[39m \u001B[38;5;28mint\u001B[39m(i \u001B[38;5;241m*\u001B[39m chunk_len)\n\u001B[0;32m      4\u001B[0m stop \u001B[38;5;241m=\u001B[39m \u001B[38;5;28mlen\u001B[39m(pair1_df) \u001B[38;5;28;01mif\u001B[39;00m i \u001B[38;5;241m==\u001B[39m \u001B[38;5;241m9999\u001B[39m \u001B[38;5;28;01melse\u001B[39;00m \u001B[38;5;28mint\u001B[39m((i \u001B[38;5;241m+\u001B[39m \u001B[38;5;241m1\u001B[39m) \u001B[38;5;241m*\u001B[39m chunk_len)\n\u001B[1;32m----> 5\u001B[0m _, _ \u001B[38;5;241m=\u001B[39m \u001B[43mencode_features\u001B[49m\u001B[43m(\u001B[49m\u001B[43msen_model\u001B[49m\u001B[43m,\u001B[49m\u001B[43m \u001B[49m\u001B[43mi\u001B[49m\u001B[43m,\u001B[49m\u001B[43m \u001B[49m\u001B[43mpair1_df\u001B[49m\u001B[43m[\u001B[49m\u001B[43mstart\u001B[49m\u001B[43m:\u001B[49m\u001B[43mstop\u001B[49m\u001B[43m]\u001B[49m\u001B[43m,\u001B[49m\u001B[43m \u001B[49m\u001B[43mpair2_df\u001B[49m\u001B[43m[\u001B[49m\u001B[43mstart\u001B[49m\u001B[43m:\u001B[49m\u001B[43mstop\u001B[49m\u001B[43m]\u001B[49m\u001B[43m)\u001B[49m\n",
      "Input \u001B[1;32mIn [203]\u001B[0m, in \u001B[0;36mencode_features\u001B[1;34m(model, chunk, pair1, pair2)\u001B[0m\n\u001B[0;32m     11\u001B[0m \u001B[38;5;28;01mif\u001B[39;00m chunk \u001B[38;5;241m!=\u001B[39m \u001B[38;5;241m-\u001B[39m\u001B[38;5;241m1\u001B[39m:\n\u001B[0;32m     12\u001B[0m     pd\u001B[38;5;241m.\u001B[39mDataFrame(embedding1)\u001B[38;5;241m.\u001B[39mto_csv(\u001B[38;5;124mf\u001B[39m\u001B[38;5;124m'\u001B[39m\u001B[38;5;124m./data/embedding/sentence1_\u001B[39m\u001B[38;5;132;01m{\u001B[39;00m\u001B[38;5;28mstr\u001B[39m(chunk)\u001B[38;5;132;01m}\u001B[39;00m\u001B[38;5;124m.csv\u001B[39m\u001B[38;5;124m'\u001B[39m, index\u001B[38;5;241m=\u001B[39m\u001B[38;5;28;01mFalse\u001B[39;00m)\n\u001B[1;32m---> 13\u001B[0m     \u001B[43mpd\u001B[49m\u001B[38;5;241;43m.\u001B[39;49m\u001B[43mDataFrame\u001B[49m\u001B[43m(\u001B[49m\u001B[43membedding2\u001B[49m\u001B[43m)\u001B[49m\u001B[38;5;241;43m.\u001B[39;49m\u001B[43mto_csv\u001B[49m\u001B[43m(\u001B[49m\u001B[38;5;124;43mf\u001B[39;49m\u001B[38;5;124;43m'\u001B[39;49m\u001B[38;5;124;43m./data/embedding/sentence2_\u001B[39;49m\u001B[38;5;132;43;01m{\u001B[39;49;00m\u001B[38;5;28;43mstr\u001B[39;49m\u001B[43m(\u001B[49m\u001B[43mchunk\u001B[49m\u001B[43m)\u001B[49m\u001B[38;5;132;43;01m}\u001B[39;49;00m\u001B[38;5;124;43m.csv\u001B[39;49m\u001B[38;5;124;43m'\u001B[39;49m\u001B[43m,\u001B[49m\u001B[43m \u001B[49m\u001B[43mindex\u001B[49m\u001B[38;5;241;43m=\u001B[39;49m\u001B[38;5;28;43;01mFalse\u001B[39;49;00m\u001B[43m)\u001B[49m\n\u001B[0;32m     14\u001B[0m \u001B[38;5;28;01mreturn\u001B[39;00m embedding1, embedding2\n",
      "File \u001B[1;32mC:\\MySpace\\WorkSpace\\Anaconda3\\envs\\pytorch\\lib\\site-packages\\pandas\\core\\generic.py:3466\u001B[0m, in \u001B[0;36mNDFrame.to_csv\u001B[1;34m(self, path_or_buf, sep, na_rep, float_format, columns, header, index, index_label, mode, encoding, compression, quoting, quotechar, line_terminator, chunksize, date_format, doublequote, escapechar, decimal, errors, storage_options)\u001B[0m\n\u001B[0;32m   3455\u001B[0m df \u001B[38;5;241m=\u001B[39m \u001B[38;5;28mself\u001B[39m \u001B[38;5;28;01mif\u001B[39;00m \u001B[38;5;28misinstance\u001B[39m(\u001B[38;5;28mself\u001B[39m, ABCDataFrame) \u001B[38;5;28;01melse\u001B[39;00m \u001B[38;5;28mself\u001B[39m\u001B[38;5;241m.\u001B[39mto_frame()\n\u001B[0;32m   3457\u001B[0m formatter \u001B[38;5;241m=\u001B[39m DataFrameFormatter(\n\u001B[0;32m   3458\u001B[0m     frame\u001B[38;5;241m=\u001B[39mdf,\n\u001B[0;32m   3459\u001B[0m     header\u001B[38;5;241m=\u001B[39mheader,\n\u001B[1;32m   (...)\u001B[0m\n\u001B[0;32m   3463\u001B[0m     decimal\u001B[38;5;241m=\u001B[39mdecimal,\n\u001B[0;32m   3464\u001B[0m )\n\u001B[1;32m-> 3466\u001B[0m \u001B[38;5;28;01mreturn\u001B[39;00m \u001B[43mDataFrameRenderer\u001B[49m\u001B[43m(\u001B[49m\u001B[43mformatter\u001B[49m\u001B[43m)\u001B[49m\u001B[38;5;241;43m.\u001B[39;49m\u001B[43mto_csv\u001B[49m\u001B[43m(\u001B[49m\n\u001B[0;32m   3467\u001B[0m \u001B[43m    \u001B[49m\u001B[43mpath_or_buf\u001B[49m\u001B[43m,\u001B[49m\n\u001B[0;32m   3468\u001B[0m \u001B[43m    \u001B[49m\u001B[43mline_terminator\u001B[49m\u001B[38;5;241;43m=\u001B[39;49m\u001B[43mline_terminator\u001B[49m\u001B[43m,\u001B[49m\n\u001B[0;32m   3469\u001B[0m \u001B[43m    \u001B[49m\u001B[43msep\u001B[49m\u001B[38;5;241;43m=\u001B[39;49m\u001B[43msep\u001B[49m\u001B[43m,\u001B[49m\n\u001B[0;32m   3470\u001B[0m \u001B[43m    \u001B[49m\u001B[43mencoding\u001B[49m\u001B[38;5;241;43m=\u001B[39;49m\u001B[43mencoding\u001B[49m\u001B[43m,\u001B[49m\n\u001B[0;32m   3471\u001B[0m \u001B[43m    \u001B[49m\u001B[43merrors\u001B[49m\u001B[38;5;241;43m=\u001B[39;49m\u001B[43merrors\u001B[49m\u001B[43m,\u001B[49m\n\u001B[0;32m   3472\u001B[0m \u001B[43m    \u001B[49m\u001B[43mcompression\u001B[49m\u001B[38;5;241;43m=\u001B[39;49m\u001B[43mcompression\u001B[49m\u001B[43m,\u001B[49m\n\u001B[0;32m   3473\u001B[0m \u001B[43m    \u001B[49m\u001B[43mquoting\u001B[49m\u001B[38;5;241;43m=\u001B[39;49m\u001B[43mquoting\u001B[49m\u001B[43m,\u001B[49m\n\u001B[0;32m   3474\u001B[0m \u001B[43m    \u001B[49m\u001B[43mcolumns\u001B[49m\u001B[38;5;241;43m=\u001B[39;49m\u001B[43mcolumns\u001B[49m\u001B[43m,\u001B[49m\n\u001B[0;32m   3475\u001B[0m \u001B[43m    \u001B[49m\u001B[43mindex_label\u001B[49m\u001B[38;5;241;43m=\u001B[39;49m\u001B[43mindex_label\u001B[49m\u001B[43m,\u001B[49m\n\u001B[0;32m   3476\u001B[0m \u001B[43m    \u001B[49m\u001B[43mmode\u001B[49m\u001B[38;5;241;43m=\u001B[39;49m\u001B[43mmode\u001B[49m\u001B[43m,\u001B[49m\n\u001B[0;32m   3477\u001B[0m \u001B[43m    \u001B[49m\u001B[43mchunksize\u001B[49m\u001B[38;5;241;43m=\u001B[39;49m\u001B[43mchunksize\u001B[49m\u001B[43m,\u001B[49m\n\u001B[0;32m   3478\u001B[0m \u001B[43m    \u001B[49m\u001B[43mquotechar\u001B[49m\u001B[38;5;241;43m=\u001B[39;49m\u001B[43mquotechar\u001B[49m\u001B[43m,\u001B[49m\n\u001B[0;32m   3479\u001B[0m \u001B[43m    \u001B[49m\u001B[43mdate_format\u001B[49m\u001B[38;5;241;43m=\u001B[39;49m\u001B[43mdate_format\u001B[49m\u001B[43m,\u001B[49m\n\u001B[0;32m   3480\u001B[0m \u001B[43m    \u001B[49m\u001B[43mdoublequote\u001B[49m\u001B[38;5;241;43m=\u001B[39;49m\u001B[43mdoublequote\u001B[49m\u001B[43m,\u001B[49m\n\u001B[0;32m   3481\u001B[0m \u001B[43m    \u001B[49m\u001B[43mescapechar\u001B[49m\u001B[38;5;241;43m=\u001B[39;49m\u001B[43mescapechar\u001B[49m\u001B[43m,\u001B[49m\n\u001B[0;32m   3482\u001B[0m \u001B[43m    \u001B[49m\u001B[43mstorage_options\u001B[49m\u001B[38;5;241;43m=\u001B[39;49m\u001B[43mstorage_options\u001B[49m\u001B[43m,\u001B[49m\n\u001B[0;32m   3483\u001B[0m \u001B[43m\u001B[49m\u001B[43m)\u001B[49m\n",
      "File \u001B[1;32mC:\\MySpace\\WorkSpace\\Anaconda3\\envs\\pytorch\\lib\\site-packages\\pandas\\io\\formats\\format.py:1105\u001B[0m, in \u001B[0;36mDataFrameRenderer.to_csv\u001B[1;34m(self, path_or_buf, encoding, sep, columns, index_label, mode, compression, quoting, quotechar, line_terminator, chunksize, date_format, doublequote, escapechar, errors, storage_options)\u001B[0m\n\u001B[0;32m   1084\u001B[0m     created_buffer \u001B[38;5;241m=\u001B[39m \u001B[38;5;28;01mFalse\u001B[39;00m\n\u001B[0;32m   1086\u001B[0m csv_formatter \u001B[38;5;241m=\u001B[39m CSVFormatter(\n\u001B[0;32m   1087\u001B[0m     path_or_buf\u001B[38;5;241m=\u001B[39mpath_or_buf,\n\u001B[0;32m   1088\u001B[0m     line_terminator\u001B[38;5;241m=\u001B[39mline_terminator,\n\u001B[1;32m   (...)\u001B[0m\n\u001B[0;32m   1103\u001B[0m     formatter\u001B[38;5;241m=\u001B[39m\u001B[38;5;28mself\u001B[39m\u001B[38;5;241m.\u001B[39mfmt,\n\u001B[0;32m   1104\u001B[0m )\n\u001B[1;32m-> 1105\u001B[0m \u001B[43mcsv_formatter\u001B[49m\u001B[38;5;241;43m.\u001B[39;49m\u001B[43msave\u001B[49m\u001B[43m(\u001B[49m\u001B[43m)\u001B[49m\n\u001B[0;32m   1107\u001B[0m \u001B[38;5;28;01mif\u001B[39;00m created_buffer:\n\u001B[0;32m   1108\u001B[0m     \u001B[38;5;28;01massert\u001B[39;00m \u001B[38;5;28misinstance\u001B[39m(path_or_buf, StringIO)\n",
      "File \u001B[1;32mC:\\MySpace\\WorkSpace\\Anaconda3\\envs\\pytorch\\lib\\site-packages\\pandas\\io\\formats\\csvs.py:257\u001B[0m, in \u001B[0;36mCSVFormatter.save\u001B[1;34m(self)\u001B[0m\n\u001B[0;32m    237\u001B[0m \u001B[38;5;28;01mwith\u001B[39;00m get_handle(\n\u001B[0;32m    238\u001B[0m     \u001B[38;5;28mself\u001B[39m\u001B[38;5;241m.\u001B[39mfilepath_or_buffer,\n\u001B[0;32m    239\u001B[0m     \u001B[38;5;28mself\u001B[39m\u001B[38;5;241m.\u001B[39mmode,\n\u001B[1;32m   (...)\u001B[0m\n\u001B[0;32m    245\u001B[0m \n\u001B[0;32m    246\u001B[0m     \u001B[38;5;66;03m# Note: self.encoding is irrelevant here\u001B[39;00m\n\u001B[0;32m    247\u001B[0m     \u001B[38;5;28mself\u001B[39m\u001B[38;5;241m.\u001B[39mwriter \u001B[38;5;241m=\u001B[39m csvlib\u001B[38;5;241m.\u001B[39mwriter(\n\u001B[0;32m    248\u001B[0m         handles\u001B[38;5;241m.\u001B[39mhandle,  \u001B[38;5;66;03m# type: ignore[arg-type]\u001B[39;00m\n\u001B[0;32m    249\u001B[0m         lineterminator\u001B[38;5;241m=\u001B[39m\u001B[38;5;28mself\u001B[39m\u001B[38;5;241m.\u001B[39mline_terminator,\n\u001B[1;32m   (...)\u001B[0m\n\u001B[0;32m    254\u001B[0m         quotechar\u001B[38;5;241m=\u001B[39m\u001B[38;5;28mself\u001B[39m\u001B[38;5;241m.\u001B[39mquotechar,\n\u001B[0;32m    255\u001B[0m     )\n\u001B[1;32m--> 257\u001B[0m     \u001B[38;5;28;43mself\u001B[39;49m\u001B[38;5;241;43m.\u001B[39;49m\u001B[43m_save\u001B[49m\u001B[43m(\u001B[49m\u001B[43m)\u001B[49m\n",
      "File \u001B[1;32mC:\\MySpace\\WorkSpace\\Anaconda3\\envs\\pytorch\\lib\\site-packages\\pandas\\io\\formats\\csvs.py:262\u001B[0m, in \u001B[0;36mCSVFormatter._save\u001B[1;34m(self)\u001B[0m\n\u001B[0;32m    260\u001B[0m \u001B[38;5;28;01mif\u001B[39;00m \u001B[38;5;28mself\u001B[39m\u001B[38;5;241m.\u001B[39m_need_to_save_header:\n\u001B[0;32m    261\u001B[0m     \u001B[38;5;28mself\u001B[39m\u001B[38;5;241m.\u001B[39m_save_header()\n\u001B[1;32m--> 262\u001B[0m \u001B[38;5;28;43mself\u001B[39;49m\u001B[38;5;241;43m.\u001B[39;49m\u001B[43m_save_body\u001B[49m\u001B[43m(\u001B[49m\u001B[43m)\u001B[49m\n",
      "File \u001B[1;32mC:\\MySpace\\WorkSpace\\Anaconda3\\envs\\pytorch\\lib\\site-packages\\pandas\\io\\formats\\csvs.py:300\u001B[0m, in \u001B[0;36mCSVFormatter._save_body\u001B[1;34m(self)\u001B[0m\n\u001B[0;32m    298\u001B[0m \u001B[38;5;28;01mif\u001B[39;00m start_i \u001B[38;5;241m>\u001B[39m\u001B[38;5;241m=\u001B[39m end_i:\n\u001B[0;32m    299\u001B[0m     \u001B[38;5;28;01mbreak\u001B[39;00m\n\u001B[1;32m--> 300\u001B[0m \u001B[38;5;28;43mself\u001B[39;49m\u001B[38;5;241;43m.\u001B[39;49m\u001B[43m_save_chunk\u001B[49m\u001B[43m(\u001B[49m\u001B[43mstart_i\u001B[49m\u001B[43m,\u001B[49m\u001B[43m \u001B[49m\u001B[43mend_i\u001B[49m\u001B[43m)\u001B[49m\n",
      "File \u001B[1;32mC:\\MySpace\\WorkSpace\\Anaconda3\\envs\\pytorch\\lib\\site-packages\\pandas\\io\\formats\\csvs.py:311\u001B[0m, in \u001B[0;36mCSVFormatter._save_chunk\u001B[1;34m(self, start_i, end_i)\u001B[0m\n\u001B[0;32m    308\u001B[0m data \u001B[38;5;241m=\u001B[39m [res\u001B[38;5;241m.\u001B[39miget_values(i) \u001B[38;5;28;01mfor\u001B[39;00m i \u001B[38;5;129;01min\u001B[39;00m \u001B[38;5;28mrange\u001B[39m(\u001B[38;5;28mlen\u001B[39m(res\u001B[38;5;241m.\u001B[39mitems))]\n\u001B[0;32m    310\u001B[0m ix \u001B[38;5;241m=\u001B[39m \u001B[38;5;28mself\u001B[39m\u001B[38;5;241m.\u001B[39mdata_index[slicer]\u001B[38;5;241m.\u001B[39m_format_native_types(\u001B[38;5;241m*\u001B[39m\u001B[38;5;241m*\u001B[39m\u001B[38;5;28mself\u001B[39m\u001B[38;5;241m.\u001B[39m_number_format)\n\u001B[1;32m--> 311\u001B[0m \u001B[43mlibwriters\u001B[49m\u001B[38;5;241;43m.\u001B[39;49m\u001B[43mwrite_csv_rows\u001B[49m\u001B[43m(\u001B[49m\n\u001B[0;32m    312\u001B[0m \u001B[43m    \u001B[49m\u001B[43mdata\u001B[49m\u001B[43m,\u001B[49m\n\u001B[0;32m    313\u001B[0m \u001B[43m    \u001B[49m\u001B[43mix\u001B[49m\u001B[43m,\u001B[49m\n\u001B[0;32m    314\u001B[0m \u001B[43m    \u001B[49m\u001B[38;5;28;43mself\u001B[39;49m\u001B[38;5;241;43m.\u001B[39;49m\u001B[43mnlevels\u001B[49m\u001B[43m,\u001B[49m\n\u001B[0;32m    315\u001B[0m \u001B[43m    \u001B[49m\u001B[38;5;28;43mself\u001B[39;49m\u001B[38;5;241;43m.\u001B[39;49m\u001B[43mcols\u001B[49m\u001B[43m,\u001B[49m\n\u001B[0;32m    316\u001B[0m \u001B[43m    \u001B[49m\u001B[38;5;28;43mself\u001B[39;49m\u001B[38;5;241;43m.\u001B[39;49m\u001B[43mwriter\u001B[49m\u001B[43m,\u001B[49m\n\u001B[0;32m    317\u001B[0m \u001B[43m\u001B[49m\u001B[43m)\u001B[49m\n",
      "File \u001B[1;32mC:\\MySpace\\WorkSpace\\Anaconda3\\envs\\pytorch\\lib\\site-packages\\pandas\\_libs\\writers.pyx:75\u001B[0m, in \u001B[0;36mpandas._libs.writers.write_csv_rows\u001B[1;34m()\u001B[0m\n",
      "\u001B[1;31mKeyboardInterrupt\u001B[0m: "
     ]
    }
   ],
   "source": [
    "chunk_len = len(pair1_df) / 10000\n",
    "for i in tqdm(range(10000)):\n",
    "    start = int(i * chunk_len)\n",
    "    stop = len(pair1_df) if i == 9999 else int((i + 1) * chunk_len)\n",
    "    _, _ = encode_features(sen_model, i, pair1_df[start:stop], pair2_df[start:stop])"
   ],
   "metadata": {
    "collapsed": false,
    "pycharm": {
     "name": "#%%\n"
    }
   }
  },
  {
   "cell_type": "markdown",
   "source": [
    "### Save embedding chunks into single dataframe"
   ],
   "metadata": {
    "collapsed": false,
    "pycharm": {
     "name": "#%% md\n"
    }
   }
  },
  {
   "cell_type": "code",
   "execution_count": 33,
   "metadata": {
    "pycharm": {
     "name": "#%%\n"
    }
   },
   "outputs": [
    {
     "name": "stderr",
     "output_type": "stream",
     "text": [
      "100%|████████████████████████████████████████████████████████████████████████████| 10000/10000 [49:38<00:00,  3.36it/s]\n"
     ]
    }
   ],
   "source": [
    "merge_emb1 = pd.DataFrame(columns=[str(i) for i in range(768)])\n",
    "merge_emb1.to_csv('./data/emb1.csv', index=False)\n",
    "merge_emb2 = pd.DataFrame(columns=[str(i) for i in range(768)])\n",
    "merge_emb2.to_csv('./data/emb2.csv', index=False)\n",
    "\n",
    "for i in tqdm(range(10000)):\n",
    "    emb1 = pd.read_csv(f'./data/embedding/sentence1_{i}.csv')\n",
    "    emb2 = pd.read_csv(f'./data/embedding/sentence2_{i}.csv')\n",
    "    emb1.to_csv('./data/emb1.csv', mode='a', index=False, header=False)\n",
    "    emb2.to_csv('./data/emb2.csv', mode='a', index=False, header=False)"
   ]
  },
  {
   "cell_type": "markdown",
   "source": [],
   "metadata": {
    "collapsed": false,
    "pycharm": {
     "name": "#%% md\n"
    }
   }
  },
  {
   "cell_type": "code",
   "execution_count": 166,
   "outputs": [
    {
     "name": "stderr",
     "output_type": "stream",
     "text": [
      "28307it [32:23, 14.57it/s]\n",
      "28307it [32:10, 14.66it/s]\n"
     ]
    }
   ],
   "source": [
    "def save_batch_embedding(emb_df, pair_id):\n",
    "    for i, chunk in tqdm(enumerate(emb_df)):\n",
    "        chunk.to_csv(f'./data/batch_embedding/emb{str(pair_id)}_{str(i)}.csv', index=False)\n",
    "\n",
    "emb1 = pd.read_csv('./data/emb1.csv', chunksize=cfg.BATCH_SIZE)\n",
    "save_batch_embedding(emb1, 1)\n",
    "emb2 = pd.read_csv('./data/emb2.csv', chunksize=cfg.BATCH_SIZE)\n",
    "save_batch_embedding(emb2, 2)"
   ],
   "metadata": {
    "collapsed": false,
    "pycharm": {
     "name": "#%%\n"
    }
   }
  },
  {
   "cell_type": "markdown",
   "metadata": {
    "pycharm": {
     "name": "#%% md\n"
    }
   },
   "source": [
    "## Training"
   ]
  },
  {
   "cell_type": "markdown",
   "metadata": {
    "pycharm": {
     "name": "#%% md\n"
    }
   },
   "source": [
    "### Import Deep learning packages"
   ]
  },
  {
   "cell_type": "code",
   "execution_count": 38,
   "metadata": {
    "pycharm": {
     "name": "#%%\n"
    }
   },
   "outputs": [],
   "source": [
    "import random\n",
    "import torch\n",
    "import torch.nn as nn\n",
    "import torch.optim as optim\n",
    "from torch.utils.data import Dataset, DataLoader, SubsetRandomSampler\n",
    "from torch.utils.tensorboard import SummaryWriter\n",
    "from sklearn.preprocessing import OneHotEncoder"
   ]
  },
  {
   "cell_type": "markdown",
   "metadata": {
    "pycharm": {
     "name": "#%% md\n"
    }
   },
   "source": [
    "### Initialize utils"
   ]
  },
  {
   "cell_type": "code",
   "execution_count": 6,
   "metadata": {
    "pycharm": {
     "name": "#%%\n"
    }
   },
   "outputs": [],
   "source": [
    "def random_seed(seed):\n",
    "    random.seed(seed)\n",
    "    os.environ['PYTHONHASHSEED'] = str(seed)\n",
    "    np.random.seed(seed)\n",
    "    torch.manual_seed(seed)\n",
    "    torch.cuda.manual_seed(seed)\n",
    "    torch.cuda.manual_seed_all(seed)\n",
    "    torch.backends.cudnn.benchmark = False\n",
    "    torch.backends.cudnn.deterministic = True\n",
    "\n",
    "random_seed(cfg.RAND_SEED)"
   ]
  },
  {
   "cell_type": "code",
   "execution_count": 202,
   "outputs": [],
   "source": [
    "def weights_init(m):\n",
    "    for name, param in m.named_parameters():\n",
    "        nn.init.uniform_(param.data, -0.08, 0.08)"
   ],
   "metadata": {
    "collapsed": false,
    "pycharm": {
     "name": "#%%\n"
    }
   }
  },
  {
   "cell_type": "markdown",
   "metadata": {
    "pycharm": {
     "name": "#%% md\n"
    }
   },
   "source": [
    "### Data utils"
   ]
  },
  {
   "cell_type": "code",
   "execution_count": 8,
   "metadata": {
    "pycharm": {
     "name": "#%%\n"
    }
   },
   "outputs": [
    {
     "name": "stdout",
     "output_type": "stream",
     "text": [
      "total    : 8589934592\n",
      "free     : 8091746304\n",
      "used     : 498188288\n"
     ]
    }
   ],
   "source": [
    "from pynvml import *\n",
    "\n",
    "torch.cuda.empty_cache()\n",
    "nvmlInit()\n",
    "h = nvmlDeviceGetHandleByIndex(0)\n",
    "info = nvmlDeviceGetMemoryInfo(h)\n",
    "print(f'total    : {info.total}')\n",
    "print(f'free     : {info.free}')\n",
    "print(f'used     : {info.used}')"
   ]
  },
  {
   "cell_type": "code",
   "execution_count": 9,
   "metadata": {
    "pycharm": {
     "name": "#%%\n"
    }
   },
   "outputs": [],
   "source": [
    "def make_train_test_indices(dataset):\n",
    "    dataset_size = len(dataset)\n",
    "    indices = list(range(dataset_size))\n",
    "    split = int(np.floor(cfg.TEST_SIZE * dataset_size))\n",
    "    np.random.shuffle(indices)\n",
    "    return indices[split:], indices[:split]"
   ]
  },
  {
   "cell_type": "code",
   "execution_count": 10,
   "metadata": {
    "pycharm": {
     "name": "#%%\n"
    }
   },
   "outputs": [],
   "source": [
    "def make_dataloader(dataset, indices, batch_size):\n",
    "    sampler = SubsetRandomSampler(indices)\n",
    "    return DataLoader(dataset, batch_size=batch_size, sampler=sampler, num_workers=8, drop_last=True)"
   ]
  },
  {
   "cell_type": "markdown",
   "metadata": {
    "pycharm": {
     "name": "#%% md\n"
    }
   },
   "source": [
    "### Define Matching dataset"
   ]
  },
  {
   "cell_type": "code",
   "execution_count": 167,
   "metadata": {
    "pycharm": {
     "name": "#%%\n"
    }
   },
   "outputs": [],
   "source": [
    "class MatchingDataset(Dataset):\n",
    "    def __init__(self, pair1, pair2, labels, chunksize=64):\n",
    "        self.chunksize = chunksize\n",
    "        self.colnames = [str(i) for i in range(768)]\n",
    "        self.latitude1 = pair1['latitude'].to_numpy()\n",
    "        self.longitude1 = pair1['longitude'].to_numpy()\n",
    "        self.latitude2 = pair2['latitude'].to_numpy()\n",
    "        self.longitude2 = pair2['longitude'].to_numpy()\n",
    "        onehot_encoder = OneHotEncoder()\n",
    "        onehot_encoder.fit([[0], [1]])\n",
    "        labels = np.expand_dims(np.array(labels['label'].tolist()), axis=1)\n",
    "        self.labels = onehot_encoder.transform(labels).toarray()\n",
    "\n",
    "    def __getitem__(self, idx):\n",
    "        start = idx * self.chunksize\n",
    "        stop = (idx + 1) * self.chunksize\n",
    "\n",
    "        emb1 = pd.read_csv(f'./data/batch_embedding/emb1_{str(idx)}.csv')\n",
    "        emb2 = pd.read_csv(f'./data/batch_embedding/emb2_{str(idx)}.csv')\n",
    "\n",
    "        return {\n",
    "            'pair1': {\n",
    "                'lat': torch.FloatTensor(np.expand_dims(self.latitude1[start:stop], axis=1)),\n",
    "                'lng': torch.FloatTensor(np.expand_dims(self.longitude1[start:stop], axis=1)),\n",
    "                'emb': torch.from_numpy(emb1.to_numpy()).to(torch.float32)\n",
    "            },\n",
    "            'pair2': {\n",
    "                'lat': torch.FloatTensor(np.expand_dims(self.latitude2[start:stop], axis=1)),\n",
    "                'lng': torch.FloatTensor(np.expand_dims(self.longitude2[start:stop], axis=1)),\n",
    "                'emb': torch.from_numpy(emb2.to_numpy()).to(torch.float32)\n",
    "\n",
    "            },\n",
    "            'label': torch.from_numpy(self.labels[start:stop])\n",
    "        }\n",
    "\n",
    "    def __len__(self):\n",
    "        return len(self.labels) // self.chunksize"
   ]
  },
  {
   "cell_type": "markdown",
   "source": [
    "### Build Network"
   ],
   "metadata": {
    "collapsed": false,
    "pycharm": {
     "name": "#%% md\n"
    }
   }
  },
  {
   "cell_type": "code",
   "execution_count": 85,
   "outputs": [],
   "source": [
    "class SimNetwork(nn.Module):\n",
    "    def __init__(self):\n",
    "        super(SimNetwork, self).__init__()\n",
    "\n",
    "        self.s_encoder = nn.Sequential(\n",
    "            nn.Linear(768, 512),\n",
    "            nn.BatchNorm1d(512),\n",
    "            nn.Linear(512, 512),\n",
    "            nn.BatchNorm1d(512),\n",
    "            nn.ReLU()\n",
    "        )\n",
    "        self.c_encoder = nn.Sequential(\n",
    "            nn.Linear(2, 128),\n",
    "            nn.BatchNorm1d(128),\n",
    "            nn.Linear(128, 512),\n",
    "            nn.BatchNorm1d(512),\n",
    "            nn.ReLU()\n",
    "        )\n",
    "        self.sim_dis = nn.Sequential(\n",
    "            nn.Linear(2048, 128),\n",
    "            nn.BatchNorm1d(128),\n",
    "            nn.ReLU(),\n",
    "            nn.Linear(128, 2),\n",
    "        )\n",
    "\n",
    "    def forward(self, lat1, lng1, emb1, lat2, lng2, emb2):\n",
    "        s1 = self.s_encoder(emb1)\n",
    "        c1 = self.c_encoder(torch.cat((lat1, lng1), 1))\n",
    "        s2 = self.s_encoder(emb2)\n",
    "        c2 = self.c_encoder(torch.cat((lat2, lng2), 1))\n",
    "        feat1 = torch.cat((s1, c1), 1)\n",
    "        feat2 = torch.cat((s2, c2), 1)\n",
    "        sim = self.sim_dis(torch.cat((feat1, feat2), 1))\n",
    "\n",
    "        return sim"
   ],
   "metadata": {
    "collapsed": false,
    "pycharm": {
     "name": "#%%\n"
    }
   }
  },
  {
   "cell_type": "markdown",
   "metadata": {
    "pycharm": {
     "name": "#%% md\n"
    }
   },
   "source": [
    "### Loading raw data"
   ]
  },
  {
   "cell_type": "code",
   "execution_count": 53,
   "metadata": {
    "pycharm": {
     "name": "#%%\n"
    }
   },
   "outputs": [
    {
     "name": "stderr",
     "output_type": "stream",
     "text": [
      "C:\\Users\\Gougon\\AppData\\Local\\Temp\\ipykernel_11444\\157673288.py:1: DtypeWarning: Columns (5,13) have mixed types.Specify dtype option on import or set low_memory=False.\n",
      "  pair1_df, pair2_df, labels = loading_raw_data()\n"
     ]
    },
    {
     "name": "stdout",
     "output_type": "stream",
     "text": [
      "Pair 1:                                                 name   latitude   longitude  \\\n",
      "0  Taichung International Airport (RMQ) (Taichung...  24.254227  120.599732   \n",
      "1  Taichung International Airport (RMQ) (Taichung...  24.254227  120.599732   \n",
      "2  Taichung International Airport (RMQ) (Taichung...  24.254227  120.599732   \n",
      "3                    Taichung Airport Int'l Terminal  24.254209  120.599844   \n",
      "4                    Taichung Airport Int'l Terminal  24.254209  120.599844   \n",
      "\n",
      "       city     state    zip country                categories  \n",
      "0  Taichung  Taichung  43346      TW  Airports, Military Bases  \n",
      "1  Taichung  Taichung  43346      TW  Airports, Military Bases  \n",
      "2  Taichung  Taichung  43346      TW  Airports, Military Bases  \n",
      "3      Null      Null   Null      TW         Airport Terminals  \n",
      "4      Null      Null   Null      TW         Airport Terminals  \n",
      "Pair 2:                               name   latitude   longitude    city state   zip  \\\n",
      "0  Taichung Airport Int'l Terminal  24.254209  120.599844    Null  Null  Null   \n",
      "1   Taichung International Airport  24.255480  120.600316  Taipei  Null  Null   \n",
      "2        Taichung Qingquan Airport  24.214837  120.622577    Null  Null  Null   \n",
      "3   Taichung International Airport  24.255480  120.600316  Taipei  Null  Null   \n",
      "4        Taichung Qingquan Airport  24.214837  120.622577    Null  Null  Null   \n",
      "\n",
      "  country         categories  \n",
      "0      TW  Airport Terminals  \n",
      "1      TW           Airports  \n",
      "2      TW           Airports  \n",
      "3      TW           Airports  \n",
      "4      TW           Airports  \n",
      "Total pair number: 1811593\n",
      "Labels:          label\n",
      "0          1.0\n",
      "1          1.0\n",
      "2          1.0\n",
      "3          1.0\n",
      "4          1.0\n",
      "...        ...\n",
      "1811588   -1.0\n",
      "1811589   -1.0\n",
      "1811590   -1.0\n",
      "1811591   -1.0\n",
      "1811592   -1.0\n",
      "\n",
      "[1811593 rows x 1 columns]\n",
      "Number of 1: label    672781.0\n",
      "dtype: float64\n",
      "Number of -1: label    1138812.0\n",
      "dtype: float64\n"
     ]
    }
   ],
   "source": [
    "pair1_df, pair2_df, labels = loading_raw_data()"
   ]
  },
  {
   "cell_type": "markdown",
   "metadata": {
    "pycharm": {
     "name": "#%% md\n"
    }
   },
   "source": [
    "### Start build train / test dataloader"
   ]
  },
  {
   "cell_type": "code",
   "execution_count": 168,
   "outputs": [
    {
     "data": {
      "text/plain": "28306"
     },
     "execution_count": 168,
     "metadata": {},
     "output_type": "execute_result"
    }
   ],
   "source": [
    "matching_dataset = MatchingDataset(pair1_df, pair2_df, labels, chunksize=cfg.BATCH_SIZE)\n",
    "len(matching_dataset)"
   ],
   "metadata": {
    "collapsed": false,
    "pycharm": {
     "name": "#%%\n"
    }
   }
  },
  {
   "cell_type": "code",
   "execution_count": 196,
   "outputs": [
    {
     "name": "stdout",
     "output_type": "stream",
     "text": [
      "torch.Size([64, 1])\n",
      "torch.Size([64, 1])\n",
      "torch.Size([64, 768])\n",
      "torch.Size([64, 2])\n"
     ]
    }
   ],
   "source": [
    "for i in matching_dataset:\n",
    "    print(i['pair1']['lat'].shape)\n",
    "    print(i['pair1']['lng'].shape)\n",
    "    print(i['pair1']['emb'].shape)\n",
    "    print(i['label'].shape)\n",
    "    break"
   ],
   "metadata": {
    "collapsed": false,
    "pycharm": {
     "name": "#%%\n"
    }
   }
  },
  {
   "cell_type": "code",
   "execution_count": 197,
   "outputs": [],
   "source": [
    "def train(model, indices, dataset, n_iter, optimizer, criterion, writer):\n",
    "    model.train()\n",
    "    for idx in tqdm(indices):\n",
    "        batch = dataset[idx]\n",
    "        lat1 = batch['pair1']['lat'].to(get_device())\n",
    "        lng1 = batch['pair1']['lng'].to(get_device())\n",
    "        emb1 = batch['pair1']['emb'].to(get_device())\n",
    "        lat2 = batch['pair2']['lat'].to(get_device())\n",
    "        lng2 = batch['pair2']['lng'].to(get_device())\n",
    "        emb2 = batch['pair2']['emb'].to(get_device())\n",
    "        label = batch['label'].to(get_device())\n",
    "\n",
    "        optimizer.zero_grad()\n",
    "\n",
    "        outputs = model(lat1, lng1, emb1, lat2, lng2, emb2)\n",
    "        loss = criterion(outputs, label)\n",
    "        loss.backward()\n",
    "\n",
    "        optimizer.step()\n",
    "\n",
    "        if n_iter % cfg.LOG_STEPS == 0:\n",
    "            writer.add_scalar('train loss', loss, global_step=n_iter)\n",
    "\n",
    "        n_iter += 1\n",
    "    return n_iter"
   ],
   "metadata": {
    "collapsed": false,
    "pycharm": {
     "name": "#%%\n"
    }
   }
  },
  {
   "cell_type": "code",
   "execution_count": 198,
   "outputs": [],
   "source": [
    "def test(model, indices, dataset, n_iter, criterion, writer):\n",
    "    model.eval()\n",
    "    total, corr_counter = 0, 0\n",
    "    for idx in tqdm(indices):\n",
    "        batch = dataset[idx]\n",
    "        lat1 = batch['pair1']['lat'].to(get_device())\n",
    "        lng1 = batch['pair1']['lng'].to(get_device())\n",
    "        emb1 = batch['pair1']['emb'].to(get_device())\n",
    "        lat2 = batch['pair2']['lat'].to(get_device())\n",
    "        lng2 = batch['pair2']['lng'].to(get_device())\n",
    "        emb2 = batch['pair2']['emb'].to(get_device())\n",
    "        label = batch['label'].to(get_device())\n",
    "\n",
    "        outputs = model(lat1, lng1, emb1, lat2, lng2, emb2)\n",
    "        loss = criterion(outputs, label)\n",
    "\n",
    "        total += label.size(0)\n",
    "        pred = torch.sigmoid(outputs).data > 0.5\n",
    "        corr_counter += (pred == label).sum().item()\n",
    "\n",
    "        if n_iter % cfg.LOG_STEPS == 0:\n",
    "            writer.add_scalar('test loss', loss, global_step=n_iter)\n",
    "\n",
    "        n_iter += 1\n",
    "    writer.add_scalar('accuracy', corr_counter / total, global_step=epoch_counter)\n",
    "    return n_iter"
   ],
   "metadata": {
    "collapsed": false,
    "pycharm": {
     "name": "#%%\n"
    }
   }
  },
  {
   "cell_type": "code",
   "execution_count": 80,
   "outputs": [
    {
     "ename": "NameError",
     "evalue": "name 'weights_init' is not defined",
     "output_type": "error",
     "traceback": [
      "\u001B[1;31m---------------------------------------------------------------------------\u001B[0m",
      "\u001B[1;31mNameError\u001B[0m                                 Traceback (most recent call last)",
      "Input \u001B[1;32mIn [80]\u001B[0m, in \u001B[0;36m<cell line: 2>\u001B[1;34m()\u001B[0m\n\u001B[0;32m      1\u001B[0m model \u001B[38;5;241m=\u001B[39m SimNetwork()\u001B[38;5;241m.\u001B[39mto(get_device())\n\u001B[1;32m----> 2\u001B[0m model\u001B[38;5;241m.\u001B[39mapply(\u001B[43mweights_init\u001B[49m)\n\u001B[0;32m      3\u001B[0m model\n",
      "\u001B[1;31mNameError\u001B[0m: name 'weights_init' is not defined"
     ]
    }
   ],
   "source": [
    "model = SimNetwork().to(get_device())\n",
    "model.apply(weights_init)\n",
    "model"
   ],
   "metadata": {
    "collapsed": false,
    "pycharm": {
     "name": "#%%\n"
    }
   }
  },
  {
   "cell_type": "code",
   "execution_count": 200,
   "outputs": [],
   "source": [
    "optimizer = optim.Adam(model.parameters(), lr=cfg.LR, betas=(0.9, 0.999), eps=1e-08)\n",
    "criterion = nn.BCEWithLogitsLoss()"
   ],
   "metadata": {
    "collapsed": false,
    "pycharm": {
     "name": "#%%\n"
    }
   }
  },
  {
   "cell_type": "code",
   "execution_count": 201,
   "outputs": [
    {
     "name": "stdout",
     "output_type": "stream",
     "text": [
      "Epoch 0\n"
     ]
    },
    {
     "name": "stderr",
     "output_type": "stream",
     "text": [
      "100%|██████████| 22645/22645 [28:01<00:00, 13.46it/s]\n",
      "100%|██████████| 5661/5661 [06:33<00:00, 14.38it/s]\n"
     ]
    },
    {
     "name": "stdout",
     "output_type": "stream",
     "text": [
      "Epoch 1\n"
     ]
    },
    {
     "name": "stderr",
     "output_type": "stream",
     "text": [
      "100%|██████████| 22645/22645 [28:21<00:00, 13.31it/s]\n",
      "100%|██████████| 5661/5661 [06:27<00:00, 14.61it/s]\n"
     ]
    },
    {
     "name": "stdout",
     "output_type": "stream",
     "text": [
      "Epoch 2\n"
     ]
    },
    {
     "name": "stderr",
     "output_type": "stream",
     "text": [
      "100%|██████████| 22645/22645 [28:02<00:00, 13.46it/s]\n",
      "100%|██████████| 5661/5661 [06:21<00:00, 14.83it/s]\n"
     ]
    },
    {
     "name": "stdout",
     "output_type": "stream",
     "text": [
      "Epoch 3\n"
     ]
    },
    {
     "name": "stderr",
     "output_type": "stream",
     "text": [
      "100%|██████████| 22645/22645 [27:59<00:00, 13.49it/s]\n",
      "100%|██████████| 5661/5661 [06:24<00:00, 14.73it/s]\n"
     ]
    },
    {
     "name": "stdout",
     "output_type": "stream",
     "text": [
      "Epoch 4\n"
     ]
    },
    {
     "name": "stderr",
     "output_type": "stream",
     "text": [
      "100%|██████████| 22645/22645 [27:54<00:00, 13.52it/s]\n",
      "100%|██████████| 5661/5661 [06:24<00:00, 14.72it/s]\n"
     ]
    },
    {
     "name": "stdout",
     "output_type": "stream",
     "text": [
      "Epoch 5\n"
     ]
    },
    {
     "name": "stderr",
     "output_type": "stream",
     "text": [
      "100%|██████████| 22645/22645 [27:48<00:00, 13.57it/s]\n",
      "100%|██████████| 5661/5661 [06:21<00:00, 14.85it/s]\n"
     ]
    },
    {
     "name": "stdout",
     "output_type": "stream",
     "text": [
      "Epoch 6\n"
     ]
    },
    {
     "name": "stderr",
     "output_type": "stream",
     "text": [
      "100%|██████████| 22645/22645 [27:43<00:00, 13.61it/s]\n",
      "100%|██████████| 5661/5661 [06:23<00:00, 14.78it/s]\n"
     ]
    },
    {
     "name": "stdout",
     "output_type": "stream",
     "text": [
      "Epoch 7\n"
     ]
    },
    {
     "name": "stderr",
     "output_type": "stream",
     "text": [
      "100%|██████████| 22645/22645 [27:45<00:00, 13.60it/s]\n",
      "100%|██████████| 5661/5661 [06:23<00:00, 14.75it/s]\n"
     ]
    },
    {
     "name": "stdout",
     "output_type": "stream",
     "text": [
      "Epoch 8\n"
     ]
    },
    {
     "name": "stderr",
     "output_type": "stream",
     "text": [
      "100%|██████████| 22645/22645 [27:40<00:00, 13.64it/s]\n",
      "100%|██████████| 5661/5661 [06:20<00:00, 14.89it/s]\n"
     ]
    },
    {
     "name": "stdout",
     "output_type": "stream",
     "text": [
      "Epoch 9\n"
     ]
    },
    {
     "name": "stderr",
     "output_type": "stream",
     "text": [
      "100%|██████████| 22645/22645 [27:43<00:00, 13.61it/s]\n",
      "100%|██████████| 5661/5661 [06:22<00:00, 14.80it/s]\n"
     ]
    },
    {
     "name": "stdout",
     "output_type": "stream",
     "text": [
      "Epoch 10\n"
     ]
    },
    {
     "name": "stderr",
     "output_type": "stream",
     "text": [
      "100%|██████████| 22645/22645 [27:41<00:00, 13.63it/s]\n",
      "100%|██████████| 5661/5661 [06:21<00:00, 14.83it/s]\n"
     ]
    },
    {
     "name": "stdout",
     "output_type": "stream",
     "text": [
      "Epoch 11\n"
     ]
    },
    {
     "name": "stderr",
     "output_type": "stream",
     "text": [
      " 17%|█▋        | 3794/22645 [04:45<23:36, 13.31it/s]\n"
     ]
    },
    {
     "ename": "KeyboardInterrupt",
     "evalue": "",
     "output_type": "error",
     "traceback": [
      "\u001B[1;31m---------------------------------------------------------------------------\u001B[0m",
      "\u001B[1;31mKeyboardInterrupt\u001B[0m                         Traceback (most recent call last)",
      "Input \u001B[1;32mIn [201]\u001B[0m, in \u001B[0;36m<cell line: 6>\u001B[1;34m()\u001B[0m\n\u001B[0;32m      6\u001B[0m \u001B[38;5;28;01mfor\u001B[39;00m epoch_counter \u001B[38;5;129;01min\u001B[39;00m \u001B[38;5;28mrange\u001B[39m(epoch):\n\u001B[0;32m      7\u001B[0m     \u001B[38;5;28mprint\u001B[39m(\u001B[38;5;124mf\u001B[39m\u001B[38;5;124m'\u001B[39m\u001B[38;5;124mEpoch \u001B[39m\u001B[38;5;132;01m{\u001B[39;00mepoch_counter\u001B[38;5;132;01m}\u001B[39;00m\u001B[38;5;124m'\u001B[39m)\n\u001B[1;32m----> 8\u001B[0m     train_iter \u001B[38;5;241m=\u001B[39m \u001B[43mtrain\u001B[49m\u001B[43m(\u001B[49m\u001B[43mmodel\u001B[49m\u001B[43m,\u001B[49m\u001B[43m \u001B[49m\u001B[43mtrain_indices\u001B[49m\u001B[43m,\u001B[49m\u001B[43m \u001B[49m\u001B[43mmatching_dataset\u001B[49m\u001B[43m,\u001B[49m\u001B[43m \u001B[49m\u001B[43mtrain_iter\u001B[49m\u001B[43m,\u001B[49m\u001B[43m \u001B[49m\u001B[43moptimizer\u001B[49m\u001B[43m,\u001B[49m\u001B[43m \u001B[49m\u001B[43mcriterion\u001B[49m\u001B[43m,\u001B[49m\u001B[43m \u001B[49m\u001B[43mwriter\u001B[49m\u001B[43m)\u001B[49m\n\u001B[0;32m      9\u001B[0m     test_iter \u001B[38;5;241m=\u001B[39m test(model, test_indices, matching_dataset, test_iter, criterion, writer)\n\u001B[0;32m     11\u001B[0m     torch\u001B[38;5;241m.\u001B[39msave({\n\u001B[0;32m     12\u001B[0m         \u001B[38;5;124m'\u001B[39m\u001B[38;5;124mepoch\u001B[39m\u001B[38;5;124m'\u001B[39m: epoch_counter,\n\u001B[0;32m     13\u001B[0m         \u001B[38;5;124m'\u001B[39m\u001B[38;5;124mstate_dict\u001B[39m\u001B[38;5;124m'\u001B[39m: model\u001B[38;5;241m.\u001B[39mstate_dict(),\n\u001B[0;32m     14\u001B[0m         \u001B[38;5;124m'\u001B[39m\u001B[38;5;124moptimizer\u001B[39m\u001B[38;5;124m'\u001B[39m: optimizer\u001B[38;5;241m.\u001B[39mstate_dict()\n\u001B[0;32m     15\u001B[0m     }, \u001B[38;5;124mf\u001B[39m\u001B[38;5;124m'\u001B[39m\u001B[38;5;124m./checkpoint/checkpoint_\u001B[39m\u001B[38;5;132;01m{\u001B[39;00mepoch_counter\u001B[38;5;132;01m}\u001B[39;00m\u001B[38;5;124m.pt\u001B[39m\u001B[38;5;124m'\u001B[39m)\n",
      "Input \u001B[1;32mIn [197]\u001B[0m, in \u001B[0;36mtrain\u001B[1;34m(model, indices, dataset, n_iter, optimizer, criterion, writer)\u001B[0m\n\u001B[0;32m      2\u001B[0m model\u001B[38;5;241m.\u001B[39mtrain()\n\u001B[0;32m      3\u001B[0m \u001B[38;5;28;01mfor\u001B[39;00m idx \u001B[38;5;129;01min\u001B[39;00m tqdm(indices):\n\u001B[1;32m----> 4\u001B[0m     batch \u001B[38;5;241m=\u001B[39m \u001B[43mdataset\u001B[49m\u001B[43m[\u001B[49m\u001B[43midx\u001B[49m\u001B[43m]\u001B[49m\n\u001B[0;32m      5\u001B[0m     lat1 \u001B[38;5;241m=\u001B[39m batch[\u001B[38;5;124m'\u001B[39m\u001B[38;5;124mpair1\u001B[39m\u001B[38;5;124m'\u001B[39m][\u001B[38;5;124m'\u001B[39m\u001B[38;5;124mlat\u001B[39m\u001B[38;5;124m'\u001B[39m]\u001B[38;5;241m.\u001B[39mto(get_device())\n\u001B[0;32m      6\u001B[0m     lng1 \u001B[38;5;241m=\u001B[39m batch[\u001B[38;5;124m'\u001B[39m\u001B[38;5;124mpair1\u001B[39m\u001B[38;5;124m'\u001B[39m][\u001B[38;5;124m'\u001B[39m\u001B[38;5;124mlng\u001B[39m\u001B[38;5;124m'\u001B[39m]\u001B[38;5;241m.\u001B[39mto(get_device())\n",
      "Input \u001B[1;32mIn [167]\u001B[0m, in \u001B[0;36mMatchingDataset.__getitem__\u001B[1;34m(self, idx)\u001B[0m\n\u001B[0;32m     15\u001B[0m start \u001B[38;5;241m=\u001B[39m idx \u001B[38;5;241m*\u001B[39m \u001B[38;5;28mself\u001B[39m\u001B[38;5;241m.\u001B[39mchunksize\n\u001B[0;32m     16\u001B[0m stop \u001B[38;5;241m=\u001B[39m (idx \u001B[38;5;241m+\u001B[39m \u001B[38;5;241m1\u001B[39m) \u001B[38;5;241m*\u001B[39m \u001B[38;5;28mself\u001B[39m\u001B[38;5;241m.\u001B[39mchunksize\n\u001B[1;32m---> 18\u001B[0m emb1 \u001B[38;5;241m=\u001B[39m \u001B[43mpd\u001B[49m\u001B[38;5;241;43m.\u001B[39;49m\u001B[43mread_csv\u001B[49m\u001B[43m(\u001B[49m\u001B[38;5;124;43mf\u001B[39;49m\u001B[38;5;124;43m'\u001B[39;49m\u001B[38;5;124;43m./data/batch_embedding/emb1_\u001B[39;49m\u001B[38;5;132;43;01m{\u001B[39;49;00m\u001B[38;5;28;43mstr\u001B[39;49m\u001B[43m(\u001B[49m\u001B[43midx\u001B[49m\u001B[43m)\u001B[49m\u001B[38;5;132;43;01m}\u001B[39;49;00m\u001B[38;5;124;43m.csv\u001B[39;49m\u001B[38;5;124;43m'\u001B[39;49m\u001B[43m)\u001B[49m\n\u001B[0;32m     19\u001B[0m emb2 \u001B[38;5;241m=\u001B[39m pd\u001B[38;5;241m.\u001B[39mread_csv(\u001B[38;5;124mf\u001B[39m\u001B[38;5;124m'\u001B[39m\u001B[38;5;124m./data/batch_embedding/emb2_\u001B[39m\u001B[38;5;132;01m{\u001B[39;00m\u001B[38;5;28mstr\u001B[39m(idx)\u001B[38;5;132;01m}\u001B[39;00m\u001B[38;5;124m.csv\u001B[39m\u001B[38;5;124m'\u001B[39m)\n\u001B[0;32m     21\u001B[0m \u001B[38;5;28;01mreturn\u001B[39;00m {\n\u001B[0;32m     22\u001B[0m     \u001B[38;5;124m'\u001B[39m\u001B[38;5;124mpair1\u001B[39m\u001B[38;5;124m'\u001B[39m: {\n\u001B[0;32m     23\u001B[0m         \u001B[38;5;124m'\u001B[39m\u001B[38;5;124mlat\u001B[39m\u001B[38;5;124m'\u001B[39m: torch\u001B[38;5;241m.\u001B[39mFloatTensor(np\u001B[38;5;241m.\u001B[39mexpand_dims(\u001B[38;5;28mself\u001B[39m\u001B[38;5;241m.\u001B[39mlatitude1[start:stop], axis\u001B[38;5;241m=\u001B[39m\u001B[38;5;241m1\u001B[39m)),\n\u001B[1;32m   (...)\u001B[0m\n\u001B[0;32m     33\u001B[0m     \u001B[38;5;124m'\u001B[39m\u001B[38;5;124mlabel\u001B[39m\u001B[38;5;124m'\u001B[39m: torch\u001B[38;5;241m.\u001B[39mfrom_numpy(\u001B[38;5;28mself\u001B[39m\u001B[38;5;241m.\u001B[39mlabels[start:stop])\n\u001B[0;32m     34\u001B[0m }\n",
      "File \u001B[1;32mC:\\MySpace\\WorkSpace\\Anaconda3\\envs\\pytorch\\lib\\site-packages\\pandas\\util\\_decorators.py:311\u001B[0m, in \u001B[0;36mdeprecate_nonkeyword_arguments.<locals>.decorate.<locals>.wrapper\u001B[1;34m(*args, **kwargs)\u001B[0m\n\u001B[0;32m    305\u001B[0m \u001B[38;5;28;01mif\u001B[39;00m \u001B[38;5;28mlen\u001B[39m(args) \u001B[38;5;241m>\u001B[39m num_allow_args:\n\u001B[0;32m    306\u001B[0m     warnings\u001B[38;5;241m.\u001B[39mwarn(\n\u001B[0;32m    307\u001B[0m         msg\u001B[38;5;241m.\u001B[39mformat(arguments\u001B[38;5;241m=\u001B[39marguments),\n\u001B[0;32m    308\u001B[0m         \u001B[38;5;167;01mFutureWarning\u001B[39;00m,\n\u001B[0;32m    309\u001B[0m         stacklevel\u001B[38;5;241m=\u001B[39mstacklevel,\n\u001B[0;32m    310\u001B[0m     )\n\u001B[1;32m--> 311\u001B[0m \u001B[38;5;28;01mreturn\u001B[39;00m func(\u001B[38;5;241m*\u001B[39margs, \u001B[38;5;241m*\u001B[39m\u001B[38;5;241m*\u001B[39mkwargs)\n",
      "File \u001B[1;32mC:\\MySpace\\WorkSpace\\Anaconda3\\envs\\pytorch\\lib\\site-packages\\pandas\\io\\parsers\\readers.py:586\u001B[0m, in \u001B[0;36mread_csv\u001B[1;34m(filepath_or_buffer, sep, delimiter, header, names, index_col, usecols, squeeze, prefix, mangle_dupe_cols, dtype, engine, converters, true_values, false_values, skipinitialspace, skiprows, skipfooter, nrows, na_values, keep_default_na, na_filter, verbose, skip_blank_lines, parse_dates, infer_datetime_format, keep_date_col, date_parser, dayfirst, cache_dates, iterator, chunksize, compression, thousands, decimal, lineterminator, quotechar, quoting, doublequote, escapechar, comment, encoding, encoding_errors, dialect, error_bad_lines, warn_bad_lines, on_bad_lines, delim_whitespace, low_memory, memory_map, float_precision, storage_options)\u001B[0m\n\u001B[0;32m    571\u001B[0m kwds_defaults \u001B[38;5;241m=\u001B[39m _refine_defaults_read(\n\u001B[0;32m    572\u001B[0m     dialect,\n\u001B[0;32m    573\u001B[0m     delimiter,\n\u001B[1;32m   (...)\u001B[0m\n\u001B[0;32m    582\u001B[0m     defaults\u001B[38;5;241m=\u001B[39m{\u001B[38;5;124m\"\u001B[39m\u001B[38;5;124mdelimiter\u001B[39m\u001B[38;5;124m\"\u001B[39m: \u001B[38;5;124m\"\u001B[39m\u001B[38;5;124m,\u001B[39m\u001B[38;5;124m\"\u001B[39m},\n\u001B[0;32m    583\u001B[0m )\n\u001B[0;32m    584\u001B[0m kwds\u001B[38;5;241m.\u001B[39mupdate(kwds_defaults)\n\u001B[1;32m--> 586\u001B[0m \u001B[38;5;28;01mreturn\u001B[39;00m \u001B[43m_read\u001B[49m\u001B[43m(\u001B[49m\u001B[43mfilepath_or_buffer\u001B[49m\u001B[43m,\u001B[49m\u001B[43m \u001B[49m\u001B[43mkwds\u001B[49m\u001B[43m)\u001B[49m\n",
      "File \u001B[1;32mC:\\MySpace\\WorkSpace\\Anaconda3\\envs\\pytorch\\lib\\site-packages\\pandas\\io\\parsers\\readers.py:482\u001B[0m, in \u001B[0;36m_read\u001B[1;34m(filepath_or_buffer, kwds)\u001B[0m\n\u001B[0;32m    479\u001B[0m _validate_names(kwds\u001B[38;5;241m.\u001B[39mget(\u001B[38;5;124m\"\u001B[39m\u001B[38;5;124mnames\u001B[39m\u001B[38;5;124m\"\u001B[39m, \u001B[38;5;28;01mNone\u001B[39;00m))\n\u001B[0;32m    481\u001B[0m \u001B[38;5;66;03m# Create the parser.\u001B[39;00m\n\u001B[1;32m--> 482\u001B[0m parser \u001B[38;5;241m=\u001B[39m TextFileReader(filepath_or_buffer, \u001B[38;5;241m*\u001B[39m\u001B[38;5;241m*\u001B[39mkwds)\n\u001B[0;32m    484\u001B[0m \u001B[38;5;28;01mif\u001B[39;00m chunksize \u001B[38;5;129;01mor\u001B[39;00m iterator:\n\u001B[0;32m    485\u001B[0m     \u001B[38;5;28;01mreturn\u001B[39;00m parser\n",
      "File \u001B[1;32mC:\\MySpace\\WorkSpace\\Anaconda3\\envs\\pytorch\\lib\\site-packages\\pandas\\io\\parsers\\readers.py:811\u001B[0m, in \u001B[0;36mTextFileReader.__init__\u001B[1;34m(self, f, engine, **kwds)\u001B[0m\n\u001B[0;32m    808\u001B[0m \u001B[38;5;28;01mif\u001B[39;00m \u001B[38;5;124m\"\u001B[39m\u001B[38;5;124mhas_index_names\u001B[39m\u001B[38;5;124m\"\u001B[39m \u001B[38;5;129;01min\u001B[39;00m kwds:\n\u001B[0;32m    809\u001B[0m     \u001B[38;5;28mself\u001B[39m\u001B[38;5;241m.\u001B[39moptions[\u001B[38;5;124m\"\u001B[39m\u001B[38;5;124mhas_index_names\u001B[39m\u001B[38;5;124m\"\u001B[39m] \u001B[38;5;241m=\u001B[39m kwds[\u001B[38;5;124m\"\u001B[39m\u001B[38;5;124mhas_index_names\u001B[39m\u001B[38;5;124m\"\u001B[39m]\n\u001B[1;32m--> 811\u001B[0m \u001B[38;5;28mself\u001B[39m\u001B[38;5;241m.\u001B[39m_engine \u001B[38;5;241m=\u001B[39m \u001B[38;5;28;43mself\u001B[39;49m\u001B[38;5;241;43m.\u001B[39;49m\u001B[43m_make_engine\u001B[49m\u001B[43m(\u001B[49m\u001B[38;5;28;43mself\u001B[39;49m\u001B[38;5;241;43m.\u001B[39;49m\u001B[43mengine\u001B[49m\u001B[43m)\u001B[49m\n",
      "File \u001B[1;32mC:\\MySpace\\WorkSpace\\Anaconda3\\envs\\pytorch\\lib\\site-packages\\pandas\\io\\parsers\\readers.py:1040\u001B[0m, in \u001B[0;36mTextFileReader._make_engine\u001B[1;34m(self, engine)\u001B[0m\n\u001B[0;32m   1036\u001B[0m     \u001B[38;5;28;01mraise\u001B[39;00m \u001B[38;5;167;01mValueError\u001B[39;00m(\n\u001B[0;32m   1037\u001B[0m         \u001B[38;5;124mf\u001B[39m\u001B[38;5;124m\"\u001B[39m\u001B[38;5;124mUnknown engine: \u001B[39m\u001B[38;5;132;01m{\u001B[39;00mengine\u001B[38;5;132;01m}\u001B[39;00m\u001B[38;5;124m (valid options are \u001B[39m\u001B[38;5;132;01m{\u001B[39;00mmapping\u001B[38;5;241m.\u001B[39mkeys()\u001B[38;5;132;01m}\u001B[39;00m\u001B[38;5;124m)\u001B[39m\u001B[38;5;124m\"\u001B[39m\n\u001B[0;32m   1038\u001B[0m     )\n\u001B[0;32m   1039\u001B[0m \u001B[38;5;66;03m# error: Too many arguments for \"ParserBase\"\u001B[39;00m\n\u001B[1;32m-> 1040\u001B[0m \u001B[38;5;28;01mreturn\u001B[39;00m mapping[engine](\u001B[38;5;28mself\u001B[39m\u001B[38;5;241m.\u001B[39mf, \u001B[38;5;241m*\u001B[39m\u001B[38;5;241m*\u001B[39m\u001B[38;5;28mself\u001B[39m\u001B[38;5;241m.\u001B[39moptions)\n",
      "File \u001B[1;32mC:\\MySpace\\WorkSpace\\Anaconda3\\envs\\pytorch\\lib\\site-packages\\pandas\\io\\parsers\\c_parser_wrapper.py:51\u001B[0m, in \u001B[0;36mCParserWrapper.__init__\u001B[1;34m(self, src, **kwds)\u001B[0m\n\u001B[0;32m     48\u001B[0m kwds[\u001B[38;5;124m\"\u001B[39m\u001B[38;5;124musecols\u001B[39m\u001B[38;5;124m\"\u001B[39m] \u001B[38;5;241m=\u001B[39m \u001B[38;5;28mself\u001B[39m\u001B[38;5;241m.\u001B[39musecols\n\u001B[0;32m     50\u001B[0m \u001B[38;5;66;03m# open handles\u001B[39;00m\n\u001B[1;32m---> 51\u001B[0m \u001B[38;5;28;43mself\u001B[39;49m\u001B[38;5;241;43m.\u001B[39;49m\u001B[43m_open_handles\u001B[49m\u001B[43m(\u001B[49m\u001B[43msrc\u001B[49m\u001B[43m,\u001B[49m\u001B[43m \u001B[49m\u001B[43mkwds\u001B[49m\u001B[43m)\u001B[49m\n\u001B[0;32m     52\u001B[0m \u001B[38;5;28;01massert\u001B[39;00m \u001B[38;5;28mself\u001B[39m\u001B[38;5;241m.\u001B[39mhandles \u001B[38;5;129;01mis\u001B[39;00m \u001B[38;5;129;01mnot\u001B[39;00m \u001B[38;5;28;01mNone\u001B[39;00m\n\u001B[0;32m     54\u001B[0m \u001B[38;5;66;03m# Have to pass int, would break tests using TextReader directly otherwise :(\u001B[39;00m\n",
      "File \u001B[1;32mC:\\MySpace\\WorkSpace\\Anaconda3\\envs\\pytorch\\lib\\site-packages\\pandas\\io\\parsers\\base_parser.py:222\u001B[0m, in \u001B[0;36mParserBase._open_handles\u001B[1;34m(self, src, kwds)\u001B[0m\n\u001B[0;32m    218\u001B[0m \u001B[38;5;28;01mdef\u001B[39;00m \u001B[38;5;21m_open_handles\u001B[39m(\u001B[38;5;28mself\u001B[39m, src: FilePathOrBuffer, kwds: \u001B[38;5;28mdict\u001B[39m[\u001B[38;5;28mstr\u001B[39m, Any]) \u001B[38;5;241m-\u001B[39m\u001B[38;5;241m>\u001B[39m \u001B[38;5;28;01mNone\u001B[39;00m:\n\u001B[0;32m    219\u001B[0m     \u001B[38;5;124;03m\"\"\"\u001B[39;00m\n\u001B[0;32m    220\u001B[0m \u001B[38;5;124;03m    Let the readers open IOHandles after they are done with their potential raises.\u001B[39;00m\n\u001B[0;32m    221\u001B[0m \u001B[38;5;124;03m    \"\"\"\u001B[39;00m\n\u001B[1;32m--> 222\u001B[0m     \u001B[38;5;28mself\u001B[39m\u001B[38;5;241m.\u001B[39mhandles \u001B[38;5;241m=\u001B[39m \u001B[43mget_handle\u001B[49m\u001B[43m(\u001B[49m\n\u001B[0;32m    223\u001B[0m \u001B[43m        \u001B[49m\u001B[43msrc\u001B[49m\u001B[43m,\u001B[49m\n\u001B[0;32m    224\u001B[0m \u001B[43m        \u001B[49m\u001B[38;5;124;43m\"\u001B[39;49m\u001B[38;5;124;43mr\u001B[39;49m\u001B[38;5;124;43m\"\u001B[39;49m\u001B[43m,\u001B[49m\n\u001B[0;32m    225\u001B[0m \u001B[43m        \u001B[49m\u001B[43mencoding\u001B[49m\u001B[38;5;241;43m=\u001B[39;49m\u001B[43mkwds\u001B[49m\u001B[38;5;241;43m.\u001B[39;49m\u001B[43mget\u001B[49m\u001B[43m(\u001B[49m\u001B[38;5;124;43m\"\u001B[39;49m\u001B[38;5;124;43mencoding\u001B[39;49m\u001B[38;5;124;43m\"\u001B[39;49m\u001B[43m,\u001B[49m\u001B[43m \u001B[49m\u001B[38;5;28;43;01mNone\u001B[39;49;00m\u001B[43m)\u001B[49m\u001B[43m,\u001B[49m\n\u001B[0;32m    226\u001B[0m \u001B[43m        \u001B[49m\u001B[43mcompression\u001B[49m\u001B[38;5;241;43m=\u001B[39;49m\u001B[43mkwds\u001B[49m\u001B[38;5;241;43m.\u001B[39;49m\u001B[43mget\u001B[49m\u001B[43m(\u001B[49m\u001B[38;5;124;43m\"\u001B[39;49m\u001B[38;5;124;43mcompression\u001B[39;49m\u001B[38;5;124;43m\"\u001B[39;49m\u001B[43m,\u001B[49m\u001B[43m \u001B[49m\u001B[38;5;28;43;01mNone\u001B[39;49;00m\u001B[43m)\u001B[49m\u001B[43m,\u001B[49m\n\u001B[0;32m    227\u001B[0m \u001B[43m        \u001B[49m\u001B[43mmemory_map\u001B[49m\u001B[38;5;241;43m=\u001B[39;49m\u001B[43mkwds\u001B[49m\u001B[38;5;241;43m.\u001B[39;49m\u001B[43mget\u001B[49m\u001B[43m(\u001B[49m\u001B[38;5;124;43m\"\u001B[39;49m\u001B[38;5;124;43mmemory_map\u001B[39;49m\u001B[38;5;124;43m\"\u001B[39;49m\u001B[43m,\u001B[49m\u001B[43m \u001B[49m\u001B[38;5;28;43;01mFalse\u001B[39;49;00m\u001B[43m)\u001B[49m\u001B[43m,\u001B[49m\n\u001B[0;32m    228\u001B[0m \u001B[43m        \u001B[49m\u001B[43mstorage_options\u001B[49m\u001B[38;5;241;43m=\u001B[39;49m\u001B[43mkwds\u001B[49m\u001B[38;5;241;43m.\u001B[39;49m\u001B[43mget\u001B[49m\u001B[43m(\u001B[49m\u001B[38;5;124;43m\"\u001B[39;49m\u001B[38;5;124;43mstorage_options\u001B[39;49m\u001B[38;5;124;43m\"\u001B[39;49m\u001B[43m,\u001B[49m\u001B[43m \u001B[49m\u001B[38;5;28;43;01mNone\u001B[39;49;00m\u001B[43m)\u001B[49m\u001B[43m,\u001B[49m\n\u001B[0;32m    229\u001B[0m \u001B[43m        \u001B[49m\u001B[43merrors\u001B[49m\u001B[38;5;241;43m=\u001B[39;49m\u001B[43mkwds\u001B[49m\u001B[38;5;241;43m.\u001B[39;49m\u001B[43mget\u001B[49m\u001B[43m(\u001B[49m\u001B[38;5;124;43m\"\u001B[39;49m\u001B[38;5;124;43mencoding_errors\u001B[39;49m\u001B[38;5;124;43m\"\u001B[39;49m\u001B[43m,\u001B[49m\u001B[43m \u001B[49m\u001B[38;5;124;43m\"\u001B[39;49m\u001B[38;5;124;43mstrict\u001B[39;49m\u001B[38;5;124;43m\"\u001B[39;49m\u001B[43m)\u001B[49m\u001B[43m,\u001B[49m\n\u001B[0;32m    230\u001B[0m \u001B[43m    \u001B[49m\u001B[43m)\u001B[49m\n",
      "File \u001B[1;32mC:\\MySpace\\WorkSpace\\Anaconda3\\envs\\pytorch\\lib\\site-packages\\pandas\\io\\common.py:702\u001B[0m, in \u001B[0;36mget_handle\u001B[1;34m(path_or_buf, mode, encoding, compression, memory_map, is_text, errors, storage_options)\u001B[0m\n\u001B[0;32m    697\u001B[0m \u001B[38;5;28;01melif\u001B[39;00m \u001B[38;5;28misinstance\u001B[39m(handle, \u001B[38;5;28mstr\u001B[39m):\n\u001B[0;32m    698\u001B[0m     \u001B[38;5;66;03m# Check whether the filename is to be opened in binary mode.\u001B[39;00m\n\u001B[0;32m    699\u001B[0m     \u001B[38;5;66;03m# Binary mode does not support 'encoding' and 'newline'.\u001B[39;00m\n\u001B[0;32m    700\u001B[0m     \u001B[38;5;28;01mif\u001B[39;00m ioargs\u001B[38;5;241m.\u001B[39mencoding \u001B[38;5;129;01mand\u001B[39;00m \u001B[38;5;124m\"\u001B[39m\u001B[38;5;124mb\u001B[39m\u001B[38;5;124m\"\u001B[39m \u001B[38;5;129;01mnot\u001B[39;00m \u001B[38;5;129;01min\u001B[39;00m ioargs\u001B[38;5;241m.\u001B[39mmode:\n\u001B[0;32m    701\u001B[0m         \u001B[38;5;66;03m# Encoding\u001B[39;00m\n\u001B[1;32m--> 702\u001B[0m         handle \u001B[38;5;241m=\u001B[39m \u001B[38;5;28;43mopen\u001B[39;49m\u001B[43m(\u001B[49m\n\u001B[0;32m    703\u001B[0m \u001B[43m            \u001B[49m\u001B[43mhandle\u001B[49m\u001B[43m,\u001B[49m\n\u001B[0;32m    704\u001B[0m \u001B[43m            \u001B[49m\u001B[43mioargs\u001B[49m\u001B[38;5;241;43m.\u001B[39;49m\u001B[43mmode\u001B[49m\u001B[43m,\u001B[49m\n\u001B[0;32m    705\u001B[0m \u001B[43m            \u001B[49m\u001B[43mencoding\u001B[49m\u001B[38;5;241;43m=\u001B[39;49m\u001B[43mioargs\u001B[49m\u001B[38;5;241;43m.\u001B[39;49m\u001B[43mencoding\u001B[49m\u001B[43m,\u001B[49m\n\u001B[0;32m    706\u001B[0m \u001B[43m            \u001B[49m\u001B[43merrors\u001B[49m\u001B[38;5;241;43m=\u001B[39;49m\u001B[43merrors\u001B[49m\u001B[43m,\u001B[49m\n\u001B[0;32m    707\u001B[0m \u001B[43m            \u001B[49m\u001B[43mnewline\u001B[49m\u001B[38;5;241;43m=\u001B[39;49m\u001B[38;5;124;43m\"\u001B[39;49m\u001B[38;5;124;43m\"\u001B[39;49m\u001B[43m,\u001B[49m\n\u001B[0;32m    708\u001B[0m \u001B[43m        \u001B[49m\u001B[43m)\u001B[49m\n\u001B[0;32m    709\u001B[0m     \u001B[38;5;28;01melse\u001B[39;00m:\n\u001B[0;32m    710\u001B[0m         \u001B[38;5;66;03m# Binary mode\u001B[39;00m\n\u001B[0;32m    711\u001B[0m         handle \u001B[38;5;241m=\u001B[39m \u001B[38;5;28mopen\u001B[39m(handle, ioargs\u001B[38;5;241m.\u001B[39mmode)\n",
      "File \u001B[1;32mC:\\MySpace\\WorkSpace\\Anaconda3\\envs\\pytorch\\lib\\codecs.py:309\u001B[0m, in \u001B[0;36mBufferedIncrementalDecoder.__init__\u001B[1;34m(self, errors)\u001B[0m\n\u001B[0;32m    303\u001B[0m \u001B[38;5;28;01mclass\u001B[39;00m \u001B[38;5;21;01mBufferedIncrementalDecoder\u001B[39;00m(IncrementalDecoder):\n\u001B[0;32m    304\u001B[0m     \u001B[38;5;124;03m\"\"\"\u001B[39;00m\n\u001B[0;32m    305\u001B[0m \u001B[38;5;124;03m    This subclass of IncrementalDecoder can be used as the baseclass for an\u001B[39;00m\n\u001B[0;32m    306\u001B[0m \u001B[38;5;124;03m    incremental decoder if the decoder must be able to handle incomplete\u001B[39;00m\n\u001B[0;32m    307\u001B[0m \u001B[38;5;124;03m    byte sequences.\u001B[39;00m\n\u001B[0;32m    308\u001B[0m \u001B[38;5;124;03m    \"\"\"\u001B[39;00m\n\u001B[1;32m--> 309\u001B[0m     \u001B[38;5;28;01mdef\u001B[39;00m \u001B[38;5;21m__init__\u001B[39m(\u001B[38;5;28mself\u001B[39m, errors\u001B[38;5;241m=\u001B[39m\u001B[38;5;124m'\u001B[39m\u001B[38;5;124mstrict\u001B[39m\u001B[38;5;124m'\u001B[39m):\n\u001B[0;32m    310\u001B[0m         IncrementalDecoder\u001B[38;5;241m.\u001B[39m\u001B[38;5;21m__init__\u001B[39m(\u001B[38;5;28mself\u001B[39m, errors)\n\u001B[0;32m    311\u001B[0m         \u001B[38;5;66;03m# undecoded input that is kept between calls to decode()\u001B[39;00m\n",
      "\u001B[1;31mKeyboardInterrupt\u001B[0m: "
     ]
    }
   ],
   "source": [
    "writer = SummaryWriter()\n",
    "train_iter, test_iter = 0, 0\n",
    "epoch = 10\n",
    "\n",
    "train_indices, test_indices = make_train_test_indices(matching_dataset)\n",
    "for epoch_counter in range(epoch):\n",
    "    print(f'Epoch {epoch_counter}')\n",
    "    train_iter = train(model, train_indices, matching_dataset, train_iter, optimizer, criterion, writer)\n",
    "    test_iter = test(model, test_indices, matching_dataset, test_iter, criterion, writer)\n",
    "\n",
    "    torch.save({\n",
    "        'epoch': epoch_counter,\n",
    "        'state_dict': model.state_dict(),\n",
    "        'optimizer': optimizer.state_dict()\n",
    "    }, f'./checkpoint/checkpoint_{epoch_counter}.pt')"
   ],
   "metadata": {
    "collapsed": false,
    "pycharm": {
     "name": "#%%\n"
    }
   }
  },
  {
   "cell_type": "markdown",
   "source": [],
   "metadata": {
    "collapsed": false,
    "pycharm": {
     "name": "#%% md\n"
    }
   }
  },
  {
   "cell_type": "markdown",
   "source": [
    "### Import packages"
   ],
   "metadata": {
    "collapsed": false,
    "pycharm": {
     "name": "#%% md\n"
    }
   }
  },
  {
   "cell_type": "code",
   "execution_count": 187,
   "outputs": [],
   "source": [
    "import pandas as pd\n",
    "import numpy as np\n",
    "import torch"
   ],
   "metadata": {
    "collapsed": false,
    "pycharm": {
     "name": "#%%\n"
    }
   }
  },
  {
   "cell_type": "markdown",
   "source": [
    "### Prepare testing data"
   ],
   "metadata": {
    "collapsed": false,
    "pycharm": {
     "name": "#%% md\n"
    }
   }
  },
  {
   "cell_type": "code",
   "execution_count": 188,
   "outputs": [
    {
     "data": {
      "text/plain": "                 id                                      name   latitude  \\\n0  E_00001118ad0191                   Jamu Petani Bagan Serai   5.012169   \n1  E_000020eb6fed40                              Johnny's Bar  40.434209   \n2  E_00002f98667edf                                      QIWI  47.215134   \n3  E_001b6bad66eb98  Gelora Sriwijaya, Jaka Baring Sport City  -3.014675   \n4  E_0283d9f61e569d                  Stadion Gelora Sriwijaya  -3.021727   \n\n    longitude            city          state      zip country       categories  \n0  100.535805             NaN            NaN      NaN      MY            Cafés  \n1  -80.564160         Weirton             WV  26062.0      US             Bars  \n2   39.686088  Ростов-на-Дону            NaN      NaN      RU             ATMs  \n3  104.794374             NaN            NaN      NaN      ID         Stadiums  \n4  104.788628       Palembang  South Sumatra  11480.0      ID  Soccer Stadiums  ",
      "text/html": "<div>\n<style scoped>\n    .dataframe tbody tr th:only-of-type {\n        vertical-align: middle;\n    }\n\n    .dataframe tbody tr th {\n        vertical-align: top;\n    }\n\n    .dataframe thead th {\n        text-align: right;\n    }\n</style>\n<table border=\"1\" class=\"dataframe\">\n  <thead>\n    <tr style=\"text-align: right;\">\n      <th></th>\n      <th>id</th>\n      <th>name</th>\n      <th>latitude</th>\n      <th>longitude</th>\n      <th>city</th>\n      <th>state</th>\n      <th>zip</th>\n      <th>country</th>\n      <th>categories</th>\n    </tr>\n  </thead>\n  <tbody>\n    <tr>\n      <th>0</th>\n      <td>E_00001118ad0191</td>\n      <td>Jamu Petani Bagan Serai</td>\n      <td>5.012169</td>\n      <td>100.535805</td>\n      <td>NaN</td>\n      <td>NaN</td>\n      <td>NaN</td>\n      <td>MY</td>\n      <td>Cafés</td>\n    </tr>\n    <tr>\n      <th>1</th>\n      <td>E_000020eb6fed40</td>\n      <td>Johnny's Bar</td>\n      <td>40.434209</td>\n      <td>-80.564160</td>\n      <td>Weirton</td>\n      <td>WV</td>\n      <td>26062.0</td>\n      <td>US</td>\n      <td>Bars</td>\n    </tr>\n    <tr>\n      <th>2</th>\n      <td>E_00002f98667edf</td>\n      <td>QIWI</td>\n      <td>47.215134</td>\n      <td>39.686088</td>\n      <td>Ростов-на-Дону</td>\n      <td>NaN</td>\n      <td>NaN</td>\n      <td>RU</td>\n      <td>ATMs</td>\n    </tr>\n    <tr>\n      <th>3</th>\n      <td>E_001b6bad66eb98</td>\n      <td>Gelora Sriwijaya, Jaka Baring Sport City</td>\n      <td>-3.014675</td>\n      <td>104.794374</td>\n      <td>NaN</td>\n      <td>NaN</td>\n      <td>NaN</td>\n      <td>ID</td>\n      <td>Stadiums</td>\n    </tr>\n    <tr>\n      <th>4</th>\n      <td>E_0283d9f61e569d</td>\n      <td>Stadion Gelora Sriwijaya</td>\n      <td>-3.021727</td>\n      <td>104.788628</td>\n      <td>Palembang</td>\n      <td>South Sumatra</td>\n      <td>11480.0</td>\n      <td>ID</td>\n      <td>Soccer Stadiums</td>\n    </tr>\n  </tbody>\n</table>\n</div>"
     },
     "execution_count": 188,
     "metadata": {},
     "output_type": "execute_result"
    }
   ],
   "source": [
    "test_df = pd.read_csv(cfg.TESTING_DATA_PATH)\n",
    "test_df = test_df[['id'] + cfg.CHOICE_FEATURE]\n",
    "test_df.head()"
   ],
   "metadata": {
    "collapsed": false,
    "pycharm": {
     "name": "#%%\n"
    }
   }
  },
  {
   "cell_type": "code",
   "execution_count": 189,
   "outputs": [],
   "source": [
    "test_df = test_df.fillna('NaN')"
   ],
   "metadata": {
    "collapsed": false,
    "pycharm": {
     "name": "#%%\n"
    }
   }
  },
  {
   "cell_type": "code",
   "execution_count": 190,
   "outputs": [],
   "source": [
    "# print('Translating......')\n",
    "# test_df['name'] = translate(test_df['name'].tolist())\n",
    "# print('name done.')\n",
    "# test_df['city'] = translate(test_df['city'].tolist())\n",
    "# print('city done.')\n",
    "# test_df['state'] = translate(test_df['state'].tolist())\n",
    "# print('state done.')\n",
    "# test_df['country'] = translate(test_df['country'].tolist())\n",
    "# print('country done.')\n",
    "# test_df['categories'] = translate(test_df['categories'].tolist())\n",
    "# print('categories done.')\n",
    "# test_df"
   ],
   "metadata": {
    "collapsed": false,
    "pycharm": {
     "name": "#%%\n"
    }
   }
  },
  {
   "cell_type": "code",
   "execution_count": 191,
   "outputs": [
    {
     "data": {
      "text/plain": "Empty DataFrame\nColumns: [name1, latitude1, longitude1, city1, state1, zip1, country1, categories1, name2, latitude2, longitude2, city2, state2, zip2, country2, categories2]\nIndex: []",
      "text/html": "<div>\n<style scoped>\n    .dataframe tbody tr th:only-of-type {\n        vertical-align: middle;\n    }\n\n    .dataframe tbody tr th {\n        vertical-align: top;\n    }\n\n    .dataframe thead th {\n        text-align: right;\n    }\n</style>\n<table border=\"1\" class=\"dataframe\">\n  <thead>\n    <tr style=\"text-align: right;\">\n      <th></th>\n      <th>name1</th>\n      <th>latitude1</th>\n      <th>longitude1</th>\n      <th>city1</th>\n      <th>state1</th>\n      <th>zip1</th>\n      <th>country1</th>\n      <th>categories1</th>\n      <th>name2</th>\n      <th>latitude2</th>\n      <th>longitude2</th>\n      <th>city2</th>\n      <th>state2</th>\n      <th>zip2</th>\n      <th>country2</th>\n      <th>categories2</th>\n    </tr>\n  </thead>\n  <tbody>\n  </tbody>\n</table>\n</div>"
     },
     "execution_count": 191,
     "metadata": {},
     "output_type": "execute_result"
    }
   ],
   "source": [
    "pair_df = pd.DataFrame(columns=pair1_cols + pair2_cols)\n",
    "pair_df"
   ],
   "metadata": {
    "collapsed": false,
    "pycharm": {
     "name": "#%%\n"
    }
   }
  },
  {
   "cell_type": "code",
   "execution_count": 192,
   "outputs": [
    {
     "name": "stdout",
     "output_type": "stream",
     "text": [
      "Total combinations: 10\n",
      "Pair1 dataframe:\n",
      "                                        name   latitude   longitude  \\\n",
      "0                   Jamu Petani Bagan Serai   5.012169  100.535805   \n",
      "1                   Jamu Petani Bagan Serai   5.012169  100.535805   \n",
      "2                   Jamu Petani Bagan Serai   5.012169  100.535805   \n",
      "3                   Jamu Petani Bagan Serai   5.012169  100.535805   \n",
      "4                              Johnny's Bar  40.434209  -80.564160   \n",
      "5                              Johnny's Bar  40.434209  -80.564160   \n",
      "6                              Johnny's Bar  40.434209  -80.564160   \n",
      "7                                      QIWI  47.215134   39.686088   \n",
      "8                                      QIWI  47.215134   39.686088   \n",
      "9  Gelora Sriwijaya, Jaka Baring Sport City  -3.014675  104.794374   \n",
      "\n",
      "             city state      zip country categories  \n",
      "0             NaN   NaN      NaN      MY      Cafés  \n",
      "1             NaN   NaN      NaN      MY      Cafés  \n",
      "2             NaN   NaN      NaN      MY      Cafés  \n",
      "3             NaN   NaN      NaN      MY      Cafés  \n",
      "4         Weirton    WV  26062.0      US       Bars  \n",
      "5         Weirton    WV  26062.0      US       Bars  \n",
      "6         Weirton    WV  26062.0      US       Bars  \n",
      "7  Ростов-на-Дону   NaN      NaN      RU       ATMs  \n",
      "8  Ростов-на-Дону   NaN      NaN      RU       ATMs  \n",
      "9             NaN   NaN      NaN      ID   Stadiums  \n",
      "Pair2 dataframe:\n",
      "                                        name   latitude   longitude  \\\n",
      "0                              Johnny's Bar  40.434209  -80.564160   \n",
      "1                                      QIWI  47.215134   39.686088   \n",
      "2  Gelora Sriwijaya, Jaka Baring Sport City  -3.014675  104.794374   \n",
      "3                  Stadion Gelora Sriwijaya  -3.021727  104.788628   \n",
      "4                                      QIWI  47.215134   39.686088   \n",
      "5  Gelora Sriwijaya, Jaka Baring Sport City  -3.014675  104.794374   \n",
      "6                  Stadion Gelora Sriwijaya  -3.021727  104.788628   \n",
      "7  Gelora Sriwijaya, Jaka Baring Sport City  -3.014675  104.794374   \n",
      "8                  Stadion Gelora Sriwijaya  -3.021727  104.788628   \n",
      "9                  Stadion Gelora Sriwijaya  -3.021727  104.788628   \n",
      "\n",
      "             city          state      zip country       categories  \n",
      "0         Weirton             WV  26062.0      US             Bars  \n",
      "1  Ростов-на-Дону            NaN      NaN      RU             ATMs  \n",
      "2             NaN            NaN      NaN      ID         Stadiums  \n",
      "3       Palembang  South Sumatra  11480.0      ID  Soccer Stadiums  \n",
      "4  Ростов-на-Дону            NaN      NaN      RU             ATMs  \n",
      "5             NaN            NaN      NaN      ID         Stadiums  \n",
      "6       Palembang  South Sumatra  11480.0      ID  Soccer Stadiums  \n",
      "7             NaN            NaN      NaN      ID         Stadiums  \n",
      "8       Palembang  South Sumatra  11480.0      ID  Soccer Stadiums  \n",
      "9       Palembang  South Sumatra  11480.0      ID  Soccer Stadiums  \n"
     ]
    }
   ],
   "source": [
    "match_combs = np.array(list(combinations(test_df['id'], 2)))\n",
    "pair1_df = pd.concat([test_df[test_df['id'] == comb][cfg.CHOICE_FEATURE] for comb in match_combs[:, 0]], ignore_index=True)\n",
    "pair2_df = pd.concat([test_df[test_df['id'] == comb][cfg.CHOICE_FEATURE] for comb in match_combs[:, 1]], ignore_index=True)\n",
    "print(f'Total combinations: {len(match_combs)}')\n",
    "print(f'Pair1 dataframe:\\n {pair1_df}')\n",
    "print(f'Pair2 dataframe:\\n {pair2_df}')"
   ],
   "metadata": {
    "collapsed": false,
    "pycharm": {
     "name": "#%%\n"
    }
   }
  },
  {
   "cell_type": "code",
   "execution_count": 193,
   "outputs": [
    {
     "name": "stdout",
     "output_type": "stream",
     "text": [
      "Embedding shape: (10, 768)\n",
      "Embedding 1:\n",
      " [[ 0.02706869  0.01938814  0.03482418 ...  0.01315501  0.02070352\n",
      "   0.07002646]\n",
      " [ 0.02706869  0.01938814  0.03482418 ...  0.01315501  0.02070352\n",
      "   0.07002646]\n",
      " [ 0.02706869  0.01938814  0.03482418 ...  0.01315501  0.02070352\n",
      "   0.07002646]\n",
      " ...\n",
      " [ 0.04918833  0.02532699  0.01854805 ...  0.05378939  0.01470093\n",
      "   0.16870056]\n",
      " [ 0.04918833  0.02532699  0.01854805 ...  0.05378939  0.01470093\n",
      "   0.16870056]\n",
      " [ 0.01579969  0.01645643  0.01929748 ...  0.06166978 -0.0021403\n",
      "   0.07021173]]\n",
      "Embedding 2:\n",
      " [[ 0.02971117  0.02457738  0.02151311 ...  0.02526181 -0.01584446\n",
      "   0.157363  ]\n",
      " [ 0.04918833  0.02532699  0.01854805 ...  0.05378939  0.01470093\n",
      "   0.16870056]\n",
      " [ 0.01579969  0.01645643  0.01929748 ...  0.06166978 -0.0021403\n",
      "   0.07021173]\n",
      " ...\n",
      " [ 0.01579969  0.01645643  0.01929748 ...  0.06166978 -0.0021403\n",
      "   0.07021173]\n",
      " [ 0.03879216  0.01431718  0.02293392 ...  0.03597043 -0.03500376\n",
      "   0.13208784]\n",
      " [ 0.03879216  0.01431718  0.02293392 ...  0.03597043 -0.03500376\n",
      "   0.13208784]]\n"
     ]
    }
   ],
   "source": [
    "emb1, emb2 = encode_features(sen_model, -1, pair1_df, pair2_df)\n",
    "print(f'Embedding shape: {emb1.shape}')\n",
    "print(f'Embedding 1:\\n {emb1}')\n",
    "print(f'Embedding 2:\\n {emb2}')"
   ],
   "metadata": {
    "collapsed": false,
    "pycharm": {
     "name": "#%%\n"
    }
   }
  },
  {
   "cell_type": "code",
   "execution_count": 194,
   "outputs": [],
   "source": [
    "class TestingDataset(Dataset):\n",
    "    def __init__(self, pair1, pair2, emb1, emb2):\n",
    "        colnames = [str(i) for i in range(768)]\n",
    "        self.latitude1 = pair1['latitude'].to_numpy()\n",
    "        self.longitude1 = pair1['longitude'].to_numpy()\n",
    "        self.latitude2 = pair2['latitude'].to_numpy()\n",
    "        self.longitude2 = pair2['longitude'].to_numpy()\n",
    "        self.emb1 = pd.DataFrame(emb1, columns=colnames)\n",
    "        self.emb2 = pd.DataFrame(emb2, columns=colnames)\n",
    "\n",
    "    def __getitem__(self, idx):\n",
    "        return {\n",
    "            'pair1': {\n",
    "                'lat': torch.FloatTensor([[self.latitude1[idx]]]),\n",
    "                'lng': torch.FloatTensor([[self.longitude1[idx]]]),\n",
    "                'emb': torch.from_numpy(np.expand_dims(self.emb1.iloc[idx].to_numpy(), axis=0)).to(torch.float32)\n",
    "            },\n",
    "            'pair2': {\n",
    "                'lat': torch.FloatTensor([[self.latitude2[idx]]]),\n",
    "                'lng': torch.FloatTensor([[self.longitude2[idx]]]),\n",
    "                'emb': torch.from_numpy(np.expand_dims(self.emb2.iloc[idx].to_numpy(), axis=0)).to(torch.float32)\n",
    "\n",
    "            },\n",
    "        }\n",
    "\n",
    "    def __len__(self):\n",
    "        return len(self.latitude1)"
   ],
   "metadata": {
    "collapsed": false,
    "pycharm": {
     "name": "#%%\n"
    }
   }
  },
  {
   "cell_type": "code",
   "execution_count": 195,
   "outputs": [
    {
     "data": {
      "text/plain": "{'pair1': {'lat': tensor([[5.0122]]),\n  'lng': tensor([[100.5358]]),\n  'emb': tensor([[ 2.7069e-02,  1.9388e-02,  3.4824e-02,  2.7274e-02,  3.6263e-02,\n           -8.4528e-02, -3.5059e-03,  8.8995e-04, -3.6141e-02, -5.9687e-02,\n            6.4635e-02,  6.0512e-02, -1.4402e-02,  2.2286e-02, -2.3299e-03,\n           -7.9442e-02, -1.4890e-02,  2.4046e-04,  9.5566e-03,  2.9911e-02,\n            3.8031e-02,  6.8702e-02,  2.2757e-01,  5.5782e-02, -5.1405e-02,\n            3.1674e-02,  1.3058e-02,  3.2036e-02,  1.5951e-01,  8.6588e-02,\n            3.4602e-02, -3.1425e-02,  1.0073e-01,  1.1952e-01,  4.8170e-02,\n           -4.6384e-02, -2.0265e-02, -4.5911e-02,  1.3636e-02,  8.5152e-02,\n            7.0258e-03,  2.2398e-02, -2.5222e-02,  1.5801e-02, -3.2597e-02,\n           -7.5306e-03,  8.0205e-02,  3.7801e-02, -3.3195e-02,  1.0834e-02,\n            6.8156e-02, -4.9644e-02,  5.1548e-02,  7.3441e-02, -4.2672e-02,\n           -2.3501e-02,  1.2718e-02, -3.9010e-02, -3.4746e-02,  7.3993e-02,\n            6.5454e-03,  1.4859e-02,  7.2285e-02, -5.5452e-02,  7.4321e-02,\n            8.0321e-03,  3.7705e-02, -3.7117e-02,  1.1790e-02,  1.9643e-02,\n           -6.8582e-03, -4.3904e-02,  4.0393e-01, -7.2985e-02, -3.8577e-02,\n           -1.8866e-02,  6.8741e-02,  1.0449e-01, -2.3969e-02, -1.6487e-02,\n            4.3881e-02,  9.1150e-02,  2.5023e-03, -1.0839e-01,  1.1257e-01,\n           -3.1753e-02, -2.6571e-02,  8.3570e-02, -1.4289e-02,  2.2128e-01,\n           -1.8381e-02,  1.9133e-03, -5.5176e-02,  3.7216e-02, -2.4951e-02,\n            3.0753e-03, -2.2434e-02,  4.6676e-03,  1.4959e-02,  2.7060e-02,\n           -3.3557e-02, -9.3481e-03,  3.7018e-02,  8.5883e-02, -1.3270e-01,\n           -4.5128e-02, -1.0094e-02,  8.1971e-02,  4.6576e-02,  1.8237e-01,\n            4.9747e-02,  3.3404e-02,  1.9028e-02, -2.3701e-02,  4.7993e-02,\n           -3.6450e-02, -5.4296e-03,  8.3160e-03,  5.0294e-03, -1.4632e-02,\n            2.5915e-02,  1.8123e-02, -3.0369e-02,  6.0092e-02, -1.3460e-01,\n           -3.9979e-02,  1.3105e-02, -3.6651e-02, -1.3391e-02,  4.5782e-02,\n            1.0331e-01, -2.7081e-02,  1.1297e-01, -4.0751e-02, -4.9374e-03,\n            1.0998e-01,  2.0589e-02,  3.0782e-02,  6.4694e-03, -8.1368e-02,\n           -6.5923e-02, -5.1532e-02, -1.8553e-02,  1.6563e-01,  2.8290e-02,\n            5.4395e-01, -2.9008e-02,  3.0989e-02, -4.5642e-02, -6.3203e-02,\n            8.3578e-02, -1.5663e-01, -1.5792e+00, -1.7943e-02, -2.6206e-02,\n            4.0911e-02,  2.3030e-01,  4.7033e-02,  3.3367e-02,  1.9878e-02,\n            1.1378e-02, -7.7044e-02, -4.0417e-02,  2.7346e-02, -3.1176e-02,\n            7.4167e-02,  8.4462e-02,  2.2493e-02, -7.7613e-02, -8.0187e-02,\n            5.3367e-02, -1.3269e-02,  1.3825e-02,  7.2582e-02,  2.8768e-02,\n           -2.8121e-02, -7.1201e-02,  1.3915e-01,  3.7100e-02, -6.6771e-02,\n           -6.5458e-02, -8.6889e-03,  6.4214e-02,  4.1364e-02, -2.1552e-01,\n            3.2612e-02, -1.5420e-03, -2.5708e-02,  9.8111e-02, -2.8950e-02,\n           -2.9568e-02,  5.3534e-02, -2.0166e-02,  6.8301e-03, -9.3220e-03,\n            3.4685e-02,  2.7028e-03,  2.9542e-02, -7.5757e-02,  1.3867e-02,\n           -6.0184e-03,  7.7463e-03,  1.1226e-01, -3.3424e-02, -4.2969e-02,\n            1.4145e-02, -6.7575e-02,  1.9500e-01, -6.4724e-02,  3.9436e-02,\n           -6.9321e-03,  4.7854e-02, -6.3480e-02, -5.6135e-02,  4.8999e-02,\n           -8.5733e-02,  2.1823e-05,  4.0935e-02, -1.6659e-02,  8.6352e-03,\n           -3.7751e-02,  5.0992e-03, -9.0549e-03,  5.2206e-02, -2.3876e-02,\n           -1.7818e-02, -1.0109e-02, -2.4537e-02, -1.0077e-02, -1.2654e-02,\n           -3.2559e-02,  6.1440e-02,  1.8298e-02, -6.7393e-02, -1.2731e-02,\n            1.1832e-01, -2.5365e-02,  1.4849e-02, -5.5269e-02, -3.6179e-01,\n            3.4259e-02,  6.6082e-02,  1.8160e-02,  1.8286e-02,  1.1326e-01,\n           -3.0260e-02,  4.6974e-02, -1.1482e-02,  5.2383e-02,  2.1185e-01,\n            5.3765e-02,  2.8257e-02, -2.0774e-02,  1.5110e-02, -1.0282e-02,\n           -7.9195e-02, -6.9741e-02,  1.8580e-02,  1.1862e-01,  5.1371e-01,\n           -2.7916e-02, -4.1807e-03,  1.3476e-02, -7.5592e-02,  6.9964e-02,\n           -5.5724e-02,  1.3658e-01,  5.5980e-02, -9.2293e-02,  4.2500e-02,\n           -1.3501e-02, -2.9664e-02, -7.5051e-03, -2.1373e-01,  3.8995e-02,\n           -5.8394e-02, -6.2225e-02, -1.8060e-02,  7.9361e-02,  4.7069e-02,\n           -6.0501e-02,  8.7350e-02, -1.4027e-01,  5.0917e-02,  2.1138e-02,\n            3.4954e-02, -1.8516e-01, -7.5798e-03,  1.0775e-01, -5.6830e-02,\n           -2.0501e-03,  5.0904e-03,  5.5686e-03,  7.7487e-02,  3.0694e-02,\n            7.3502e-02, -6.1558e-02,  2.0205e-02, -1.7680e-01,  1.9920e-02,\n            2.0190e-03, -9.3751e-02,  8.8451e-02, -3.3735e-02, -1.1519e-01,\n            1.7167e-01,  6.0438e-01, -1.3223e-02, -3.8874e-02,  1.8658e-02,\n            6.0527e-02, -5.0428e-02,  1.2113e-02,  5.6150e-03, -9.1492e-02,\n           -4.8151e-02, -1.6095e-01,  9.6674e-02,  3.4071e-02, -9.7522e-02,\n            1.4153e-02,  1.2723e-02,  7.1832e-02,  3.7410e-03,  2.2643e-02,\n            4.6861e-02,  1.4667e-02,  2.3560e-02,  1.5702e-01,  5.8139e-02,\n           -1.3609e-02, -5.0787e-03,  7.9379e-02, -7.5799e-03,  4.9231e-02,\n            4.0039e-02,  4.1490e-02,  1.8256e-02,  4.1182e-02,  4.7336e-02,\n           -3.6938e-02,  4.0133e-02,  5.5594e-03,  3.1607e-02,  5.2357e-02,\n            3.8057e-02,  4.4803e-02, -8.8462e-02, -3.3938e-02,  2.3241e-04,\n            6.0356e-02, -9.1226e-02, -3.0185e-02,  4.4176e-02,  7.6980e-02,\n            1.7478e-02,  9.0532e-03,  5.0529e-02,  3.1025e-02, -6.5249e-02,\n           -2.4002e-02, -1.3079e-01, -5.5333e-02,  5.1287e-02,  3.0981e-02,\n            8.5409e-02,  2.8733e-02, -1.3685e-02, -1.6257e-02,  7.9066e-02,\n            3.3878e-02, -3.8162e-02,  1.0691e-02, -2.7691e-03,  2.8837e-02,\n            2.5636e-02, -7.7977e-02, -1.7957e-01,  2.1669e-04, -5.0788e-02,\n            8.0848e-02,  8.9277e-02, -2.8253e-02, -4.9455e-02,  1.9567e-02,\n            1.0993e-01,  3.3615e-02, -3.4631e-01, -3.8624e-02, -3.5802e-02,\n            1.8101e-01, -3.6507e-02,  4.6881e-03,  5.4945e-02,  5.9479e-02,\n           -6.8021e-03,  5.3137e-02,  1.5649e-01,  3.1650e-02,  1.0948e-01,\n            5.9706e-03, -7.0126e-02, -4.1598e-02,  1.0765e-02,  1.3711e-01,\n            1.5148e-01,  4.7574e-02, -4.9339e-02,  5.7687e-02,  5.5825e-02,\n            8.5027e-02, -5.1222e-02,  7.3512e-02,  1.2163e-02,  2.1356e-02,\n            7.1422e-03, -1.4782e-02, -7.0603e-02, -5.7204e-02,  2.5426e-02,\n            7.1370e-03,  6.0422e-02, -3.4264e-02,  1.6151e-02,  4.4125e-02,\n            5.8109e-02, -1.2547e-01,  2.4704e-02, -5.2882e-02, -1.8846e-02,\n            3.5672e-02, -2.6911e-02, -4.2218e-03,  5.5655e-02,  9.2944e-02,\n           -8.5122e-02,  9.2964e-02, -2.1814e-02, -9.7146e-02,  6.6745e-02,\n            4.2743e-02,  6.3970e-03,  9.7047e-03,  7.1735e-02, -5.3889e-03,\n            1.1136e-02, -2.7579e-02,  3.1328e-02, -1.3005e-01,  3.6626e-02,\n            3.7782e-03,  3.6875e-05, -1.8382e-02,  4.7169e-02, -7.9410e-04,\n            1.3763e-02,  2.2331e-01, -2.0791e-02,  5.5580e-02, -5.8747e-02,\n            1.5603e-01,  4.1969e-02,  1.2999e-01,  7.0288e-02, -1.0342e-01,\n           -9.4329e-02,  4.8652e-02,  7.3463e-02,  6.0100e-02, -4.5756e-02,\n           -5.0768e-02,  2.6083e-02,  4.0459e-02, -1.9700e-02, -6.5585e-02,\n           -7.1624e-03,  8.9117e-02,  2.9570e-01,  1.0171e-02, -3.6722e-02,\n            1.5456e-01, -1.7360e-02,  1.4838e-02, -2.1498e-02,  5.3472e-02,\n            6.7224e-02, -1.1584e-01,  1.3714e-01,  7.5828e-02,  1.8698e-02,\n           -2.3899e-02,  4.7769e-02, -3.9459e-02, -2.1461e-02, -2.5832e-04,\n           -1.3060e-02, -4.4046e-02, -1.2080e-01,  2.3847e-01, -1.5786e-02,\n           -4.0354e-02,  2.1991e-02, -2.8907e-02,  3.7429e-02, -5.5887e-02,\n           -1.4409e-02, -8.8050e-03,  3.7644e-02, -4.1589e-03,  2.5464e-02,\n            3.7169e-01, -2.5556e-02, -1.2221e-01, -2.0446e-02,  4.1537e-02,\n            6.0011e-02, -9.5722e-03, -5.6025e-02, -1.6207e-02, -8.1275e-02,\n           -1.0095e-01, -4.8124e-02, -7.6410e-02,  5.4888e-02,  6.2863e-02,\n            5.1693e-02, -2.3877e-02,  4.3743e-03, -3.6337e-02,  1.8623e-02,\n            7.7460e-02,  4.0926e-02,  3.1652e-02, -4.0971e-01,  1.5763e-02,\n           -5.7187e-02, -5.3169e-02,  3.6975e-02, -9.4009e-02,  6.6954e-02,\n            5.8724e-02,  1.5989e-02,  2.4145e-02, -2.8001e-03, -1.1737e-02,\n            1.0791e-01,  5.0871e-02,  4.0257e-02, -2.0018e-02, -7.4900e-03,\n            1.9866e-02,  1.4689e-01, -6.9907e-02,  2.4077e-02,  9.6482e-02,\n            4.7634e-02,  5.4529e-02,  5.8802e-02,  1.0692e-01, -9.5875e-03,\n           -2.8815e-03, -3.4079e-02,  2.1654e-02,  4.0573e-02, -1.5192e-02,\n            2.1015e-02,  3.6356e-02, -1.0265e-02, -3.3117e-02,  4.3520e-02,\n            4.8214e-02, -5.6131e-03, -5.1219e-02,  1.4023e-01,  1.0665e-01,\n           -1.9460e-02,  2.2672e-03,  5.8895e-03,  2.5239e-02, -2.7990e-01,\n           -1.1047e-02, -2.3545e-02,  6.4050e-02, -7.9525e-02,  7.5237e-02,\n           -4.1852e-03,  4.6703e-02,  2.8220e-01, -5.4641e+00, -2.0356e-02,\n            7.5338e-03,  1.4526e-03,  4.9025e-02,  3.2426e-02,  1.5872e-02,\n            5.2497e-03, -3.1891e-02, -8.4929e-02,  5.2027e-02, -6.3072e-02,\n            1.1209e-01,  2.9505e-02, -5.7077e-02,  3.1446e-04, -1.7947e-02,\n            4.5647e-02,  1.7772e-02, -3.7645e-02,  2.5557e-02,  6.0527e-02,\n            9.8700e-03,  2.6567e-02, -1.9582e-02,  4.1639e-02, -2.9091e-02,\n            1.3876e-01, -3.6319e-02,  1.3586e-02, -4.9770e-02,  9.3921e-03,\n            2.6187e-02,  5.6452e-02, -1.6916e-02,  6.3447e-03, -3.5132e-02,\n            3.9322e-02,  1.0907e-01,  1.2180e-01, -1.9240e-02, -6.0181e-04,\n           -1.7572e-01,  1.1732e-02,  1.1743e-01,  1.9169e-01,  3.3708e-02,\n           -1.9821e-02, -1.2129e-02,  3.3541e-02,  4.5592e-02, -7.3667e-03,\n           -2.7827e-01, -1.2045e-02, -5.1457e-02,  1.0051e-01,  2.4248e-02,\n            2.7682e-02, -6.1037e-03,  3.0051e-02,  2.0638e-01,  1.7162e-01,\n           -1.0484e-02, -2.2027e-02,  5.7853e-03, -1.5151e-02,  4.1451e-02,\n            2.7485e-02, -2.2389e-02,  7.8764e-02,  2.5568e-02,  4.5397e-02,\n            5.9069e-02,  8.3565e-04,  2.9077e-02, -2.7542e-02,  3.1495e-02,\n           -5.1200e-03, -9.1613e-02,  8.5356e-02,  1.5990e-02,  5.0666e-02,\n           -1.1641e-02,  8.2065e-02, -1.6996e-03, -4.1510e-02,  1.1164e-01,\n           -1.8995e-02,  5.3480e-03,  1.4713e-02, -5.6788e-03, -1.1460e-01,\n           -1.1386e-01,  1.5021e-02, -4.1315e-02, -7.4260e-03, -7.3826e-02,\n            5.7200e-02,  2.7804e-02, -5.5854e-02, -3.3080e-02,  1.2355e-01,\n            1.9255e-03, -3.3618e-02, -4.2440e-03, -1.6855e-02, -2.6614e-01,\n            1.2732e-01,  1.0047e-01, -6.5418e-02, -1.0455e-01, -7.6285e-02,\n            3.2217e-02, -5.6704e-03,  5.0684e-02,  2.5909e-02,  2.9769e-02,\n            5.0145e-02,  5.0900e-02, -4.5861e-03, -1.1994e-02, -5.0167e-02,\n           -1.9980e-02, -2.1563e-02,  1.6123e-01,  4.0486e-02,  4.4930e-02,\n            2.0707e-02, -1.6024e-02, -3.7833e-02,  4.7344e-03,  1.1871e-02,\n           -1.0790e-01,  7.6818e-02, -2.2659e-02, -3.3868e-01, -2.7759e-02,\n            5.1787e-02,  2.1346e-03,  1.5396e-02,  1.0053e-01, -8.8264e-02,\n           -1.1476e-02, -3.5258e-01,  2.2309e-02,  4.7206e-02,  9.7459e-02,\n           -1.6249e-02,  5.0750e-02,  1.0921e-03, -1.3511e-03, -3.4100e-01,\n            1.8699e-02,  1.7792e+01,  5.9369e-03,  2.1076e-02, -4.1108e-02,\n            9.0966e-02, -4.1270e-02,  1.1792e-02,  3.2816e-02,  2.5020e-01,\n            1.1314e-01,  8.8712e-02,  2.4876e-02, -4.9075e-02, -4.6833e-02,\n            2.6251e-03,  8.3037e-02,  5.3186e-02, -2.8255e-02,  8.5872e-02,\n            7.0514e-02, -4.6931e-02,  2.6433e-03, -3.7549e-02,  2.0735e-01,\n            1.3155e-02,  2.0704e-02,  7.0026e-02]])},\n 'pair2': {'lat': tensor([[40.4342]]),\n  'lng': tensor([[-80.5642]]),\n  'emb': tensor([[ 2.9711e-02,  2.4577e-02,  2.1513e-02, -9.8957e-03,  7.1834e-02,\n           -1.6868e-03, -9.8297e-03,  4.5659e-02, -1.0313e-03, -6.7236e-02,\n            1.4785e-01,  8.2105e-02, -7.1518e-02, -1.8645e-02,  6.8364e-02,\n           -6.6756e-02, -2.2254e-02,  3.1894e-03,  2.8498e-02,  2.2055e-02,\n            3.3103e-02,  2.3167e-02,  1.7231e-01,  2.6791e-02, -2.3264e-02,\n           -5.5632e-03, -4.6187e-02,  2.3519e-02,  2.3532e-01,  9.7041e-02,\n            4.0612e-02, -5.8031e-02,  9.4937e-02,  5.8191e-02,  2.3569e-02,\n           -6.7145e-02,  2.2208e-02, -4.5477e-02, -6.1346e-02, -1.0172e-02,\n            1.7344e-02, -4.8179e-02,  5.1209e-02,  1.2595e-02, -1.1875e-02,\n            1.8207e-03,  3.1080e-02,  2.8573e-02, -1.7050e-02, -2.5810e-02,\n            3.3624e-02,  4.4463e-02,  5.4278e-02, -4.6417e-03, -2.4414e-02,\n           -3.3107e-02,  5.3675e-02, -9.9718e-02, -1.0933e-01,  8.3665e-02,\n           -1.8457e-02,  7.9512e-02,  3.2340e-02,  4.2480e-02,  8.8091e-02,\n            1.2069e-02,  4.8688e-02,  5.6649e-03,  8.7710e-03, -1.6945e-02,\n           -1.9031e-02, -2.1364e-02,  4.1525e-01, -9.0816e-02,  7.9298e-02,\n           -2.5587e-02,  6.7434e-02,  5.5275e-02, -1.3293e-02,  2.6366e-02,\n            2.5380e-02,  1.7016e-01,  9.4123e-03, -1.1184e-01,  6.0557e-02,\n           -2.8787e-02,  3.2604e-02,  9.8556e-02,  1.6411e-02,  3.4041e-01,\n            2.4111e-02, -8.9175e-02, -1.0808e-01, -5.3480e-02, -1.2433e-02,\n            1.0710e-02, -2.3946e-02, -1.8631e-02,  9.1453e-03,  2.3233e-02,\n           -5.1471e-02, -5.9690e-02,  1.6974e-02,  1.5986e-01, -1.2246e-01,\n           -4.2959e-02,  2.4958e-02,  4.1135e-02,  1.9053e-02,  1.0404e-01,\n            3.1895e-02,  6.1405e-02,  4.3100e-02,  4.2445e-02, -4.4965e-02,\n            4.6868e-02,  1.9302e-02,  3.8132e-03, -3.9368e-02, -2.2102e-03,\n            1.6781e-02,  2.9519e-02, -5.1792e-02,  5.6192e-02, -8.4542e-02,\n           -8.9828e-02, -2.9298e-02, -1.0805e-02, -1.0033e-02,  4.9126e-02,\n            7.7587e-02, -3.8416e-02,  3.8940e-03, -3.5775e-02,  2.6677e-02,\n            1.4881e-01,  6.7242e-03, -8.6227e-03, -1.3925e-02, -2.9434e-02,\n           -1.0623e-01, -4.6754e-02,  1.3208e-02,  6.8979e-02, -7.2125e-03,\n            5.5605e-01, -6.9532e-03,  3.1954e-02, -6.5414e-02,  5.1179e-02,\n            3.1348e-02, -8.4712e-02, -1.5770e+00, -1.9310e-02, -1.1821e-01,\n            2.5338e-02,  1.0424e-01,  3.8048e-02,  9.4980e-02, -2.6969e-02,\n            1.7377e-01,  8.6767e-03, -2.8320e-02,  2.0464e-02, -4.4630e-02,\n            3.4626e-02,  3.4047e-02,  3.3447e-02, -2.9238e-02, -3.3128e-02,\n            4.6292e-02, -1.2593e-02,  8.6642e-03,  3.1010e-02, -3.3680e-03,\n           -2.8950e-02, -4.2617e-02,  1.0841e-01,  4.2616e-02,  2.6240e-02,\n           -1.0539e-01,  1.1121e-02,  1.8898e-01,  6.8490e-02, -2.3701e-01,\n            9.4771e-03, -1.3053e-02, -3.4309e-02,  6.1556e-02, -2.3910e-02,\n           -1.6874e-02,  6.4350e-02,  2.1732e-02,  1.4232e-03, -2.0576e-02,\n           -5.3169e-02,  6.8289e-02,  1.0012e-02, -4.0120e-03, -1.0048e-02,\n            2.1852e-02, -1.3035e-02,  1.0328e-01, -6.7407e-02, -1.1186e-01,\n            3.6827e-02, -8.8667e-02,  1.8964e-01, -3.3774e-02,  1.5643e-02,\n           -2.4196e-03,  8.7186e-03, -1.4458e-02, -7.7696e-02,  3.6162e-03,\n           -6.9034e-02,  9.2562e-04,  9.3116e-02, -5.7289e-02,  2.6308e-02,\n           -2.7461e-02, -1.1073e-03,  3.4794e-02,  5.1393e-02, -9.6270e-02,\n            1.0465e-03, -1.8968e-02,  2.3672e-04,  2.8900e-02, -4.7887e-02,\n           -9.3073e-02,  1.4138e-02,  6.3648e-02, -4.7314e-02, -4.2902e-02,\n            7.5203e-02, -3.4181e-02, -2.8033e-03, -2.9062e-02, -3.0417e-01,\n           -3.1104e-02,  4.5017e-02,  2.8494e-02, -9.9140e-04,  1.9073e-01,\n           -5.1205e-02,  1.0254e-01, -1.1489e-02,  2.9561e-02,  1.0832e-01,\n            7.4339e-02,  4.0719e-02,  2.6127e-02,  2.8982e-02, -1.4398e-02,\n           -3.7622e-04, -1.5188e-01,  8.9619e-02,  2.7621e-02,  3.0765e-01,\n           -1.0548e-01,  1.9772e-03,  2.5701e-02, -4.5417e-02,  3.3021e-02,\n           -2.5922e-02,  7.2048e-02,  6.3373e-02,  8.8961e-03,  7.9311e-02,\n           -2.9810e-02, -3.0229e-02, -5.1548e-03, -1.7864e-01,  3.4416e-02,\n            6.6965e-03,  2.6577e-02, -1.0133e-01, -6.8167e-03,  9.5973e-02,\n           -5.9628e-02,  4.0908e-02, -7.6897e-02,  4.1551e-02,  4.3944e-03,\n            1.2006e-01, -9.2494e-02,  6.4162e-02,  4.0905e-02, -8.9229e-02,\n           -2.1436e-02, -7.6092e-02,  1.7433e-03,  4.5885e-02,  1.0562e-01,\n            4.6931e-02, -1.2530e-01,  2.0755e-02, -1.4704e-01,  3.4356e-02,\n            2.6029e-02, -1.2681e-01,  5.1636e-02, -2.4433e-02, -6.9262e-02,\n            1.3273e-01,  5.5409e-01, -3.6079e-03,  9.2123e-02,  7.8525e-02,\n            4.5694e-02, -3.2199e-02, -4.5427e-02,  2.5966e-03, -1.0926e-01,\n           -1.2766e-01, -1.6293e-01,  8.7002e-02,  5.0086e-03, -9.9780e-02,\n           -6.9499e-02, -5.1011e-03,  5.5994e-03,  1.6779e-02, -2.7360e-02,\n           -5.5370e-02, -2.1025e-02,  4.3850e-02,  2.0868e-01,  3.9819e-02,\n           -3.5465e-02,  6.9464e-03, -1.4983e-03, -1.1566e-02,  1.3566e-02,\n            6.9841e-03, -4.4335e-03, -2.2529e-02, -4.0225e-02,  8.9168e-02,\n           -1.0757e-02,  5.4989e-02,  7.5424e-03, -3.9439e-02,  4.9256e-02,\n            1.6643e-02,  3.9366e-02, -1.2519e-01,  4.1318e-02, -1.1123e-02,\n            4.4276e-02, -4.7260e-02, -4.0263e-03,  1.2028e-01,  6.2756e-02,\n           -4.4334e-04, -3.1244e-02,  2.8311e-02, -2.0941e-03, -6.0676e-02,\n           -2.0809e-02, -4.3469e-02, -4.2190e-02,  6.6854e-02,  4.6511e-02,\n            8.7247e-02,  1.3872e-02, -4.1557e-02,  5.4776e-02,  5.7606e-02,\n            8.4870e-02, -3.5166e-02, -5.7979e-02,  6.5479e-03,  3.4865e-02,\n            1.9727e-02,  2.5015e-02, -1.2055e-01, -3.2913e-04, -4.5136e-02,\n            5.2957e-02,  1.1234e-01,  9.4988e-03, -1.3785e-03,  4.0543e-02,\n            7.4011e-02, -1.3811e-02, -2.6091e-01, -1.3904e-01, -4.7518e-03,\n            9.1058e-02, -4.1849e-02,  4.0964e-02,  6.5905e-03,  5.0139e-02,\n           -1.0630e-01,  4.9682e-02,  1.9106e-01,  6.9049e-02,  6.3181e-02,\n           -3.8337e-03, -6.9265e-02,  6.3183e-02,  3.1174e-02,  1.1814e-01,\n            5.4873e-02,  3.8910e-02, -8.0247e-02, -2.8631e-02,  5.5967e-02,\n            7.4209e-02, -1.1280e-01,  6.2197e-02,  6.3754e-02,  9.7777e-03,\n            2.4166e-02,  4.0418e-02, -6.3974e-02, -9.7070e-02,  4.7067e-02,\n            3.7059e-02,  8.0272e-02, -4.8469e-02,  1.5195e-02,  3.7735e-02,\n           -2.5369e-02, -6.0984e-02,  7.4520e-03, -4.0145e-02,  4.4519e-03,\n            4.1591e-02,  5.1567e-03,  2.9040e-02,  1.1215e-01,  7.1259e-02,\n           -3.6249e-02,  1.2523e-01,  3.6439e-02, -7.3763e-02,  9.8114e-02,\n            7.5631e-02, -4.3446e-03, -2.5112e-02,  1.1466e-01,  1.0546e-03,\n           -2.8954e-02, -3.5685e-02,  1.4168e-02, -1.1224e-01,  3.7086e-02,\n            9.0556e-03,  1.9294e-02,  4.2288e-02,  2.0959e-02,  1.0749e-02,\n           -1.4795e-02,  2.3841e-01,  3.5041e-02,  4.9586e-02, -2.0949e-01,\n            1.7147e-01,  4.4605e-02,  1.3885e-01,  3.3012e-02, -6.5362e-02,\n           -1.9374e-02,  1.0410e-02,  4.3071e-02,  2.6556e-02, -9.3473e-03,\n           -3.0707e-02,  5.1869e-02,  5.5029e-02, -6.9456e-02, -1.0471e-01,\n            3.3977e-02,  4.8556e-02,  2.1587e-01,  1.6527e-02, -3.0784e-02,\n            2.0418e-01,  5.9284e-02,  2.4431e-02, -2.0209e-02,  2.5535e-02,\n            1.1057e-01, -1.9818e-01,  1.9975e-01,  1.2527e-01,  5.3118e-02,\n           -9.9950e-02,  6.1679e-02, -3.9189e-02, -4.6749e-02,  3.9089e-02,\n            4.2074e-02,  2.6791e-02, -1.8356e-01,  1.4561e-01, -2.0818e-02,\n           -2.5881e-02,  2.3712e-02,  2.4437e-02,  3.4558e-02, -1.2874e-01,\n           -4.1687e-02, -9.4465e-03,  7.5663e-02, -3.5323e-02, -1.0285e-02,\n            3.4768e-01, -1.0161e-02, -4.5280e-02,  4.1506e-03,  8.4661e-02,\n            1.4149e-02,  1.4805e-02, -3.0466e-02,  3.2517e-02, -3.3706e-02,\n           -1.1627e-02, -1.0053e-02, -5.0719e-02,  6.6267e-02,  2.7517e-02,\n            4.8188e-02,  3.7942e-02, -3.2944e-02, -9.1255e-02, -1.9950e-02,\n            1.1591e-01,  1.3839e-01,  7.1029e-02, -4.3121e-01, -3.1466e-02,\n            3.5945e-02,  3.6978e-02,  2.4471e-02,  2.5344e-02,  8.2838e-02,\n            1.1312e-01,  3.8388e-02,  6.0503e-02,  4.1604e-02,  5.6840e-03,\n            8.5386e-02,  6.3875e-02, -2.1703e-02,  5.1872e-02,  8.3970e-04,\n            2.0241e-02,  1.6908e-01, -4.3470e-02,  2.5056e-02,  4.4129e-02,\n            5.3243e-02,  1.7683e-02,  4.1965e-02,  1.1614e-01, -2.3849e-02,\n           -5.2560e-02, -2.3538e-02,  1.4331e-02,  1.5680e-03, -1.7912e-02,\n            3.8670e-02,  2.9065e-02,  3.1968e-03, -7.6925e-03, -3.3332e-02,\n            1.0607e-01, -8.0391e-04, -3.9345e-02,  1.1790e-01,  1.9391e-01,\n           -3.4927e-02,  5.2763e-03, -3.1587e-02,  2.6189e-02, -1.6568e-01,\n           -1.1109e-01,  3.4012e-02,  2.6398e-02, -4.8730e-02,  1.2526e-02,\n            1.3499e-02,  5.9013e-02,  2.0144e-01, -5.3088e+00, -3.1469e-02,\n            5.7827e-02,  8.9766e-03,  3.7957e-02,  1.0970e-02,  2.7952e-02,\n           -5.1637e-04, -4.0553e-02, -2.2220e-02,  3.2657e-02, -6.5754e-02,\n            6.6917e-02,  7.1836e-02, -3.8264e-02,  4.7216e-02, -4.4775e-02,\n           -1.3338e-01,  4.1212e-02,  4.5587e-02,  1.7513e-02,  1.1015e-01,\n           -1.9928e-02,  2.9316e-02, -9.2136e-02,  4.3017e-02, -3.2215e-02,\n            8.9780e-03, -3.0829e-02,  2.3789e-02,  5.0530e-03, -2.8702e-02,\n           -4.5150e-02,  3.2623e-02,  1.6069e-02, -3.7339e-02, -2.8819e-02,\n           -2.3755e-03,  1.6173e-01,  1.3790e-01,  1.7605e-02,  6.8038e-02,\n           -1.5821e-01,  3.8074e-03,  7.7697e-02,  6.8344e-02,  2.9625e-02,\n            2.6665e-03, -1.2391e-02, -1.8972e-02,  1.0461e-01, -1.2500e-03,\n           -1.9158e-01,  3.8645e-03, -2.0819e-02,  1.1004e-01,  2.1545e-02,\n           -1.7879e-02, -9.3179e-02,  1.1191e-02,  1.8322e-01,  3.5898e-02,\n            1.1413e-02, -3.8507e-02,  2.1748e-02, -3.5143e-02, -3.3998e-02,\n            3.5024e-02, -3.6553e-02,  8.0815e-02,  2.4768e-02,  6.5114e-02,\n            1.0883e-03,  4.0533e-02, -1.5601e-02, -1.5792e-02,  1.1793e-02,\n           -4.7160e-02,  3.2862e-03,  5.1390e-02, -2.3389e-02,  5.7134e-02,\n           -1.3104e-02,  6.3747e-02, -7.6284e-04, -5.7611e-02,  2.0567e-01,\n            1.2654e-03,  2.7365e-02,  3.9533e-02, -3.6076e-02, -7.4467e-02,\n           -8.8869e-02,  2.1477e-02, -2.1272e-02, -7.8281e-03, -6.5717e-02,\n            4.6490e-02, -3.5806e-02, -2.7713e-02, -1.3810e-01,  2.3365e-02,\n           -9.2806e-03, -7.7382e-03,  9.2756e-03, -1.8949e-02, -2.7667e-01,\n            9.0248e-02,  7.8908e-02,  1.5386e-02, -8.7852e-02, -7.8924e-02,\n           -3.3140e-03, -3.3567e-02,  6.6281e-02,  4.8864e-02,  1.2217e-02,\n           -2.6876e-02,  2.2959e-02, -9.8140e-02,  3.1057e-03, -2.9746e-02,\n           -1.7564e-03, -9.8986e-03,  2.6509e-01,  5.2951e-02,  3.3789e-02,\n            3.5744e-02, -1.4708e-02, -2.1107e-02,  3.5953e-02, -1.6246e-02,\n           -1.1634e-01,  2.1915e-02, -4.1027e-02, -2.8665e-01, -2.5894e-02,\n            3.4344e-02,  3.3765e-02,  9.8797e-03,  1.4066e-01, -9.3386e-03,\n           -7.3718e-03, -1.9001e-01, -1.4683e-03,  1.5734e-02,  1.7886e-01,\n           -9.0136e-03, -1.7150e-02, -2.8760e-02, -1.0064e-02, -3.2210e-01,\n            4.5872e-02,  1.7883e+01, -3.6230e-02,  2.0023e-03, -5.3746e-02,\n            9.4203e-02, -3.6337e-02,  4.8318e-02,  5.7938e-02,  3.3387e-01,\n            6.4796e-02,  5.8816e-02,  1.4083e-02, -3.4432e-03, -1.3455e-02,\n           -5.9655e-03,  7.9068e-02,  8.2663e-02, -2.1266e-02,  1.3610e-01,\n            6.3260e-02, -5.0391e-02,  2.9796e-02, -9.9929e-02,  1.5389e-01,\n            2.5262e-02, -1.5844e-02,  1.5736e-01]])}}"
     },
     "execution_count": 195,
     "metadata": {},
     "output_type": "execute_result"
    }
   ],
   "source": [
    "test_dataset = TestingDataset(pair1_df, pair2_df, emb1, emb2)\n",
    "test_dataset[0]"
   ],
   "metadata": {
    "collapsed": false,
    "pycharm": {
     "name": "#%%\n"
    }
   }
  },
  {
   "cell_type": "markdown",
   "source": [
    "### Start testing"
   ],
   "metadata": {
    "collapsed": false,
    "pycharm": {
     "name": "#%% md\n"
    }
   }
  },
  {
   "cell_type": "code",
   "execution_count": 196,
   "outputs": [
    {
     "name": "stdout",
     "output_type": "stream",
     "text": [
      "OrderedDict([('s_encoder.0.weight', tensor([[ 0.0328, -0.0099, -0.1720,  ...,  0.0651, -0.0378,  0.0563],\n",
      "        [ 0.2917, -0.0743,  0.2639,  ..., -0.0197,  0.1313, -0.0630],\n",
      "        [ 0.0244, -0.1564,  0.1240,  ..., -0.1987, -0.0591, -0.0115],\n",
      "        ...,\n",
      "        [ 0.0884, -0.1067,  0.1797,  ...,  0.0154, -0.1908, -0.0361],\n",
      "        [ 0.1634, -0.0113, -0.0691,  ..., -0.0389, -0.1535,  0.0757],\n",
      "        [-0.0892,  0.0563, -0.1600,  ...,  0.0568, -0.0087,  0.0587]])), ('s_encoder.0.bias', tensor([-6.5633e-02, -6.5481e-02,  1.4343e-02, -4.4179e-02,  7.6229e-02,\n",
      "         6.5635e-02,  1.8427e-02,  8.8780e-02, -5.6348e-02, -6.6311e-04,\n",
      "        -5.6731e-02,  1.0968e-01,  2.0355e-02, -2.6985e-02, -2.4708e-02,\n",
      "         1.9946e-02,  6.2098e-02,  4.5157e-02,  1.8844e-02,  2.9704e-02,\n",
      "        -9.1812e-02, -1.0716e-01, -5.5875e-02,  1.2198e-01, -1.0501e-03,\n",
      "        -7.8093e-02, -4.7570e-02, -5.5400e-02, -3.0016e-02,  1.9381e-02,\n",
      "         7.9490e-02, -9.6159e-02, -1.2234e-02,  1.1252e-01,  4.9121e-02,\n",
      "         4.2971e-02,  7.5024e-02,  2.0424e-03,  4.5965e-02, -4.2685e-02,\n",
      "        -3.5676e-02,  4.4430e-02, -7.5309e-02, -4.5759e-02,  6.6720e-02,\n",
      "        -6.0938e-03, -8.3788e-02,  4.0293e-02, -4.1378e-03, -1.1621e-01,\n",
      "         1.3811e-02, -2.6664e-02, -5.0172e-02,  1.0454e-02,  7.7799e-02,\n",
      "         1.5502e-02, -3.9638e-02,  9.5446e-02,  1.0023e-01,  2.7851e-02,\n",
      "         5.2729e-02, -2.5018e-03,  5.2889e-03,  8.9016e-03, -5.9949e-02,\n",
      "         1.5503e-02,  5.1927e-02,  2.9526e-02,  1.4573e-01,  9.8529e-02,\n",
      "         6.0866e-02, -5.9773e-02, -4.4522e-03,  6.7837e-02, -5.0332e-02,\n",
      "        -8.3771e-02, -1.0146e-01,  5.0345e-02, -8.3322e-02, -9.5029e-02,\n",
      "        -6.6265e-02, -1.0817e-03, -5.3379e-02, -2.8227e-02,  6.1350e-02,\n",
      "        -6.0705e-03, -3.6019e-02, -1.7305e-02, -3.5999e-02,  3.4142e-02,\n",
      "        -3.1498e-02,  4.6324e-02,  4.3308e-02,  3.9070e-03,  2.0476e-02,\n",
      "        -1.4285e-02, -1.0921e-01, -5.0022e-03, -2.1897e-02, -6.7830e-02,\n",
      "        -3.8121e-02,  9.9418e-03, -3.5268e-03, -2.9857e-02,  6.6875e-02,\n",
      "        -5.7605e-02,  4.1932e-02,  3.9421e-02, -7.2074e-02, -1.6559e-02,\n",
      "        -4.9314e-02,  6.0255e-02, -2.6205e-02,  9.4740e-02, -1.7568e-03,\n",
      "         8.5411e-02, -5.3918e-02, -9.2145e-04, -8.2516e-02, -2.7376e-02,\n",
      "        -8.5625e-02, -6.1517e-02,  1.4668e-02, -7.7156e-02,  4.6199e-02,\n",
      "        -4.3201e-02, -1.8237e-01,  8.8136e-03,  8.7706e-02,  3.7178e-03,\n",
      "        -7.6743e-02, -1.0847e-01,  1.9270e-02,  3.8899e-02, -6.7803e-02,\n",
      "        -9.2867e-02,  3.9660e-02, -7.8908e-02,  5.4844e-02, -1.3330e-02,\n",
      "        -3.4844e-02,  1.0945e-01, -3.3144e-02,  8.4975e-02, -9.1444e-02,\n",
      "        -2.8990e-02,  5.5247e-02, -3.7140e-02, -6.6719e-02, -3.0856e-02,\n",
      "        -5.5130e-02,  1.6685e-01,  1.1314e-02, -3.6823e-02,  4.5384e-02,\n",
      "         9.9139e-03, -9.3178e-02, -2.6266e-03, -2.0607e-02, -7.2536e-02,\n",
      "        -6.8322e-02, -2.3404e-02,  2.6417e-02,  1.8776e-03, -6.4663e-02,\n",
      "        -7.0181e-02,  7.4780e-02, -5.5995e-02,  3.2646e-02,  1.9521e-02,\n",
      "        -1.8724e-02, -3.2276e-02, -1.5610e-02, -8.5571e-02,  4.9172e-02,\n",
      "        -1.5779e-02,  8.1293e-04, -5.4638e-02,  1.8174e-02,  6.6524e-02,\n",
      "         1.2006e-02,  9.1488e-02,  3.3460e-03, -4.0120e-03, -1.2939e-02,\n",
      "         6.7355e-02, -8.3440e-02, -3.9059e-03, -8.9865e-02, -2.1270e-02,\n",
      "         1.4301e-02,  5.1833e-02,  1.3447e-01,  2.7528e-02,  1.2130e-01,\n",
      "         7.3460e-02, -1.4687e-02,  6.0845e-02,  6.7678e-02, -5.8375e-02,\n",
      "         8.5679e-02, -9.6904e-03,  1.8111e-02,  1.9436e-02,  6.6091e-02,\n",
      "         6.3067e-02, -1.9072e-02,  1.1309e-01,  4.1224e-02,  2.3951e-02,\n",
      "        -6.5326e-02,  1.5610e-02,  5.8337e-02,  1.1987e-02,  7.1001e-03,\n",
      "        -9.9274e-02,  4.6390e-03, -3.8361e-02, -5.2988e-02, -6.2117e-02,\n",
      "         6.6177e-02, -7.7415e-02,  7.4376e-02,  3.8129e-02,  2.0791e-02,\n",
      "        -1.0684e-02, -2.6786e-02, -3.7149e-02,  3.8044e-02,  1.4659e-02,\n",
      "        -3.2710e-02,  4.2976e-03,  8.9113e-02, -1.9403e-02,  1.0175e-01,\n",
      "        -7.8534e-02,  1.1994e-01,  2.2565e-02,  4.4326e-02,  2.7271e-02,\n",
      "        -2.8099e-02,  7.9471e-02,  8.8647e-02,  6.4270e-02, -1.6292e-02,\n",
      "         3.3651e-02,  4.6192e-02,  2.2488e-02, -2.0361e-01, -5.9140e-02,\n",
      "         1.2463e-01,  8.2924e-02, -8.4030e-02,  1.4691e-02, -8.0366e-03,\n",
      "        -1.3760e-01,  8.2645e-02, -5.0245e-02,  4.3899e-03,  6.6572e-02,\n",
      "        -2.8174e-03,  2.4249e-02,  1.1595e-01,  7.6522e-02,  4.4697e-02,\n",
      "         3.9631e-02,  1.2320e-01, -2.3926e-02, -9.1921e-02, -7.5438e-02,\n",
      "        -6.0476e-02, -6.7517e-02, -5.0115e-02,  1.5892e-02,  6.1093e-02,\n",
      "        -9.2381e-02,  5.3691e-02, -3.5605e-02, -8.3564e-03, -2.7973e-02,\n",
      "        -8.2201e-02,  1.6226e-02, -2.9652e-02,  1.3157e-01, -1.0820e-02,\n",
      "         2.9622e-02, -9.4773e-02,  3.0495e-02, -2.1079e-02,  1.3381e-02,\n",
      "         7.1766e-02, -2.5255e-02,  5.8966e-03, -9.0502e-03, -3.6378e-02,\n",
      "         7.2409e-02, -7.9687e-02,  1.1360e-01,  3.8431e-02,  2.3531e-02,\n",
      "        -1.9281e-03,  6.5376e-03,  1.4876e-02,  3.9353e-02,  4.9780e-02,\n",
      "         3.7660e-02, -9.0216e-02,  2.2770e-02,  4.6198e-02, -5.3360e-02,\n",
      "         7.2972e-02, -2.5533e-02,  4.7833e-02,  2.5872e-02, -8.0558e-02,\n",
      "         1.3760e-02,  7.8222e-02, -1.6582e-02, -6.1839e-02,  3.9734e-02,\n",
      "         4.9626e-02, -6.0777e-02, -1.7835e-01,  3.3536e-02, -4.9709e-02,\n",
      "        -1.1553e-01,  3.3374e-02, -5.8790e-03, -5.5051e-03, -5.5053e-02,\n",
      "        -8.9970e-02, -5.4024e-02,  1.0464e-01,  3.2396e-02, -1.5499e-02,\n",
      "         1.0025e-01,  6.1164e-02, -4.8647e-03,  8.0715e-02, -2.8485e-02,\n",
      "         6.5906e-02,  2.1967e-02,  1.5277e-02, -7.1832e-02, -4.8154e-02,\n",
      "         3.1647e-02,  4.8177e-02,  7.0248e-02,  8.5533e-02,  5.8115e-02,\n",
      "        -4.5007e-02,  1.0259e-01,  2.7892e-02, -1.2180e-01,  6.6957e-03,\n",
      "        -5.3906e-02,  5.5736e-02,  1.9961e-02, -4.5116e-02, -4.8515e-02,\n",
      "        -6.4505e-02,  4.6393e-02, -5.7132e-02,  4.1180e-02, -3.6009e-02,\n",
      "         7.0636e-02, -1.8156e-02,  4.7518e-02,  1.6982e-02,  2.4430e-02,\n",
      "         1.5104e-02, -3.1536e-02,  2.0299e-02,  3.7813e-02, -7.1816e-03,\n",
      "         3.6388e-02,  7.8150e-03, -4.1473e-02,  5.0382e-02,  5.5747e-03,\n",
      "         5.9677e-02,  2.4948e-02, -1.8744e-01, -1.8954e-02, -1.0391e-01,\n",
      "        -4.9184e-02,  2.9165e-02,  1.4137e-02,  7.0745e-02,  9.1184e-02,\n",
      "         6.9135e-02,  4.2298e-02, -4.8000e-02, -8.0187e-02, -3.1174e-02,\n",
      "         1.9228e-03, -1.3611e-02,  4.4216e-02,  4.3430e-02, -3.0313e-02,\n",
      "         3.4793e-02,  1.3104e-01,  3.7612e-03,  1.3728e-02, -1.5581e-02,\n",
      "        -1.7437e-02, -6.6832e-02,  7.2572e-02,  9.4299e-02, -3.1370e-02,\n",
      "         5.0568e-02, -2.5529e-02, -1.0822e-01,  5.8243e-02, -5.1906e-02,\n",
      "         2.6081e-02, -4.3356e-05, -7.7353e-03,  7.1169e-02,  8.4936e-02,\n",
      "        -5.2661e-02,  2.2180e-02,  2.6670e-02,  2.9091e-03,  3.8446e-03,\n",
      "         9.0771e-03, -5.4295e-02, -3.0980e-02, -2.6601e-03,  3.5341e-02,\n",
      "         9.3822e-02, -4.5999e-02, -4.0559e-02, -2.5611e-02,  3.4540e-02,\n",
      "        -2.8436e-02, -2.9606e-02, -6.9471e-03, -2.3147e-04,  7.1518e-02,\n",
      "         7.8491e-02,  2.1697e-01, -1.0188e-02, -7.7389e-02,  4.5007e-02,\n",
      "         1.2438e-01,  9.1704e-03, -2.0989e-02,  3.7740e-02, -8.6133e-02,\n",
      "         7.0065e-02, -6.0047e-02,  2.0988e-02, -3.1073e-03,  2.2262e-02,\n",
      "        -3.9908e-02,  5.5935e-02, -3.4382e-02,  5.2263e-02, -5.3562e-02,\n",
      "         6.2650e-02, -4.8641e-02, -1.0327e-02,  6.2640e-02,  1.2610e-01,\n",
      "         8.1566e-02, -4.4780e-02,  6.9184e-02,  1.4125e-01,  8.6487e-03,\n",
      "        -1.1855e-01,  3.4460e-03,  5.1245e-02, -6.5823e-02, -8.8912e-02,\n",
      "        -4.5325e-02, -6.4127e-02,  2.1853e-02,  5.6681e-02,  1.1670e-02,\n",
      "         2.5953e-02,  6.7946e-02,  3.8676e-02,  1.2050e-05, -2.2677e-02,\n",
      "        -2.0550e-02, -6.7469e-02, -1.9771e-02,  4.8958e-02, -8.8583e-03,\n",
      "        -3.9904e-02, -9.8338e-02, -5.1524e-02,  4.4915e-02, -4.9725e-02,\n",
      "        -3.0516e-02, -2.1703e-02, -4.0174e-03, -8.6857e-02,  4.3071e-03,\n",
      "        -1.7041e-02,  1.9780e-02, -1.5672e-01,  7.9741e-02, -7.2100e-02,\n",
      "        -9.4167e-02,  2.0954e-02,  2.8228e-02,  3.9165e-02, -2.9857e-02,\n",
      "        -5.0991e-02, -2.4012e-03])), ('s_encoder.1.weight', tensor([ 1.6772e-01,  1.2802e-01,  6.0832e-03,  2.0661e-02, -1.0384e-01,\n",
      "         8.3732e-02,  1.7816e-02, -4.2560e-03, -1.1854e-02, -8.0652e-02,\n",
      "        -1.3461e-02,  1.9829e-01, -1.2145e-02,  2.6164e-03, -9.3594e-03,\n",
      "         2.4983e-02, -1.1107e-02,  6.7085e-02, -4.5364e-02,  9.0417e-03,\n",
      "         2.2400e-02, -7.8371e-02,  1.6005e-01,  1.0092e-01, -3.4503e-02,\n",
      "        -7.5333e-02,  5.7471e-02,  8.2935e-02,  1.0203e-01,  1.0763e-02,\n",
      "         4.9200e-02,  2.1021e-01,  7.5583e-02, -1.0985e-01, -4.2095e-02,\n",
      "         6.6724e-02,  1.1822e-03, -7.8353e-03, -1.1191e-01, -2.6796e-03,\n",
      "        -5.2759e-03, -3.1355e-02,  6.5413e-03,  8.3934e-02, -3.7642e-03,\n",
      "         1.8519e-02,  1.4160e-01, -7.3771e-02,  5.3844e-02,  1.0017e-01,\n",
      "        -1.1145e-01, -2.9169e-02, -5.5748e-03,  3.2926e-02,  7.4912e-03,\n",
      "         5.2104e-02,  9.6878e-03, -7.5271e-02,  7.7025e-02, -9.8883e-02,\n",
      "         1.1540e-01, -1.8864e-01,  4.0605e-03,  2.6633e-02, -7.0487e-02,\n",
      "        -2.0077e-01, -2.5009e-02,  7.3588e-03,  1.2777e-01, -1.1083e-02,\n",
      "        -7.1818e-02, -1.0373e-02,  2.1981e-02,  8.7618e-02,  4.7687e-03,\n",
      "         4.0159e-02, -1.8331e-02,  6.4884e-04,  8.0267e-03,  1.8211e-01,\n",
      "        -2.1080e-03, -8.5378e-02,  1.0078e-02, -1.7905e-02, -2.7269e-02,\n",
      "         7.9877e-02, -3.2026e-02,  1.7799e-01, -8.4899e-02,  9.0573e-03,\n",
      "         1.5477e-02,  1.2724e-02,  1.6610e-01,  3.6994e-02,  2.3108e-02,\n",
      "        -3.2602e-02, -7.2612e-02,  1.6945e-02, -4.8244e-02, -2.4439e-03,\n",
      "        -5.9667e-02, -7.1130e-03, -1.6213e-02, -1.2822e-01,  1.1217e-02,\n",
      "         1.8874e-02, -7.6054e-02,  1.5255e-02, -1.6045e-02, -2.7115e-03,\n",
      "         5.0874e-02,  1.9129e-02,  4.2999e-02, -7.3037e-03, -4.5489e-02,\n",
      "         3.8161e-03,  2.8631e-02, -2.6454e-01, -1.1569e-01, -1.0964e-01,\n",
      "         3.4379e-03, -2.6168e-03,  1.0830e-02,  6.3450e-02,  5.6090e-02,\n",
      "        -3.0773e-02,  6.4690e-02,  1.5355e-01, -3.4324e-02,  6.5782e-03,\n",
      "        -1.0083e-01, -3.8976e-03,  7.8402e-02, -2.5680e-02,  7.1930e-03,\n",
      "        -1.4486e-01, -5.3763e-02,  1.1120e-02, -1.1330e-01, -4.7086e-02,\n",
      "         1.2599e-01,  4.7038e-02, -1.4422e-02,  4.9055e-03, -5.9487e-02,\n",
      "         5.5584e-02, -4.7312e-03, -2.9444e-03,  8.3465e-02,  1.9119e-02,\n",
      "        -6.8991e-02, -1.9490e-01,  9.0137e-02, -4.8138e-03,  5.3421e-02,\n",
      "        -8.5735e-02, -6.1198e-02, -1.5895e-01, -1.4886e-03, -3.2646e-03,\n",
      "         1.4856e-01,  8.1058e-02,  6.6717e-02, -1.3040e-01, -3.9944e-03,\n",
      "         1.0728e-01, -2.9187e-02,  4.4985e-03, -1.9096e-01, -7.9582e-02,\n",
      "        -9.9694e-02,  4.0800e-03, -9.9926e-02,  6.3132e-02,  6.3746e-02,\n",
      "        -1.4964e-01,  1.5774e-02, -4.4655e-03, -5.9069e-02,  4.5899e-03,\n",
      "         8.2550e-02,  4.0086e-02,  4.0892e-04,  1.4400e-03, -4.8806e-02,\n",
      "         1.1248e-01,  3.5059e-02, -7.3924e-03,  1.1225e-02, -1.3792e-03,\n",
      "         7.9038e-02, -1.1944e-01,  8.2601e-03, -6.3732e-02, -2.9361e-02,\n",
      "        -2.2410e-02,  1.6053e-02, -9.7345e-02, -2.2047e-02, -7.8893e-03,\n",
      "        -1.0111e-01,  7.3074e-03,  1.3645e-02, -1.6104e-01,  1.2905e-01,\n",
      "         6.6522e-03, -8.2961e-02, -1.4760e-02,  6.4723e-03, -1.8198e-02,\n",
      "         2.0752e-02, -9.3888e-02, -1.9388e-02,  1.8332e-02, -8.1782e-02,\n",
      "         1.1547e-01,  1.0150e-01, -5.7810e-03,  2.3182e-01, -2.0942e-02,\n",
      "        -5.1950e-02, -1.2581e-02,  4.0365e-02,  6.0698e-02,  2.5482e-02,\n",
      "         3.6028e-02,  5.8992e-03,  8.1926e-02,  1.2908e-02,  1.9747e-02,\n",
      "         9.5647e-02, -1.7172e-01, -9.3792e-02,  1.8629e-02, -6.2461e-03,\n",
      "         2.2132e-01,  2.0486e-02,  2.1798e-02, -8.8802e-03,  6.3019e-02,\n",
      "         3.8058e-03, -1.3224e-02, -8.1822e-02,  1.8275e-01, -1.0643e-01,\n",
      "         7.8543e-03,  1.4581e-02,  8.9614e-02,  2.1025e-01,  4.9112e-02,\n",
      "        -1.6719e-01,  5.2456e-03,  1.6894e-03,  6.4171e-02, -2.6438e-02,\n",
      "        -3.4906e-02, -5.0703e-03, -3.4376e-03,  1.8350e-02,  4.6401e-03,\n",
      "         1.3310e-01, -1.1672e-02,  4.6819e-02, -1.2688e-02, -7.6678e-03,\n",
      "        -4.6332e-03, -5.3407e-02, -7.6702e-03,  1.3900e-01,  1.9159e-02,\n",
      "        -1.3605e-01, -1.1560e-02,  2.3711e-02, -1.2647e-02, -1.7151e-02,\n",
      "         9.3952e-04, -4.3118e-03, -5.9759e-02, -6.3179e-03, -3.5176e-02,\n",
      "         5.6826e-02, -2.2551e-03, -3.3399e-02,  2.2114e-01, -4.9199e-02,\n",
      "         8.7774e-02, -1.5759e-01, -2.6126e-02,  7.5634e-03, -3.0043e-02,\n",
      "         5.3698e-03,  1.0257e-02, -7.6385e-02, -5.7328e-02, -3.6708e-03,\n",
      "        -1.1952e-02, -1.2744e-01, -1.8330e-01,  6.5112e-02,  1.8977e-02,\n",
      "        -1.3291e-01,  1.1228e-01, -1.1649e-03,  1.6477e-02,  7.9899e-02,\n",
      "        -1.9312e-02, -8.9014e-02, -2.6534e-02, -2.0462e-04, -4.0477e-02,\n",
      "         2.0391e-02,  2.7577e-02,  6.3877e-04,  1.8716e-02,  3.5783e-03,\n",
      "         3.3481e-03, -1.0039e-01, -5.2035e-02,  5.4343e-03, -1.1757e-01,\n",
      "        -8.5493e-04,  3.0183e-02,  5.0681e-02, -1.0042e-01,  1.8587e-01,\n",
      "         9.5053e-02,  1.3310e-01, -2.6870e-02,  1.1020e-01,  1.1512e-01,\n",
      "         7.9731e-03, -3.4061e-03,  3.5070e-04, -1.2712e-02,  1.0236e-01,\n",
      "         2.0313e-01,  1.3005e-02, -5.8572e-02, -1.2805e-01, -1.0793e-02,\n",
      "         6.9918e-03, -2.4013e-03,  1.0636e-01,  6.1946e-03,  8.8592e-03,\n",
      "        -1.7817e-01,  5.6335e-02,  8.7532e-03, -6.6684e-02,  4.1952e-02,\n",
      "        -5.1899e-03,  4.3981e-02, -1.0196e-01, -3.7371e-02, -1.8028e-01,\n",
      "        -1.3094e-02, -2.5905e-02, -1.0788e-02,  6.7308e-02, -1.0040e-01,\n",
      "         1.9726e-02, -1.5211e-02, -4.5124e-02,  1.0020e-01,  1.0153e-01,\n",
      "         2.4832e-02,  1.4530e-01, -8.1554e-03, -2.9522e-03, -1.0131e-01,\n",
      "         9.5180e-03, -1.4665e-02,  4.3343e-02,  7.8456e-03,  9.2869e-02,\n",
      "        -1.2863e-02, -2.6284e-01,  1.5126e-01, -1.3927e-03,  5.6630e-03,\n",
      "        -2.4520e-02,  7.2880e-03,  1.2537e-01, -1.0122e-01, -2.4788e-01,\n",
      "         1.1275e-03, -9.7241e-03,  2.1853e-01,  1.2285e-01,  1.7296e-01,\n",
      "         1.3172e-01,  6.1108e-02,  8.5505e-03,  1.1961e-03, -4.5736e-02,\n",
      "        -9.4326e-02, -4.2846e-03,  1.9717e-03, -5.4786e-02, -5.6697e-03,\n",
      "         2.4824e-03, -1.3519e-01, -1.7700e-01,  2.0317e-01, -1.2737e-02,\n",
      "        -1.2493e-01,  7.4408e-02, -2.3816e-03,  1.3374e-01, -5.5688e-02,\n",
      "         2.6112e-02,  5.4137e-03, -1.3142e-02, -1.9420e-02,  1.9997e-02,\n",
      "        -1.9371e-02, -1.8096e-01, -4.5187e-03, -6.3493e-02, -9.6505e-02,\n",
      "        -1.5428e-02,  2.3194e-02,  1.0761e-01, -7.5455e-03, -1.8234e-02,\n",
      "        -2.1563e-03, -3.7663e-03, -5.4216e-03,  5.3800e-02, -9.6734e-02,\n",
      "        -1.4764e-02,  1.4084e-04,  1.3269e-01, -9.8473e-02,  2.7042e-02,\n",
      "         1.7174e-01, -2.2495e-02, -9.9097e-02, -2.4074e-02,  3.4553e-02,\n",
      "        -6.7282e-03,  1.9732e-01, -1.3288e-01, -1.9667e-01, -4.3608e-02,\n",
      "         9.9598e-02,  5.2349e-03, -2.5952e-02,  8.6459e-03, -1.4153e-02,\n",
      "         1.1499e-01,  9.3653e-05, -2.0164e-02, -6.1156e-03, -2.1758e-03,\n",
      "         4.9128e-04, -1.5988e-02, -1.5301e-01, -1.3635e-01,  1.4551e-01,\n",
      "         4.5120e-03, -2.7979e-02,  3.6735e-02,  1.6945e-01, -1.3851e-01,\n",
      "        -1.6743e-02, -9.5830e-03,  7.3002e-02, -5.0826e-02, -1.1532e-03,\n",
      "        -1.1533e-02,  9.2939e-03,  5.5986e-03,  2.7316e-02,  4.8089e-02,\n",
      "         1.9211e-03,  3.7469e-02, -1.0516e-01,  7.3975e-02, -1.9857e-02,\n",
      "         1.2504e-01, -1.8197e-01, -1.1979e-01, -2.1530e-02, -4.5777e-03,\n",
      "         6.7275e-02,  1.3092e-01, -1.3622e-02,  7.8716e-03, -2.2554e-02,\n",
      "        -2.0847e-03,  8.1132e-03, -6.4032e-03,  5.8018e-02,  4.3685e-02,\n",
      "        -1.4543e-02, -1.4162e-01,  8.5491e-03,  2.1297e-03,  2.4558e-02,\n",
      "        -1.3397e-01, -7.3921e-03, -1.8786e-01,  4.4456e-02,  8.7782e-03,\n",
      "        -3.1737e-02,  1.2368e-01,  1.1138e-01, -1.0066e-02,  1.2797e-01,\n",
      "        -9.4647e-02,  9.2569e-02])), ('s_encoder.1.bias', tensor([-0.0144,  0.0158,  0.0232,  0.0186, -0.0118,  0.0637,  0.0001,  0.0569,\n",
      "         0.0503, -0.0450, -0.0595,  0.0275,  0.0447, -0.0668, -0.0134,  0.0420,\n",
      "         0.0604,  0.0404, -0.0530,  0.0346,  0.0184, -0.0451,  0.0242,  0.0935,\n",
      "        -0.0352,  0.0585,  0.0757, -0.0116, -0.0275,  0.0198, -0.0223,  0.0266,\n",
      "         0.0118, -0.0360, -0.0551,  0.0860,  0.0585, -0.0687, -0.0465,  0.0401,\n",
      "        -0.0481,  0.0304,  0.0072,  0.0138,  0.0637,  0.0403,  0.0169,  0.0385,\n",
      "        -0.0190,  0.0076, -0.0037, -0.0432,  0.0589, -0.0521, -0.0906, -0.0268,\n",
      "         0.0620,  0.0334,  0.0322, -0.0457, -0.0134, -0.0302, -0.0507,  0.0799,\n",
      "        -0.0760, -0.0541, -0.0033, -0.0550,  0.0640,  0.0248,  0.0699,  0.0139,\n",
      "        -0.0927,  0.0367, -0.0194, -0.0448,  0.0649,  0.0108, -0.0278, -0.0775,\n",
      "        -0.0490,  0.0106, -0.0279,  0.0087, -0.0656, -0.0460, -0.0890, -0.0883,\n",
      "        -0.0245, -0.0267,  0.0121, -0.0746, -0.0161,  0.0871, -0.0402, -0.0201,\n",
      "         0.0227, -0.0441, -0.0180,  0.0057, -0.0176,  0.0544, -0.0493,  0.0170,\n",
      "         0.0874,  0.0125,  0.0898,  0.0171, -0.0383, -0.0345, -0.0262, -0.0224,\n",
      "        -0.1016,  0.0230, -0.0424, -0.0143, -0.0716,  0.0483,  0.0034,  0.0598,\n",
      "         0.0105,  0.0130,  0.0656, -0.0460, -0.0605, -0.0424, -0.0065, -0.0377,\n",
      "         0.0443,  0.0723, -0.0691, -0.0386,  0.0038, -0.0266,  0.0244,  0.0625,\n",
      "         0.0574,  0.0285, -0.0427, -0.0292,  0.0932,  0.0519,  0.0644,  0.0622,\n",
      "         0.0971, -0.0350,  0.0484,  0.0502, -0.0063, -0.0175, -0.0484,  0.0426,\n",
      "        -0.0214,  0.0764, -0.0231, -0.0015,  0.0278,  0.0320, -0.0523,  0.0297,\n",
      "        -0.0102, -0.0523,  0.0166,  0.0091,  0.0103, -0.0530,  0.0223, -0.0719,\n",
      "        -0.0075, -0.0085, -0.0022,  0.0622,  0.1034, -0.0329,  0.0576,  0.0158,\n",
      "         0.0319,  0.0161, -0.0214,  0.0739, -0.0055, -0.0612,  0.0887, -0.0808,\n",
      "         0.0022,  0.0468, -0.0459, -0.0500, -0.0059, -0.0767,  0.0113, -0.0090,\n",
      "         0.0208, -0.0521, -0.0354, -0.0207, -0.0395, -0.0248, -0.0274, -0.0155,\n",
      "         0.0576, -0.0233,  0.0243,  0.0235,  0.0478,  0.0486, -0.0188,  0.0295,\n",
      "        -0.0161, -0.0242,  0.0671,  0.0270,  0.0191, -0.0356, -0.0788, -0.0261,\n",
      "        -0.0287, -0.0222,  0.0742,  0.0671,  0.0371,  0.0426,  0.0261, -0.0239,\n",
      "        -0.0034,  0.0022,  0.0780, -0.0538,  0.0525,  0.0273,  0.0690, -0.0099,\n",
      "         0.0518, -0.0393, -0.0799, -0.0592, -0.0547,  0.0334, -0.0065, -0.0742,\n",
      "         0.0121, -0.0349,  0.0667,  0.0590,  0.0233, -0.0241, -0.0135,  0.0674,\n",
      "        -0.0556,  0.0016, -0.0081,  0.0874, -0.0529,  0.0385, -0.0769,  0.0688,\n",
      "        -0.0280,  0.0021,  0.0046,  0.0252, -0.0838, -0.0173,  0.0751, -0.0483,\n",
      "        -0.0320, -0.0735, -0.0309,  0.0640,  0.0701, -0.0239,  0.0168, -0.0623,\n",
      "        -0.0029, -0.0531, -0.0572,  0.0599,  0.0300, -0.0604, -0.0281,  0.0120,\n",
      "         0.0484,  0.0179, -0.0664, -0.0903, -0.0152,  0.0183,  0.0547, -0.0762,\n",
      "         0.0100, -0.0764, -0.0354,  0.0431,  0.0505,  0.0824, -0.0175,  0.0215,\n",
      "         0.0238,  0.0216,  0.0154, -0.0442,  0.0542,  0.0673,  0.0907,  0.0778,\n",
      "        -0.0277,  0.0394, -0.0067, -0.0240,  0.0518, -0.0628,  0.0202,  0.0021,\n",
      "         0.0961, -0.0220,  0.0271, -0.0215,  0.0007, -0.0004, -0.0767,  0.0252,\n",
      "         0.0033,  0.0578,  0.0540, -0.0297,  0.0593, -0.0514, -0.0128,  0.0305,\n",
      "        -0.0218, -0.0725,  0.0210, -0.0281,  0.0537, -0.0042,  0.0259, -0.0343,\n",
      "         0.0728,  0.0154, -0.0379,  0.0642,  0.0154,  0.0024, -0.0374,  0.0857,\n",
      "         0.0511, -0.0637,  0.0758,  0.0913, -0.0662,  0.0891,  0.0286, -0.0936,\n",
      "         0.0090, -0.0653, -0.0403, -0.0442, -0.0217,  0.0378,  0.0577,  0.0030,\n",
      "        -0.0407,  0.0864, -0.0762, -0.0650, -0.0534,  0.0057,  0.0871, -0.0195,\n",
      "        -0.0302, -0.0497, -0.0164,  0.0031,  0.0085, -0.0328,  0.0205,  0.0133,\n",
      "        -0.0801, -0.0909, -0.0121, -0.0876,  0.0155, -0.0964,  0.0401,  0.0381,\n",
      "         0.0107,  0.0954, -0.0199,  0.0533,  0.0225, -0.0473, -0.0546,  0.0201,\n",
      "        -0.0067,  0.0274,  0.0791, -0.0211,  0.0039, -0.0696, -0.0088, -0.0412,\n",
      "        -0.0587,  0.0251, -0.0222, -0.0814,  0.0702,  0.0722, -0.0787,  0.0432,\n",
      "         0.0671, -0.0270, -0.0598, -0.0787, -0.0342,  0.0405, -0.0301,  0.0333,\n",
      "        -0.0416,  0.0185, -0.0453, -0.0138,  0.0010,  0.0282,  0.0384,  0.0576,\n",
      "         0.0544, -0.0178, -0.0498,  0.0638,  0.0062, -0.0530,  0.0227,  0.0686,\n",
      "        -0.0329,  0.0320, -0.0622, -0.0194,  0.0486,  0.0291,  0.0630, -0.0346,\n",
      "        -0.0485,  0.0436, -0.0452,  0.0080, -0.0343,  0.0399, -0.0032, -0.0411,\n",
      "         0.0511,  0.0246,  0.0440, -0.0229, -0.0205, -0.0510, -0.0525,  0.0074,\n",
      "         0.0615,  0.0493,  0.0736, -0.0307,  0.0132,  0.0716, -0.0328,  0.0562,\n",
      "         0.0325, -0.0192,  0.0408,  0.0079, -0.0382,  0.0187, -0.0132,  0.0676,\n",
      "        -0.0357,  0.0365, -0.0264, -0.0505,  0.0353, -0.0333,  0.0190, -0.0499,\n",
      "         0.0442, -0.0654,  0.0605, -0.0099,  0.0518, -0.0288, -0.0718, -0.0024,\n",
      "        -0.0603, -0.0142,  0.0757,  0.0118, -0.0515,  0.0062,  0.0602, -0.0085,\n",
      "         0.0024,  0.0689, -0.0541, -0.0007,  0.0471, -0.0956,  0.0513,  0.0614,\n",
      "         0.0592,  0.0423,  0.0816,  0.0666,  0.0539, -0.0600,  0.0401,  0.0789])), ('s_encoder.1.running_mean', tensor([-0.3884, -2.9679,  2.0499,  0.8928,  0.4711, -0.9197, -2.2252, -2.0668,\n",
      "        -2.1971,  0.9389,  0.9367,  3.2469, -0.8279, -1.4573,  0.3736,  0.2913,\n",
      "        -1.2293, -1.3626, -0.8895,  1.8743, -0.9941, -2.4078, -1.0579,  1.7215,\n",
      "         1.7622,  0.0492, -1.3635, -2.0520,  0.0530,  0.1801, -0.3180, -0.0769,\n",
      "         0.6254,  0.6935,  0.1496,  1.9723, -2.6546,  0.1678, -1.1528, -2.2197,\n",
      "        -1.7367,  0.0876, -0.2703,  0.2959, -1.1403,  1.4714,  0.2630,  0.7299,\n",
      "         1.1727,  0.2601, -1.7021, -0.1049, -0.0162, -1.3747,  1.2147, -1.1061,\n",
      "        -0.2986,  1.1104, -1.3616, -1.5066, -1.9391,  1.1543, -0.4516,  0.0663,\n",
      "        -1.9679,  0.9462, -0.4240, -0.2408, -0.5590, -1.2101,  1.9662, -1.4191,\n",
      "         1.5783,  2.1304,  0.9407, -1.5462, -1.8975,  1.6243,  0.6091,  0.0297,\n",
      "         0.5746,  0.4828, -0.7744, -0.1761,  1.0618, -1.2044,  0.0788,  2.3740,\n",
      "        -0.2123,  1.3230,  0.7288,  0.1631,  2.1397, -0.2105, -2.6415,  0.0403,\n",
      "        -0.9179, -0.7159,  1.1950, -1.2396, -0.0067,  0.4341,  0.0969,  0.2546,\n",
      "        -0.9724, -1.9846,  1.7250, -2.3046, -3.0685,  0.8641, -0.9770,  0.5268,\n",
      "         2.8899, -1.9325, -0.5954, -0.0652, -1.3534, -0.4075,  1.1063,  0.2043,\n",
      "         2.0646,  0.7537, -1.6168,  0.5421,  0.1720,  0.2364, -2.0474, -1.6760,\n",
      "        -3.0200, -0.5130,  0.2489,  0.9176, -0.2276,  0.7810,  0.4476, -0.4878,\n",
      "         0.5272, -0.3292,  2.0310, -2.3026,  2.4811, -1.0021, -2.0009, -1.2463,\n",
      "         1.6348,  0.3788, -2.7154,  0.8517, -2.7567, -1.5062, -0.7156,  1.8178,\n",
      "         0.5821,  2.2301,  0.0329, -0.6600, -0.5376,  1.7600, -0.0136, -0.2730,\n",
      "         1.9075, -1.4444,  0.4211,  2.8799, -0.9892, -1.2330, -0.5212,  1.0825,\n",
      "        -0.6774,  0.7307,  3.1035,  0.0665, -0.3806, -2.1821,  1.8856, -0.3368,\n",
      "        -0.5778,  1.3118,  0.0408, -1.5497, -2.5086, -2.8619, -0.2713,  0.2471,\n",
      "         0.2520,  0.8720,  0.0603, -1.0457,  0.7623,  0.1196,  0.8511,  0.0624,\n",
      "         0.5657,  1.1233, -1.2459, -0.5225,  0.5837,  0.1768, -0.2394, -2.2600,\n",
      "         1.1188, -2.3935, -0.0478, -0.5461, -0.0231, -0.5836,  0.8903,  1.2677,\n",
      "        -0.4637,  1.2392, -0.0762,  1.8009,  0.6594,  1.5361,  1.0505, -0.1252,\n",
      "        -1.3440, -0.1037, -2.2114,  0.9956, -1.4632, -0.5403, -0.4855,  0.0639,\n",
      "        -0.7158, -0.3725, -0.7695,  1.4565,  0.5625,  0.9472, -0.7802,  0.3082,\n",
      "         2.8598,  3.2824, -0.5693, -1.7007,  0.5482, -0.0448, -2.4222,  1.4092,\n",
      "         1.0878, -0.9733,  1.7482,  0.4457,  0.8144, -1.5875, -0.2610,  1.3054,\n",
      "        -1.0323,  2.5871,  0.7629,  1.4610,  1.4334, -1.5769,  0.1671, -1.8427,\n",
      "        -0.4890, -1.5354,  0.0659, -0.0487,  0.0968,  1.1040,  1.1331, -0.5289,\n",
      "        -0.6413,  0.5604,  0.1847,  1.6281, -0.2245, -1.6292,  0.3523,  0.5376,\n",
      "        -1.4208,  1.9525,  1.0950,  0.0887, -0.0420, -1.1120,  0.1241, -0.5191,\n",
      "        -0.7772,  2.2193, -2.3817,  0.2507, -0.6644, -2.1667, -1.4212,  2.8039,\n",
      "         2.1310,  1.4889,  0.9182,  0.6244, -3.1801,  0.3101,  1.1713,  0.3722,\n",
      "         1.5157,  2.0364,  0.6210,  1.8796,  2.3909,  0.3313,  2.3739,  0.6708,\n",
      "         0.7561,  0.1547,  0.0743, -0.7815, -2.3644,  0.3664, -3.2074, -0.1801,\n",
      "         0.3690,  1.1636,  1.9160, -1.8206, -2.1498, -0.7988, -1.1830,  2.1582,\n",
      "         0.1795,  0.5187, -1.3136, -0.2948, -0.3238,  1.9623,  1.3694,  0.6607,\n",
      "         0.0309,  0.6093,  0.0903,  0.8224, -0.9895,  1.7621, -0.6927,  1.3869,\n",
      "         0.5430, -2.7272, -0.6123, -0.3795,  1.3989, -0.0371, -0.1130, -0.1533,\n",
      "         1.4082,  0.9890, -3.7182,  2.2419,  0.4477, -0.1369,  2.3636,  0.6610,\n",
      "         1.3690, -1.6771,  0.1942, -1.6764, -2.1628,  2.8895,  1.2913,  0.0181,\n",
      "        -1.6609,  1.3223,  0.8216,  1.5958,  0.0359,  0.7193, -0.9663, -0.7858,\n",
      "        -2.1583,  0.7100, -0.9910,  1.4328, -0.0376, -0.2447, -0.2247, -1.5416,\n",
      "         0.3736,  0.9861,  0.9056,  0.0833,  2.0846,  1.0642, -2.0434, -0.1226,\n",
      "        -0.5142, -0.9630, -0.3956, -0.8682,  1.6512,  0.7981,  0.3306, -1.6668,\n",
      "         0.4585, -1.4279, -0.2757, -2.2199, -0.3370, -2.1473,  2.0218, -0.5054,\n",
      "         1.2187, -0.8693, -0.9296, -1.2854, -1.6030,  0.0821, -0.7705, -1.2818,\n",
      "         1.3172, -1.1256,  0.5681,  1.1532,  0.6769,  0.8241, -0.5697, -1.2055,\n",
      "         1.7948,  0.1074,  1.6087, -0.1144, -0.7758, -1.9604, -2.8809, -1.0666,\n",
      "         0.8343,  2.4747, -0.2827, -0.1678, -0.9805,  0.2619, -2.5635,  2.9699,\n",
      "        -2.4189, -1.3601,  0.5479, -1.1694, -0.6016,  0.7433,  1.3690,  0.7779,\n",
      "         0.5701,  1.5243,  2.0906,  1.0525,  0.5418,  0.5319,  1.1317,  1.1758,\n",
      "         1.1089, -0.6843, -2.2968, -2.1937, -1.2651,  2.4412,  1.4071, -0.6845,\n",
      "        -1.0390, -0.0152,  1.1521, -0.0369, -0.3869, -0.4759, -0.2064, -1.4798,\n",
      "         0.1032,  1.3247,  0.0407,  0.8837,  0.6416,  1.2143,  0.2717, -1.1302,\n",
      "         0.0543,  0.4201,  0.5445,  0.2932,  1.3659,  1.0911,  1.9775,  0.8016,\n",
      "        -1.3066,  0.1212,  0.8874, -1.5696, -1.1096, -1.7476, -0.9514,  2.4823,\n",
      "         0.1910,  1.1838,  2.0459, -2.9623,  0.0698,  0.6346, -0.4861, -0.6228,\n",
      "        -0.5214, -0.2350, -4.4528, -1.0175,  0.2996, -3.1660, -1.3699,  0.2264,\n",
      "         0.7187, -0.1092, -0.1145,  0.6415,  0.9003, -0.6611, -1.9080,  0.2695])), ('s_encoder.1.running_var', tensor([0.0336, 0.1117, 0.0418, 0.0271, 0.0958, 0.0270, 0.0856, 0.0184, 0.0204,\n",
      "        0.1413, 0.1908, 0.0169, 0.0184, 0.1174, 0.0297, 0.0176, 0.0463, 0.0141,\n",
      "        0.0177, 0.1111, 0.0546, 0.0251, 0.0632, 0.0573, 0.0217, 0.0256, 0.0404,\n",
      "        0.0954, 0.0247, 0.1047, 0.0363, 0.0407, 0.0138, 0.0167, 0.1059, 0.0192,\n",
      "        0.0717, 0.0243, 0.0727, 0.0433, 0.0233, 0.0276, 0.0243, 0.0963, 0.0361,\n",
      "        0.0303, 0.0351, 0.0928, 0.0784, 0.0167, 0.0403, 0.0304, 0.0363, 0.0253,\n",
      "        0.0898, 0.0202, 0.0306, 0.0150, 0.0465, 0.0304, 0.0178, 0.0336, 0.0824,\n",
      "        0.0178, 0.0553, 0.0422, 0.0287, 0.0540, 0.1089, 0.0448, 0.0246, 0.0316,\n",
      "        0.0269, 0.0262, 0.0316, 0.0761, 0.1061, 0.0569, 0.0842, 0.0159, 0.0643,\n",
      "        0.0540, 0.0325, 0.0495, 0.1026, 0.0423, 0.1179, 0.0399, 0.0144, 0.0309,\n",
      "        0.0234, 0.0298, 0.0474, 0.0324, 0.0446, 0.0424, 0.0296, 0.0748, 0.0148,\n",
      "        0.0603, 0.1310, 0.0328, 0.0241, 0.0132, 0.0217, 0.0515, 0.0248, 0.0579,\n",
      "        0.0404, 0.0306, 0.0224, 0.0219, 0.0276, 0.0281, 0.0691, 0.0385, 0.0259,\n",
      "        0.0380, 0.0152, 0.0373, 0.0629, 0.0438, 0.0272, 0.0517, 0.0234, 0.0631,\n",
      "        0.1035, 0.0232, 0.0207, 0.1145, 0.0310, 0.0365, 0.0756, 0.0349, 0.0455,\n",
      "        0.0344, 0.0142, 0.0398, 0.0347, 0.0785, 0.0826, 0.0576, 0.0242, 0.0542,\n",
      "        0.0210, 0.0160, 0.0413, 0.0362, 0.0257, 0.0283, 0.0499, 0.0410, 0.1249,\n",
      "        0.0361, 0.1188, 0.0833, 0.0513, 0.0467, 0.1191, 0.0248, 0.0213, 0.0122,\n",
      "        0.0663, 0.0482, 0.0450, 0.0234, 0.0318, 0.0393, 0.0926, 0.0233, 0.1316,\n",
      "        0.0290, 0.0679, 0.0248, 0.0214, 0.0310, 0.0208, 0.0378, 0.0697, 0.0363,\n",
      "        0.0957, 0.0294, 0.1220, 0.0612, 0.0200, 0.1251, 0.1100, 0.0206, 0.0306,\n",
      "        0.0182, 0.0496, 0.0555, 0.0269, 0.0346, 0.0369, 0.1191, 0.0293, 0.0695,\n",
      "        0.0500, 0.0667, 0.0814, 0.0280, 0.0953, 0.0357, 0.0317, 0.1045, 0.0378,\n",
      "        0.1389, 0.0291, 0.0179, 0.0465, 0.0338, 0.0890, 0.0232, 0.0765, 0.0457,\n",
      "        0.0179, 0.0236, 0.0106, 0.0166, 0.0454, 0.0973, 0.0207, 0.1037, 0.0903,\n",
      "        0.1033, 0.0189, 0.0283, 0.0590, 0.0298, 0.0252, 0.0231, 0.0684, 0.0281,\n",
      "        0.1035, 0.0392, 0.0184, 0.0247, 0.0368, 0.0413, 0.0294, 0.0203, 0.1335,\n",
      "        0.0350, 0.1405, 0.0214, 0.0267, 0.0266, 0.0367, 0.0424, 0.0367, 0.0328,\n",
      "        0.0414, 0.0988, 0.0214, 0.1022, 0.0263, 0.0284, 0.0682, 0.1062, 0.0218,\n",
      "        0.0223, 0.1073, 0.0826, 0.0287, 0.0206, 0.0303, 0.0367, 0.0894, 0.0719,\n",
      "        0.0164, 0.0388, 0.0488, 0.0151, 0.0375, 0.0647, 0.0294, 0.0204, 0.0243,\n",
      "        0.0206, 0.0885, 0.0254, 0.0328, 0.0438, 0.0446, 0.0249, 0.0371, 0.0275,\n",
      "        0.0533, 0.1052, 0.0936, 0.0802, 0.0196, 0.0595, 0.0262, 0.0250, 0.0459,\n",
      "        0.0337, 0.0187, 0.0568, 0.0153, 0.0625, 0.0215, 0.0930, 0.0468, 0.0228,\n",
      "        0.1020, 0.1560, 0.1147, 0.0312, 0.0422, 0.0409, 0.0305, 0.0859, 0.0751,\n",
      "        0.0934, 0.0370, 0.0457, 0.1357, 0.1334, 0.0415, 0.0242, 0.0204, 0.0295,\n",
      "        0.0511, 0.0503, 0.0163, 0.0800, 0.1054, 0.0569, 0.0780, 0.0994, 0.0464,\n",
      "        0.0751, 0.0948, 0.0720, 0.0470, 0.0395, 0.0198, 0.0579, 0.0405, 0.0657,\n",
      "        0.0808, 0.0830, 0.0313, 0.0475, 0.0240, 0.0371, 0.0547, 0.0334, 0.0276,\n",
      "        0.0714, 0.0273, 0.0407, 0.0171, 0.0353, 0.0557, 0.0273, 0.0151, 0.0288,\n",
      "        0.0608, 0.0493, 0.0510, 0.0363, 0.0230, 0.0490, 0.0114, 0.0204, 0.0365,\n",
      "        0.0232, 0.0267, 0.0398, 0.0236, 0.0232, 0.0203, 0.0657, 0.0307, 0.0155,\n",
      "        0.0304, 0.0321, 0.0308, 0.1016, 0.0401, 0.0193, 0.0339, 0.0609, 0.0163,\n",
      "        0.0204, 0.0810, 0.1578, 0.0458, 0.0803, 0.1251, 0.0412, 0.0757, 0.1307,\n",
      "        0.0963, 0.0223, 0.1111, 0.0606, 0.1109, 0.0143, 0.0935, 0.0798, 0.0309,\n",
      "        0.0979, 0.0959, 0.0174, 0.0280, 0.0196, 0.0277, 0.0824, 0.0381, 0.0673,\n",
      "        0.0365, 0.0498, 0.0674, 0.0236, 0.1048, 0.0668, 0.0373, 0.0587, 0.0322,\n",
      "        0.0750, 0.0224, 0.0299, 0.0396, 0.0442, 0.0237, 0.0141, 0.0287, 0.0395,\n",
      "        0.1061, 0.0161, 0.1227, 0.0944, 0.0552, 0.0160, 0.0311, 0.1051, 0.0484,\n",
      "        0.0422, 0.0535, 0.0488, 0.0904, 0.0199, 0.0455, 0.0338, 0.0448, 0.0858,\n",
      "        0.0297, 0.1030, 0.0751, 0.0265, 0.0875, 0.0356, 0.0336, 0.0216, 0.1351,\n",
      "        0.1139, 0.0350, 0.1064, 0.0199, 0.0329, 0.0427, 0.0263, 0.0263, 0.0892,\n",
      "        0.0274, 0.1217, 0.0538, 0.0671, 0.0362, 0.0476, 0.1588, 0.0302, 0.0493,\n",
      "        0.0548, 0.0649, 0.0657, 0.1030, 0.0359, 0.1406, 0.1382, 0.0274, 0.0761,\n",
      "        0.0395, 0.0280, 0.0812, 0.0202, 0.0302, 0.0215, 0.0488, 0.0930, 0.0234,\n",
      "        0.0498, 0.0445, 0.0263, 0.1032, 0.0954, 0.1196, 0.0431, 0.0385, 0.0187,\n",
      "        0.0697, 0.0417, 0.0181, 0.0601, 0.0317, 0.1052, 0.0261, 0.1120])), ('s_encoder.1.num_batches_tracked', tensor(498190)), ('s_encoder.2.weight', tensor([[ 0.0619, -0.0821, -0.0241,  ..., -0.0652,  0.1690,  0.1089],\n",
      "        [ 0.0372,  0.0210,  0.0570,  ...,  0.0470,  0.0429,  0.0455],\n",
      "        [ 0.0494, -0.0526, -0.0737,  ...,  0.0554, -0.0496,  0.0243],\n",
      "        ...,\n",
      "        [ 0.0410, -0.0609, -0.0817,  ..., -0.0114,  0.0824,  0.0761],\n",
      "        [-0.0835,  0.0072,  0.0256,  ..., -0.0371,  0.0311,  0.0503],\n",
      "        [-0.1611,  0.1363,  0.0306,  ..., -0.0189,  0.0189, -0.0154]])), ('s_encoder.2.bias', tensor([ 4.7698e-02,  4.3752e-02, -6.3867e-02, -2.6415e-02,  4.3969e-03,\n",
      "        -1.8553e-02,  4.9483e-02, -4.0221e-02,  3.9617e-02, -2.4886e-02,\n",
      "         3.1918e-02, -7.3487e-02,  5.6370e-02,  2.4923e-02,  4.3201e-02,\n",
      "        -3.4764e-02, -2.7064e-02,  4.7397e-02, -4.5904e-02, -2.0447e-02,\n",
      "         4.0679e-03, -7.5129e-02, -2.3605e-02, -6.0216e-02,  1.0859e-02,\n",
      "        -3.0112e-02,  1.2108e-02,  3.6912e-03, -3.9211e-02, -3.7929e-02,\n",
      "         7.2383e-02,  1.6826e-02,  1.0645e-02, -4.4552e-02,  1.8224e-02,\n",
      "        -4.4085e-02,  5.9143e-02, -4.9144e-02, -1.1371e-02,  3.8127e-02,\n",
      "        -2.0897e-02, -2.5315e-02, -1.5379e-02,  3.7164e-02, -7.4505e-02,\n",
      "         3.5591e-03,  9.7139e-03, -5.0715e-03,  5.6725e-02,  6.4042e-04,\n",
      "        -6.3752e-02,  5.8307e-03,  4.5825e-03, -4.7942e-02, -6.3782e-02,\n",
      "         4.3460e-03,  4.1567e-02,  1.7090e-02,  6.2250e-02, -7.0516e-04,\n",
      "        -1.8402e-02, -8.2524e-03,  2.8734e-02,  1.5245e-02,  5.2769e-02,\n",
      "        -4.9959e-02,  3.1025e-02,  5.1293e-02, -1.1989e-02, -7.8288e-02,\n",
      "         4.8786e-02,  4.9663e-02, -2.6713e-02, -4.1787e-02,  6.7296e-02,\n",
      "         9.6767e-02, -9.8761e-03,  6.4017e-02, -1.3987e-02,  1.3048e-03,\n",
      "         2.7075e-03, -5.9861e-02, -4.9379e-02, -2.6121e-02,  8.0776e-03,\n",
      "        -8.4326e-02,  4.0622e-03, -1.1251e-02, -6.8667e-03,  2.4492e-02,\n",
      "         6.0891e-03, -6.1992e-02, -6.1124e-02, -5.5186e-02, -6.9686e-03,\n",
      "        -7.8436e-02,  2.3305e-03,  3.2018e-02,  6.0235e-02, -6.1145e-02,\n",
      "         4.8701e-02, -1.2200e-02, -7.1303e-02,  1.7060e-02,  1.8654e-02,\n",
      "         4.3023e-02,  5.8441e-02,  6.4955e-02,  2.8814e-02,  4.5396e-05,\n",
      "        -7.4172e-02,  5.8842e-02,  4.1872e-02, -6.6610e-03,  1.2459e-03,\n",
      "         2.6959e-02, -3.7081e-02,  2.6292e-02,  7.6874e-02,  5.5679e-02,\n",
      "         2.4857e-02, -2.3070e-02,  2.9414e-02,  6.0566e-02,  6.6801e-03,\n",
      "         5.3941e-02, -1.7291e-02, -5.5703e-02, -1.5478e-02, -7.7814e-02,\n",
      "        -8.1459e-02, -7.2795e-02, -5.3964e-02, -2.1942e-02,  5.7394e-02,\n",
      "         4.8348e-02,  5.3791e-02,  1.5825e-02, -4.7515e-02,  3.6019e-02,\n",
      "        -2.9019e-02, -3.9600e-02,  7.1887e-02, -4.6559e-02,  1.7579e-02,\n",
      "        -4.4555e-02, -6.7643e-02, -4.4549e-02,  7.4420e-02,  3.9880e-02,\n",
      "        -4.1385e-02, -1.3778e-02,  2.5190e-02, -2.8728e-02,  3.4189e-02,\n",
      "         3.1717e-02, -3.1889e-02,  5.1243e-02, -2.2530e-02, -7.0275e-04,\n",
      "         4.8751e-02, -3.7690e-02, -3.5631e-02, -5.9951e-02,  2.8623e-02,\n",
      "         2.2508e-02, -7.3651e-02, -3.4750e-02,  2.8501e-02,  1.7444e-02,\n",
      "         2.5005e-02,  3.6319e-02,  2.3623e-02,  5.3285e-02,  4.0713e-02,\n",
      "        -6.4867e-02,  3.5420e-02,  9.4483e-03,  6.3627e-02,  6.2818e-02,\n",
      "        -6.6654e-02,  2.8246e-02, -6.3727e-02, -2.9428e-03, -2.1478e-02,\n",
      "         3.0210e-02, -1.9012e-03, -7.1622e-02, -6.9449e-02,  4.1697e-03,\n",
      "         1.0545e-02, -7.9873e-02, -4.6974e-02, -2.9192e-03, -7.6227e-02,\n",
      "         3.1987e-02, -2.6629e-02,  1.6315e-02,  5.9975e-02, -6.9844e-02,\n",
      "         1.1544e-02, -4.6626e-02,  6.9255e-02,  5.1929e-02, -2.0413e-02,\n",
      "        -1.0053e-02, -3.2807e-02,  6.0565e-02, -3.5716e-02,  4.9631e-02,\n",
      "         7.8210e-02, -2.3662e-03, -7.9041e-02,  3.8944e-02, -5.2151e-02,\n",
      "        -4.6464e-02, -3.8990e-02,  5.2964e-02, -2.5036e-02, -5.1779e-02,\n",
      "        -5.9417e-02,  1.1350e-02,  4.7929e-02,  1.0761e-02,  4.8716e-02,\n",
      "         2.2588e-02, -1.3837e-03,  4.1834e-02,  1.1100e-02,  1.8367e-02,\n",
      "         7.0913e-03, -7.1925e-02,  2.3887e-02, -9.6375e-03,  3.8813e-02,\n",
      "        -1.2501e-02, -6.0507e-02,  3.4436e-02, -1.4490e-02,  5.6851e-02,\n",
      "         6.6615e-02, -3.2523e-04, -4.8022e-02, -8.9462e-03, -2.9665e-02,\n",
      "         2.1596e-02, -1.9360e-03, -6.6743e-02, -2.8311e-02, -5.0309e-02,\n",
      "        -3.7379e-03, -6.4868e-02,  6.5206e-02, -9.8700e-03,  5.7429e-02,\n",
      "        -2.1630e-02, -2.3455e-02, -3.1909e-02, -5.2911e-02, -5.7780e-02,\n",
      "         2.4743e-03, -5.1020e-02,  1.3165e-02,  5.4147e-02, -2.3505e-02,\n",
      "        -1.9674e-02, -8.4417e-03, -5.7923e-02, -3.7552e-02, -3.5776e-02,\n",
      "        -6.3489e-02,  4.9328e-02,  7.3772e-02,  4.6538e-02, -3.0431e-02,\n",
      "        -7.2432e-03, -1.9138e-04, -2.9203e-02, -7.0382e-02,  3.1057e-02,\n",
      "         1.1197e-02,  7.3762e-02, -6.8086e-02, -1.9700e-02, -6.1335e-02,\n",
      "        -4.3988e-02, -6.6109e-02,  7.8801e-02,  7.4902e-02, -6.5386e-02,\n",
      "         4.3294e-03, -4.1617e-02, -3.9845e-02, -5.7450e-02, -1.6653e-02,\n",
      "         2.2762e-02, -6.4071e-02, -1.3408e-02, -5.4853e-02,  1.9328e-03,\n",
      "        -6.6037e-02,  4.3829e-02,  4.9034e-02,  1.8410e-02,  3.4840e-02,\n",
      "         5.3907e-02, -7.5428e-03,  1.3528e-02, -1.8637e-02,  4.6520e-02,\n",
      "        -2.7567e-02,  9.3858e-03,  1.9178e-02,  3.9461e-03,  1.0535e-02,\n",
      "        -2.7215e-02, -6.6862e-02,  6.4548e-02, -5.0796e-02,  1.3583e-02,\n",
      "        -4.1404e-02,  4.3177e-02,  6.1824e-02, -6.5046e-02,  7.1358e-02,\n",
      "        -1.0134e-02, -6.2861e-02,  1.6137e-02,  2.5636e-02, -4.7680e-02,\n",
      "        -3.7631e-02, -6.3884e-03, -5.0491e-02,  1.2526e-02, -2.8138e-02,\n",
      "        -3.9421e-02,  2.9575e-02, -8.0069e-02,  2.5721e-02, -3.2071e-02,\n",
      "         5.1806e-03, -4.1654e-02,  3.6392e-02,  4.2865e-02, -4.0804e-02,\n",
      "         6.8771e-02,  4.1570e-02,  5.9096e-02, -5.5991e-02,  7.7665e-02,\n",
      "         1.0997e-02, -4.8154e-02,  8.5069e-02, -4.2413e-02, -4.0462e-02,\n",
      "        -2.5303e-02,  5.0194e-02, -6.1350e-03,  6.2099e-02,  3.5456e-02,\n",
      "        -3.7163e-02, -5.7560e-02, -6.0638e-02, -3.5745e-02, -6.5746e-02,\n",
      "        -6.3342e-02, -1.1832e-02,  5.2498e-02, -1.2904e-02,  1.3882e-02,\n",
      "        -1.3668e-02, -3.1690e-03,  2.0194e-02, -1.2302e-02, -5.1026e-02,\n",
      "         7.2520e-02, -3.6719e-02,  4.0429e-02, -3.3965e-02,  3.2039e-02,\n",
      "        -6.6399e-02, -7.4398e-02, -7.8659e-02,  1.6931e-02,  2.0748e-02,\n",
      "        -6.3149e-02,  4.2440e-02,  3.8712e-02, -6.9718e-03,  1.4116e-02,\n",
      "         7.7490e-02, -5.1352e-02,  5.0085e-02,  3.7644e-02, -6.2659e-02,\n",
      "         7.2047e-02, -2.2619e-02,  7.0992e-02,  4.1116e-02,  5.5119e-02,\n",
      "        -5.5238e-02,  7.9515e-04,  4.3602e-02, -4.0873e-02,  8.1276e-02,\n",
      "         6.0879e-02, -7.8047e-03, -7.3720e-02, -3.6204e-03,  2.1180e-03,\n",
      "         6.8644e-02, -4.7473e-02,  2.9494e-02, -6.1419e-02,  1.6057e-02,\n",
      "        -6.0664e-02, -4.6595e-02, -7.0677e-02,  1.8447e-02,  7.6926e-02,\n",
      "        -1.9564e-02, -3.0755e-02,  3.6719e-02, -7.6090e-02, -3.6940e-02,\n",
      "         7.3393e-02, -5.2667e-02,  4.0284e-02,  5.5564e-02,  2.5442e-03,\n",
      "        -5.6408e-03, -2.4153e-02, -1.9439e-03,  5.5653e-02,  8.2008e-03,\n",
      "        -1.8340e-03, -3.5785e-03, -5.6624e-02, -4.8915e-02,  3.7112e-02,\n",
      "         5.5765e-02,  7.6955e-02, -1.4067e-02, -1.8021e-02, -6.1174e-02,\n",
      "        -5.0800e-02,  4.0648e-03,  6.5353e-02, -5.2905e-03,  3.1940e-02,\n",
      "        -6.0328e-02,  6.7993e-02, -7.5258e-03,  7.3780e-02,  2.4367e-02,\n",
      "        -4.5052e-02,  6.3589e-02,  6.7149e-02,  7.0319e-02, -3.4804e-03,\n",
      "        -1.6387e-02, -4.1759e-02, -5.5829e-02, -2.7455e-02,  2.1840e-02,\n",
      "         1.8996e-02, -5.4028e-02, -1.3445e-02,  5.2842e-02, -2.8239e-02,\n",
      "        -3.2833e-02, -6.9564e-02,  1.5491e-02,  4.7517e-02,  6.4149e-02,\n",
      "        -1.3368e-02,  6.5061e-02, -2.7126e-02, -7.1108e-02,  3.1703e-02,\n",
      "        -9.8864e-03, -5.5625e-03,  7.7380e-02, -6.8635e-02, -4.3041e-02,\n",
      "         6.3971e-02,  6.7553e-02,  6.3587e-02, -2.9939e-02,  3.4886e-02,\n",
      "        -4.5138e-02, -5.7461e-02, -6.4186e-02, -5.3284e-02,  2.5739e-02,\n",
      "        -5.2286e-02,  4.1094e-02, -3.2383e-02, -2.0326e-02, -8.4976e-03,\n",
      "         2.0347e-02, -5.1627e-02, -7.0647e-02,  3.7792e-04,  1.0950e-02,\n",
      "         6.7094e-02, -4.3612e-02,  6.3131e-02,  7.8271e-02, -6.9699e-02,\n",
      "         3.6656e-02,  4.5192e-02])), ('s_encoder.3.weight', tensor([ 1.0069e-01, -1.6609e-03,  5.8426e-04,  5.2562e-04,  1.2932e-01,\n",
      "        -1.1698e-03,  1.0995e-01, -2.5505e-03, -5.6322e-03, -2.8555e-03,\n",
      "        -1.3675e-03,  1.0511e-01,  5.0371e-04,  7.8427e-03, -2.2803e-03,\n",
      "        -1.8762e-03,  3.3498e-03,  2.2913e-04, -1.7052e-03, -3.0061e-05,\n",
      "         1.8077e-03,  3.1167e-02, -6.7794e-02, -4.2046e-02,  3.6011e-03,\n",
      "         7.9704e-02, -2.1497e-03,  1.3953e-01,  7.0529e-02,  1.3749e-03,\n",
      "        -7.0870e-04,  1.6955e-04,  2.2581e-04, -3.5401e-03, -6.7913e-02,\n",
      "         1.6528e-01,  5.9674e-02,  1.4816e-03,  3.5639e-02,  8.7456e-02,\n",
      "         2.9671e-02, -1.6787e-01, -5.7744e-04,  6.1071e-03, -9.7604e-03,\n",
      "         3.1758e-04,  4.2296e-02,  9.1949e-04, -1.3940e-03,  3.8797e-02,\n",
      "        -8.1392e-04,  6.8484e-02, -5.0108e-04, -4.3995e-03,  1.2027e-03,\n",
      "         1.6116e-03,  8.2326e-04, -1.4415e-01, -6.9701e-04,  3.4069e-03,\n",
      "        -1.1381e-01,  3.6023e-04,  6.9967e-04, -1.0333e-01, -7.1418e-04,\n",
      "        -3.8139e-02, -3.9384e-04, -4.3111e-02, -4.8379e-02,  3.8786e-02,\n",
      "        -4.2872e-02,  9.2495e-04, -4.7670e-03,  1.0789e-03, -6.5462e-04,\n",
      "         5.2355e-02,  4.8649e-04, -1.2105e-01, -1.2691e-03,  6.9937e-03,\n",
      "        -6.3524e-02,  1.3049e-03, -1.0057e-03, -5.2864e-03, -6.3987e-03,\n",
      "         1.1272e-01, -4.2863e-03, -6.2701e-04, -7.2382e-02,  1.1295e-03,\n",
      "         2.2913e-04,  1.0046e-03, -5.3351e-02,  1.2594e-01, -1.4539e-03,\n",
      "        -7.7058e-05, -3.3969e-04,  4.4487e-02,  4.9126e-02, -1.0660e-01,\n",
      "        -1.6863e-03, -1.0930e-01,  1.9473e-03,  4.0935e-02,  9.2825e-03,\n",
      "         9.6864e-04, -1.0844e-01, -8.0409e-03,  3.4991e-04, -8.1763e-02,\n",
      "        -1.7675e-03, -6.7846e-02, -9.0954e-03,  8.0584e-04,  1.4245e-01,\n",
      "        -6.5125e-02,  1.7842e-03,  4.7192e-03,  3.6173e-03,  8.6573e-02,\n",
      "        -3.4061e-03,  7.1634e-02,  6.7867e-02, -6.5685e-03, -1.3610e-01,\n",
      "        -9.4306e-04,  7.2860e-03, -8.4184e-02, -6.6511e-02,  1.1669e-01,\n",
      "        -6.7432e-04,  9.4754e-03,  7.7540e-03,  1.2004e-03,  4.9295e-03,\n",
      "        -8.6461e-03, -9.8493e-02, -1.6921e-03, -1.2234e-02,  1.3334e-01,\n",
      "         8.0809e-02, -1.1229e-01, -1.7840e-03, -6.9753e-02, -1.0573e-03,\n",
      "         7.5238e-02, -1.3588e-03,  3.6134e-03,  3.0339e-04, -5.0100e-03,\n",
      "         6.0037e-02,  1.7470e-03,  8.9856e-02,  1.3898e-01,  1.2275e-01,\n",
      "         8.1416e-03,  5.5558e-02,  6.1590e-03,  4.0078e-04, -7.6423e-02,\n",
      "         6.5598e-04, -2.9954e-03,  3.7345e-02, -6.5083e-03, -3.2390e-03,\n",
      "        -1.3359e-03, -1.2404e-01, -6.1226e-03,  1.5600e-01,  6.1058e-02,\n",
      "         5.1429e-03, -3.1496e-04, -1.1854e-03, -1.8026e-03,  5.0904e-03,\n",
      "        -1.4062e-01,  1.4014e-03, -1.9374e-03,  4.8009e-04, -2.1933e-04,\n",
      "         1.2170e-01, -1.1646e-02,  1.0948e-01,  5.5419e-04,  2.2224e-03,\n",
      "         4.9920e-03,  4.2793e-03, -9.8868e-02,  4.0721e-02, -1.1138e-01,\n",
      "         8.5930e-04,  8.4401e-04,  2.2089e-03, -6.8743e-02, -3.0234e-03,\n",
      "         9.6521e-02, -1.7401e-04, -2.1433e-03, -6.5576e-02, -1.3498e-04,\n",
      "        -3.0153e-03, -7.5097e-02,  2.2049e-05,  6.3683e-02,  7.7929e-03,\n",
      "        -6.3502e-03,  4.5895e-02, -6.5164e-02, -4.4453e-02, -2.9211e-02,\n",
      "        -1.2173e-01, -1.1369e-01, -5.2056e-04, -5.8694e-02, -5.1027e-03,\n",
      "        -7.1532e-02, -2.4060e-03,  1.5870e-01, -5.3003e-02, -5.2117e-04,\n",
      "        -9.6178e-04,  1.0429e-01,  1.3602e-03,  1.0808e-03, -4.2145e-02,\n",
      "         1.5757e-03,  3.5312e-03,  2.2178e-03,  1.0426e-03,  4.7069e-03,\n",
      "         8.4271e-02,  8.8954e-04, -1.1107e-01, -4.7604e-03,  5.6739e-03,\n",
      "         2.2997e-04, -5.1346e-02, -1.1644e-04,  1.6210e-04, -5.9613e-03,\n",
      "         1.3975e-01,  7.4223e-03, -1.0366e-02,  6.3339e-04, -2.4180e-03,\n",
      "         9.3400e-02,  1.5179e-01, -1.0187e-03,  6.7996e-02,  4.8486e-04,\n",
      "        -1.4433e-01, -1.8420e-04,  9.7108e-02,  1.2753e-03, -7.1033e-02,\n",
      "        -1.1808e-03, -1.4865e-03, -1.4827e-01, -1.2763e-01, -2.4347e-04,\n",
      "        -8.9966e-02, -1.4972e-01, -1.2858e-03, -1.0751e-01, -1.0381e-01,\n",
      "        -7.1185e-02, -2.7320e-04, -1.0600e-01, -1.0300e-01,  2.1301e-02,\n",
      "         3.2336e-03, -9.8755e-02,  8.9317e-02,  1.5423e-03, -5.7328e-03,\n",
      "        -1.4463e-01, -9.6371e-02, -2.6028e-04, -1.0965e-01,  6.2990e-03,\n",
      "        -3.9255e-02,  8.7782e-03, -2.2505e-03, -6.5504e-04, -5.2436e-04,\n",
      "         1.0116e-03,  1.0913e-01,  1.1659e-03, -4.7446e-04,  1.7196e-03,\n",
      "        -6.9248e-04, -2.6941e-03, -5.6137e-04, -1.0409e-03,  9.1613e-04,\n",
      "        -5.9288e-02,  1.0347e-03,  1.2746e-01,  3.2838e-03,  2.1392e-03,\n",
      "        -1.3106e-04,  3.9161e-03,  1.0159e-03,  1.8436e-03,  1.2057e-03,\n",
      "        -1.3116e-01, -2.2328e-03,  2.0134e-03, -5.0373e-03, -1.0164e-01,\n",
      "         1.1358e-01, -3.6521e-04,  2.3148e-04, -1.1687e-01,  6.5799e-03,\n",
      "        -2.1585e-03,  1.1072e-01, -4.6013e-02,  3.4490e-04, -1.2335e-01,\n",
      "        -1.4909e-03, -1.5426e-04,  5.6579e-04,  7.1764e-03, -1.5695e-04,\n",
      "         6.1943e-03,  4.2995e-02,  6.4697e-02,  7.2864e-02, -1.0521e-03,\n",
      "         1.0420e-03, -6.7159e-02,  1.3075e-03, -8.7335e-02,  5.2664e-02,\n",
      "        -1.0622e-03, -6.6001e-03,  3.5198e-03,  1.2382e-03, -6.6171e-04,\n",
      "        -2.6503e-04, -9.4775e-02,  3.2693e-03,  2.0825e-03,  6.5870e-04,\n",
      "         6.2074e-02,  4.8440e-04,  4.9949e-02, -5.8042e-03, -1.2023e-02,\n",
      "        -3.1113e-04, -7.7028e-02,  8.5808e-02,  7.6553e-03,  8.0818e-04,\n",
      "         9.4556e-02, -3.7532e-02, -2.2276e-02, -9.1817e-03,  7.7011e-02,\n",
      "        -9.8280e-04, -1.0146e-01,  8.0597e-04,  1.1814e-03, -2.4671e-03,\n",
      "        -2.4642e-03, -5.2651e-02,  7.0323e-03,  1.3475e-03, -1.8368e-03,\n",
      "         1.1083e-03, -3.2402e-03, -6.4584e-03,  9.6480e-03, -9.4236e-03,\n",
      "        -9.2782e-04,  1.0385e-03,  9.6683e-02,  3.2297e-02,  6.7739e-04,\n",
      "         9.8450e-04, -4.7888e-03, -3.2981e-03,  1.3772e-01, -1.3917e-01,\n",
      "         1.0567e-03, -3.3201e-02,  1.2692e-01,  8.5605e-02,  3.9474e-04,\n",
      "        -5.0878e-03, -5.3646e-03,  1.0333e-01, -5.3894e-03, -1.1474e-01,\n",
      "        -2.4925e-03, -9.4208e-05, -4.8391e-02,  2.8503e-02, -1.1975e-01,\n",
      "         2.5969e-04, -6.7394e-02,  1.0748e-01,  9.0276e-04,  1.6400e-03,\n",
      "        -3.0958e-03, -7.8608e-02,  1.0753e-01, -6.1364e-04, -1.5946e-01,\n",
      "        -1.3354e-04,  1.5117e-03, -1.0915e-03,  6.4688e-02,  2.5738e-04,\n",
      "         1.1207e-01,  1.2156e-02,  3.5877e-03, -7.4226e-02, -9.4057e-02,\n",
      "        -5.8715e-04,  1.4899e-03,  1.2351e-01,  6.1834e-02,  1.5702e-03,\n",
      "         7.3671e-02,  8.9229e-02,  1.2765e-03,  8.7501e-02, -5.5498e-03,\n",
      "        -1.0346e-01, -1.2055e-01,  1.4012e-03,  9.9342e-03, -5.8827e-03,\n",
      "         1.4730e-03,  9.6685e-02,  2.1543e-04, -1.2732e-03,  3.9675e-04,\n",
      "         2.6647e-03, -3.0384e-03,  1.4704e-01, -1.1122e-01,  8.8476e-02,\n",
      "         2.4679e-04,  7.6978e-03,  7.0768e-03,  2.3248e-03, -1.2796e-01,\n",
      "         1.1665e-03,  1.7359e-03,  6.2626e-03, -2.3289e-04, -1.3313e-01,\n",
      "        -4.0894e-05,  4.0541e-03, -1.5308e-03, -9.1778e-03, -5.2317e-03,\n",
      "         5.2856e-04,  1.0891e-01, -1.3439e-01,  7.6956e-04,  5.8814e-03,\n",
      "         1.7910e-03, -9.1317e-04, -9.8109e-02, -1.3272e-01, -6.3446e-03,\n",
      "        -3.5130e-02, -6.8336e-04, -6.9625e-04,  7.9186e-04,  1.9616e-01,\n",
      "        -6.1662e-03,  7.4054e-03,  4.3067e-02,  4.8959e-02, -8.3467e-03,\n",
      "        -4.0515e-04, -9.6830e-03,  8.4366e-02,  4.0439e-03,  5.5223e-04,\n",
      "        -1.6124e-01, -2.7413e-03,  4.2653e-03,  1.2784e-03, -8.0282e-02,\n",
      "        -7.0839e-02, -6.2281e-04,  4.5290e-03,  4.5008e-04, -1.8863e-03,\n",
      "         1.3949e-04,  9.1374e-02, -1.2746e-03,  3.0788e-03, -2.2408e-02,\n",
      "         3.6869e-04,  7.6025e-02,  1.3520e-03,  1.5339e-03, -8.1781e-03,\n",
      "         3.3450e-03, -1.3483e-01, -8.4193e-02, -1.2500e-03,  7.6623e-04,\n",
      "        -3.9436e-03,  6.4994e-02])), ('s_encoder.3.bias', tensor([-0.1327, -0.0133, -0.0096, -0.0070, -0.1391,  0.6312, -0.1025, -0.0212,\n",
      "        -0.0621,  0.2858, -0.0115, -0.1326, -0.0042,  0.0938, -0.0463, -0.0160,\n",
      "         0.4054, -0.0024, -0.0266, -0.0020, -0.0146, -0.0956, -0.0166, -0.1590,\n",
      "        -0.0321, -0.1142, -0.0172, -0.1773, -0.1629, -0.0112, -0.0060, -0.0277,\n",
      "        -0.0087,  0.3370, -0.1667, -0.3215, -0.0755, -0.0152, -0.0570, -0.1896,\n",
      "        -0.0939, -0.3376, -0.0339,  0.8504, -0.0855,  0.3078, -0.0822, -0.0123,\n",
      "        -0.0161, -0.0941, -0.0097, -0.0931, -0.0050, -0.0364, -0.0117, -0.0155,\n",
      "        -0.0069, -0.1353, -0.0072, -0.0704, -0.1442, -0.0048, -0.0074, -0.1187,\n",
      "        -0.0123, -0.0965, -0.0049, -0.1009, -0.1057, -0.0666, -0.0677, -0.0226,\n",
      "         0.2101, -0.0174, -0.0068,  0.0118, -0.0154, -0.1293, -0.0108, -0.0580,\n",
      "        -0.0927, -0.0305, -0.0109, -0.0466,  0.4536, -0.1268,  0.4867, -0.0054,\n",
      "        -0.1131,  0.0448, -0.0083, -0.0092, -0.0813, -0.1499, -0.0129, -0.0090,\n",
      "        -0.0092, -0.0542, -0.1419, -0.1356, -0.0152, -0.2241, -0.0230, -0.1227,\n",
      "         0.0863, -0.0077, -0.1358, -0.0653, -0.0116, -0.1264, -0.0639, -0.1130,\n",
      "        -0.0877, -0.0114, -0.1676, -0.1046, -0.0149, -0.0406, -0.0310, -0.1829,\n",
      "         0.5280, -0.1700, -0.0654, -0.0558, -0.1346, -0.0220, -0.0630, -0.1078,\n",
      "        -0.1367, -0.1326, -0.0086,  0.0053, -0.0717, -0.0108, -0.0499, -0.0781,\n",
      "        -0.1694, -0.0148,  0.5833, -0.1609, -0.1667, -0.1456, -0.0158, -0.0862,\n",
      "        -0.0117, -0.1491, -0.0143, -0.0315, -0.0096, -0.0494, -0.0418, -0.0181,\n",
      "        -0.1825, -0.1741, -0.1513,  0.5729, -0.1219,  0.3184, -0.0185, -0.1627,\n",
      "        -0.0063,  0.4762, -0.0568,  0.3163, -0.0340, -0.0199, -0.1053,  0.2719,\n",
      "        -0.1389, -0.1215, -0.0601, -0.0164, -0.0122, -0.0180, -0.0522, -0.1229,\n",
      "        -0.0121, -0.0544, -0.0049, -0.0209, -0.0911, -0.1030, -0.1395, -0.0087,\n",
      "        -0.0239, -0.0746,  0.5153, -0.1165, -0.0671, -0.1361, -0.0110, -0.0109,\n",
      "        -0.0206, -0.0931,  0.2453, -0.2000, -0.0025, -0.0217, -0.1238, -0.0014,\n",
      "         0.4239, -0.1602, -0.0614, -0.1393, -0.1056,  0.5816, -0.0781, -0.0897,\n",
      "        -0.0705, -0.0703, -0.1389, -0.1313, -0.0078, -0.0888, -0.0687, -0.0893,\n",
      "        -0.0332, -0.1590, -0.0661, -0.0056, -0.0080, -0.0509, -0.0129, -0.0097,\n",
      "        -0.1691,  0.0983, -0.0522, -0.0187, -0.0176,  0.7460, -0.1502, -0.0079,\n",
      "        -0.1294,  0.1905, -0.0832, -0.0031, -0.0094, -0.0103, -0.0021, -0.0586,\n",
      "        -0.1436, -0.0698,  0.0897, -0.0168, -0.0259, -0.1182, -0.1628, -0.0104,\n",
      "        -0.1559, -0.0063, -0.1356, -0.0061, -0.0449, -0.0177, -0.1434, -0.0106,\n",
      "        -0.0121, -0.1885, -0.1544, -0.0058, -0.1180, -0.1637, -0.0651, -0.1506,\n",
      "        -0.1233, -0.1581, -0.0088, -0.1212, -0.1821,  0.0272,  0.2193, -0.1485,\n",
      "        -0.1183, -0.0131,  0.0849, -0.1612, -0.1302, -0.0053, -0.1302, -0.0629,\n",
      "        -0.0737,  0.8745, -0.0216, -0.0053, -0.0056,  0.7583, -0.1194, -0.0161,\n",
      "        -0.0102,  0.1720, -0.0067, -0.0220, -0.0083, -0.0096, -0.0076, -0.0847,\n",
      "        -0.0091, -0.1704,  0.4085, -0.0330,  0.1832, -0.0346, -0.0092, -0.0158,\n",
      "        -0.0125, -0.1545,  0.0507, -0.0161, -0.0771, -0.2058, -0.1420, -0.0036,\n",
      "        -0.0059, -0.1270, -0.0878, -0.0178, -0.1387, -0.1646, -0.0055, -0.1389,\n",
      "        -0.0172, -0.0117, -0.0060, -0.0623, -0.0071,  0.0564, -0.0700, -0.1636,\n",
      "        -0.2061, -0.0146, -0.0105, -0.0377, -0.0270, -0.1834, -0.1377, -0.0089,\n",
      "        -0.0555,  0.3422, -0.0121, -0.0112,  0.4218, -0.1885, -0.0288, -0.0254,\n",
      "        -0.0091, -0.0883, -0.0089, -0.0658, -0.0787, -0.0999, -0.0081, -0.1267,\n",
      "        -0.1845, -0.0665, -0.0069, -0.2141, -0.1660, -0.1785, -0.0764, -0.1233,\n",
      "        -0.0102, -0.1045, -0.0076,  0.6801,  0.3654, -0.0226, -0.1609, -0.0578,\n",
      "         0.1734, -0.0152, -0.0089,  0.0659,  0.7557,  0.4321, -0.0755, -0.0099,\n",
      "        -0.0114, -0.1976,  0.0285, -0.0226,  0.8222, -0.0456, -0.0480, -0.2871,\n",
      "        -0.1433, -0.0100, -0.1031, -0.1416, -0.1831, -0.0237,  0.5716,  0.9767,\n",
      "        -0.1531, -0.0528, -0.1327,  0.4106,  0.2459, -0.0767, -0.0798, -0.1466,\n",
      "        -0.0066, -0.1169, -0.1382, -0.0133, -0.0183, -0.0339, -0.1755, -0.1255,\n",
      "        -0.0056, -0.1763, -0.0225, -0.0150, -0.0122, -0.1088, -0.0035, -0.1355,\n",
      "        -0.0022, -0.0653, -0.0822, -0.2079, -0.0172, -0.0152, -0.1232, -0.0859,\n",
      "        -0.0206, -0.0817, -0.1301, -0.0190, -0.1150, -0.0654, -0.1161, -0.1319,\n",
      "        -0.0151,  0.8131,  0.3495, -0.0224, -0.1109, -0.0031, -0.0106, -0.0046,\n",
      "         0.2823, -0.0266, -0.3035, -0.1361, -0.1974, -0.0053,  0.1744, -0.0576,\n",
      "         0.3893, -0.1595, -0.0103, -0.0205, -0.0516, -0.0059, -0.1542, -0.0090,\n",
      "        -0.0374, -0.0140,  0.0146,  0.0343, -0.0049, -0.1237, -0.1726, -0.0080,\n",
      "         0.1767, -0.0188, -0.0077, -0.1214, -0.1522, -0.0852, -0.0625, -0.0308,\n",
      "        -0.0098, -0.0172, -0.3030,  0.2871, -0.0616, -0.0937, -0.0767, -0.0905,\n",
      "        -0.0102, -0.0772, -0.0972,  0.2812, -0.0145, -0.1954, -0.0276, -0.0346,\n",
      "        -0.0107, -0.0954, -0.1490, -0.0075, -0.0478, -0.0057, -0.0194, -0.0117,\n",
      "        -0.1063, -0.0109,  0.2495, -0.0810, -0.0043, -0.1692, -0.0109, -0.0223,\n",
      "         0.1574,  0.4432, -0.1573, -0.1794, -0.0103, -0.0072, -0.0398, -0.1041])), ('s_encoder.3.running_mean', tensor([ 0.0895,  0.0953, -0.0169,  0.0016,  0.1553,  0.1687,  0.2042, -0.0034,\n",
      "         0.1139, -0.0426,  0.0098,  0.0044, -0.0982, -0.1409, -0.0168, -0.0433,\n",
      "        -0.0722,  0.1211,  0.0311,  0.0084,  0.0442, -0.2573, -0.2340, -0.0227,\n",
      "         0.0939,  0.0198,  0.0990,  0.1055, -0.0164,  0.1714,  0.2128, -0.0504,\n",
      "        -0.0685, -0.4082,  0.1276,  0.1337,  0.0556,  0.0277,  0.0359,  0.1468,\n",
      "        -0.0972, -0.1875, -0.0710,  0.0407, -0.1639, -0.0214, -0.0048, -0.0574,\n",
      "         0.1768, -0.1322,  0.0320, -0.0518,  0.0776, -0.0572, -0.0191,  0.0478,\n",
      "        -0.0047, -0.1339,  0.1211, -0.0091, -0.1097,  0.0567, -0.0020,  0.0074,\n",
      "         0.2117,  0.0726,  0.0632,  0.2224, -0.1362, -0.0361,  0.0577,  0.1249,\n",
      "        -0.1866, -0.0371,  0.0739,  0.3349,  0.0999, -0.0281,  0.0242, -0.0976,\n",
      "         0.0062,  0.1359, -0.0681,  0.0239,  0.1620, -0.0573, -0.0609, -0.0342,\n",
      "         0.0848, -0.3034, -0.1341, -0.2265, -0.0842,  0.0393, -0.0077, -0.1467,\n",
      "         0.1414,  0.1596,  0.0148, -0.0617,  0.0618, -0.0580, -0.0361, -0.1198,\n",
      "        -0.0144,  0.0387, -0.0676,  0.0473,  0.1052, -0.0075, -0.0755, -0.0916,\n",
      "         0.2094,  0.0836,  0.1534,  0.0258,  0.0162,  0.0403,  0.0486,  0.2012,\n",
      "         0.0045, -0.2200, -0.0173, -0.0798, -0.0640, -0.0027,  0.0466,  0.0751,\n",
      "        -0.1681,  0.0497, -0.2007, -0.1178,  0.0408, -0.0406, -0.0551,  0.0091,\n",
      "         0.0179,  0.0958, -0.0574,  0.1308,  0.1269, -0.0586,  0.0470, -0.0435,\n",
      "         0.0331, -0.0468, -0.0402, -0.0165,  0.0323,  0.0860, -0.3864, -0.0606,\n",
      "         0.0466,  0.1208,  0.1143,  0.0785, -0.1659,  0.2829, -0.1885, -0.0385,\n",
      "         0.0517, -0.1139,  0.0942, -0.3119,  0.0101,  0.0138, -0.0360, -0.1004,\n",
      "         0.0146, -0.1185,  0.0604,  0.1581, -0.0592, -0.0677,  0.0915, -0.1521,\n",
      "         0.0219,  0.0471,  0.1078, -0.0093, -0.0583,  0.0108,  0.0780,  0.0178,\n",
      "        -0.0939,  0.0679,  0.0249, -0.1999, -0.0044, -0.1864,  0.0380, -0.0297,\n",
      "        -0.1004, -0.0485, -0.2464,  0.2463,  0.0147, -0.0362,  0.0692, -0.0788,\n",
      "         0.3018, -0.0602,  0.1076, -0.1049,  0.0164, -0.2027,  0.0563,  0.1921,\n",
      "        -0.1253,  0.0024, -0.0414, -0.1560, -0.2616, -0.0637, -0.0264, -0.1712,\n",
      "        -0.0674, -0.1491,  0.0295, -0.0074, -0.0989,  0.1707,  0.0845, -0.0107,\n",
      "        -0.0203, -0.0202,  0.0422, -0.0424, -0.0229,  0.1136,  0.0494, -0.0357,\n",
      "         0.0728, -0.0727,  0.1087,  0.0292,  0.1232, -0.0575, -0.0371,  0.0543,\n",
      "         0.2314,  0.0735, -0.1582, -0.0110, -0.0258,  0.2201,  0.1755, -0.1602,\n",
      "         0.0593, -0.1463, -0.0532,  0.0170,  0.1937,  0.0604,  0.0968,  0.0046,\n",
      "         0.0012,  0.2029, -0.1590, -0.0832, -0.0117, -0.1251,  0.0382, -0.0628,\n",
      "        -0.1507, -0.1127, -0.1369, -0.2338, -0.0459,  0.0882, -0.3244, -0.1295,\n",
      "         0.2025,  0.1451,  0.0087, -0.1345, -0.0462,  0.0382, -0.1404, -0.0226,\n",
      "         0.1481,  0.3093, -0.0189, -0.0415, -0.0468,  0.0899, -0.0077,  0.1088,\n",
      "         0.0389, -0.0682,  0.0334, -0.1725, -0.0757, -0.0087, -0.0077, -0.0346,\n",
      "        -0.0537,  0.0988, -0.2437,  0.0593, -0.3082,  0.0900,  0.1343, -0.0047,\n",
      "        -0.1147,  0.0218, -0.1378,  0.0080,  0.0013,  0.0028, -0.0212, -0.0170,\n",
      "         0.0131, -0.1024, -0.0577,  0.0280, -0.0356,  0.0141, -0.0492, -0.1120,\n",
      "        -0.1391,  0.0154,  0.0379, -0.1294,  0.0215, -0.1936,  0.0782,  0.0151,\n",
      "        -0.0438, -0.1155, -0.0813, -0.0428, -0.0195, -0.1084, -0.0507, -0.0187,\n",
      "         0.1234,  0.1335, -0.1442,  0.0295,  0.2104, -0.1289,  0.0237,  0.0273,\n",
      "        -0.0465, -0.1259,  0.0890,  0.0959,  0.0017,  0.1048, -0.0592, -0.1222,\n",
      "         0.1676, -0.0752, -0.0342,  0.0698, -0.1868,  0.0329,  0.1100,  0.0335,\n",
      "        -0.0250, -0.1780, -0.0839, -0.1037,  0.0063, -0.0241,  0.0007,  0.0900,\n",
      "         0.0257,  0.0109, -0.0095, -0.1583,  0.0526,  0.0147, -0.0339,  0.0258,\n",
      "        -0.0625,  0.0579,  0.0111,  0.0088, -0.2745, -0.0572, -0.1084,  0.1538,\n",
      "        -0.0902,  0.0265,  0.0826, -0.0578, -0.0044,  0.0095,  0.0434, -0.1732,\n",
      "         0.0698,  0.1684, -0.1255,  0.0814, -0.1805,  0.0741, -0.0359, -0.0154,\n",
      "        -0.0753,  0.2467,  0.2933, -0.0712,  0.1444,  0.2126,  0.0339, -0.0678,\n",
      "         0.2511, -0.0126,  0.0231, -0.0366,  0.0451, -0.2027,  0.0533,  0.0281,\n",
      "        -0.0566, -0.0738, -0.0753,  0.0035, -0.0365, -0.0162,  0.0366, -0.1516,\n",
      "         0.0164,  0.0603, -0.0902, -0.0330,  0.1991, -0.0720, -0.0768, -0.1484,\n",
      "        -0.1264, -0.0031,  0.0981, -0.0369,  0.1465, -0.0699, -0.0056,  0.0862,\n",
      "         0.0914,  0.0056,  0.1048, -0.0785, -0.0212, -0.1151, -0.0284,  0.1025,\n",
      "         0.0460,  0.0418, -0.0739,  0.0406,  0.0259,  0.0335, -0.0808, -0.1299,\n",
      "         0.0670, -0.0134, -0.1058,  0.0447,  0.0013,  0.1875, -0.2268,  0.0397,\n",
      "         0.0334, -0.0897, -0.0451, -0.0847, -0.1219, -0.0171, -0.0513, -0.0811,\n",
      "         0.0110,  0.1393,  0.1988, -0.2484, -0.0174, -0.1264, -0.1240, -0.2301,\n",
      "        -0.0630, -0.0375,  0.1219, -0.1827, -0.0608,  0.2376,  0.0984,  0.1024,\n",
      "         0.0711,  0.1397, -0.0266, -0.0409, -0.1325, -0.0745,  0.0389, -0.0739,\n",
      "         0.1351,  0.0576,  0.0307,  0.0665,  0.0475,  0.0895, -0.0819, -0.0535,\n",
      "         0.2745,  0.0552, -0.1149, -0.0333,  0.0830, -0.0780,  0.0048, -0.1278])), ('s_encoder.3.running_var', tensor([0.8294, 0.0108, 0.0254, 0.0050, 1.4485, 0.8567, 0.9272, 0.0079, 0.0054,\n",
      "        0.1581, 0.0024, 0.7506, 0.1136, 0.7627, 0.0030, 0.0290, 0.5783, 0.0142,\n",
      "        0.0297, 0.0242, 0.1206, 0.2495, 0.2915, 0.3209, 0.0035, 0.7324, 0.1232,\n",
      "        0.7857, 0.4126, 0.3736, 0.0222, 0.0492, 0.1186, 0.1703, 0.3059, 0.3666,\n",
      "        0.5775, 0.0396, 0.3548, 0.1453, 0.5580, 0.3345, 0.0151, 0.9347, 0.0455,\n",
      "        0.0853, 0.3669, 0.0361, 0.3762, 0.2609, 0.0160, 0.7165, 0.0088, 0.0061,\n",
      "        0.0577, 0.0846, 0.2542, 1.2832, 0.0199, 0.0947, 0.7657, 0.0081, 0.5706,\n",
      "        0.9516, 0.0229, 1.1595, 0.0063, 0.2592, 0.9578, 0.7307, 0.4550, 0.0107,\n",
      "        1.6434, 0.0115, 0.0242, 0.3184, 0.0461, 0.7686, 0.0064, 0.1382, 0.2974,\n",
      "        0.8267, 0.0252, 0.0104, 1.4462, 1.0528, 1.1044, 0.0220, 0.4487, 0.4433,\n",
      "        0.0079, 0.0174, 0.8217, 0.5634, 0.0060, 0.0677, 0.1571, 0.1187, 0.1443,\n",
      "        0.8244, 0.0819, 0.1713, 0.1151, 0.0997, 0.2209, 0.0051, 1.1659, 0.0156,\n",
      "        0.1403, 0.7517, 0.0038, 0.2542, 0.0986, 0.0154, 0.8679, 0.6334, 0.0128,\n",
      "        0.2170, 0.0419, 0.1274, 0.6858, 0.3835, 0.1489, 0.1173, 1.1750, 0.8950,\n",
      "        0.0034, 0.2691, 0.1591, 1.3187, 0.1168, 0.6971, 0.4925, 0.4533, 0.0036,\n",
      "        0.0188, 0.2717, 0.0182, 0.0677, 0.9570, 0.2032, 0.9223, 0.0089, 0.8174,\n",
      "        0.5393, 0.2686, 0.0318, 0.0328, 0.0115, 0.0144, 0.0901, 0.0168, 0.2262,\n",
      "        1.0173, 0.7242, 0.3700, 0.4030, 1.1241, 0.0458, 0.1301, 0.0358, 0.9691,\n",
      "        0.4313, 0.1986, 0.0556, 0.0068, 1.5834, 0.8464, 1.2003, 0.1325, 0.0051,\n",
      "        0.0266, 0.0064, 0.0073, 0.0289, 1.2386, 0.0149, 0.0018, 0.0166, 0.4361,\n",
      "        1.1567, 0.0079, 1.1823, 0.0157, 0.0100, 0.0031, 0.2903, 1.0129, 0.4811,\n",
      "        1.0241, 0.0136, 0.0428, 0.0234, 0.6465, 0.1388, 0.2944, 0.0094, 0.3019,\n",
      "        0.3186, 0.0140, 0.3511, 0.1487, 0.0050, 0.3798, 0.0039, 0.1810, 0.6439,\n",
      "        0.0479, 0.4937, 0.4872, 1.0809, 0.9923, 0.3003, 0.4605, 0.0162, 0.8230,\n",
      "        0.0052, 0.5102, 0.0985, 0.0245, 0.0253, 0.1376, 0.2674, 0.1373, 0.2700,\n",
      "        0.3019, 0.0249, 0.0033, 0.2724, 0.3603, 0.8125, 0.0156, 0.7545, 0.1799,\n",
      "        0.0058, 0.0303, 0.0962, 0.0730, 0.0081, 0.0130, 1.2344, 0.0988, 0.1492,\n",
      "        0.0381, 0.0165, 1.1200, 0.5790, 0.1381, 0.2598, 0.4898, 1.2647, 0.0328,\n",
      "        0.2763, 0.0149, 0.0689, 0.0148, 0.0066, 0.4642, 0.8509, 0.0069, 0.7032,\n",
      "        0.9709, 0.0034, 0.1522, 0.7813, 0.2008, 0.0752, 1.1415, 0.2685, 0.3008,\n",
      "        1.3348, 0.6933, 0.4430, 0.3369, 1.1418, 0.9725, 1.0304, 0.0108, 0.9214,\n",
      "        0.0031, 0.0962, 0.9131, 0.0153, 0.0309, 0.0041, 0.4080, 1.2781, 0.0057,\n",
      "        0.0234, 0.1924, 0.0522, 0.0581, 0.0337, 0.0040, 0.0055, 0.5959, 0.1172,\n",
      "        0.8635, 0.1499, 0.1309, 0.7315, 0.0230, 0.0286, 0.0637, 0.0726, 0.2568,\n",
      "        1.0944, 0.2573, 0.0168, 0.2025, 1.2065, 0.0093, 0.0755, 0.5768, 0.0602,\n",
      "        0.0085, 0.8774, 0.2471, 0.0058, 1.2234, 0.0468, 0.0632, 0.0184, 0.0053,\n",
      "        0.0441, 0.1693, 0.3991, 0.2283, 0.3513, 0.0381, 0.0343, 0.1262, 0.0090,\n",
      "        0.2501, 0.3362, 0.0534, 0.2231, 0.5442, 0.4076, 0.0925, 1.1125, 0.2923,\n",
      "        0.0136, 0.0592, 0.0187, 0.0579, 0.0313, 0.4967, 0.0069, 0.5786, 0.0044,\n",
      "        0.6139, 0.1297, 0.0034, 0.0296, 0.2666, 0.2258, 0.3006, 0.0081, 0.4613,\n",
      "        0.3628, 1.3049, 0.0279, 0.3519, 0.1584, 0.0949, 0.2806, 0.0149, 0.5418,\n",
      "        0.0634, 0.0357, 1.1190, 0.1671, 0.2616, 0.0329, 0.0291, 0.0920, 0.2681,\n",
      "        0.0693, 0.0101, 0.3708, 0.0106, 0.0258, 0.2214, 1.2511, 0.1258, 0.3765,\n",
      "        0.3540, 0.1522, 0.0226, 0.7078, 0.2752, 0.4441, 0.0286, 0.7724, 0.2165,\n",
      "        0.1192, 0.2916, 0.3772, 0.9054, 0.1091, 0.0864, 0.7444, 0.0240, 0.4049,\n",
      "        0.0754, 0.2960, 0.8518, 0.0289, 0.4511, 0.0267, 0.0454, 0.0072, 0.3846,\n",
      "        0.0285, 1.2311, 0.2371, 0.0123, 0.0737, 0.2969, 0.0278, 0.2625, 0.5693,\n",
      "        0.6956, 0.2298, 0.4885, 0.3812, 0.0954, 1.2307, 0.1499, 0.1946, 0.7804,\n",
      "        0.1199, 0.4009, 1.1237, 0.0395, 0.8275, 0.0408, 0.0359, 0.2123, 0.5243,\n",
      "        0.0655, 0.2980, 0.9387, 0.2896, 0.0099, 0.1591, 0.0049, 0.2271, 1.0208,\n",
      "        0.0065, 0.0484, 0.0075, 0.0107, 1.1427, 0.0048, 0.0036, 0.0564, 1.2456,\n",
      "        0.1208, 0.0120, 1.0663, 0.7635, 0.0032, 1.2321, 0.0442, 0.0072, 1.0990,\n",
      "        0.8065, 0.0036, 0.7548, 0.0055, 0.0039, 0.0249, 0.3519, 0.2817, 0.0689,\n",
      "        0.5431, 0.4086, 0.9888, 0.0225, 0.0088, 0.8994, 0.1179, 0.0824, 0.4141,\n",
      "        0.0122, 0.0529, 0.0158, 1.1474, 0.2286, 0.0109, 0.3231, 0.0237, 0.0169,\n",
      "        0.0706, 0.2640, 0.0363, 0.3780, 0.3991, 0.0400, 0.2124, 0.0912, 0.0050,\n",
      "        0.5215, 0.4007, 0.7448, 0.2240, 0.0392, 0.0357, 0.0390, 0.1052])), ('s_encoder.3.num_batches_tracked', tensor(498190)), ('c_encoder.0.weight', tensor([[ 0.1071,  0.0408],\n",
      "        [-0.1516,  0.1791],\n",
      "        [-0.0762, -0.2232],\n",
      "        [-0.1189, -0.0721],\n",
      "        [ 0.1291,  0.1392],\n",
      "        [-0.0902, -0.0993],\n",
      "        [-0.1077, -0.0444],\n",
      "        [-0.0602, -0.0918],\n",
      "        [-0.0804, -0.1051],\n",
      "        [-0.0212, -0.2212],\n",
      "        [-0.1216, -0.0871],\n",
      "        [ 0.0687,  0.0992],\n",
      "        [-0.1035, -0.0186],\n",
      "        [ 0.1287,  0.0419],\n",
      "        [-0.1236, -0.0518],\n",
      "        [-0.0752,  0.0310],\n",
      "        [-0.0220,  0.0467],\n",
      "        [ 0.1177,  0.0434],\n",
      "        [-0.0565, -0.1359],\n",
      "        [ 0.0716,  0.0879],\n",
      "        [-0.1083, -0.0622],\n",
      "        [ 0.0811, -0.0228],\n",
      "        [-0.0623,  0.0225],\n",
      "        [-0.0942, -0.3234],\n",
      "        [ 0.1718, -0.2153],\n",
      "        [ 0.0739,  0.1000],\n",
      "        [ 0.1051,  0.1256],\n",
      "        [ 0.1212,  0.0434],\n",
      "        [-0.0094, -0.0672],\n",
      "        [ 0.0433,  0.0795],\n",
      "        [-0.0107, -0.1039],\n",
      "        [-0.0747, -0.1908],\n",
      "        [ 0.1086,  0.0228],\n",
      "        [-0.1234, -0.1443],\n",
      "        [-0.0191,  0.1531],\n",
      "        [ 0.0513,  0.0507],\n",
      "        [ 0.0732,  0.0990],\n",
      "        [ 0.2160,  0.2351],\n",
      "        [-0.1199, -0.1433],\n",
      "        [ 0.0548, -0.1327],\n",
      "        [ 0.0318, -0.1272],\n",
      "        [-0.0598, -0.1462],\n",
      "        [-0.0695,  0.0154],\n",
      "        [ 0.0542, -0.0978],\n",
      "        [ 0.0622, -0.0221],\n",
      "        [ 0.1496,  0.0096],\n",
      "        [-0.1252, -0.1638],\n",
      "        [ 0.1599, -0.0551],\n",
      "        [-0.1047,  0.0332],\n",
      "        [ 0.0618, -0.0204],\n",
      "        [-0.1609, -0.1161],\n",
      "        [-0.1333, -0.0237],\n",
      "        [-0.0362, -0.0928],\n",
      "        [-0.1410, -0.1259],\n",
      "        [ 0.1314,  0.1338],\n",
      "        [ 0.0130,  0.2335],\n",
      "        [-0.0810,  0.0338],\n",
      "        [-0.1254, -0.2004],\n",
      "        [-0.1871,  0.1587],\n",
      "        [ 0.1133,  0.1284],\n",
      "        [-0.1073, -0.0783],\n",
      "        [ 0.1119,  0.0620],\n",
      "        [-0.1223,  0.0717],\n",
      "        [-0.1230, -0.1266],\n",
      "        [ 0.1412,  0.0562],\n",
      "        [-0.0879, -0.0166],\n",
      "        [-0.1212, -0.0297],\n",
      "        [ 0.0305,  0.1041],\n",
      "        [-0.0146, -0.0638],\n",
      "        [ 0.0501,  0.4205],\n",
      "        [-0.1153, -0.1033],\n",
      "        [-0.1302, -0.1481],\n",
      "        [ 0.0698, -0.0170],\n",
      "        [ 0.1175,  0.0279],\n",
      "        [ 0.1257, -0.0099],\n",
      "        [ 0.0341,  0.0805],\n",
      "        [-0.1393, -0.0860],\n",
      "        [-0.0609, -0.1227],\n",
      "        [-0.1068,  0.1594],\n",
      "        [-0.0994, -0.2677],\n",
      "        [ 0.0109,  0.1633],\n",
      "        [-0.0292, -0.3372],\n",
      "        [ 0.1392,  0.0496],\n",
      "        [-0.0830, -0.3030],\n",
      "        [-0.0225, -0.1817],\n",
      "        [ 0.1084,  0.1674],\n",
      "        [-0.0090, -0.2106],\n",
      "        [-0.0920,  0.0276],\n",
      "        [ 0.1630,  0.1741],\n",
      "        [-0.0439, -0.1022],\n",
      "        [-0.1291, -0.0310],\n",
      "        [ 0.0533, -0.0359],\n",
      "        [-0.0547, -0.0628],\n",
      "        [ 0.1459,  0.0602],\n",
      "        [-0.0435,  0.1426],\n",
      "        [ 0.0311,  0.1017],\n",
      "        [-0.1449, -0.1387],\n",
      "        [-0.0911,  0.0704],\n",
      "        [-0.0018, -0.1408],\n",
      "        [ 0.1135,  0.0263],\n",
      "        [ 0.0381,  0.0792],\n",
      "        [-0.0793,  0.0217],\n",
      "        [-0.1214, -0.1628],\n",
      "        [ 0.0069,  0.1529],\n",
      "        [ 0.0800, -0.0269],\n",
      "        [-0.0023,  0.1234],\n",
      "        [ 0.0852, -0.0954],\n",
      "        [-0.0326,  0.1662],\n",
      "        [ 0.1076,  0.2246],\n",
      "        [ 0.0101, -0.0667],\n",
      "        [-0.0884,  0.0221],\n",
      "        [ 0.0298, -0.1410],\n",
      "        [ 0.0850, -0.0274],\n",
      "        [ 0.1751, -0.1941],\n",
      "        [ 0.1069, -0.0033],\n",
      "        [-0.0080,  0.1591],\n",
      "        [ 0.0046,  0.0669],\n",
      "        [-0.1082, -0.1041],\n",
      "        [-0.1045, -0.0229],\n",
      "        [-0.0254, -0.0352],\n",
      "        [-0.0956, -0.1255],\n",
      "        [ 0.0803,  0.3403],\n",
      "        [-0.0903,  0.0153],\n",
      "        [-0.1147, -0.0394],\n",
      "        [-0.0877, -0.1156],\n",
      "        [ 0.1108,  0.0355],\n",
      "        [ 0.0758, -0.0285],\n",
      "        [-0.0552, -0.0454]])), ('c_encoder.0.bias', tensor([-1.4278e-01,  1.1026e-01, -1.3427e-01, -7.4128e-02,  1.9544e-01,\n",
      "         6.5860e-03,  8.2791e-02,  3.8021e-02, -1.1619e-01,  2.5330e-02,\n",
      "        -4.7917e-02, -3.8488e-02,  1.1791e-01, -2.9432e-01,  6.6761e-02,\n",
      "        -1.5386e-02, -8.5043e-02, -1.7584e-01,  1.5535e-02, -4.1855e-02,\n",
      "         6.9881e-02,  1.9329e-01,  5.6085e-02, -4.4178e-02,  2.2597e-02,\n",
      "        -7.8013e-03,  6.8638e-02, -1.1939e-02,  1.7947e-02,  7.3756e-02,\n",
      "        -1.1466e-01, -2.5220e-02, -1.8653e-01, -1.5852e-01,  1.2231e-01,\n",
      "         1.2272e-01, -1.5849e-02,  2.5527e-01, -7.3361e-02, -4.9925e-02,\n",
      "         5.7772e-02,  2.7395e-02,  8.6815e-02,  4.6046e-02,  8.3498e-02,\n",
      "        -1.8848e-01, -1.1759e-01, -1.6173e-02, -4.0468e-02, -4.0355e-02,\n",
      "        -1.3601e-01,  1.8606e-01,  1.1804e-02,  6.7341e-02,  9.4377e-03,\n",
      "        -4.4173e-02,  5.2572e-02, -1.6537e-02,  3.7723e-02,  2.8418e-01,\n",
      "        -8.2527e-02,  8.3291e-02, -6.6038e-03, -3.7540e-02, -2.0064e-04,\n",
      "         1.2243e-01,  1.5973e-01, -4.6863e-02, -1.6492e-02,  2.7644e-01,\n",
      "        -8.2914e-02, -2.0627e-01,  6.4601e-02, -1.6767e-01, -2.1024e-02,\n",
      "        -1.5020e-02,  8.3513e-02, -9.7143e-03,  3.5381e-02,  1.5351e-03,\n",
      "        -3.1610e-02, -1.3299e-01, -1.0145e-01, -5.5606e-02, -4.9188e-02,\n",
      "        -2.8791e-02,  2.1993e-02, -1.3232e-01,  1.2794e-01,  4.9205e-02,\n",
      "         1.8393e-01, -4.0468e-02, -9.2628e-04,  2.9048e-02, -3.1791e-02,\n",
      "         7.4145e-03, -1.7870e-01, -3.8384e-04,  6.4539e-02, -1.9427e-01,\n",
      "        -1.0954e-02,  2.2010e-02, -2.0466e-01,  7.4248e-02,  1.7529e-01,\n",
      "        -9.3671e-02,  2.6259e-02,  9.0331e-02,  1.3682e-01,  4.3985e-02,\n",
      "         2.0963e-01,  6.1134e-02, -9.0104e-02, -2.1173e-01,  2.9956e-03,\n",
      "        -7.6372e-02, -6.7479e-02,  1.3103e-02,  2.5269e-01,  8.5893e-02,\n",
      "        -2.2552e-01,  2.2647e-01, -1.4647e-01,  3.8497e-01, -1.7668e-02,\n",
      "        -1.4677e-01, -3.9442e-02,  5.0198e-02])), ('c_encoder.1.weight', tensor([ 0.0652,  0.0130,  0.0290,  0.0408,  0.0842,  0.0061,  0.1443,  0.0031,\n",
      "        -0.0151,  0.0072,  0.0339, -0.0079,  0.0010,  0.2788,  0.2464,  0.0399,\n",
      "         0.0038,  0.1860, -0.0026, -0.0006,  0.1855, -0.0594,  0.1187, -0.0750,\n",
      "         0.0994, -0.0602, -0.0054, -0.0965,  0.0040, -0.0077, -0.0028,  0.0084,\n",
      "         0.2121,  0.0555, -0.0273, -0.0361,  0.0357,  0.1053,  0.0549, -0.0028,\n",
      "         0.0025, -0.0003, -0.1069, -0.0004, -0.0606, -0.0732, -0.1294,  0.0836,\n",
      "        -0.1288,  0.0260,  0.1275, -0.0027, -0.0192,  0.2105,  0.2176, -0.0140,\n",
      "         0.0056,  0.1724, -0.1320,  0.0308,  0.0252, -0.1700, -0.0509,  0.0697,\n",
      "        -0.0837, -0.0082, -0.1256, -0.0066,  0.0006,  0.1099,  0.1892, -0.1114,\n",
      "        -0.0646,  0.1700,  0.1377,  0.0232,  0.1314,  0.0206,  0.0133,  0.0864,\n",
      "        -0.0027, -0.0449,  0.1175,  0.0588, -0.0114, -0.0040, -0.0261, -0.0058,\n",
      "         0.2035,  0.0172, -0.1374, -0.0087, -0.0027,  0.0992, -0.0067, -0.0032,\n",
      "         0.0739, -0.0021,  0.0082, -0.0940,  0.0173, -0.1193, -0.1115,  0.0150,\n",
      "        -0.0989, -0.0137,  0.0226,  0.0021, -0.0897,  0.0130, -0.1212,  0.0100,\n",
      "         0.0814, -0.1190, -0.0580,  0.0039,  0.0042,  0.0338,  0.0589, -0.0228,\n",
      "         0.0394,  0.0778, -0.1357, -0.1479, -0.0079, -0.1020,  0.1512,  0.0023])), ('c_encoder.1.bias', tensor([ 0.0458, -0.0482,  0.1285,  0.1064, -0.0044,  0.1254, -0.0989,  0.0327,\n",
      "        -0.0841, -0.0296,  0.2211, -0.0012,  0.0216,  0.0244,  0.1510,  0.0132,\n",
      "        -0.0588, -0.0275, -0.0273, -0.0409,  0.1098,  0.0060,  0.0035, -0.0108,\n",
      "         0.0205,  0.1624,  0.0289,  0.0304, -0.0791,  0.0696,  0.0143, -0.0507,\n",
      "         0.0616,  0.0684, -0.1018,  0.1019, -0.0776, -0.0707, -0.0136, -0.0151,\n",
      "         0.0181, -0.0364,  0.0987,  0.0547, -0.0513, -0.0968, -0.0741,  0.0292,\n",
      "        -0.0899,  0.0906,  0.1238,  0.1083, -0.1681,  0.2102,  0.0035, -0.0087,\n",
      "        -0.0257,  0.1474,  0.0331, -0.1618, -0.0593,  0.1133,  0.0120,  0.1856,\n",
      "         0.1370, -0.0333, -0.0974, -0.0282, -0.0625,  0.0321,  0.0544, -0.1377,\n",
      "        -0.0799, -0.0945,  0.0328,  0.0255,  0.1563, -0.0310,  0.0033,  0.1860,\n",
      "        -0.0174,  0.0398, -0.1412,  0.0624, -0.0382,  0.0615, -0.0450, -0.0300,\n",
      "        -0.2135,  0.0897,  0.0006, -0.0375, -0.0163, -0.1073, -0.0370, -0.1134,\n",
      "         0.0707,  0.0238,  0.0603,  0.0767, -0.1156,  0.0831, -0.0151, -0.1102,\n",
      "        -0.0352,  0.1128,  0.0225,  0.0100,  0.1503, -0.0143, -0.0583,  0.0070,\n",
      "        -0.0647, -0.0377, -0.0479, -0.0136, -0.0094,  0.0429, -0.0573, -0.0066,\n",
      "         0.0810,  0.0414,  0.0298, -0.0628, -0.0747,  0.0037, -0.0981, -0.0552])), ('c_encoder.1.running_mean', tensor([  3.6976,   2.7363,  -9.4752,  -5.2492,   7.8897,  -5.4345,  -3.8908,\n",
      "         -4.4657,  -5.5322,  -7.9900,  -5.7944,   4.9108,  -2.8824,   4.0785,\n",
      "         -4.5254,  -0.6781,   1.0000,   3.9944,  -5.9038,   4.5864,  -4.5240,\n",
      "          1.2733,  -0.6025, -13.2101,  -3.3759,   5.0863,   6.7488,   4.2398,\n",
      "         -2.4827,   3.7721,  -3.8958,  -8.2273,   3.0729,  -7.8920,   4.8992,\n",
      "          3.0219,   5.0285,  13.2018,  -7.6966,  -3.3128,  -3.5428,  -6.3176,\n",
      "         -0.9771,  -2.0439,   0.7543,   3.5627,  -8.5574,   1.7653,  -1.3050,\n",
      "          0.6790,  -7.7695,  -3.6698,  -3.9742,  -7.4442,   7.5703,   8.2021,\n",
      "         -0.6510,  -9.7073,   1.1571,   7.2466,  -5.2047,   4.7533,  -0.3629,\n",
      "         -7.1613,   5.1457,  -2.4535,  -3.6243,   4.1956,  -2.5219,  15.7337,\n",
      "         -6.2383,  -8.2272,   1.0817,   3.4712,   2.5174,   3.5045,  -6.0315,\n",
      "         -5.5788,   3.0161, -11.3838,   5.7773, -12.2783,   4.7728, -12.2686,\n",
      "         -6.7464,   8.1482,  -7.3531,  -1.2991,   9.7839,  -4.4338,  -3.8253,\n",
      "         -0.0413,  -3.3910,   5.4178,   3.8244,   4.1811,  -8.2155,   0.3110,\n",
      "         -4.7688,   3.2998,   3.5551,  -1.0532,  -8.5230,   5.4366,   1.0911,\n",
      "          4.0553,  -1.2720,   5.0022,  10.2449,  -1.9956,  -1.0601,  -4.0579,\n",
      "          0.9223,  -2.8120,   2.3375,   5.1569,   2.3139,  -6.0058,  -2.9182,\n",
      "         -1.6922,  -6.6854,  13.6452,  -1.6917,  -3.5813,  -5.9606,   3.5973,\n",
      "          0.7240,  -2.7589])), ('c_encoder.1.running_var', tensor([ 10.9666, 206.7149, 266.5250,  28.7043, 101.7010,  51.6583,  12.4076,\n",
      "         44.3390,  57.8834, 268.0818,  40.7155,  51.7257,   5.0685,  12.9092,\n",
      "         16.7814,   9.3869,  13.0223,  12.6634,  98.3050,  40.4658,  21.5842,\n",
      "          6.9816,   5.4402, 561.8660, 295.7446,  52.4191,  82.7203,  12.9165,\n",
      "         24.5807,  33.3920,  59.0651, 193.9411,   6.0944, 109.1326, 132.2301,\n",
      "         13.5146,  51.4422, 289.9627, 107.7112, 104.0436,  92.9659, 113.7225,\n",
      "          4.1253,  58.0740,   5.3130,   8.9378, 140.7244,  33.9150,  13.2370,\n",
      "          4.8130,  72.3867,   8.3663,  45.8704,  83.6409,  93.9898, 300.2205,\n",
      "         11.0311, 211.2971, 175.4577,  86.4363,  32.8963,  21.6293,  41.0708,\n",
      "         84.1344,  20.3016,   3.7512,   8.5341,  58.2341,  21.9925, 965.9250,\n",
      "         56.3087, 115.0755,   4.5115,   7.8146,   8.1091,  34.4452,  40.6803,\n",
      "         79.6888, 157.7559, 382.2914, 146.6562, 623.5425,  16.9289, 493.9387,\n",
      "        180.1951, 147.3211, 244.5467,   9.6046, 158.9788,  55.5388,   9.5173,\n",
      "          9.6828,  20.6807,  22.8505, 117.8487,  55.4809, 101.1691,  35.5155,\n",
      "        109.7093,   7.1597,  33.2100,   6.5029, 139.0446, 128.8419,   8.2425,\n",
      "         84.6747,  59.3516, 157.4943, 267.3450,  25.1809,   7.3914, 113.6132,\n",
      "          8.8522, 245.9461,   5.1309, 141.2057,  24.6021,  57.0133,   5.8198,\n",
      "          6.4947,  82.6673, 624.9522,   5.7349,  10.9464,  70.1394,   9.3764,\n",
      "          8.4710,  10.9323])), ('c_encoder.1.num_batches_tracked', tensor(498190)), ('c_encoder.2.weight', tensor([[ 1.4852e-01,  6.9067e-02, -5.6932e-02,  ..., -2.6121e-01,\n",
      "         -1.0356e-02, -1.0145e-02],\n",
      "        [ 4.7661e-02,  1.6474e-02,  1.7799e-01,  ...,  1.0467e-02,\n",
      "          8.1447e-02, -2.2675e-02],\n",
      "        [ 8.0945e-02, -8.6663e-02,  2.3444e-02,  ...,  4.1724e-02,\n",
      "         -1.0898e-01, -1.5987e-04],\n",
      "        ...,\n",
      "        [ 2.2771e-02, -1.0183e-01,  2.3494e-02,  ..., -6.0186e-02,\n",
      "         -7.2872e-02, -5.7456e-02],\n",
      "        [ 5.7332e-02, -1.0760e-01, -1.2905e-01,  ..., -5.4451e-02,\n",
      "         -1.0841e-01, -1.2842e-01],\n",
      "        [-2.5864e-01, -6.8930e-02,  7.2475e-02,  ...,  1.7191e-01,\n",
      "         -6.1104e-03,  2.3167e-02]])), ('c_encoder.2.bias', tensor([-0.0049,  0.0369, -0.0855, -0.0792, -0.0572, -0.0555, -0.0230,  0.0250,\n",
      "         0.1088, -0.0813, -0.0748,  0.0476,  0.0035, -0.0368, -0.0296, -0.0036,\n",
      "        -0.0013, -0.0196,  0.0537,  0.0459, -0.0014, -0.0164, -0.0365, -0.0369,\n",
      "        -0.0593,  0.0670,  0.0291, -0.1243, -0.0053, -0.0736,  0.0080, -0.1460,\n",
      "         0.0289,  0.0913, -0.0793, -0.1513, -0.0086, -0.0479,  0.0306, -0.0266,\n",
      "         0.0396,  0.0318, -0.0178,  0.0287, -0.1144,  0.0227, -0.0279,  0.0400,\n",
      "         0.0660, -0.0115,  0.0638, -0.0812, -0.0442,  0.0050, -0.0775,  0.1089,\n",
      "        -0.0267,  0.0339,  0.0088,  0.0683,  0.0282,  0.0176, -0.0265, -0.0259,\n",
      "        -0.0316,  0.0745,  0.0281, -0.0464,  0.0234,  0.0290,  0.0210, -0.0162,\n",
      "        -0.0359, -0.0228,  0.0474, -0.0291, -0.0055, -0.1123, -0.0200,  0.0819,\n",
      "         0.0319,  0.0066, -0.0337, -0.0868, -0.0419, -0.0375, -0.0496, -0.0041,\n",
      "        -0.0014, -0.0401,  0.1217,  0.0186, -0.0294,  0.0606, -0.0096,  0.0171,\n",
      "         0.0414, -0.0822, -0.0738, -0.1435,  0.0078,  0.0311, -0.0556,  0.0887,\n",
      "         0.0872,  0.0227,  0.0429,  0.0488, -0.0947, -0.0268, -0.0188,  0.1105,\n",
      "         0.0158,  0.0724, -0.0626, -0.0266, -0.0028, -0.0505,  0.0115, -0.0929,\n",
      "        -0.0322,  0.0068, -0.1193, -0.0074,  0.0609, -0.0834, -0.0385,  0.0468,\n",
      "        -0.0299, -0.0680,  0.0455,  0.0017,  0.0312, -0.0803, -0.0134, -0.0595,\n",
      "         0.0322,  0.0072,  0.0182,  0.1118, -0.0662, -0.0324,  0.0661, -0.0523,\n",
      "         0.0717, -0.0699,  0.0024,  0.0302, -0.0078, -0.0937, -0.0354,  0.0498,\n",
      "        -0.0613,  0.0453,  0.0088,  0.0422,  0.0424,  0.0634, -0.0495,  0.0621,\n",
      "         0.0549,  0.0137, -0.0669,  0.0195,  0.0053, -0.0716,  0.0490,  0.0026,\n",
      "        -0.1312,  0.0403, -0.0016, -0.0066,  0.0138,  0.0959, -0.0369,  0.0205,\n",
      "        -0.0115, -0.0245,  0.0169, -0.0298,  0.1166,  0.0276,  0.0580,  0.0442,\n",
      "        -0.0737, -0.0679, -0.0689,  0.1066,  0.0200, -0.1476,  0.1009,  0.0619,\n",
      "        -0.0131,  0.0821, -0.0216, -0.0328, -0.0646, -0.0124, -0.0667,  0.0448,\n",
      "        -0.0271, -0.0067, -0.0275,  0.0377,  0.0230,  0.0192,  0.0308, -0.0334,\n",
      "        -0.0091,  0.0077,  0.0604,  0.0210, -0.0365,  0.0068,  0.0376, -0.0488,\n",
      "        -0.0575,  0.0353,  0.0090, -0.0260,  0.0199, -0.1059,  0.0326,  0.0363,\n",
      "        -0.0504,  0.0353, -0.1390,  0.1410,  0.0930, -0.0441, -0.0289, -0.0604,\n",
      "        -0.0228, -0.0182, -0.0399,  0.0186, -0.0339,  0.0261,  0.0663, -0.0359,\n",
      "        -0.0208, -0.0368, -0.0489,  0.0097, -0.0099,  0.0238, -0.0489,  0.0223,\n",
      "        -0.0631, -0.0186, -0.0156, -0.0459,  0.1031,  0.0143,  0.0600, -0.0207,\n",
      "        -0.0231, -0.0192,  0.0616,  0.0225, -0.0603, -0.0218, -0.0134, -0.1268,\n",
      "        -0.0134, -0.0538, -0.0683,  0.0457, -0.0797, -0.0276,  0.0684,  0.0151,\n",
      "         0.0232, -0.0641, -0.0995,  0.0024, -0.0545, -0.0516, -0.0053, -0.0434,\n",
      "         0.0735,  0.0535,  0.0323,  0.0559,  0.0312, -0.0356,  0.0687, -0.1061,\n",
      "        -0.0045,  0.0419,  0.0648, -0.0415, -0.0095,  0.0394, -0.0486,  0.0689,\n",
      "         0.0390, -0.0010, -0.0564, -0.0889,  0.0181,  0.0143, -0.1161,  0.0025,\n",
      "        -0.0886,  0.0086, -0.0043, -0.0961,  0.0010,  0.0869, -0.0286, -0.0554,\n",
      "        -0.0382, -0.0411,  0.0229,  0.0621,  0.0479,  0.0389,  0.0062,  0.0086,\n",
      "        -0.0424,  0.0407,  0.0462,  0.0906, -0.0332,  0.0245,  0.0632, -0.0624,\n",
      "        -0.0748, -0.0326, -0.0507, -0.0018,  0.0083,  0.0324,  0.0160, -0.0225,\n",
      "         0.0167,  0.0545, -0.0040, -0.0242, -0.0400, -0.0050,  0.1244,  0.0029,\n",
      "        -0.0194,  0.0097, -0.0657,  0.0325,  0.1376, -0.0220,  0.0489,  0.0119,\n",
      "        -0.1285, -0.0375, -0.0143, -0.0541,  0.0232,  0.0400,  0.0785,  0.0377,\n",
      "        -0.0332, -0.0516,  0.0565,  0.0179, -0.0847, -0.0272, -0.0467, -0.0446,\n",
      "         0.0731,  0.0285, -0.0531, -0.0278, -0.0501,  0.0071,  0.0793,  0.0283,\n",
      "         0.0508,  0.0486, -0.0174, -0.0043, -0.0701,  0.0263, -0.0302,  0.0236,\n",
      "        -0.0141, -0.0164, -0.0356,  0.0089, -0.0128, -0.0447,  0.0385, -0.0468,\n",
      "         0.0511,  0.0168,  0.0372,  0.0635, -0.0334,  0.0530, -0.0438,  0.0062,\n",
      "         0.0165,  0.0138, -0.0410, -0.0642, -0.1149,  0.0504,  0.0552,  0.0041,\n",
      "         0.0439, -0.0643, -0.0361,  0.1035,  0.0426, -0.0306, -0.0051, -0.0164,\n",
      "        -0.0002, -0.0146,  0.0218,  0.0607,  0.0139,  0.0391,  0.0615,  0.0658,\n",
      "         0.0348, -0.0377, -0.0238,  0.0222,  0.0155,  0.0200, -0.0358,  0.0082,\n",
      "        -0.0580,  0.0596, -0.0580, -0.0532,  0.0036,  0.0105,  0.0639, -0.0206,\n",
      "        -0.0429, -0.0400, -0.0836, -0.0260,  0.1440, -0.0765,  0.0491, -0.0042,\n",
      "         0.0246, -0.0538,  0.0589, -0.0297,  0.0575,  0.0495,  0.0191,  0.0677,\n",
      "        -0.0399, -0.0030,  0.0492,  0.0704,  0.0763,  0.0783,  0.0273, -0.0259,\n",
      "         0.1237, -0.0384,  0.0207, -0.0681,  0.0861,  0.0056,  0.0244,  0.0577,\n",
      "        -0.0518,  0.0039,  0.0406, -0.0577,  0.0327,  0.0633,  0.0439, -0.0857,\n",
      "         0.0168, -0.0365, -0.0743,  0.0681, -0.0349,  0.0328,  0.0527, -0.0458,\n",
      "         0.0944, -0.0150,  0.0876, -0.0578,  0.0324, -0.0167, -0.0382, -0.0514,\n",
      "        -0.0359, -0.0744, -0.0117, -0.0234,  0.0764,  0.0311,  0.0273,  0.0662,\n",
      "         0.0614, -0.0176, -0.0172,  0.0081,  0.0203,  0.0105, -0.0723, -0.0189])), ('c_encoder.3.weight', tensor([ 1.6635e-03, -8.2037e-02, -4.6761e-03, -4.8076e-02,  4.1965e-04,\n",
      "        -7.4497e-04, -5.3466e-02, -1.4637e-03, -1.3452e-01,  9.3752e-04,\n",
      "         7.1644e-02,  7.9196e-03, -3.4915e-03, -2.2659e-02, -6.6749e-04,\n",
      "        -8.3395e-04, -5.7120e-02, -1.6410e-03, -3.2925e-03, -4.2084e-04,\n",
      "         1.8045e-02,  1.0432e-01,  1.2674e-01,  3.0015e-02,  1.0376e-01,\n",
      "         9.3718e-02,  2.5553e-03, -1.1034e-01, -9.8076e-02,  1.0196e-01,\n",
      "         4.8504e-02,  1.3106e-01, -7.6708e-05, -3.7799e-04, -1.5999e-01,\n",
      "         6.5426e-02, -5.5555e-04, -3.6662e-03,  6.6554e-02,  1.2372e-03,\n",
      "         5.6878e-04, -2.5365e-02, -8.8267e-02, -6.1170e-04, -1.0905e-03,\n",
      "         1.7194e-03, -1.1894e-01, -1.8926e-03,  1.0045e-01, -7.7572e-02,\n",
      "        -3.0635e-03,  1.0252e-01,  1.8967e-03, -1.0427e-01, -1.2417e-01,\n",
      "        -1.1033e-01,  1.1653e-01, -8.2375e-04, -8.8610e-02, -4.4930e-03,\n",
      "         5.9456e-04,  1.6498e-03, -4.3433e-05,  9.9875e-02, -5.8522e-02,\n",
      "        -5.9488e-04, -4.0535e-03,  3.2435e-03,  7.6286e-03,  1.0350e-03,\n",
      "         8.9128e-02,  3.7158e-02, -7.7024e-03, -1.6488e-04, -1.1299e-02,\n",
      "         5.2678e-04, -1.7608e-03,  1.2051e-01,  1.8817e-04,  1.0294e-01,\n",
      "         5.8563e-04, -5.1154e-02,  1.0062e-01,  1.0084e-01,  7.9505e-03,\n",
      "        -9.9350e-02, -1.1583e-02, -7.2553e-02, -5.7939e-04, -4.7434e-02,\n",
      "         4.7840e-02, -6.6498e-02,  1.4794e-03,  7.4033e-02,  5.9082e-02,\n",
      "         1.1007e-01,  6.8541e-04,  7.9164e-02,  2.5539e-02,  1.1408e-01,\n",
      "         8.1394e-04, -1.6246e-02, -3.1957e-03,  2.7665e-04,  9.9204e-02,\n",
      "         5.2996e-03,  2.3522e-03,  2.0180e-04, -1.0446e-01, -6.8654e-02,\n",
      "        -8.0447e-03, -3.4325e-05, -4.9487e-03,  5.4905e-02,  1.2771e-03,\n",
      "        -2.3790e-03,  1.0713e-01, -8.7116e-02,  9.1380e-02,  8.8229e-04,\n",
      "         6.4363e-03, -2.0386e-03,  9.3633e-03, -1.8760e-04, -1.3580e-03,\n",
      "        -7.0828e-05, -4.6008e-02,  8.7404e-02,  3.3493e-04, -1.2834e-01,\n",
      "        -2.3557e-03,  5.6927e-03, -3.4108e-04, -7.8746e-02, -7.5654e-02,\n",
      "         1.5485e-04,  1.2976e-01,  1.3009e-01,  9.7330e-03,  7.3922e-02,\n",
      "         1.6000e-04,  4.5180e-03,  1.7350e-02,  7.3967e-04,  5.8977e-02,\n",
      "         9.2851e-04,  1.0663e-02,  8.1446e-04, -1.2848e-04,  1.2945e-01,\n",
      "        -3.1539e-03,  3.1079e-03,  9.2575e-02, -2.6789e-04,  4.9146e-03,\n",
      "         9.9534e-02,  1.3358e-01, -6.6577e-02,  7.2234e-02,  8.9362e-03,\n",
      "        -9.9152e-04, -1.0379e-01,  5.2113e-05, -1.4652e-03, -1.2257e-03,\n",
      "         7.4352e-02,  2.5978e-03,  4.3174e-05,  1.0389e-01,  1.8816e-04,\n",
      "         8.3092e-02,  1.3983e-03,  1.4844e-03,  8.3856e-02,  1.3794e-01,\n",
      "         1.9646e-03, -7.5322e-02,  9.7597e-04, -4.0373e-03,  8.8665e-04,\n",
      "         4.5325e-02,  1.4811e-03,  8.2202e-02,  8.8362e-04, -5.9763e-03,\n",
      "         1.3750e-04,  1.3627e-01, -1.3120e-01, -8.1355e-02, -1.0926e-01,\n",
      "         1.1330e-01, -1.0409e-02, -4.3803e-04, -5.6053e-05,  6.0101e-03,\n",
      "         9.3452e-02,  1.5887e-01,  9.5991e-04,  1.7874e-04, -6.4484e-04,\n",
      "         3.6224e-03,  1.1917e-03,  4.8835e-04,  1.0059e-03,  1.4413e-01,\n",
      "         1.8430e-03, -6.9718e-02, -1.3886e-04,  7.2718e-02,  4.3620e-03,\n",
      "        -1.1686e-03, -1.6526e-03, -1.4625e-03,  9.2807e-02, -1.3063e-03,\n",
      "         2.4182e-02, -1.7428e-03, -8.0103e-02,  4.6382e-03, -2.6182e-03,\n",
      "        -8.5609e-02,  1.0080e-01,  8.0414e-05, -9.6000e-02,  5.8506e-03,\n",
      "        -6.8543e-04,  1.0354e-01, -1.1160e-01,  7.5728e-02,  5.3093e-03,\n",
      "        -4.8966e-05, -9.9532e-03, -1.3359e-03,  1.5069e-02,  1.1737e-01,\n",
      "        -2.3498e-05, -2.1159e-03, -5.1464e-03,  1.0114e-01,  8.0087e-02,\n",
      "        -1.2972e-03, -3.6783e-02,  1.2060e-03,  3.9995e-02, -4.8934e-02,\n",
      "         7.5179e-02, -3.2701e-04, -1.1078e-01, -9.9658e-03,  8.9038e-03,\n",
      "        -3.2621e-03, -8.3314e-02,  3.4227e-02,  5.1427e-02,  8.7055e-02,\n",
      "        -2.3531e-03, -1.3628e-02,  1.1941e-03,  7.9897e-03, -1.3829e-02,\n",
      "         4.3726e-03,  7.8379e-04,  1.4206e-03, -6.3365e-02, -1.8366e-03,\n",
      "        -7.8299e-02, -8.5723e-04,  4.2154e-03,  9.1591e-02, -1.4518e-03,\n",
      "         1.0971e-01, -1.2384e-03,  1.1283e-01, -3.1267e-04,  1.1794e-01,\n",
      "         1.0735e-01,  8.9659e-02, -8.2172e-04, -6.7007e-04, -5.4091e-03,\n",
      "        -1.0195e-03,  7.2720e-04,  8.5658e-02, -8.2101e-03, -4.3516e-04,\n",
      "         8.6787e-02,  4.5254e-02,  1.1732e-01, -2.5715e-04,  5.1287e-02,\n",
      "        -1.8393e-03,  8.2846e-02, -5.8162e-03, -2.9746e-02,  2.6238e-03,\n",
      "         6.9441e-04, -1.0192e-03,  5.2926e-04, -1.1065e-04, -8.7062e-02,\n",
      "         3.5986e-02,  8.1734e-03,  9.4811e-02,  9.9964e-02,  6.5770e-02,\n",
      "         7.4821e-03,  9.1912e-05,  1.2628e-01, -1.1167e-01,  4.7407e-02,\n",
      "        -1.1305e-01, -3.0628e-03, -1.1995e-03, -1.4013e-03, -3.0443e-03,\n",
      "        -3.3138e-02,  2.0551e-04,  1.1559e-01, -5.7087e-04, -4.1338e-02,\n",
      "        -7.9145e-04, -2.1297e-02,  9.3664e-04,  8.5488e-02, -8.5963e-02,\n",
      "        -1.1105e-01,  1.7064e-03, -1.2091e-01,  6.9179e-02, -9.2696e-03,\n",
      "        -3.5684e-03,  5.6402e-02, -1.0141e-01,  8.8658e-04, -8.9747e-02,\n",
      "         1.1612e-01,  9.5072e-02,  1.4103e-04,  5.8547e-02,  6.3611e-02,\n",
      "         4.0252e-02, -3.0488e-03,  8.3239e-02, -4.8751e-04,  3.8589e-04,\n",
      "        -2.3471e-03, -3.5116e-04, -1.0463e-01,  1.2384e-01,  1.9265e-03,\n",
      "        -5.3827e-02, -6.8123e-02,  6.5337e-02, -6.2809e-04, -8.6559e-02,\n",
      "         7.8968e-04,  6.0687e-04,  7.7483e-05, -1.4171e-03,  5.5145e-04,\n",
      "         3.0350e-02, -4.0465e-03,  1.7100e-03,  3.0448e-03,  1.1476e-01,\n",
      "         1.5420e-03,  6.8796e-02,  8.7131e-04,  8.0754e-02, -9.3871e-02,\n",
      "        -9.8477e-04, -7.2900e-04, -1.3006e-01, -7.0933e-02, -7.4782e-02,\n",
      "         1.2516e-01,  9.6097e-02,  1.6529e-03, -1.1778e-04, -1.6224e-01,\n",
      "        -1.0718e-03, -6.6610e-03, -9.1610e-04, -7.7927e-05,  7.1074e-03,\n",
      "        -3.5122e-03,  5.6610e-04,  1.3723e-02,  1.1465e-01, -1.0026e-01,\n",
      "         7.1251e-02, -6.1803e-03, -1.1857e-01,  1.1001e-03,  1.2007e-03,\n",
      "        -2.5850e-02, -1.3825e-03,  8.5894e-04,  9.2596e-02,  2.4412e-03,\n",
      "        -1.1516e-01, -1.2105e-02, -4.7542e-03, -9.8212e-05,  9.0625e-02,\n",
      "         1.0444e-03,  5.1291e-04, -1.5726e-03,  2.0250e-03, -6.1349e-02,\n",
      "        -1.9330e-03, -7.8468e-02,  2.3458e-03,  5.8926e-02,  6.3723e-02,\n",
      "         1.2946e-01, -7.7621e-04, -1.0244e-01, -1.8470e-03,  4.4660e-02,\n",
      "         1.2482e-01, -1.0497e-03,  1.0348e-01,  5.3581e-02,  2.0586e-04,\n",
      "         3.3689e-03,  6.3235e-02, -3.7579e-03,  3.3735e-03,  1.0601e-01,\n",
      "        -8.6509e-04, -5.9494e-04,  8.8781e-02,  1.5812e-02,  7.6543e-02,\n",
      "         1.3563e-04,  5.5921e-03,  1.5723e-03,  1.4956e-03,  6.1229e-04,\n",
      "         7.9333e-02, -4.3864e-02, -5.5656e-02,  4.9989e-02,  8.4790e-02,\n",
      "        -8.0468e-04, -2.0033e-04,  6.4708e-02,  2.3379e-03,  1.9052e-03,\n",
      "        -6.2254e-03, -3.1985e-02,  3.1995e-02, -2.5217e-04, -1.5205e-02,\n",
      "         1.1447e-03,  2.9246e-03,  1.2400e-03, -6.4226e-02, -4.7856e-04,\n",
      "         1.3681e-03,  9.1810e-02, -4.6095e-02,  1.0373e-03, -1.2413e-01,\n",
      "        -2.8591e-04,  8.1026e-04, -5.8193e-03,  8.4764e-02, -1.2802e-01,\n",
      "        -1.0069e-03, -6.4110e-02, -1.8091e-04,  1.8046e-03,  6.2756e-02,\n",
      "        -5.6543e-04,  1.8134e-03, -1.2072e-01, -1.3197e-04, -7.6783e-03,\n",
      "        -7.4266e-02,  1.2074e-01,  1.0475e-03, -1.3936e-03,  2.5367e-03,\n",
      "         4.2636e-02,  9.8400e-04, -2.3626e-03,  4.4371e-03,  8.9268e-02,\n",
      "        -1.4934e-01,  9.1979e-03,  7.1585e-03,  1.0937e-01, -8.6785e-04,\n",
      "        -2.2472e-03, -7.4212e-04,  1.9640e-03,  5.4649e-03,  2.7093e-02,\n",
      "        -7.5123e-02, -1.5291e-03, -5.0890e-02, -6.4972e-02,  5.9377e-02,\n",
      "        -6.1161e-03,  9.1221e-03, -3.6264e-02,  3.2488e-03,  1.2644e-04,\n",
      "         1.3028e-01,  2.7841e-04])), ('c_encoder.3.bias', tensor([ 0.2287, -0.1327, -0.0380, -0.0996, -0.0165, -0.0077, -0.1289, -0.0128,\n",
      "        -0.1769, -0.0142, -0.1206, -0.0898, -0.0282,  0.0074, -0.0120, -0.0102,\n",
      "         0.0335, -0.0133, -0.0320, -0.0233, -0.1460, -0.0832, -0.1993, -0.0461,\n",
      "        -0.1671, -0.0637, -0.0232, -0.1595, -0.0928, -0.1725, -0.0454, -0.2053,\n",
      "        -0.0054, -0.0033, -0.1379, -0.0311, -0.0047,  0.0378, -0.1199,  0.4721,\n",
      "        -0.0140,  0.0142, -0.1780, -0.0139,  0.3637, -0.0350, -0.1803,  0.2884,\n",
      "        -0.1505, -0.1843, -0.0383, -0.0901, -0.0269, -0.1633, -0.1939, -0.1707,\n",
      "        -0.1301, -0.0228, -0.1362, -0.0357, -0.0130, -0.0141, -0.0097, -0.1500,\n",
      "        -0.0009, -0.0086,  0.2629, -0.0522,  0.2871, -0.0263, -0.1146, -0.0735,\n",
      "        -0.0817, -0.0161, -0.1094, -0.0092, -0.0167, -0.1850, -0.0016, -0.0722,\n",
      "        -0.0187, -0.0437, -0.2261, -0.0603, -0.0640, -0.1081, -0.1051, -0.0340,\n",
      "        -0.0140, -0.0855, -0.1528, -0.1616, -0.0126, -0.1618,  0.0309, -0.0950,\n",
      "        -0.0141, -0.1642, -0.0994, -0.1746, -0.0075, -0.1293, -0.0301, -0.0091,\n",
      "        -0.0987, -0.0705, -0.0305, -0.0018, -0.1631, -0.1914, -0.0774, -0.0178,\n",
      "        -0.0411,  0.0335, -0.0104, -0.0199, -0.0511, -0.0779, -0.1039, -0.0099,\n",
      "         0.4275,  0.3963, -0.0778,  0.3889, -0.0158,  0.0568, -0.0126, -0.2047,\n",
      "        -0.0161, -0.1330, -0.0194, -0.0470, -0.0180, -0.1082,  0.0129, -0.0165,\n",
      "         0.0180, -0.1291, -0.0790, -0.1888, -0.0048, -0.0374, -0.0612, -0.0113,\n",
      "        -0.1352, -0.0076, -0.1001, -0.0065, -0.0064, -0.1548, -0.0285, -0.0452,\n",
      "         0.0107, -0.0420, -0.0675, -0.1524, -0.1683,  0.0062, -0.1625, -0.0776,\n",
      "        -0.0102, -0.0864, -0.0045, -0.0121, -0.0103, -0.1795, -0.0282, -0.0025,\n",
      "        -0.1641,  0.1679, -0.1343, -0.0116, -0.0131, -0.1324, -0.1115, -0.0218,\n",
      "        -0.1368, -0.0268, -0.0482, -0.0100, -0.1119, -0.0269, -0.1731, -0.0100,\n",
      "        -0.0554, -0.0030, -0.2097, -0.1891, -0.0969, -0.1737, -0.1754, -0.0833,\n",
      "        -0.0142, -0.0132, -0.0690, -0.0883, -0.1767, -0.0118, -0.0035, -0.0052,\n",
      "         0.6225, -0.0196, -0.0109, -0.0113,  0.0149, -0.0162, -0.1646, -0.0048,\n",
      "        -0.0752, -0.0367, -0.0099, -0.0147, -0.0119, -0.1932, -0.0139, -0.0710,\n",
      "         0.3098, -0.0512, -0.0877,  0.0440, -0.1769, -0.1590, -0.0073, -0.1889,\n",
      "         0.0434, -0.0178, -0.1614, -0.1806, -0.1789,  0.2637, -0.0117, -0.1353,\n",
      "        -0.0109, -0.0781, -0.1725, -0.0124, -0.0236,  0.4816, -0.1289, -0.0408,\n",
      "        -0.0125, -0.0962, -0.0129, -0.0865, -0.1027, -0.1608, -0.0034, -0.1065,\n",
      "        -0.0893, -0.0764, -0.0262, -0.1039, -0.1536, -0.0441,  0.0283, -0.0206,\n",
      "        -0.1133, -0.0682,  0.0297, -0.0433,  0.2860, -0.0102, -0.0128, -0.1540,\n",
      "        -0.0501, -0.1605, -0.0090,  0.3012, -0.1683, -0.0139, -0.1309, -0.0102,\n",
      "        -0.0367, -0.0033, -0.1823, -0.0615, -0.0135, -0.0104, -0.0060, -0.0747,\n",
      "        -0.0089, -0.0058, -0.1343, -0.0704, -0.0047, -0.0996, -0.0111, -0.1750,\n",
      "        -0.0028,  0.0551, -0.0159, -0.1224, -0.0662, -0.0533, -0.0340, -0.0162,\n",
      "        -0.0088, -0.0043, -0.0039, -0.1826,  0.0020,  0.6469, -0.1299, -0.1834,\n",
      "        -0.1728, -0.1114, -0.0010, -0.2000, -0.0338, -0.1157, -0.1014, -0.0272,\n",
      "        -0.0122, -0.0133,  0.3901, -0.0551,  0.1874, -0.0270, -0.0051, -0.1247,\n",
      "        -0.0067, -0.1609, -0.0193, -0.1606, -0.1209, -0.1748, -0.0195, -0.1303,\n",
      "        -0.0455,  0.2429, -0.0324,  0.0235, -0.0767, -0.0089, -0.1310, -0.1745,\n",
      "        -0.1211, -0.0019, -0.1424, -0.0154, -0.0211, -0.0570, -0.1781, -0.0057,\n",
      "        -0.0035, -0.0193, -0.0186, -0.0954, -0.2081, -0.0207, -0.1039, -0.1190,\n",
      "        -0.1644, -0.0051, -0.1906, -0.0064, -0.0053, -0.0030, -0.0136, -0.0067,\n",
      "        -0.0788,  0.3609, -0.0153,  0.0292, -0.1421, -0.0128, -0.1322, -0.0145,\n",
      "        -0.1666, -0.1958, -0.0088, -0.0231, -0.1325, -0.1034, -0.1107, -0.1938,\n",
      "        -0.1270, -0.0147, -0.0098, -0.1698,  0.2129, -0.0548, -0.0087, -0.0071,\n",
      "        -0.0566, -0.0279, -0.0054, -0.1534, -0.1594, -0.1941, -0.1361, -0.0716,\n",
      "        -0.1752, -0.0089, -0.0189, -0.0776, -0.0137, -0.0081, -0.1151, -0.0205,\n",
      "        -0.1672, -0.1418,  0.0842, -0.0051, -0.1419, -0.0091, -0.0115, -0.0186,\n",
      "        -0.0161, -0.1463, -0.0227, -0.1596, -0.0758, -0.1325, -0.0740, -0.2083,\n",
      "        -0.0065, -0.0818, -0.0231, -0.1304, -0.1906, -0.0111, -0.0391, -0.0601,\n",
      "        -0.0216, -0.0288, -0.1416, -0.0311, -0.0270, -0.1306, -0.0090, -0.0086,\n",
      "        -0.0792, -0.1267, -0.1686, -0.0032, -0.0469, -0.0073, -0.0125, -0.0086,\n",
      "        -0.1604, -0.0675, -0.1110, -0.0741, -0.1450, -0.0118, -0.0131, -0.0812,\n",
      "        -0.0319,  0.6074,  0.0420, -0.0227,  0.0098, -0.0090, -0.1277, -0.0200,\n",
      "        -0.0242, -0.0110, -0.1309, -0.0050,  0.0878, -0.1770, -0.0950,  0.0493,\n",
      "        -0.1885, -0.0093, -0.0072, -0.0758, -0.1278, -0.1910, -0.0094, -0.1395,\n",
      "        -0.0016, -0.0220, -0.1805, -0.0085, -0.0153, -0.1320, -0.0088, -0.0706,\n",
      "        -0.1507, -0.1857, -0.0150, -0.0126, -0.0230,  0.0059, -0.0095, -0.0207,\n",
      "        -0.0408, -0.1107, -0.1481,  0.0340, -0.0670, -0.0880,  0.2805, -0.0194,\n",
      "        -0.0074, -0.0172, -0.0488, -0.0840, -0.1872, -0.0125, -0.0179, -0.1487,\n",
      "        -0.1811, -0.0744,  0.2622, -0.1202,  0.3627, -0.0020, -0.1954, -0.0076])), ('c_encoder.3.running_mean', tensor([-1.8286e-01,  5.1473e-01, -9.0905e-02, -4.2616e-01, -2.2835e-03,\n",
      "         5.9339e-02,  2.3568e-01, -3.5102e-03,  3.0224e-01, -2.8863e-02,\n",
      "        -7.7883e-02,  2.1893e-01, -1.2565e-01,  6.8748e-01, -1.0577e-01,\n",
      "        -1.6549e-01,  6.1107e-01,  4.8946e-01,  2.7744e-01,  7.6589e-02,\n",
      "         5.7347e-01, -8.3822e-01, -6.8041e-01, -3.1843e-01, -5.2224e-01,\n",
      "         4.0599e-01,  1.4255e-01, -2.1263e-01,  2.9830e-01, -1.2063e-01,\n",
      "         1.5615e-01, -7.5031e-01, -1.1635e-02,  1.3584e-01,  2.7838e-01,\n",
      "        -9.3070e-01,  6.8722e-02, -2.7348e-02,  6.8213e-02, -1.2412e-01,\n",
      "         4.7001e-02,  2.1495e-01, -1.8032e-02,  9.9352e-02, -6.6318e-02,\n",
      "         5.8856e-03,  5.3224e-01, -1.1577e-01, -2.5015e-01, -3.7476e-01,\n",
      "         1.0054e-01,  3.1051e-01, -7.5001e-02,  5.0390e-01, -4.5153e-02,\n",
      "         7.3169e-01,  2.2198e-01, -6.0205e-02,  5.0991e-01, -8.2802e-02,\n",
      "         6.1347e-02, -8.2214e-02,  5.1122e-02, -2.6458e-01,  1.9248e-02,\n",
      "         1.2906e-03,  1.7634e-01, -7.3267e-02, -1.0277e-01,  5.0107e-01,\n",
      "         1.0761e-01, -1.7697e-01, -8.8667e-02,  9.3620e-02,  9.1907e-02,\n",
      "        -4.0189e-01, -7.7023e-02, -7.2060e-01,  8.7881e-03, -1.8201e-01,\n",
      "         2.7702e-01, -8.2825e-02,  3.6672e-01,  1.3584e-01,  1.7856e-01,\n",
      "         1.0287e-01,  1.8004e-01,  1.2473e-01,  6.1439e-02,  6.0267e-02,\n",
      "         2.4407e-01, -9.9582e-02, -2.0049e-01, -1.5928e-01, -4.0880e-01,\n",
      "        -2.4759e-01,  8.9801e-02,  2.6996e-02, -1.6387e-01, -8.2353e-01,\n",
      "        -1.0441e-01, -5.8369e-01,  1.1754e-01,  5.0782e-02, -1.4963e-01,\n",
      "         1.9732e-02,  3.8891e-03,  1.0748e-02, -3.5170e-02,  1.2350e-01,\n",
      "         3.0506e-02,  2.1238e-01,  3.1716e-02, -5.0996e-01, -1.8584e-01,\n",
      "        -8.1993e-02, -3.9315e-01,  2.2661e-01,  5.9358e-02, -1.2197e-01,\n",
      "        -3.0287e-01,  5.5500e-02, -1.0875e-01,  3.5644e-01, -3.1429e-03,\n",
      "        -6.8321e-01, -1.3292e-01,  4.4179e-01, -8.8200e-02, -2.1591e-01,\n",
      "         1.2616e-01,  2.1413e-01, -9.8704e-02, -1.5182e-01,  3.3005e-01,\n",
      "         1.2138e-01, -1.5596e-01,  3.0190e-01,  2.5040e-01,  9.2926e-02,\n",
      "         1.8676e-02,  1.8031e-03,  4.2837e-01, -9.6356e-02, -7.3819e-02,\n",
      "        -2.0208e-01,  1.2727e-01, -3.2912e-02, -4.0064e-01, -2.4249e-01,\n",
      "        -1.8485e-01, -1.9467e-03,  1.8724e-01,  2.2913e-01, -1.9002e-01,\n",
      "        -2.5923e-01, -7.8443e-02,  2.4639e-01,  1.3965e-01, -1.2741e-01,\n",
      "         3.4685e-01,  3.4304e-01, -2.0640e-01,  6.8290e-02, -1.2408e-01,\n",
      "         3.1836e-01,  1.2765e-01,  3.6866e-02, -8.9823e-01,  3.5769e-01,\n",
      "        -4.0918e-01,  4.0540e-02, -1.1085e-02, -2.5555e-01, -2.2482e-01,\n",
      "         5.7941e-01,  8.4553e-02, -1.4805e-01, -3.0029e-03,  1.2658e-01,\n",
      "        -4.0949e-01,  3.2504e-01,  4.4117e-01, -6.2644e-03, -5.6461e-02,\n",
      "        -1.5337e-02, -5.5714e-01,  6.7390e-01,  6.0126e-03,  2.9822e-01,\n",
      "        -3.9318e-01,  7.0627e-02, -1.0361e-01,  1.1990e-01, -7.4694e-02,\n",
      "         3.5013e-01,  1.3892e-01,  8.4461e-02, -1.8329e-01, -8.1151e-02,\n",
      "        -4.8997e-01,  8.0746e-02, -6.3167e-02, -4.9463e-02, -8.6476e-02,\n",
      "         1.2803e-01, -4.7437e-01,  3.6892e-03,  2.2559e-01,  1.3756e-01,\n",
      "        -4.1820e-02,  9.7815e-02, -5.3382e-02,  7.6000e-01,  7.3440e-02,\n",
      "         4.1818e-02, -1.3650e-01,  2.0970e-01,  2.3200e-02, -2.0260e-01,\n",
      "        -1.8917e-01, -6.3078e-01, -4.1571e-02, -7.0163e-01,  1.1715e-01,\n",
      "        -4.3209e-01, -5.3629e-01,  2.1905e-01,  5.8343e-01, -3.4548e-01,\n",
      "        -3.3395e-03,  1.3707e-01, -1.4719e-01,  4.3631e-01,  7.7259e-01,\n",
      "        -5.4535e-02, -4.2456e-01, -1.7304e-01,  3.4308e-01,  1.7686e-01,\n",
      "         1.3489e-02, -4.6300e-01, -6.2961e-02, -1.1033e-01, -9.3531e-02,\n",
      "        -1.8832e-01, -5.5065e-02, -1.6055e-01, -2.0741e-01, -2.5061e-01,\n",
      "         3.2602e-01,  1.0634e-02, -1.0667e-01, -1.2841e-01,  1.3844e-01,\n",
      "        -1.4626e-02, -3.7561e-02, -4.7847e-03,  1.0010e-01, -8.9025e-03,\n",
      "         8.0615e-02,  1.3230e-01,  3.4196e-02, -4.9231e-01, -9.1541e-02,\n",
      "         4.2969e-01,  1.8162e-02, -3.3021e-01, -3.3335e-02,  5.7124e-02,\n",
      "         7.7380e-02,  1.8624e-01,  2.4743e-01, -2.5433e-02, -6.0496e-01,\n",
      "        -1.9220e-01,  3.1192e-01, -1.1370e-01,  6.5570e-02, -1.1657e-02,\n",
      "         1.4044e-01,  7.4144e-04,  2.4193e-01, -2.2156e-02,  1.3772e-01,\n",
      "         8.8990e-02,  7.8983e-01, -6.3596e-01,  1.8528e-01,  2.0341e-01,\n",
      "        -1.3813e-02,  1.4525e-01, -2.3390e-02,  1.7982e-01, -7.4706e-02,\n",
      "         1.9069e-01,  7.5080e-02, -1.2038e-01, -1.4507e-01, -7.9954e-01,\n",
      "        -3.0149e-01, -3.0188e-01, -9.2417e-02,  7.5603e-01,  1.5285e-01,\n",
      "        -2.4591e-01, -1.1864e-01, -6.7656e-01,  1.6856e-01, -4.4544e-02,\n",
      "         1.5466e-01, -1.5007e-01, -1.4407e-01, -6.9964e-02, -2.2850e-01,\n",
      "         1.6210e-01, -7.5494e-02,  3.0289e-02,  1.1204e-02,  1.9815e-02,\n",
      "        -9.0631e-02,  2.4987e-01,  3.3352e-02,  3.6532e-01, -7.3890e-02,\n",
      "         4.9261e-01,  1.9051e-01, -2.2238e-02,  1.0919e-01, -3.8036e-01,\n",
      "        -1.9545e-01, -3.9850e-01,  7.6062e-02,  1.6080e-01,  1.5918e-02,\n",
      "        -4.6273e-01,  9.7496e-02, -8.8928e-02,  5.2026e-02, -7.5770e-02,\n",
      "        -1.1758e-01,  4.7049e-03,  3.8289e-01,  1.3157e-01, -3.8799e-02,\n",
      "         1.1177e-02, -2.0865e-01, -1.4244e-02, -1.6171e-02, -1.4045e-02,\n",
      "         4.1288e-01,  2.2143e-01,  3.7708e-01,  6.8596e-02,  2.5174e-02,\n",
      "        -5.6507e-02,  9.0691e-02,  3.2441e-02,  1.4414e-01,  6.5782e-02,\n",
      "        -1.5179e-02,  1.3305e-01, -1.1578e-01, -2.9350e-01, -1.1395e-01,\n",
      "         1.9254e-02, -4.0459e-01, -1.9407e-01,  7.6400e-01, -7.4873e-01,\n",
      "         2.4322e-02, -9.9207e-02, -1.7546e-01,  1.6147e-03,  1.4451e-01,\n",
      "        -4.2448e-01,  1.2976e-01,  1.2030e-01,  6.7264e-02, -1.2622e-01,\n",
      "        -2.9344e-01,  6.7855e-02, -1.9069e-01,  3.8264e-03, -3.2428e-01,\n",
      "        -1.4369e-01,  1.3534e-01, -7.8087e-02, -5.7693e-02, -7.4779e-01,\n",
      "         1.9828e-01, -6.4043e-02,  1.7178e-01, -8.4506e-02,  1.0597e-01,\n",
      "         1.1411e-01,  6.5763e-02,  9.9522e-02, -2.3734e-01,  3.1904e-02,\n",
      "         5.6903e-01, -2.7912e-02,  3.0177e-01,  2.4007e-02, -5.8750e-01,\n",
      "         1.1348e-02, -4.2707e-03, -4.8296e-02, -2.7578e-02,  9.2733e-02,\n",
      "        -1.0772e-01,  5.1060e-01,  9.6962e-02,  9.4305e-02,  1.9265e-01,\n",
      "        -4.4518e-01, -2.1477e-02, -9.3212e-03,  2.0533e-02,  3.2114e-01,\n",
      "        -4.3608e-01,  1.2250e-01,  2.6513e-01, -2.9123e-01,  4.6855e-02,\n",
      "        -2.2046e-01, -1.8582e-02,  2.3429e-01,  1.9363e-01,  1.5167e-01,\n",
      "         2.4402e-02,  8.5442e-02,  3.2781e-01,  1.6139e-01,  6.2379e-01,\n",
      "        -5.0844e-02,  5.3081e-02, -3.9651e-01,  6.7718e-02, -1.5290e-01,\n",
      "         1.4516e-01, -1.1018e-01, -1.6302e-01,  4.2248e-01,  8.7323e-01,\n",
      "        -2.1000e-02,  8.4803e-03, -2.4739e-02, -1.7790e-01,  3.3942e-02,\n",
      "         7.0132e-02, -4.5812e-01, -5.8562e-02,  1.7139e-02,  2.1809e-02,\n",
      "        -1.1741e-02, -9.2684e-02, -6.7276e-02, -1.0513e-01,  7.3105e-02,\n",
      "        -3.8488e-01,  3.5905e-01, -4.5394e-01, -4.9119e-01,  6.7433e-01,\n",
      "        -1.1380e-03,  1.2775e-01,  1.7229e-02, -9.8933e-02, -8.3186e-01,\n",
      "        -2.6151e-01, -9.8795e-02, -3.2463e-03,  4.8553e-02, -5.5593e-02,\n",
      "         7.7418e-02, -1.4320e-01,  6.4559e-03,  2.3408e-01, -1.0608e-01,\n",
      "         2.7993e-01, -3.6503e-01, -3.3066e-02,  1.2163e-01, -6.4887e-02,\n",
      "        -1.5757e-01,  2.9841e-02,  1.1305e-03,  2.6305e-01, -1.7686e-01,\n",
      "         2.7944e-01, -3.3307e-02,  2.2923e-01, -6.8189e-01,  3.1661e-01,\n",
      "         6.5344e-03, -1.5326e-01,  3.8032e-02, -1.6359e-01,  2.2686e-01,\n",
      "         6.7878e-01,  1.2925e-01, -1.5089e-01,  7.3030e-02,  2.0456e-01,\n",
      "         3.7660e-02,  1.6045e-01, -2.8852e-01, -3.7227e-01,  3.5565e-03,\n",
      "        -5.6519e-01,  3.9747e-01])), ('c_encoder.3.running_var', tensor([2.6098e-01, 2.1204e-01, 2.4411e-02, 2.4639e-01, 6.9481e-03, 2.3748e-02,\n",
      "        2.6586e-01, 2.8364e-02, 1.9687e-01, 6.1387e-03, 1.0764e-01, 5.8220e-02,\n",
      "        1.7455e-02, 4.6220e-01, 1.6283e-02, 2.1527e-02, 4.1950e-01, 1.9614e-01,\n",
      "        1.0853e-02, 8.8737e-03, 3.8826e-01, 6.9348e-01, 4.0741e-01, 1.3286e-01,\n",
      "        2.4937e-01, 8.9895e-02, 2.4331e-02, 3.4654e-02, 3.3705e-01, 6.4899e-02,\n",
      "        1.3859e-01, 3.8311e-01, 1.3236e-02, 1.0955e-02, 3.4394e-01, 3.2207e-01,\n",
      "        6.1698e-03, 8.5368e-02, 1.5784e-01, 1.5108e-01, 7.3785e-03, 1.2691e-02,\n",
      "        1.7652e-01, 3.9762e-02, 1.0063e-01, 4.5410e-04, 3.6183e-01, 1.2233e-01,\n",
      "        2.5118e-01, 9.1043e-02, 9.2593e-03, 1.2989e-01, 1.8919e-02, 3.1946e-01,\n",
      "        4.3932e-02, 4.2957e-01, 2.9406e-01, 2.0565e-02, 3.4111e-01, 2.7512e-02,\n",
      "        1.6192e-02, 5.6520e-02, 2.1582e-01, 1.6728e-01, 8.7474e-02, 2.0097e-02,\n",
      "        1.6466e-01, 5.8190e-04, 1.4317e-01, 2.7388e-01, 7.3412e-02, 1.0489e-01,\n",
      "        1.0478e-03, 3.8162e-02, 1.4252e-01, 1.6252e-01, 4.1739e-02, 3.4951e-01,\n",
      "        4.6656e-02, 1.5712e-01, 1.3258e-02, 1.2471e-01, 1.4455e-01, 3.8851e-01,\n",
      "        1.1179e-01, 1.9448e-01, 7.9907e-02, 6.8276e-02, 2.0179e-03, 7.6244e-02,\n",
      "        1.4340e-01, 2.1412e-01, 3.9165e-02, 1.8619e-01, 1.3493e-01, 3.0109e-01,\n",
      "        3.0913e-02, 9.0209e-02, 2.7705e-01, 3.9954e-01, 2.9215e-02, 4.4634e-01,\n",
      "        9.3750e-03, 3.8059e-02, 2.2756e-01, 3.4181e-03, 3.8213e-03, 1.6750e-02,\n",
      "        5.6149e-02, 5.3353e-02, 2.0923e-04, 2.4749e-03, 1.6329e-02, 2.2812e-01,\n",
      "        1.2795e-02, 2.1054e-02, 4.3530e-01, 1.6395e-01, 3.4304e-01, 1.0023e-02,\n",
      "        3.7356e-02, 1.7062e-01, 9.1002e-02, 2.0603e-01, 2.3430e-03, 3.9636e-01,\n",
      "        1.4433e-01, 1.5093e-01, 8.9815e-03, 2.0627e-01, 6.3546e-03, 5.8030e-02,\n",
      "        2.0395e-02, 1.3947e-01, 1.1686e-01, 4.4901e-02, 2.5832e-01, 2.1052e-01,\n",
      "        7.3000e-02, 9.1340e-02, 8.6718e-03, 4.5779e-02, 2.0854e-01, 7.8517e-03,\n",
      "        3.2742e-01, 5.1052e-02, 1.6072e-01, 2.6310e-02, 2.5323e-01, 5.6301e-02,\n",
      "        2.5981e-02, 3.1955e-03, 1.6044e-01, 6.1170e-02, 4.8245e-02, 2.1617e-01,\n",
      "        1.4524e-01, 2.1906e-02, 5.3503e-02, 3.1881e-02, 9.6199e-02, 1.5664e-01,\n",
      "        4.3477e-02, 3.7445e-02, 2.0149e-02, 2.0867e-01, 1.6569e-03, 1.1616e-02,\n",
      "        4.5325e-01, 3.9609e-01, 1.8228e-01, 4.6104e-03, 1.3097e-02, 2.5147e-01,\n",
      "        1.0822e-01, 2.1217e-01, 1.0514e-01, 1.3889e-02, 2.3725e-02, 1.9397e-02,\n",
      "        2.6292e-01, 4.7967e-02, 7.0705e-02, 1.1145e-03, 2.7281e-04, 9.2242e-03,\n",
      "        2.9823e-01, 3.4819e-01, 1.7199e-01, 3.1553e-01, 3.1897e-01, 2.1738e-03,\n",
      "        7.9308e-03, 9.2256e-03, 2.1719e-02, 1.0936e-01, 2.1071e-01, 9.8112e-03,\n",
      "        8.0808e-04, 2.5434e-02, 2.3566e-01, 2.4152e-02, 1.1666e-01, 6.0477e-02,\n",
      "        1.4156e-01, 2.2208e-02, 4.1951e-01, 4.2977e-03, 1.6197e-01, 2.6569e-02,\n",
      "        2.7016e-02, 6.4438e-03, 1.1298e-02, 5.3767e-01, 4.8804e-02, 7.5123e-02,\n",
      "        1.3846e-01, 9.5951e-02, 1.6368e-03, 1.6381e-01, 8.4367e-02, 3.9212e-01,\n",
      "        2.4988e-02, 4.9239e-01, 1.1763e-01, 1.5253e-01, 1.9085e-01, 6.3503e-02,\n",
      "        1.9392e-01, 1.9261e-01, 1.7167e-02, 9.1748e-02, 5.5205e-03, 2.1892e-01,\n",
      "        5.5159e-01, 2.2338e-03, 1.8975e-01, 1.4792e-01, 7.0749e-01, 2.2082e-01,\n",
      "        1.7400e-02, 1.5052e-01, 2.3719e-02, 1.2565e-01, 6.9103e-02, 1.1090e-01,\n",
      "        4.4509e-03, 1.2644e-01, 5.5115e-02, 1.5672e-01, 1.7435e-01, 5.5746e-02,\n",
      "        8.3625e-02, 4.3049e-02, 2.5857e-01, 1.2642e-02, 1.2980e-01, 4.0539e-03,\n",
      "        1.3022e-01, 1.5307e-01, 1.0655e-01, 3.7309e-02, 7.1408e-03, 1.4512e-01,\n",
      "        1.7612e-01, 2.9726e-01, 2.3328e-02, 2.6820e-01, 2.1644e-01, 2.4735e-02,\n",
      "        5.8763e-02, 1.9178e-02, 6.7086e-01, 4.0892e-02, 3.4178e-01, 1.6768e-01,\n",
      "        2.8342e-01, 6.1814e-03, 1.4136e-02, 1.2400e-04, 2.5485e-03, 9.7316e-03,\n",
      "        1.2615e-01, 2.4339e-03, 2.0012e-02, 1.6919e-01, 5.6310e-01, 3.8291e-01,\n",
      "        4.1115e-02, 3.3424e-02, 4.1869e-02, 3.3405e-01, 3.8367e-05, 2.4617e-01,\n",
      "        7.6695e-02, 3.0487e-02, 1.2116e-02, 6.2960e-03, 3.7173e-02, 4.6817e-01,\n",
      "        1.1188e-01, 4.2199e-01, 7.1190e-02, 6.3932e-01, 6.7309e-02, 6.6203e-02,\n",
      "        2.1434e-02, 4.1637e-01, 9.9530e-02, 6.6493e-02, 1.3141e-01, 1.1575e-02,\n",
      "        1.4219e-02, 3.1132e-04, 1.3245e-01, 9.6093e-02, 7.3917e-02, 1.4326e-01,\n",
      "        8.2336e-03, 2.1861e-01, 3.5013e-03, 1.5386e-01, 1.3158e-02, 4.0929e-02,\n",
      "        1.1268e-01, 3.2700e-01, 1.8062e-02, 6.8874e-02, 4.3180e-01, 2.5846e-01,\n",
      "        3.0469e-02, 3.9041e-01, 2.7431e-01, 5.9860e-02, 7.7981e-02, 2.2602e-01,\n",
      "        2.2466e-01, 1.7935e-02, 7.1928e-02, 1.5138e-01, 9.0654e-02, 2.9371e-03,\n",
      "        9.9531e-02, 2.8903e-02, 3.2852e-03, 3.3206e-02, 8.1620e-02, 2.3387e-01,\n",
      "        8.7181e-02, 1.0454e-03, 1.7254e-01, 4.4510e-02, 2.4374e-01, 6.5799e-02,\n",
      "        4.4974e-02, 1.2481e-02, 2.8026e-02, 9.2745e-03, 1.0717e-02, 3.6597e-03,\n",
      "        7.5332e-02, 5.2140e-02, 3.2494e-02, 1.9776e-01, 5.1533e-02, 2.4553e-02,\n",
      "        1.5477e-01, 5.0203e-02, 3.4052e-01, 5.8079e-01, 1.7161e-02, 9.5468e-03,\n",
      "        5.3364e-02, 5.7916e-02, 2.9097e-01, 2.9975e-01, 9.9653e-02, 5.0516e-02,\n",
      "        5.0548e-02, 9.5888e-02, 1.9361e-01, 2.4379e-02, 2.2467e-02, 1.1597e-02,\n",
      "        2.6279e-01, 5.1998e-02, 1.0048e-02, 1.6953e-01, 1.3009e-01, 4.7736e-01,\n",
      "        1.2512e-01, 2.6022e-03, 8.5625e-02, 3.4565e-02, 3.0847e-02, 1.3061e-01,\n",
      "        3.7749e-02, 9.3788e-04, 1.4506e-01, 5.9227e-03, 3.4357e-01, 1.2759e-01,\n",
      "        2.1622e-01, 1.1535e-02, 2.5977e-01, 7.8678e-03, 1.3066e-02, 1.6184e-03,\n",
      "        1.8158e-02, 9.8341e-02, 2.2206e-02, 1.7172e-01, 2.8263e-04, 2.7970e-01,\n",
      "        1.8643e-01, 3.2704e-01, 6.5320e-03, 3.7941e-01, 1.8911e-02, 5.0088e-02,\n",
      "        2.9757e-01, 5.9295e-03, 1.7441e-01, 2.2188e-01, 1.2074e-03, 4.7717e-02,\n",
      "        6.4871e-02, 4.6135e-02, 3.8898e-02, 4.0589e-01, 3.0565e-03, 5.4853e-03,\n",
      "        9.8261e-02, 3.2095e-01, 5.4699e-01, 7.8204e-03, 5.7994e-02, 2.4545e-01,\n",
      "        7.0519e-03, 6.9442e-02, 2.0887e-01, 1.2322e-01, 8.3092e-02, 3.1078e-01,\n",
      "        5.7195e-01, 3.1834e-02, 3.0583e-02, 3.8013e-01, 1.9510e-02, 1.3123e-01,\n",
      "        7.7621e-02, 2.5881e-01, 1.1296e-02, 8.3752e-03, 1.9820e-01, 9.6343e-03,\n",
      "        1.5890e-02, 2.0343e-02, 8.0774e-02, 3.6159e-03, 2.6144e-01, 1.2114e-01,\n",
      "        2.4133e-01, 3.2518e-01, 3.6069e-01, 2.2018e-02, 6.9504e-03, 1.9019e-02,\n",
      "        1.1784e-01, 7.4642e-01, 6.9278e-02, 1.0597e-01, 8.6229e-03, 1.1091e-02,\n",
      "        6.6324e-02, 4.4462e-02, 2.3151e-02, 1.3972e-01, 3.3564e-02, 3.5740e-03,\n",
      "        1.5082e-01, 2.8544e-01, 1.2841e-02, 1.4639e-03, 2.0711e-02, 1.8521e-01,\n",
      "        5.9639e-03, 1.9958e-03, 3.0341e-02, 2.6378e-01, 1.2855e-01, 7.3778e-02,\n",
      "        3.2188e-02, 3.1277e-01, 2.0829e-01, 9.1185e-03, 1.4190e-03, 8.7512e-03,\n",
      "        7.5811e-03, 1.8078e-01, 5.0000e-01, 4.5447e-03, 1.2527e-01, 6.8053e-02,\n",
      "        5.2343e-02, 1.7132e-03, 1.0954e-01, 2.3837e-01, 3.6289e-01, 1.3777e-03,\n",
      "        3.4635e-01, 3.3310e-01])), ('c_encoder.3.num_batches_tracked', tensor(498190)), ('sim_dis.0.weight', tensor([[ 0.1557,  0.0341, -0.0285,  ..., -0.0253, -0.3459, -0.0074],\n",
      "        [ 0.0786, -0.0090, -0.0040,  ...,  0.0318,  0.1897, -0.0379],\n",
      "        [ 0.0606, -0.0304,  0.0218,  ...,  0.0133, -0.4984, -0.0450],\n",
      "        ...,\n",
      "        [-0.0175, -0.0717, -0.0026,  ...,  0.0447,  0.0742, -0.0058],\n",
      "        [-0.0203,  0.0324, -0.0115,  ..., -0.0635,  0.0474, -0.0473],\n",
      "        [-0.0015, -0.0137,  0.0474,  ..., -0.0577,  0.0585, -0.0589]])), ('sim_dis.0.bias', tensor([ 0.0616, -0.0246, -0.0053, -0.0651, -0.2801,  0.0632,  0.3290, -0.0738,\n",
      "        -0.0150, -0.1533,  0.1049,  0.9032,  0.0036,  0.4287, -0.5009,  0.1053,\n",
      "        -0.0335, -0.0218, -0.0340, -0.1802, -0.0352,  0.0964,  0.0162, -0.6447,\n",
      "        -0.0121, -0.3996,  0.0098, -0.0518,  0.3398, -0.1230, -0.1380,  0.3488,\n",
      "         0.0091,  0.4619,  0.1617, -0.4988, -0.0157,  0.3953, -0.0229, -0.0467,\n",
      "         0.2058, -0.2822, -0.2349, -0.2040, -0.0309,  0.3099, -0.2398,  0.0696,\n",
      "        -0.5359, -0.0603, -0.3569,  0.1962,  0.3409,  0.0020, -0.3109,  0.1656,\n",
      "         0.0171, -0.3384, -0.0141, -0.1043,  0.5887, -0.1484, -0.2058, -0.1292,\n",
      "         0.0902, -0.0269, -0.0027, -0.4709, -0.1650,  0.0768, -0.2407, -0.3665,\n",
      "        -0.3375,  0.1790, -0.4021,  0.5128, -0.4211,  0.2042, -0.2152,  0.1193,\n",
      "        -0.3871, -0.7558, -0.0586, -0.0750,  0.0498, -0.0364,  0.2443, -0.7773,\n",
      "        -0.2199,  0.0026, -0.0960,  0.0267,  0.0043,  0.3491, -0.6435,  0.0323,\n",
      "        -0.2487,  0.1639, -0.3502,  0.8016, -0.0750, -0.5243,  0.2501,  0.0848,\n",
      "        -0.4804, -0.0132, -0.0162, -0.2952, -0.3266, -0.0053,  0.0137, -0.0135,\n",
      "         0.0849,  0.2895, -0.4921, -0.1310,  0.0717,  0.2334,  0.0497, -0.0980,\n",
      "        -0.0012,  0.0134, -0.6644, -0.1292, -0.0265,  0.0209,  0.0577, -0.1040])), ('sim_dis.1.weight', tensor([-8.2922e-01, -1.3221e+00, -6.9714e-01,  6.1632e-01, -1.0658e+00,\n",
      "        -6.6621e-01, -1.0590e+00,  9.7317e-01,  1.0968e+00,  6.0117e-01,\n",
      "         9.8710e-01, -1.3618e+00,  5.6687e-01, -1.3490e+00, -1.6667e+00,\n",
      "        -1.0227e+00, -6.5612e-01,  6.5742e-01,  1.2044e+00,  6.6329e-01,\n",
      "        -1.0971e+00, -7.9166e-01,  6.4198e-01,  1.2962e+00,  3.2387e-03,\n",
      "        -1.3709e+00, -1.3333e+00,  6.2061e-01,  7.7733e-01,  1.0506e+00,\n",
      "        -7.0522e-01, -1.0830e+00, -7.2948e-01,  6.4697e-01,  9.2374e-01,\n",
      "         1.0326e+00, -1.2673e+00,  7.2187e-01,  6.9772e-03,  1.0449e-04,\n",
      "        -5.7860e-01,  9.4912e-01, -1.3049e+00, -6.0976e-01, -1.3846e+00,\n",
      "         1.0162e+00, -1.1918e+00, -6.0176e-01,  7.4030e-01, -1.0656e+00,\n",
      "         1.0179e+00,  1.0741e+00, -6.7782e-01, -5.0539e-01,  1.1224e+00,\n",
      "        -8.9474e-01, -7.9972e-01,  1.0825e+00, -8.0630e-01, -1.0662e+00,\n",
      "        -1.1385e+00,  9.1558e-01,  1.0497e+00, -1.0433e+00, -5.1874e-01,\n",
      "         5.6835e-01,  1.6893e+00,  1.3755e+00, -1.0659e+00, -5.6692e-01,\n",
      "         6.7443e-01, -7.2611e-01,  1.0596e+00, -9.6512e-01, -1.2746e+00,\n",
      "        -1.0462e+00, -1.2805e+00, -4.9303e-01, -6.2551e-01,  1.1384e+00,\n",
      "         1.3441e+00,  7.6417e-01, -9.3129e-04,  2.4072e-03,  1.3762e+00,\n",
      "         8.8477e-01,  1.4105e+00, -8.4184e-01,  1.1898e+00, -6.7517e-01,\n",
      "        -1.4795e+00,  8.9980e-03, -7.4818e-01,  1.1073e+00, -1.0909e+00,\n",
      "        -8.8902e-01,  1.0168e+00,  6.0647e-01, -1.4198e+00,  1.1416e+00,\n",
      "         4.2615e-03, -1.4473e+00,  5.4783e-01, -6.9292e-01,  1.5484e+00,\n",
      "         3.7461e-04, -6.6209e-01,  6.5759e-01,  1.3613e+00,  6.5864e-01,\n",
      "        -1.1244e-05,  5.4007e-01,  5.6302e-01,  7.1554e-01,  7.8675e-01,\n",
      "         1.0418e+00, -4.8466e-01,  1.1001e+00, -5.2347e-01, -7.6272e-01,\n",
      "        -6.0145e-01,  2.6020e-03,  1.6968e+00, -1.3150e+00,  5.9568e-01,\n",
      "        -1.7453e-03,  9.1394e-03,  1.2915e+00])), ('sim_dis.1.bias', tensor([ 0.2382, -0.3445,  0.2964,  0.1847, -0.3780,  0.0776,  0.2562, -0.5096,\n",
      "        -0.5451,  0.2651, -0.6045,  0.0929,  0.2807, -0.3692, -0.3842,  0.2715,\n",
      "         0.2833,  0.2382, -0.4995,  0.0533, -0.4577,  0.0369,  0.2356, -0.5040,\n",
      "        -0.0402, -0.4011, -0.6043,  0.2126,  0.1570, -0.5485,  0.1804,  0.3545,\n",
      "         0.3070,  0.1616, -0.2160, -0.4108, -0.5630,  0.1733, -0.0722, -0.0347,\n",
      "         0.0686, -0.3753, -0.2868,  0.1845, -0.4662, -0.2356, -0.4367,  0.1468,\n",
      "         0.1839,  0.3890,  0.3170, -0.4909,  0.0650,  0.2211,  0.3058,  0.4829,\n",
      "         0.2890, -0.5071,  0.2456, -0.5455, -0.4514,  0.4388, -0.4551, -0.4272,\n",
      "         0.2173,  0.1567, -0.4244,  0.2823, -0.6086,  0.1495,  0.0398,  0.1802,\n",
      "         0.3900, -0.3928,  0.0211,  0.3697, -0.4743,  0.1823,  0.1748,  0.3778,\n",
      "        -0.3329,  0.2288, -0.0391, -0.0594, -0.4467,  0.5163, -0.2942,  0.1897,\n",
      "        -0.4674,  0.2335, -0.5573, -0.0675,  0.2155, -0.4893, -0.3642,  0.3061,\n",
      "         0.3086,  0.1788, -0.4486, -0.3620, -0.0498, -0.2834,  0.1643,  0.2130,\n",
      "        -0.4980, -0.0050,  0.2102,  0.1908,  0.1758,  0.2957, -0.0780,  0.1565,\n",
      "         0.2374,  0.2472,  0.1386, -0.7053,  0.2305, -0.4680,  0.2218,  0.1235,\n",
      "         0.2208, -0.0276, -0.3638, -0.4243,  0.1900, -0.0409, -0.0791, -0.4148])), ('sim_dis.1.running_mean', tensor([ 0.0449,  0.1188, -0.1863,  0.5049,  0.0659, -0.2506,  0.6691, -0.4924,\n",
      "        -0.2506, -0.3631,  0.1473,  1.2667, -0.0643,  0.9676, -1.0135,  0.0242,\n",
      "        -0.0904, -0.3853, -0.4957, -0.4902,  0.4571,  0.5555,  0.2364, -1.7192,\n",
      "         0.0111, -0.7833, -0.0036,  0.3929,  1.1243, -0.5667,  0.2488,  1.0158,\n",
      "         0.0403,  0.9702, -0.4848, -0.7026, -0.2727,  0.2965,  0.0388, -0.2980,\n",
      "         0.6540,  0.0942, -0.0161, -0.3673, -0.6547, -0.3456,  0.4290,  0.5729,\n",
      "        -0.8359, -0.6223, -0.7390, -0.0292,  0.5217,  0.4428, -0.6348,  0.4085,\n",
      "        -0.5707, -0.2317, -0.5341,  0.2168,  1.3001, -0.2018, -0.7204, -0.2466,\n",
      "         0.3085,  0.1575, -0.0897, -0.4894, -0.0511,  0.4212, -1.1674, -0.2744,\n",
      "        -0.9664,  0.1224,  0.4006,  0.9820, -0.0536,  0.3998, -0.5497,  0.0090,\n",
      "        -1.0749, -1.3125, -0.5872, -0.0315, -0.1058,  0.0898,  0.0199, -1.8895,\n",
      "        -0.5668,  0.2241,  0.2511,  0.0068, -0.5452,  0.7610, -1.1506,  0.1822,\n",
      "         0.0653, -0.1034, -0.6382,  1.4592, -0.0911, -0.8925, -0.1154,  0.1810,\n",
      "        -0.7178,  0.2576,  0.2657, -0.6181, -0.7581, -0.1531,  0.1716, -0.0784,\n",
      "         0.7149,  0.6694, -0.4618,  0.1624, -0.5457, -0.0776, -0.2243,  0.1297,\n",
      "        -0.0847, -0.0940, -0.8788, -0.0465,  0.5488,  0.0642, -0.1536, -0.1405])), ('sim_dis.1.running_var', tensor([6.2763e-01, 1.1390e-01, 1.0184e+00, 6.9345e-01, 7.4110e-01, 9.1910e-01,\n",
      "        1.1639e-01, 3.3718e-01, 5.8260e-01, 7.8545e-01, 1.0434e-01, 7.8364e-02,\n",
      "        6.2282e-01, 6.4551e-02, 2.5269e-01, 1.8715e-01, 5.9109e-01, 4.5239e-01,\n",
      "        1.5329e-01, 7.2553e-01, 5.4671e-01, 6.9535e-01, 9.2826e-01, 5.4155e-01,\n",
      "        1.8746e-03, 5.5798e-02, 6.1505e-01, 8.4935e-01, 5.5652e-01, 5.7484e-01,\n",
      "        4.5280e-01, 2.5227e-01, 1.2314e+00, 7.9560e-01, 5.8487e-01, 8.6630e-01,\n",
      "        4.7068e-01, 4.6058e-01, 1.3598e-03, 1.3448e-03, 6.7515e-01, 8.4741e-01,\n",
      "        1.2765e-01, 9.3209e-01, 8.6531e-02, 6.0308e-01, 1.2680e-01, 6.6512e-01,\n",
      "        4.4326e-01, 3.0670e-01, 3.2297e-01, 4.6345e-01, 4.2862e-01, 5.4418e-01,\n",
      "        9.5025e-02, 2.1463e-01, 6.2414e-01, 4.0433e-02, 4.1490e-01, 5.0845e-01,\n",
      "        8.2961e-01, 2.0823e-01, 3.3456e-01, 5.8374e-01, 1.0962e+00, 6.5099e-01,\n",
      "        9.2418e-02, 1.2317e-01, 4.8844e-02, 5.8162e-01, 6.9735e-01, 4.5523e-01,\n",
      "        1.4118e-01, 8.5614e-01, 7.8985e-02, 1.0140e-01, 4.6554e-02, 7.5421e-01,\n",
      "        5.7393e-01, 4.4247e-01, 1.1919e-01, 6.3621e-01, 5.2811e-04, 1.2551e-03,\n",
      "        9.9283e-02, 4.3226e-01, 1.4625e-01, 5.2662e-01, 6.3942e-01, 7.7312e-01,\n",
      "        6.6458e-01, 6.3819e-04, 4.0882e-01, 5.5677e-01, 4.5601e-01, 8.0708e-01,\n",
      "        4.1113e-01, 5.7497e-01, 8.2801e-02, 4.6526e-02, 8.8406e-04, 1.1464e-01,\n",
      "        4.0477e-01, 5.2031e-01, 1.0479e-01, 7.0177e-04, 4.0450e-01, 5.6946e-01,\n",
      "        1.0952e-01, 5.4865e-01, 7.5707e-04, 6.0557e-01, 9.9264e-01, 5.1471e-01,\n",
      "        4.3171e-01, 4.8635e-02, 4.6977e-01, 4.2393e-01, 5.9479e-01, 5.6889e-01,\n",
      "        5.5601e-01, 1.2106e-03, 1.9165e-01, 1.3742e-01, 6.6004e-01, 7.7276e-04,\n",
      "        1.3475e-03, 1.1167e-01])), ('sim_dis.1.num_batches_tracked', tensor(249095)), ('sim_dis.3.weight', tensor([[ 0.5420, -1.9782,  0.5527,  0.3943,  1.9745,  0.5171, -0.7089,  1.8953,\n",
      "          2.4931,  0.3431, -2.3075, -1.0349,  0.3598, -2.1975, -2.3164, -0.7480,\n",
      "          0.3896,  0.5049, -2.2395,  0.4184,  1.7690,  0.4811,  0.3903,  2.1735,\n",
      "         -0.0533, -2.0456,  2.9802,  0.5196,  0.5627,  2.1117,  0.4730, -0.8049,\n",
      "          0.4908,  0.4313,  1.3175,  1.7090,  2.3014,  0.5216, -0.0120,  0.0406,\n",
      "          0.3249,  1.7822, -1.8330,  0.3804, -2.0897,  1.4178, -2.3441,  0.4084,\n",
      "          0.5326, -0.7882, -0.6903,  1.5770,  0.4709,  0.3455, -0.7957, -0.5919,\n",
      "          0.5204, -2.4207,  0.5465,  2.3531,  2.1590, -0.6628,  1.7479,  1.5632,\n",
      "          0.3089,  0.2758, -2.2814, -1.1223, -2.1156,  0.3351,  0.4078,  0.4784,\n",
      "         -0.6964,  1.7955, -0.9055, -0.7572, -2.4934,  0.4389,  0.3387, -0.7600,\n",
      "         -2.2548,  0.4737, -0.0250,  0.0521, -2.2833, -0.6577, -2.2015,  0.4657,\n",
      "          2.0899,  0.4238,  3.0384,  0.0398,  0.5779,  1.9310,  1.6167,  0.5618,\n",
      "         -0.7014,  0.3644, -2.1313, -2.3467,  0.0382, -2.2808,  0.3834,  0.4388,\n",
      "         -2.4019, -0.0311,  0.4582,  0.4773, -0.9285,  0.3732, -0.0698,  0.3349,\n",
      "          0.2646,  0.5452,  0.6454, -2.3631,  0.3911,  1.7690,  0.3444,  0.4434,\n",
      "          0.3769, -0.0681, -2.3764, -2.0808,  0.3879, -0.0286, -0.0342, -2.2974],\n",
      "        [-0.6114,  2.0249, -0.5079, -0.3240, -1.9934, -0.4346,  0.7098, -1.8774,\n",
      "         -2.4919, -0.3740,  2.3095,  0.9836, -0.3476,  2.1979,  2.3104,  0.7427,\n",
      "         -0.4871, -0.5016,  2.2313, -0.4931, -1.7929, -0.5523, -0.4842, -2.1300,\n",
      "         -0.0525,  2.0300, -2.9660, -0.4148, -0.5687, -2.0740, -0.5064,  0.8094,\n",
      "         -0.4619, -0.3800, -1.3545, -1.6688, -2.3598, -0.5247, -0.0297, -0.0155,\n",
      "         -0.3841, -1.7843,  1.8057, -0.3887,  2.0853, -1.4469,  2.3079, -0.2893,\n",
      "         -0.4909,  0.7642,  0.7070, -1.5953, -0.5493, -0.3062,  0.8027,  0.6907,\n",
      "         -0.4976,  2.4095, -0.4662, -2.3478, -2.1499,  0.5864, -1.7050, -1.5972,\n",
      "         -0.2288, -0.3434,  2.3012,  1.1067,  2.1850, -0.4580, -0.4760, -0.4732,\n",
      "          0.6913, -1.8153,  0.9439,  0.7626,  2.5080, -0.3770, -0.3831,  0.7163,\n",
      "          2.2624, -0.4820,  0.0243, -0.0464,  2.2998,  0.6203,  2.2034, -0.5259,\n",
      "         -2.0816, -0.3862, -3.0515,  0.0354, -0.6014, -1.9010, -1.5527, -0.4971,\n",
      "          0.7050, -0.4385,  2.1378,  2.3433,  0.0378,  2.2839, -0.3758, -0.3894,\n",
      "          2.4142,  0.0713, -0.4513, -0.4367,  0.9226, -0.3985, -0.0237, -0.3697,\n",
      "         -0.3793, -0.5317, -0.5630,  2.3529, -0.4256, -1.7063, -0.3235, -0.4139,\n",
      "         -0.4457,  0.0611,  2.3833,  2.0845, -0.3771, -0.0631, -0.0622,  2.3029]])), ('sim_dis.3.bias', tensor([-0.1535,  0.2028]))])\n"
     ]
    },
    {
     "data": {
      "text/plain": "SimNetwork(\n  (s_encoder): Sequential(\n    (0): Linear(in_features=768, out_features=512, bias=True)\n    (1): BatchNorm1d(512, eps=1e-05, momentum=0.1, affine=True, track_running_stats=True)\n    (2): Linear(in_features=512, out_features=512, bias=True)\n    (3): BatchNorm1d(512, eps=1e-05, momentum=0.1, affine=True, track_running_stats=True)\n    (4): ReLU()\n  )\n  (c_encoder): Sequential(\n    (0): Linear(in_features=2, out_features=128, bias=True)\n    (1): BatchNorm1d(128, eps=1e-05, momentum=0.1, affine=True, track_running_stats=True)\n    (2): Linear(in_features=128, out_features=512, bias=True)\n    (3): BatchNorm1d(512, eps=1e-05, momentum=0.1, affine=True, track_running_stats=True)\n    (4): ReLU()\n  )\n  (sim_dis): Sequential(\n    (0): Linear(in_features=2048, out_features=128, bias=True)\n    (1): BatchNorm1d(128, eps=1e-05, momentum=0.1, affine=True, track_running_stats=True)\n    (2): ReLU()\n    (3): Linear(in_features=128, out_features=2, bias=True)\n  )\n)"
     },
     "execution_count": 196,
     "metadata": {},
     "output_type": "execute_result"
    }
   ],
   "source": [
    "state_dict = torch.load(cfg.MODEL_PATH, map_location='cpu')['state_dict']\n",
    "print(state_dict)\n",
    "model = SimNetwork()\n",
    "model.load_state_dict(state_dict)\n",
    "model.to(get_device())\n",
    "model.eval()\n",
    "model"
   ],
   "metadata": {
    "collapsed": false,
    "pycharm": {
     "name": "#%%\n"
    }
   }
  },
  {
   "cell_type": "code",
   "execution_count": 197,
   "outputs": [],
   "source": [
    "match_df = pd.DataFrame(columns=['id', 'matches'])\n",
    "match_df['id'] = test_df['id']\n",
    "match_df['matches'] = test_df['id']\n",
    "for i, sample in enumerate(test_dataset):\n",
    "    lat1 = sample['pair1']['lat'].to(get_device())\n",
    "    lng1 = sample['pair1']['lng'].to(get_device())\n",
    "    emb1 = sample['pair1']['emb'].to(get_device())\n",
    "    lat2 = sample['pair2']['lat'].to(get_device())\n",
    "    lng2 = sample['pair2']['lng'].to(get_device())\n",
    "    emb2 = sample['pair2']['emb'].to(get_device())\n",
    "\n",
    "    outputs = model(lat1, lng1, emb1, lat2, lng2, emb2)\n",
    "    pred = torch.sigmoid(outputs).data > 0.5\n",
    "    if pred[0][1].item():\n",
    "        pair1_id = match_combs[i][0]\n",
    "        pair2_id = match_combs[i][1]\n",
    "        match_df.loc[match_df['id'] == pair1_id, 'matches'] = \\\n",
    "            match_df.loc[match_df['id'] == pair1_id, 'matches'].astype(str) + ' ' + pair2_id\n",
    "        match_df.loc[match_df['id'] == pair2_id, 'matches'] = \\\n",
    "            match_df.loc[match_df['id'] == pair2_id, 'matches'].astype(str) + ' ' + pair1_id\n",
    "match_df.to_csv('submission.csv', index=False)"
   ],
   "metadata": {
    "collapsed": false,
    "pycharm": {
     "name": "#%%\n"
    }
   }
  }
 ],
 "metadata": {
  "kernelspec": {
   "display_name": "Python 3 (ipykernel)",
   "language": "python",
   "name": "python3"
  },
  "language_info": {
   "codemirror_mode": {
    "name": "ipython",
    "version": 3
   },
   "file_extension": ".py",
   "mimetype": "text/x-python",
   "name": "python",
   "nbconvert_exporter": "python",
   "pygments_lexer": "ipython3",
   "version": "3.9.7"
  }
 },
 "nbformat": 4,
 "nbformat_minor": 1
}