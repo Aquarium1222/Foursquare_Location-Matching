{
 "cells": [
  {
   "cell_type": "markdown",
   "metadata": {
    "collapsed": true,
    "pycharm": {
     "name": "#%% md\n"
    }
   },
   "source": [
    "# Sim Network"
   ]
  },
  {
   "cell_type": "code",
   "execution_count": 13,
   "outputs": [],
   "source": [
    "import numpy as np\n",
    "import pandas as pd\n",
    "from tqdm import tqdm\n",
    "from itertools import combinations"
   ],
   "metadata": {
    "collapsed": false,
    "pycharm": {
     "name": "#%%\n"
    }
   }
  },
  {
   "cell_type": "code",
   "execution_count": 5,
   "outputs": [],
   "source": [
    "class cfg:\n",
    "    TRAINING_DATA_PATH = './data/train.csv'"
   ],
   "metadata": {
    "collapsed": false,
    "pycharm": {
     "name": "#%%\n"
    }
   }
  },
  {
   "cell_type": "markdown",
   "source": [
    "## Prepare data"
   ],
   "metadata": {
    "collapsed": false
   }
  },
  {
   "cell_type": "code",
   "execution_count": 18,
   "outputs": [
    {
     "data": {
      "text/plain": "                     id                      name   latitude   longitude  \\\n10000  E_0246d8074db266          LaFee Beach Club  39.583069   26.914058   \n10001  E_0246ea7e1057ab  Consultorio Odontológico -25.356974  -57.505734   \n10002  E_024708969f3193   Oak Knoll Park Baseball  33.820926 -118.033060   \n10003  E_02471989168598                 Mavi Köşe  36.588993   36.168899   \n10004  E_0247228a7f0483            Холмогорова 30  56.874012   53.217625   \n\n              city    state    zip country  \\\n10000    Balikesir  Edremit    NaN      TR   \n10001  San Lorenzo  Central    NaN      PY   \n10002      Cypress       CA  90630      US   \n10003   İskenderun  Türkiye  31200      TR   \n10004          NaN      NaN    NaN      RU   \n\n                                        categories point_of_interest  \n10000                     Nightclubs, Music Venues  P_91fe1a75b28452  \n10001                            Dentist's Offices  P_d87a6bd4a758ea  \n10002                              Baseball Fields  P_b38f74f6ea56ff  \n10003         Fast Food Restaurants, Burger Joints  P_050caeb0086a49  \n10004  Residential Buildings (Apartments / Condos)  P_311d6daf9a16b1  ",
      "text/html": "<div>\n<style scoped>\n    .dataframe tbody tr th:only-of-type {\n        vertical-align: middle;\n    }\n\n    .dataframe tbody tr th {\n        vertical-align: top;\n    }\n\n    .dataframe thead th {\n        text-align: right;\n    }\n</style>\n<table border=\"1\" class=\"dataframe\">\n  <thead>\n    <tr style=\"text-align: right;\">\n      <th></th>\n      <th>id</th>\n      <th>name</th>\n      <th>latitude</th>\n      <th>longitude</th>\n      <th>city</th>\n      <th>state</th>\n      <th>zip</th>\n      <th>country</th>\n      <th>categories</th>\n      <th>point_of_interest</th>\n    </tr>\n  </thead>\n  <tbody>\n    <tr>\n      <th>10000</th>\n      <td>E_0246d8074db266</td>\n      <td>LaFee Beach Club</td>\n      <td>39.583069</td>\n      <td>26.914058</td>\n      <td>Balikesir</td>\n      <td>Edremit</td>\n      <td>NaN</td>\n      <td>TR</td>\n      <td>Nightclubs, Music Venues</td>\n      <td>P_91fe1a75b28452</td>\n    </tr>\n    <tr>\n      <th>10001</th>\n      <td>E_0246ea7e1057ab</td>\n      <td>Consultorio Odontológico</td>\n      <td>-25.356974</td>\n      <td>-57.505734</td>\n      <td>San Lorenzo</td>\n      <td>Central</td>\n      <td>NaN</td>\n      <td>PY</td>\n      <td>Dentist's Offices</td>\n      <td>P_d87a6bd4a758ea</td>\n    </tr>\n    <tr>\n      <th>10002</th>\n      <td>E_024708969f3193</td>\n      <td>Oak Knoll Park Baseball</td>\n      <td>33.820926</td>\n      <td>-118.033060</td>\n      <td>Cypress</td>\n      <td>CA</td>\n      <td>90630</td>\n      <td>US</td>\n      <td>Baseball Fields</td>\n      <td>P_b38f74f6ea56ff</td>\n    </tr>\n    <tr>\n      <th>10003</th>\n      <td>E_02471989168598</td>\n      <td>Mavi Köşe</td>\n      <td>36.588993</td>\n      <td>36.168899</td>\n      <td>İskenderun</td>\n      <td>Türkiye</td>\n      <td>31200</td>\n      <td>TR</td>\n      <td>Fast Food Restaurants, Burger Joints</td>\n      <td>P_050caeb0086a49</td>\n    </tr>\n    <tr>\n      <th>10004</th>\n      <td>E_0247228a7f0483</td>\n      <td>Холмогорова 30</td>\n      <td>56.874012</td>\n      <td>53.217625</td>\n      <td>NaN</td>\n      <td>NaN</td>\n      <td>NaN</td>\n      <td>RU</td>\n      <td>Residential Buildings (Apartments / Condos)</td>\n      <td>P_311d6daf9a16b1</td>\n    </tr>\n  </tbody>\n</table>\n</div>"
     },
     "execution_count": 18,
     "metadata": {},
     "output_type": "execute_result"
    }
   ],
   "source": [
    "df = pd.read_csv(cfg.TRAINING_DATA_PATH)\n",
    "df = df[['id', 'name', 'latitude', 'longitude', 'city', 'state', 'zip', 'country', 'categories', 'point_of_interest']]\n",
    "df = df[10000:20000]\n",
    "df.head()"
   ],
   "metadata": {
    "collapsed": false,
    "pycharm": {
     "name": "#%%\n"
    }
   }
  },
  {
   "cell_type": "code",
   "execution_count": 68,
   "outputs": [
    {
     "data": {
      "text/plain": "Empty DataFrame\nColumns: [id1, name1, latitude1, longitude1, city1, state1, zip1, country1, categories1, id2, name2, latitude2, longitude2, city2, state2, zip2, country2, categories2]\nIndex: []",
      "text/html": "<div>\n<style scoped>\n    .dataframe tbody tr th:only-of-type {\n        vertical-align: middle;\n    }\n\n    .dataframe tbody tr th {\n        vertical-align: top;\n    }\n\n    .dataframe thead th {\n        text-align: right;\n    }\n</style>\n<table border=\"1\" class=\"dataframe\">\n  <thead>\n    <tr style=\"text-align: right;\">\n      <th></th>\n      <th>id1</th>\n      <th>name1</th>\n      <th>latitude1</th>\n      <th>longitude1</th>\n      <th>city1</th>\n      <th>state1</th>\n      <th>zip1</th>\n      <th>country1</th>\n      <th>categories1</th>\n      <th>id2</th>\n      <th>name2</th>\n      <th>latitude2</th>\n      <th>longitude2</th>\n      <th>city2</th>\n      <th>state2</th>\n      <th>zip2</th>\n      <th>country2</th>\n      <th>categories2</th>\n    </tr>\n  </thead>\n  <tbody>\n  </tbody>\n</table>\n</div>"
     },
     "execution_count": 68,
     "metadata": {},
     "output_type": "execute_result"
    }
   ],
   "source": [
    "pair1_cols = ['id1', 'name1', 'latitude1', 'longitude1', 'city1', 'state1', 'zip1', 'country1', 'categories1']\n",
    "pair2_cols = ['id2', 'name2', 'latitude2', 'longitude2', 'city2', 'state2', 'zip2', 'country2', 'categories2']\n",
    "pair_df = pd.DataFrame(columns=pair1_cols + pair2_cols)\n",
    "new_pair = pair_df.copy(deep=True)\n",
    "pair_df"
   ],
   "metadata": {
    "collapsed": false,
    "pycharm": {
     "name": "#%%\n"
    }
   }
  },
  {
   "cell_type": "code",
   "execution_count": 73,
   "outputs": [
    {
     "name": "stderr",
     "output_type": "stream",
     "text": [
      "100%|██████████| 9920/9920 [00:00<00:00, 80784.98it/s]"
     ]
    },
    {
     "name": "stdout",
     "output_type": "stream",
     "text": [
      "                 id1                                   name1  latitude1  \\\n",
      "0   E_0262f091d68e6e             Lowes Royal Pacific Rm 2145  28.468909   \n",
      "1   E_03d00064135f8b              Loews Royal Pacific Resort  28.469941   \n",
      "2   E_0289d81e89f97e  Ankara Şehirler Arası Otobüs Terminali  39.918160   \n",
      "3   E_02b4afac7935be                                    Aşti  39.918496   \n",
      "4   E_043d6c4bf773c0                             aşti otogar  39.919267   \n",
      "5   E_0323b4731f9db0                             Pantai Kuta  -8.792904   \n",
      "6   E_0386d49ff4c42e                              Kuta Beach  -8.903687   \n",
      "7   E_0325c015ad13d7                                   Tekne  41.077022   \n",
      "8   E_03720e9a35bd9a                         İstanbul Boğazi  41.018787   \n",
      "9   E_024d8a8f6fdbc1                          Estúdios Globo -22.961017   \n",
      "10  E_0383597fbd1bd3       Cidade Cenografica flor do caribe -22.961193   \n",
      "11  E_02761e40f68230                   Sukarno Hatta airport  -7.329110   \n",
      "12  E_0351377fc6b71d                  Bandara Soekarno Hatta  -6.143365   \n",
      "13  E_0262f091d68e6e             Lowes Royal Pacific Rm 2145  28.468909   \n",
      "14  E_03d00064135f8b              Loews Royal Pacific Resort  28.469941   \n",
      "15  E_0289d81e89f97e  Ankara Şehirler Arası Otobüs Terminali  39.918160   \n",
      "16  E_02b4afac7935be                                    Aşti  39.918496   \n",
      "17  E_043d6c4bf773c0                             aşti otogar  39.919267   \n",
      "18  E_0323b4731f9db0                             Pantai Kuta  -8.792904   \n",
      "19  E_0386d49ff4c42e                              Kuta Beach  -8.903687   \n",
      "20  E_0325c015ad13d7                                   Tekne  41.077022   \n",
      "21  E_03720e9a35bd9a                         İstanbul Boğazi  41.018787   \n",
      "22  E_024d8a8f6fdbc1                          Estúdios Globo -22.961017   \n",
      "23  E_0383597fbd1bd3       Cidade Cenografica flor do caribe -22.961193   \n",
      "24  E_02761e40f68230                   Sukarno Hatta airport  -7.329110   \n",
      "25  E_0351377fc6b71d                  Bandara Soekarno Hatta  -6.143365   \n",
      "26  E_0262f091d68e6e             Lowes Royal Pacific Rm 2145  28.468909   \n",
      "27  E_03d00064135f8b              Loews Royal Pacific Resort  28.469941   \n",
      "28  E_0289d81e89f97e  Ankara Şehirler Arası Otobüs Terminali  39.918160   \n",
      "29  E_02b4afac7935be                                    Aşti  39.918496   \n",
      "30  E_043d6c4bf773c0                             aşti otogar  39.919267   \n",
      "31  E_0323b4731f9db0                             Pantai Kuta  -8.792904   \n",
      "32  E_0386d49ff4c42e                              Kuta Beach  -8.903687   \n",
      "33  E_0325c015ad13d7                                   Tekne  41.077022   \n",
      "34  E_03720e9a35bd9a                         İstanbul Boğazi  41.018787   \n",
      "35  E_024d8a8f6fdbc1                          Estúdios Globo -22.961017   \n",
      "36  E_0383597fbd1bd3       Cidade Cenografica flor do caribe -22.961193   \n",
      "37  E_02761e40f68230                   Sukarno Hatta airport  -7.329110   \n",
      "38  E_0351377fc6b71d                  Bandara Soekarno Hatta  -6.143365   \n",
      "39  E_0262f091d68e6e             Lowes Royal Pacific Rm 2145  28.468909   \n",
      "40  E_03d00064135f8b              Loews Royal Pacific Resort  28.469941   \n",
      "41  E_0289d81e89f97e  Ankara Şehirler Arası Otobüs Terminali  39.918160   \n",
      "42  E_02b4afac7935be                                    Aşti  39.918496   \n",
      "43  E_043d6c4bf773c0                             aşti otogar  39.919267   \n",
      "44  E_0323b4731f9db0                             Pantai Kuta  -8.792904   \n",
      "45  E_0386d49ff4c42e                              Kuta Beach  -8.903687   \n",
      "46  E_0325c015ad13d7                                   Tekne  41.077022   \n",
      "47  E_03720e9a35bd9a                         İstanbul Boğazi  41.018787   \n",
      "48  E_024d8a8f6fdbc1                          Estúdios Globo -22.961017   \n",
      "49  E_0383597fbd1bd3       Cidade Cenografica flor do caribe -22.961193   \n",
      "50  E_02761e40f68230                   Sukarno Hatta airport  -7.329110   \n",
      "51  E_0351377fc6b71d                  Bandara Soekarno Hatta  -6.143365   \n",
      "\n",
      "    longitude1           city1                      state1       zip1  \\\n",
      "0   -81.466431         Orlando                          FL      32819   \n",
      "1   -81.469332         Orlando                          FL        NaN   \n",
      "2    32.813206          Ankara                         NaN        NaN   \n",
      "3    32.812629          Ankara                         NaN        NaN   \n",
      "4    32.813301             NaN                         NaN        NaN   \n",
      "5   115.125499             NaN                         NaN        NaN   \n",
      "6   116.296688           Pujut  Lombok, West Nusa Tenggara        NaN   \n",
      "7    29.046671        İstanbul                         NaN        NaN   \n",
      "8    28.993118             NaN                         NaN        NaN   \n",
      "9   -43.406890  Rio de Janeiro                          RJ  22780-084   \n",
      "10  -43.397648             NaN                         NaN        NaN   \n",
      "11  108.213608             NaN                         NaN        NaN   \n",
      "12  106.729291             NaN                         NaN        NaN   \n",
      "13  -81.466431         Orlando                          FL      32819   \n",
      "14  -81.469332         Orlando                          FL        NaN   \n",
      "15   32.813206          Ankara                         NaN        NaN   \n",
      "16   32.812629          Ankara                         NaN        NaN   \n",
      "17   32.813301             NaN                         NaN        NaN   \n",
      "18  115.125499             NaN                         NaN        NaN   \n",
      "19  116.296688           Pujut  Lombok, West Nusa Tenggara        NaN   \n",
      "20   29.046671        İstanbul                         NaN        NaN   \n",
      "21   28.993118             NaN                         NaN        NaN   \n",
      "22  -43.406890  Rio de Janeiro                          RJ  22780-084   \n",
      "23  -43.397648             NaN                         NaN        NaN   \n",
      "24  108.213608             NaN                         NaN        NaN   \n",
      "25  106.729291             NaN                         NaN        NaN   \n",
      "26  -81.466431         Orlando                          FL      32819   \n",
      "27  -81.469332         Orlando                          FL        NaN   \n",
      "28   32.813206          Ankara                         NaN        NaN   \n",
      "29   32.812629          Ankara                         NaN        NaN   \n",
      "30   32.813301             NaN                         NaN        NaN   \n",
      "31  115.125499             NaN                         NaN        NaN   \n",
      "32  116.296688           Pujut  Lombok, West Nusa Tenggara        NaN   \n",
      "33   29.046671        İstanbul                         NaN        NaN   \n",
      "34   28.993118             NaN                         NaN        NaN   \n",
      "35  -43.406890  Rio de Janeiro                          RJ  22780-084   \n",
      "36  -43.397648             NaN                         NaN        NaN   \n",
      "37  108.213608             NaN                         NaN        NaN   \n",
      "38  106.729291             NaN                         NaN        NaN   \n",
      "39  -81.466431         Orlando                          FL      32819   \n",
      "40  -81.469332         Orlando                          FL        NaN   \n",
      "41   32.813206          Ankara                         NaN        NaN   \n",
      "42   32.812629          Ankara                         NaN        NaN   \n",
      "43   32.813301             NaN                         NaN        NaN   \n",
      "44  115.125499             NaN                         NaN        NaN   \n",
      "45  116.296688           Pujut  Lombok, West Nusa Tenggara        NaN   \n",
      "46   29.046671        İstanbul                         NaN        NaN   \n",
      "47   28.993118             NaN                         NaN        NaN   \n",
      "48  -43.406890  Rio de Janeiro                          RJ  22780-084   \n",
      "49  -43.397648             NaN                         NaN        NaN   \n",
      "50  108.213608             NaN                         NaN        NaN   \n",
      "51  106.729291             NaN                         NaN        NaN   \n",
      "\n",
      "   country1            categories1               id2  \\\n",
      "0        US                Resorts               NaN   \n",
      "1        US                Resorts  E_03d00064135f8b   \n",
      "2        TR           Bus Stations               NaN   \n",
      "3        TR                    NaN  E_02b4afac7935be   \n",
      "4        TR           Bus Stations  E_043d6c4bf773c0   \n",
      "5        ID                    NaN               NaN   \n",
      "6        ID                    NaN  E_0386d49ff4c42e   \n",
      "7        TR                    NaN               NaN   \n",
      "8        TR                    NaN  E_03720e9a35bd9a   \n",
      "9        BR            TV Stations               NaN   \n",
      "10       BR  General Entertainment  E_0383597fbd1bd3   \n",
      "11       ID      Airport Terminals               NaN   \n",
      "12       ID                    NaN  E_0351377fc6b71d   \n",
      "13       US                Resorts               NaN   \n",
      "14       US                Resorts  E_03d00064135f8b   \n",
      "15       TR           Bus Stations               NaN   \n",
      "16       TR                    NaN  E_02b4afac7935be   \n",
      "17       TR           Bus Stations  E_043d6c4bf773c0   \n",
      "18       ID                    NaN               NaN   \n",
      "19       ID                    NaN  E_0386d49ff4c42e   \n",
      "20       TR                    NaN               NaN   \n",
      "21       TR                    NaN  E_03720e9a35bd9a   \n",
      "22       BR            TV Stations               NaN   \n",
      "23       BR  General Entertainment  E_0383597fbd1bd3   \n",
      "24       ID      Airport Terminals               NaN   \n",
      "25       ID                    NaN  E_0351377fc6b71d   \n",
      "26       US                Resorts               NaN   \n",
      "27       US                Resorts  E_03d00064135f8b   \n",
      "28       TR           Bus Stations               NaN   \n",
      "29       TR                    NaN  E_02b4afac7935be   \n",
      "30       TR           Bus Stations  E_043d6c4bf773c0   \n",
      "31       ID                    NaN               NaN   \n",
      "32       ID                    NaN  E_0386d49ff4c42e   \n",
      "33       TR                    NaN               NaN   \n",
      "34       TR                    NaN  E_03720e9a35bd9a   \n",
      "35       BR            TV Stations               NaN   \n",
      "36       BR  General Entertainment  E_0383597fbd1bd3   \n",
      "37       ID      Airport Terminals               NaN   \n",
      "38       ID                    NaN  E_0351377fc6b71d   \n",
      "39       US                Resorts               NaN   \n",
      "40       US                Resorts  E_03d00064135f8b   \n",
      "41       TR           Bus Stations               NaN   \n",
      "42       TR                    NaN  E_02b4afac7935be   \n",
      "43       TR           Bus Stations  E_043d6c4bf773c0   \n",
      "44       ID                    NaN               NaN   \n",
      "45       ID                    NaN  E_0386d49ff4c42e   \n",
      "46       TR                    NaN               NaN   \n",
      "47       TR                    NaN  E_03720e9a35bd9a   \n",
      "48       BR            TV Stations               NaN   \n",
      "49       BR  General Entertainment  E_0383597fbd1bd3   \n",
      "50       ID      Airport Terminals               NaN   \n",
      "51       ID                    NaN  E_0351377fc6b71d   \n",
      "\n",
      "                                name2  latitude2  longitude2    city2  \\\n",
      "0                                 NaN        NaN         NaN      NaN   \n",
      "1          Loews Royal Pacific Resort  28.469941  -81.469332  Orlando   \n",
      "2                                 NaN        NaN         NaN      NaN   \n",
      "3                                Aşti  39.918496   32.812629   Ankara   \n",
      "4                         aşti otogar  39.919267   32.813301      NaN   \n",
      "5                                 NaN        NaN         NaN      NaN   \n",
      "6                          Kuta Beach  -8.903687  116.296688    Pujut   \n",
      "7                                 NaN        NaN         NaN      NaN   \n",
      "8                     İstanbul Boğazi  41.018787   28.993118      NaN   \n",
      "9                                 NaN        NaN         NaN      NaN   \n",
      "10  Cidade Cenografica flor do caribe -22.961193  -43.397648      NaN   \n",
      "11                                NaN        NaN         NaN      NaN   \n",
      "12             Bandara Soekarno Hatta  -6.143365  106.729291      NaN   \n",
      "13                                NaN        NaN         NaN      NaN   \n",
      "14         Loews Royal Pacific Resort  28.469941  -81.469332  Orlando   \n",
      "15                                NaN        NaN         NaN      NaN   \n",
      "16                               Aşti  39.918496   32.812629   Ankara   \n",
      "17                        aşti otogar  39.919267   32.813301      NaN   \n",
      "18                                NaN        NaN         NaN      NaN   \n",
      "19                         Kuta Beach  -8.903687  116.296688    Pujut   \n",
      "20                                NaN        NaN         NaN      NaN   \n",
      "21                    İstanbul Boğazi  41.018787   28.993118      NaN   \n",
      "22                                NaN        NaN         NaN      NaN   \n",
      "23  Cidade Cenografica flor do caribe -22.961193  -43.397648      NaN   \n",
      "24                                NaN        NaN         NaN      NaN   \n",
      "25             Bandara Soekarno Hatta  -6.143365  106.729291      NaN   \n",
      "26                                NaN        NaN         NaN      NaN   \n",
      "27         Loews Royal Pacific Resort  28.469941  -81.469332  Orlando   \n",
      "28                                NaN        NaN         NaN      NaN   \n",
      "29                               Aşti  39.918496   32.812629   Ankara   \n",
      "30                        aşti otogar  39.919267   32.813301      NaN   \n",
      "31                                NaN        NaN         NaN      NaN   \n",
      "32                         Kuta Beach  -8.903687  116.296688    Pujut   \n",
      "33                                NaN        NaN         NaN      NaN   \n",
      "34                    İstanbul Boğazi  41.018787   28.993118      NaN   \n",
      "35                                NaN        NaN         NaN      NaN   \n",
      "36  Cidade Cenografica flor do caribe -22.961193  -43.397648      NaN   \n",
      "37                                NaN        NaN         NaN      NaN   \n",
      "38             Bandara Soekarno Hatta  -6.143365  106.729291      NaN   \n",
      "39                                NaN        NaN         NaN      NaN   \n",
      "40         Loews Royal Pacific Resort  28.469941  -81.469332  Orlando   \n",
      "41                                NaN        NaN         NaN      NaN   \n",
      "42                               Aşti  39.918496   32.812629   Ankara   \n",
      "43                        aşti otogar  39.919267   32.813301      NaN   \n",
      "44                                NaN        NaN         NaN      NaN   \n",
      "45                         Kuta Beach  -8.903687  116.296688    Pujut   \n",
      "46                                NaN        NaN         NaN      NaN   \n",
      "47                    İstanbul Boğazi  41.018787   28.993118      NaN   \n",
      "48                                NaN        NaN         NaN      NaN   \n",
      "49  Cidade Cenografica flor do caribe -22.961193  -43.397648      NaN   \n",
      "50                                NaN        NaN         NaN      NaN   \n",
      "51             Bandara Soekarno Hatta  -6.143365  106.729291      NaN   \n",
      "\n",
      "                        state2 zip2 country2            categories2  \n",
      "0                          NaN  NaN      NaN                    NaN  \n",
      "1                           FL  NaN       US                Resorts  \n",
      "2                          NaN  NaN      NaN                    NaN  \n",
      "3                          NaN  NaN       TR                    NaN  \n",
      "4                          NaN  NaN       TR           Bus Stations  \n",
      "5                          NaN  NaN      NaN                    NaN  \n",
      "6   Lombok, West Nusa Tenggara  NaN       ID                    NaN  \n",
      "7                          NaN  NaN      NaN                    NaN  \n",
      "8                          NaN  NaN       TR                    NaN  \n",
      "9                          NaN  NaN      NaN                    NaN  \n",
      "10                         NaN  NaN       BR  General Entertainment  \n",
      "11                         NaN  NaN      NaN                    NaN  \n",
      "12                         NaN  NaN       ID                    NaN  \n",
      "13                         NaN  NaN      NaN                    NaN  \n",
      "14                          FL  NaN       US                Resorts  \n",
      "15                         NaN  NaN      NaN                    NaN  \n",
      "16                         NaN  NaN       TR                    NaN  \n",
      "17                         NaN  NaN       TR           Bus Stations  \n",
      "18                         NaN  NaN      NaN                    NaN  \n",
      "19  Lombok, West Nusa Tenggara  NaN       ID                    NaN  \n",
      "20                         NaN  NaN      NaN                    NaN  \n",
      "21                         NaN  NaN       TR                    NaN  \n",
      "22                         NaN  NaN      NaN                    NaN  \n",
      "23                         NaN  NaN       BR  General Entertainment  \n",
      "24                         NaN  NaN      NaN                    NaN  \n",
      "25                         NaN  NaN       ID                    NaN  \n",
      "26                         NaN  NaN      NaN                    NaN  \n",
      "27                          FL  NaN       US                Resorts  \n",
      "28                         NaN  NaN      NaN                    NaN  \n",
      "29                         NaN  NaN       TR                    NaN  \n",
      "30                         NaN  NaN       TR           Bus Stations  \n",
      "31                         NaN  NaN      NaN                    NaN  \n",
      "32  Lombok, West Nusa Tenggara  NaN       ID                    NaN  \n",
      "33                         NaN  NaN      NaN                    NaN  \n",
      "34                         NaN  NaN       TR                    NaN  \n",
      "35                         NaN  NaN      NaN                    NaN  \n",
      "36                         NaN  NaN       BR  General Entertainment  \n",
      "37                         NaN  NaN      NaN                    NaN  \n",
      "38                         NaN  NaN       ID                    NaN  \n",
      "39                         NaN  NaN      NaN                    NaN  \n",
      "40                          FL  NaN       US                Resorts  \n",
      "41                         NaN  NaN      NaN                    NaN  \n",
      "42                         NaN  NaN       TR                    NaN  \n",
      "43                         NaN  NaN       TR           Bus Stations  \n",
      "44                         NaN  NaN      NaN                    NaN  \n",
      "45  Lombok, West Nusa Tenggara  NaN       ID                    NaN  \n",
      "46                         NaN  NaN      NaN                    NaN  \n",
      "47                         NaN  NaN       TR                    NaN  \n",
      "48                         NaN  NaN      NaN                    NaN  \n",
      "49                         NaN  NaN       BR  General Entertainment  \n",
      "50                         NaN  NaN      NaN                    NaN  \n",
      "51                         NaN  NaN       ID                    NaN  \n"
     ]
    },
    {
     "name": "stderr",
     "output_type": "stream",
     "text": [
      "\n"
     ]
    }
   ],
   "source": [
    "counter = 0\n",
    "for poi, poi_df in tqdm(df.groupby('point_of_interest')):\n",
    "    if len(poi_df) > 2:\n",
    "        new_pair = new_pair[0:0]\n",
    "        poi_df = poi_df.drop(columns=['point_of_interest'])\n",
    "        match_combs = np.array(list(combinations(poi_df['id'], 2)))\n",
    "        pair1 = poi_df[poi_df['id'].isin(match_combs[:, 0])]\n",
    "        pair2 = poi_df[poi_df['id'].isin(match_combs[:, 1])]\n",
    "        new_pair[pair1_cols] = pair1\n",
    "        new_pair[pair2_cols] = pair2\n",
    "        pair_df = pd.concat([pair_df, new_pair], ignore_index=True)\n",
    "print(pair_df)"
   ],
   "metadata": {
    "collapsed": false,
    "pycharm": {
     "name": "#%%\n"
    }
   }
  },
  {
   "cell_type": "code",
   "execution_count": null,
   "outputs": [],
   "source": [],
   "metadata": {
    "collapsed": false,
    "pycharm": {
     "name": "#%%\n"
    }
   }
  }
 ],
 "metadata": {
  "kernelspec": {
   "display_name": "Python 3",
   "language": "python",
   "name": "python3"
  },
  "language_info": {
   "codemirror_mode": {
    "name": "ipython",
    "version": 2
   },
   "file_extension": ".py",
   "mimetype": "text/x-python",
   "name": "python",
   "nbconvert_exporter": "python",
   "pygments_lexer": "ipython2",
   "version": "2.7.6"
  }
 },
 "nbformat": 4,
 "nbformat_minor": 0
}