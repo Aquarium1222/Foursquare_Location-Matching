{
 "cells": [
  {
   "cell_type": "markdown",
   "metadata": {
    "collapsed": true,
    "pycharm": {
     "name": "#%% md\n"
    }
   },
   "source": [
    "# KNN"
   ]
  },
  {
   "cell_type": "code",
   "execution_count": 25,
   "outputs": [],
   "source": [
    "import torch\n",
    "import pandas as pd\n",
    "import numpy as np\n",
    "from tqdm import tqdm\n",
    "from sklearn.neighbors import NearestNeighbors\n",
    "\n",
    "from config import cfg"
   ],
   "metadata": {
    "collapsed": false,
    "pycharm": {
     "name": "#%%\n"
    }
   }
  },
  {
   "cell_type": "markdown",
   "source": [
    "## Data Preprocessing"
   ],
   "metadata": {
    "collapsed": false,
    "pycharm": {
     "name": "#%% md\n"
    }
   }
  },
  {
   "cell_type": "code",
   "execution_count": 26,
   "outputs": [
    {
     "data": {
      "text/plain": "                 id                     name   latitude   longitude  \\\n0  E_000001272c6c5d     Café Stad Oudenaarde  50.859975    3.634196   \n1  E_000002eae2a589           Carioca Manero -22.907225  -43.178244   \n2  E_000007f24ebc95         ร้านตัดผมการาเกด  13.780813  100.484900   \n3  E_000008a8ba4f48                 Turkcell  37.844510   27.844202   \n4  E_00001d92066153  Restaurante Casa Cofiño  43.338196   -4.326821   \n\n                  address        city            state   zip country  url  \\\n0             Abdijstraat  Nederename  Oost-Vlaanderen  9700      BE  NaN   \n1                     NaN         NaN              NaN   NaN      BR  NaN   \n2                     NaN         NaN              NaN   NaN      TH  NaN   \n3  Adnan Menderes Bulvarı         NaN              NaN   NaN      TR  NaN   \n4                     NaN    Caviedes        Cantabria   NaN      ES  NaN   \n\n  phone             categories point_of_interest  \n0   NaN                   Bars  P_677e840bb6fc7e  \n1   NaN  Brazilian Restaurants  P_d82910d8382a83  \n2   NaN   Salons / Barbershops  P_b1066599e78477  \n3   NaN     Mobile Phone Shops  P_b2ed86905a4cd3  \n4   NaN    Spanish Restaurants  P_809a884d4407fb  ",
      "text/html": "<div>\n<style scoped>\n    .dataframe tbody tr th:only-of-type {\n        vertical-align: middle;\n    }\n\n    .dataframe tbody tr th {\n        vertical-align: top;\n    }\n\n    .dataframe thead th {\n        text-align: right;\n    }\n</style>\n<table border=\"1\" class=\"dataframe\">\n  <thead>\n    <tr style=\"text-align: right;\">\n      <th></th>\n      <th>id</th>\n      <th>name</th>\n      <th>latitude</th>\n      <th>longitude</th>\n      <th>address</th>\n      <th>city</th>\n      <th>state</th>\n      <th>zip</th>\n      <th>country</th>\n      <th>url</th>\n      <th>phone</th>\n      <th>categories</th>\n      <th>point_of_interest</th>\n    </tr>\n  </thead>\n  <tbody>\n    <tr>\n      <th>0</th>\n      <td>E_000001272c6c5d</td>\n      <td>Café Stad Oudenaarde</td>\n      <td>50.859975</td>\n      <td>3.634196</td>\n      <td>Abdijstraat</td>\n      <td>Nederename</td>\n      <td>Oost-Vlaanderen</td>\n      <td>9700</td>\n      <td>BE</td>\n      <td>NaN</td>\n      <td>NaN</td>\n      <td>Bars</td>\n      <td>P_677e840bb6fc7e</td>\n    </tr>\n    <tr>\n      <th>1</th>\n      <td>E_000002eae2a589</td>\n      <td>Carioca Manero</td>\n      <td>-22.907225</td>\n      <td>-43.178244</td>\n      <td>NaN</td>\n      <td>NaN</td>\n      <td>NaN</td>\n      <td>NaN</td>\n      <td>BR</td>\n      <td>NaN</td>\n      <td>NaN</td>\n      <td>Brazilian Restaurants</td>\n      <td>P_d82910d8382a83</td>\n    </tr>\n    <tr>\n      <th>2</th>\n      <td>E_000007f24ebc95</td>\n      <td>ร้านตัดผมการาเกด</td>\n      <td>13.780813</td>\n      <td>100.484900</td>\n      <td>NaN</td>\n      <td>NaN</td>\n      <td>NaN</td>\n      <td>NaN</td>\n      <td>TH</td>\n      <td>NaN</td>\n      <td>NaN</td>\n      <td>Salons / Barbershops</td>\n      <td>P_b1066599e78477</td>\n    </tr>\n    <tr>\n      <th>3</th>\n      <td>E_000008a8ba4f48</td>\n      <td>Turkcell</td>\n      <td>37.844510</td>\n      <td>27.844202</td>\n      <td>Adnan Menderes Bulvarı</td>\n      <td>NaN</td>\n      <td>NaN</td>\n      <td>NaN</td>\n      <td>TR</td>\n      <td>NaN</td>\n      <td>NaN</td>\n      <td>Mobile Phone Shops</td>\n      <td>P_b2ed86905a4cd3</td>\n    </tr>\n    <tr>\n      <th>4</th>\n      <td>E_00001d92066153</td>\n      <td>Restaurante Casa Cofiño</td>\n      <td>43.338196</td>\n      <td>-4.326821</td>\n      <td>NaN</td>\n      <td>Caviedes</td>\n      <td>Cantabria</td>\n      <td>NaN</td>\n      <td>ES</td>\n      <td>NaN</td>\n      <td>NaN</td>\n      <td>Spanish Restaurants</td>\n      <td>P_809a884d4407fb</td>\n    </tr>\n  </tbody>\n</table>\n</div>"
     },
     "execution_count": 26,
     "metadata": {},
     "output_type": "execute_result"
    }
   ],
   "source": [
    "df = pd.read_csv(cfg.TRAINING_DATA_PATH['KNN'])\n",
    "df = df[:10000]\n",
    "df.head()"
   ],
   "metadata": {
    "collapsed": false,
    "pycharm": {
     "name": "#%%\n"
    }
   }
  },
  {
   "cell_type": "code",
   "execution_count": 27,
   "outputs": [
    {
     "name": "stdout",
     "output_type": "stream",
     "text": [
      "                 id country   latitude   longitude\n",
      "0  E_000001272c6c5d      BE  50.859975    3.634196\n",
      "1  E_000002eae2a589      BR -22.907225  -43.178244\n",
      "2  E_000007f24ebc95      TH  13.780813  100.484900\n",
      "3  E_000008a8ba4f48      TR  37.844510   27.844202\n",
      "4  E_00001d92066153      ES  43.338196   -4.326821\n",
      "10000\n"
     ]
    }
   ],
   "source": [
    "df = df[['id', 'country', 'latitude', 'longitude']]\n",
    "print(df.head())\n",
    "print(len(df))"
   ],
   "metadata": {
    "collapsed": false,
    "pycharm": {
     "name": "#%%\n"
    }
   }
  },
  {
   "cell_type": "markdown",
   "source": [
    "## Define KNN Model\n",
    "- country 的正確率很高，因此將相同 POI 的必要條件視為相同 country\n",
    "- haversine: 測地線距離"
   ],
   "metadata": {
    "collapsed": false,
    "pycharm": {
     "name": "#%% md\n"
    }
   }
  },
  {
   "cell_type": "code",
   "execution_count": 28,
   "outputs": [],
   "source": [
    "def country_match_knn(df, num_neighbors=10):\n",
    "    print('Start KNN grouped by country')\n",
    "    train_df_country = []\n",
    "    for country, country_df in tqdm(df.groupby('country')):\n",
    "        country_df = country_df.reset_index(drop=True)\n",
    "\n",
    "        num_neighbors = min(len(country_df), num_neighbors)\n",
    "        knn = NearestNeighbors(n_neighbors=num_neighbors,\n",
    "                               metric='haversine',\n",
    "                               n_jobs=-1)\n",
    "        knn.fit(country_df[['latitude', 'longitude']], country_df.index)\n",
    "        dists, nears = knn.kneighbors(country_df[['latitude', 'longitude']], return_distance=True)\n",
    "\n",
    "        for k in range(num_neighbors):\n",
    "            cur_df = country_df[['id']]\n",
    "            cur_df = cur_df.assign(match_id=country_df['id'].values[nears[:, k]],\n",
    "                          kdist_country=dists[:, k],\n",
    "                          kneighbors_country=k)\n",
    "\n",
    "            train_df_country.append(cur_df)\n",
    "    train_df_country = pd.concat(train_df_country)\n",
    "    print(train_df_country[train_df_country['kneighbors_country']==1])\n",
    "    return train_df_country"
   ],
   "metadata": {
    "collapsed": false,
    "pycharm": {
     "name": "#%%\n"
    }
   }
  },
  {
   "cell_type": "code",
   "execution_count": 29,
   "outputs": [
    {
     "name": "stdout",
     "output_type": "stream",
     "text": [
      "Start KNN grouped by country\n"
     ]
    },
    {
     "name": "stderr",
     "output_type": "stream",
     "text": [
      "100%|██████████| 125/125 [00:00<00:00, 142.27it/s]"
     ]
    },
    {
     "name": "stdout",
     "output_type": "stream",
     "text": [
      "                  id          match_id  kdist_country  kneighbors_country\n",
      "0   E_0013149ad8ed18  E_00c1216c65c1a5       0.065759                   1\n",
      "1   E_0019ce8998b3a8  E_013fdbb05c8107       0.020376                   1\n",
      "2   E_002e4c4793fbc7  E_01b35767eb9bc5       0.110124                   1\n",
      "3   E_0030de94b528e7  E_0013149ad8ed18       0.079380                   1\n",
      "4   E_0031c764c706c6  E_0176cc3cf6c966       0.016267                   1\n",
      "5   E_005661be0c9b52  E_012d7bb6a3a554       0.001173                   1\n",
      "6   E_0069f71ef3f0e7  E_0117b75aff7fcb       0.611016                   1\n",
      "7   E_006cc2b2a1ce9a  E_01de2a08b62351       0.028557                   1\n",
      "8   E_006d916aa271d3  E_02451350cead62       0.158503                   1\n",
      "9   E_0076e00a9cf084  E_01729db6614527       0.014613                   1\n",
      "10  E_0091956d4df68f  E_013fdbb05c8107       0.002776                   1\n",
      "11  E_00a55713b33416  E_01b7aec94b03ef       0.002494                   1\n",
      "12  E_00c1216c65c1a5  E_0237f1ca3ed586       0.058180                   1\n",
      "13  E_00e4afebc11826  E_01b35767eb9bc5       0.011465                   1\n",
      "14  E_010216001148cd  E_0146037951197b       0.012978                   1\n",
      "15  E_0117b75aff7fcb  E_02383bdcc2e254       0.065692                   1\n",
      "16  E_012d7bb6a3a554  E_005661be0c9b52       0.001173                   1\n",
      "17  E_013fdbb05c8107  E_0091956d4df68f       0.002776                   1\n",
      "18  E_0146037951197b  E_010216001148cd       0.012978                   1\n",
      "19  E_01729db6614527  E_01e41bc656a2c3       0.012242                   1\n",
      "20  E_0176cc3cf6c966  E_022f45fe704571       0.012542                   1\n",
      "21  E_01aaf148cedd3e  E_02383bdcc2e254       0.051330                   1\n",
      "22  E_01b35767eb9bc5  E_00e4afebc11826       0.011465                   1\n",
      "23  E_01b7aec94b03ef  E_00a55713b33416       0.002494                   1\n",
      "24  E_01d948fe724451  E_005661be0c9b52       0.002539                   1\n",
      "25  E_01de2a08b62351  E_006cc2b2a1ce9a       0.028557                   1\n",
      "26  E_01e41bc656a2c3  E_01729db6614527       0.012242                   1\n",
      "27  E_02189c27d738ff  E_01b7aec94b03ef       0.003224                   1\n",
      "28  E_022f45fe704571  E_0176cc3cf6c966       0.012542                   1\n",
      "29  E_0237f1ca3ed586  E_00c1216c65c1a5       0.058180                   1\n",
      "30  E_02383bdcc2e254  E_01aaf148cedd3e       0.051330                   1\n",
      "31  E_02451350cead62  E_010216001148cd       0.014784                   1\n"
     ]
    },
    {
     "name": "stderr",
     "output_type": "stream",
     "text": [
      "\n"
     ]
    }
   ],
   "source": [
    "knn_df = country_match_knn(df)"
   ],
   "metadata": {
    "collapsed": false,
    "pycharm": {
     "name": "#%%\n"
    }
   }
  },
  {
   "cell_type": "markdown",
   "source": [
    "## Build Decision Tree features"
   ],
   "metadata": {
    "collapsed": false,
    "pycharm": {
     "name": "#%% md\n"
    }
   }
  },
  {
   "cell_type": "code",
   "execution_count": 30,
   "outputs": [
    {
     "data": {
      "text/plain": "                 id          match_id  kdist_country  kneighbors_country\n0  E_0013149ad8ed18  E_0013149ad8ed18            0.0                   0\n1  E_0019ce8998b3a8  E_0019ce8998b3a8            0.0                   0\n2  E_002e4c4793fbc7  E_002e4c4793fbc7            0.0                   0\n3  E_0030de94b528e7  E_0030de94b528e7            0.0                   0\n4  E_0031c764c706c6  E_0031c764c706c6            0.0                   0",
      "text/html": "<div>\n<style scoped>\n    .dataframe tbody tr th:only-of-type {\n        vertical-align: middle;\n    }\n\n    .dataframe tbody tr th {\n        vertical-align: top;\n    }\n\n    .dataframe thead th {\n        text-align: right;\n    }\n</style>\n<table border=\"1\" class=\"dataframe\">\n  <thead>\n    <tr style=\"text-align: right;\">\n      <th></th>\n      <th>id</th>\n      <th>match_id</th>\n      <th>kdist_country</th>\n      <th>kneighbors_country</th>\n    </tr>\n  </thead>\n  <tbody>\n    <tr>\n      <th>0</th>\n      <td>E_0013149ad8ed18</td>\n      <td>E_0013149ad8ed18</td>\n      <td>0.0</td>\n      <td>0</td>\n    </tr>\n    <tr>\n      <th>1</th>\n      <td>E_0019ce8998b3a8</td>\n      <td>E_0019ce8998b3a8</td>\n      <td>0.0</td>\n      <td>0</td>\n    </tr>\n    <tr>\n      <th>2</th>\n      <td>E_002e4c4793fbc7</td>\n      <td>E_002e4c4793fbc7</td>\n      <td>0.0</td>\n      <td>0</td>\n    </tr>\n    <tr>\n      <th>3</th>\n      <td>E_0030de94b528e7</td>\n      <td>E_0030de94b528e7</td>\n      <td>0.0</td>\n      <td>0</td>\n    </tr>\n    <tr>\n      <th>4</th>\n      <td>E_0031c764c706c6</td>\n      <td>E_0031c764c706c6</td>\n      <td>0.0</td>\n      <td>0</td>\n    </tr>\n  </tbody>\n</table>\n</div>"
     },
     "execution_count": 30,
     "metadata": {},
     "output_type": "execute_result"
    }
   ],
   "source": [
    "knn_df.head()"
   ],
   "metadata": {
    "collapsed": false,
    "pycharm": {
     "name": "#%%\n"
    }
   }
  },
  {
   "cell_type": "code",
   "execution_count": 34,
   "outputs": [
    {
     "data": {
      "text/plain": "                 id                     name             categories  \\\n0  E_000001272c6c5d     Café Stad Oudenaarde                   Bars   \n1  E_000002eae2a589           Carioca Manero  Brazilian Restaurants   \n2  E_000007f24ebc95         ร้านตัดผมการาเกด   Salons / Barbershops   \n3  E_000008a8ba4f48                 Turkcell     Mobile Phone Shops   \n4  E_00001d92066153  Restaurante Casa Cofiño    Spanish Restaurants   \n\n         city            state   zip  \n0  Nederename  Oost-Vlaanderen  9700  \n1         NaN              NaN   NaN  \n2         NaN              NaN   NaN  \n3         NaN              NaN   NaN  \n4    Caviedes        Cantabria   NaN  ",
      "text/html": "<div>\n<style scoped>\n    .dataframe tbody tr th:only-of-type {\n        vertical-align: middle;\n    }\n\n    .dataframe tbody tr th {\n        vertical-align: top;\n    }\n\n    .dataframe thead th {\n        text-align: right;\n    }\n</style>\n<table border=\"1\" class=\"dataframe\">\n  <thead>\n    <tr style=\"text-align: right;\">\n      <th></th>\n      <th>id</th>\n      <th>name</th>\n      <th>categories</th>\n      <th>city</th>\n      <th>state</th>\n      <th>zip</th>\n    </tr>\n  </thead>\n  <tbody>\n    <tr>\n      <th>0</th>\n      <td>E_000001272c6c5d</td>\n      <td>Café Stad Oudenaarde</td>\n      <td>Bars</td>\n      <td>Nederename</td>\n      <td>Oost-Vlaanderen</td>\n      <td>9700</td>\n    </tr>\n    <tr>\n      <th>1</th>\n      <td>E_000002eae2a589</td>\n      <td>Carioca Manero</td>\n      <td>Brazilian Restaurants</td>\n      <td>NaN</td>\n      <td>NaN</td>\n      <td>NaN</td>\n    </tr>\n    <tr>\n      <th>2</th>\n      <td>E_000007f24ebc95</td>\n      <td>ร้านตัดผมการาเกด</td>\n      <td>Salons / Barbershops</td>\n      <td>NaN</td>\n      <td>NaN</td>\n      <td>NaN</td>\n    </tr>\n    <tr>\n      <th>3</th>\n      <td>E_000008a8ba4f48</td>\n      <td>Turkcell</td>\n      <td>Mobile Phone Shops</td>\n      <td>NaN</td>\n      <td>NaN</td>\n      <td>NaN</td>\n    </tr>\n    <tr>\n      <th>4</th>\n      <td>E_00001d92066153</td>\n      <td>Restaurante Casa Cofiño</td>\n      <td>Spanish Restaurants</td>\n      <td>Caviedes</td>\n      <td>Cantabria</td>\n      <td>NaN</td>\n    </tr>\n  </tbody>\n</table>\n</div>"
     },
     "execution_count": 34,
     "metadata": {},
     "output_type": "execute_result"
    }
   ],
   "source": [
    "df = pd.read_csv(cfg.TRAINING_DATA_PATH['KNN'])\n",
    "df = df[:10000]\n",
    "df = df[['id', 'name', 'categories', 'city', 'state', 'zip']]\n",
    "df.head()"
   ],
   "metadata": {
    "collapsed": false,
    "pycharm": {
     "name": "#%%\n"
    }
   }
  },
  {
   "cell_type": "code",
   "execution_count": 35,
   "outputs": [
    {
     "data": {
      "text/plain": "                    id                                               name  \\\n320   E_0013149ad8ed18                                       جامع الكرامة   \n408   E_0019ce8998b3a8                                   Cinnabon سينابون   \n762   E_002e4c4793fbc7                                   S.P. Warehousing   \n794   E_0030de94b528e7                                         Al Derwaza   \n808   E_0031c764c706c6                                Bowling Marina Mall   \n1450  E_005661be0c9b52                                Costa festival city   \n1757  E_0069f71ef3f0e7                                       Costa Coffee   \n1803  E_006cc2b2a1ce9a                                     Anantara Hotel   \n1823  E_006d916aa271d3                                            بالشارع   \n2001  E_0076e00a9cf084                                      SEGA Republic   \n2405  E_0091956d4df68f                                       Rimal Saloon   \n2756  E_00a55713b33416                                        Better Life   \n3236  E_00c1216c65c1a5                         ADAS Staff Room Terminal 1   \n3876  E_00e4afebc11826                                             Kambaa   \n4355  E_010216001148cd                           Dubai Festival City Mall   \n4753  E_0117b75aff7fcb  كَفْتِيرْيَا الرَّبِيع الأَخْضَر (بَحَر الشَّا...   \n5127  E_012d7bb6a3a554                                                COS   \n5481  E_013fdbb05c8107                                           Hallmark   \n5581  E_0146037951197b                                       Dubai Musium   \n6402  E_01729db6614527                         Maggie's Home Office Dubai   \n6475  E_0176cc3cf6c966                Snappy Cut Gents Salon NEW LOCATION   \n7317  E_01aaf148cedd3e                                Burj Al Nahda Bldg.   \n7470  E_01b35767eb9bc5                                      HolidayMe.com   \n7557  E_01b7aec94b03ef                                     Medcare Clinic   \n8155  E_01d948fe724451                                               Cosi   \n8240  E_01de2a08b62351                                        Burger King   \n8344  E_01e41bc656a2c3                           Celcius @ Radisson Royal   \n9227  E_02189c27d738ff                                                GBK   \n9613  E_022f45fe704571                                      Forbice Salon   \n9758  E_0237f1ca3ed586                                            Sevilla   \n9768  E_02383bdcc2e254           Al Qamar Al Sateh General Trading L.L.C.   \n9965  E_02451350cead62                                       Burj Al Arab   \n\n                                             categories            city  \\\n320                                             Mosques       Shakhbout   \n408                               Bakeries, Donut Shops           Dubai   \n762               Real Estate Offices, Warehouse Stores           Dubai   \n794                          Middle Eastern Restaurants       Abu Dhabi   \n808                                      Bowling Alleys             NaN   \n1450                                                NaN           Dubai   \n1757                                       Coffee Shops  Ras al-Khaimah   \n1803                                             Hotels             NaN   \n1823                                          Buildings         Sharjah   \n2001  Arcades, Toy / Game Stores, General Entertainment  Downtown Dubai   \n2405                               Salons / Barbershops           Dubai   \n2756                  Cosmetics Shops, Laundry Services           Dubai   \n3236                                             Diners       Abu Dhabi   \n3876                                Coffee Shops, Cafés           Dubai   \n4355                                                NaN           Dubai   \n4753                                         Cafeterias     الشَّارْجَة   \n5127                                    Clothing Stores           Dubai   \n5481                      Gift Shops, Toy / Game Stores           Dubai   \n5581                                                NaN           Dubai   \n6402                                            Offices           Dubai   \n6475                               Salons / Barbershops       Abu Dhabi   \n7317  Residential Buildings (Apartments / Condos), B...           Dubai   \n7470                    Travel Agencies, General Travel           Dubai   \n7557                                    Medical Centers           Dubai   \n8155                                       Coffee Shops           Dubai   \n8240                                      Burger Joints       Abu Dhabi   \n8344                                        Restaurants           Dubai   \n9227                                      Burger Joints           Dubai   \n9613  Health & Beauty Services, Salons / Barbershops...       Abu Dhabi   \n9758                                    Breakfast Spots       Abu Dhabi   \n9768                                   Automotive Shops         Sharjah   \n9965                                             Hotels           Dubai   \n\n                     state     zip  \\\n320                    NaN     NaN   \n408                    NaN     NaN   \n762                    NaN     NaN   \n794              Abu Dhabi     NaN   \n808                    NaN     NaN   \n1450                 Dubai     NaN   \n1757       Ra’s al Khaymah     NaN   \n1803                   NaN     NaN   \n1823                   NaN     NaN   \n2001                 Dubai     NaN   \n2405                 Dubai     NaN   \n2756                   NaN     NaN   \n3236  United Arab Emirates    3668   \n3876                 U.A.E     NaN   \n4355                   NaN     NaN   \n4753                   NaN     NaN   \n5127                 Dubai     NaN   \n5481                 Dubai     NaN   \n5581                   NaN     NaN   \n6402                   NaN     NaN   \n6475             Abu Dhabi     001   \n7317                 Dubai     NaN   \n7470                 Dubai  938533   \n7557                   NaN     NaN   \n8155                 Dubai     NaN   \n8240             Abu Dhabi     NaN   \n8344                   NaN     NaN   \n9227                 Dubai     NaN   \n9613             Abu Dhabi     NaN   \n9758             Abu Dhabi     NaN   \n9768               Sharjah   36443   \n9965                 Dubai     NaN   \n\n                                                matches  \\\n320   [E_0013149ad8ed18, E_00c1216c65c1a5, E_0030de9...   \n408   [E_0019ce8998b3a8, E_013fdbb05c8107, E_0091956...   \n762   [E_002e4c4793fbc7, E_01b35767eb9bc5, E_00e4afe...   \n794   [E_0030de94b528e7, E_0013149ad8ed18, E_01de2a0...   \n808   [E_0031c764c706c6, E_0176cc3cf6c966, E_022f45f...   \n1450  [E_005661be0c9b52, E_012d7bb6a3a554, E_01d948f...   \n1757  [E_0069f71ef3f0e7, E_0117b75aff7fcb, E_02383bd...   \n1803  [E_006cc2b2a1ce9a, E_01de2a08b62351, E_0031c76...   \n1823  [E_006d916aa271d3, E_02451350cead62, E_0102160...   \n2001  [E_0076e00a9cf084, E_01729db6614527, E_01e41bc...   \n2405  [E_0091956d4df68f, E_013fdbb05c8107, E_0019ce8...   \n2756  [E_00a55713b33416, E_01b7aec94b03ef, E_02189c2...   \n3236  [E_00c1216c65c1a5, E_0237f1ca3ed586, E_0013149...   \n3876  [E_00e4afebc11826, E_01b35767eb9bc5, E_013fdbb...   \n4355  [E_010216001148cd, E_0146037951197b, E_0245135...   \n4753  [E_0117b75aff7fcb, E_02383bdcc2e254, E_01aaf14...   \n5127  [E_012d7bb6a3a554, E_005661be0c9b52, E_01d948f...   \n5481  [E_013fdbb05c8107, E_0091956d4df68f, E_0019ce8...   \n5581  [E_0146037951197b, E_010216001148cd, E_0245135...   \n6402  [E_01729db6614527, E_01e41bc656a2c3, E_0076e00...   \n6475  [E_0176cc3cf6c966, E_022f45fe704571, E_0031c76...   \n7317  [E_01aaf148cedd3e, E_02383bdcc2e254, E_0146037...   \n7470  [E_01b35767eb9bc5, E_00e4afebc11826, E_013fdbb...   \n7557  [E_01b7aec94b03ef, E_00a55713b33416, E_02189c2...   \n8155  [E_01d948fe724451, E_005661be0c9b52, E_012d7bb...   \n8240  [E_01de2a08b62351, E_006cc2b2a1ce9a, E_0237f1c...   \n8344  [E_01e41bc656a2c3, E_01729db6614527, E_0076e00...   \n9227  [E_02189c27d738ff, E_01b7aec94b03ef, E_00a5571...   \n9613  [E_022f45fe704571, E_0176cc3cf6c966, E_0031c76...   \n9758  [E_0237f1ca3ed586, E_00c1216c65c1a5, E_0013149...   \n9768  [E_02383bdcc2e254, E_01aaf148cedd3e, E_0117b75...   \n9965  [E_02451350cead62, E_010216001148cd, E_0146037...   \n\n                                                  dists  \n320   [0.0, 0.06575899037071478, 0.07938048081969103...  \n408   [0.0, 0.02037580903714799, 0.02149892883556881...  \n762   [0.0, 0.1101243284578086, 0.11118940202623383,...  \n794   [0.0, 0.07938048081969103, 0.10366591128340158...  \n808   [0.0, 0.016267134943035843, 0.0288063339731320...  \n1450  [0.0, 0.0011728014637258227, 0.002539126390733...  \n1757  [0.0, 0.6110163016564931, 0.6644024436819523, ...  \n1803  [0.0, 0.028557175210048108, 0.0726438672189792...  \n1823  [0.0, 0.1585029171825895, 0.17328351943459508,...  \n2001  [0.0, 0.014613009494782, 0.026275538078677923,...  \n2405  [0.0, 0.0027762204198563526, 0.021498928835568...  \n2756  [0.0, 0.0024942750885842318, 0.003995807863180...  \n3236  [0.0, 0.0581804892987272, 0.06575899037071478,...  \n3876  [0.0, 0.01146483826934143, 0.07034380303512579...  \n4355  [0.0, 0.012978420758960888, 0.0147839008506107...  \n4753  [0.0, 0.06569167134909425, 0.10788987572161239...  \n5127  [0.0, 0.0011728014637258227, 0.002861680284032...  \n5481  [0.0, 0.0027762204198563526, 0.020375809037147...  \n5581  [0.0, 0.012978420758960888, 0.0199519423382730...  \n6402  [0.0, 0.01224182464584516, 0.014613009494782, ...  \n6475  [0.0, 0.01254198677842509, 0.01626713494303584...  \n7317  [0.0, 0.051330124186718576, 0.0556289211435661...  \n7470  [0.0, 0.01146483826934143, 0.05961754285578807...  \n7557  [0.0, 0.0024942750885842318, 0.003223754179014...  \n8155  [0.0, 0.0025391263907334235, 0.002861680284032...  \n8240  [0.0, 0.028557175210048108, 0.0895986217047725...  \n8344  [0.0, 0.01224182464584516, 0.02627553807867792...  \n9227  [0.0, 0.0032237541790147463, 0.003995807863180...  \n9613  [0.0, 0.01254198677842509, 0.02880633397313206...  \n9758  [0.0, 0.0581804892987272, 0.08702324428002006,...  \n9768  [0.0, 0.051330124186718576, 0.0656916713490942...  \n9965  [0.0, 0.014783900850610704, 0.0199519423382730...  ",
      "text/html": "<div>\n<style scoped>\n    .dataframe tbody tr th:only-of-type {\n        vertical-align: middle;\n    }\n\n    .dataframe tbody tr th {\n        vertical-align: top;\n    }\n\n    .dataframe thead th {\n        text-align: right;\n    }\n</style>\n<table border=\"1\" class=\"dataframe\">\n  <thead>\n    <tr style=\"text-align: right;\">\n      <th></th>\n      <th>id</th>\n      <th>name</th>\n      <th>categories</th>\n      <th>city</th>\n      <th>state</th>\n      <th>zip</th>\n      <th>matches</th>\n      <th>dists</th>\n    </tr>\n  </thead>\n  <tbody>\n    <tr>\n      <th>320</th>\n      <td>E_0013149ad8ed18</td>\n      <td>جامع الكرامة</td>\n      <td>Mosques</td>\n      <td>Shakhbout</td>\n      <td>NaN</td>\n      <td>NaN</td>\n      <td>[E_0013149ad8ed18, E_00c1216c65c1a5, E_0030de9...</td>\n      <td>[0.0, 0.06575899037071478, 0.07938048081969103...</td>\n    </tr>\n    <tr>\n      <th>408</th>\n      <td>E_0019ce8998b3a8</td>\n      <td>Cinnabon سينابون</td>\n      <td>Bakeries, Donut Shops</td>\n      <td>Dubai</td>\n      <td>NaN</td>\n      <td>NaN</td>\n      <td>[E_0019ce8998b3a8, E_013fdbb05c8107, E_0091956...</td>\n      <td>[0.0, 0.02037580903714799, 0.02149892883556881...</td>\n    </tr>\n    <tr>\n      <th>762</th>\n      <td>E_002e4c4793fbc7</td>\n      <td>S.P. Warehousing</td>\n      <td>Real Estate Offices, Warehouse Stores</td>\n      <td>Dubai</td>\n      <td>NaN</td>\n      <td>NaN</td>\n      <td>[E_002e4c4793fbc7, E_01b35767eb9bc5, E_00e4afe...</td>\n      <td>[0.0, 0.1101243284578086, 0.11118940202623383,...</td>\n    </tr>\n    <tr>\n      <th>794</th>\n      <td>E_0030de94b528e7</td>\n      <td>Al Derwaza</td>\n      <td>Middle Eastern Restaurants</td>\n      <td>Abu Dhabi</td>\n      <td>Abu Dhabi</td>\n      <td>NaN</td>\n      <td>[E_0030de94b528e7, E_0013149ad8ed18, E_01de2a0...</td>\n      <td>[0.0, 0.07938048081969103, 0.10366591128340158...</td>\n    </tr>\n    <tr>\n      <th>808</th>\n      <td>E_0031c764c706c6</td>\n      <td>Bowling Marina Mall</td>\n      <td>Bowling Alleys</td>\n      <td>NaN</td>\n      <td>NaN</td>\n      <td>NaN</td>\n      <td>[E_0031c764c706c6, E_0176cc3cf6c966, E_022f45f...</td>\n      <td>[0.0, 0.016267134943035843, 0.0288063339731320...</td>\n    </tr>\n    <tr>\n      <th>1450</th>\n      <td>E_005661be0c9b52</td>\n      <td>Costa festival city</td>\n      <td>NaN</td>\n      <td>Dubai</td>\n      <td>Dubai</td>\n      <td>NaN</td>\n      <td>[E_005661be0c9b52, E_012d7bb6a3a554, E_01d948f...</td>\n      <td>[0.0, 0.0011728014637258227, 0.002539126390733...</td>\n    </tr>\n    <tr>\n      <th>1757</th>\n      <td>E_0069f71ef3f0e7</td>\n      <td>Costa Coffee</td>\n      <td>Coffee Shops</td>\n      <td>Ras al-Khaimah</td>\n      <td>Ra’s al Khaymah</td>\n      <td>NaN</td>\n      <td>[E_0069f71ef3f0e7, E_0117b75aff7fcb, E_02383bd...</td>\n      <td>[0.0, 0.6110163016564931, 0.6644024436819523, ...</td>\n    </tr>\n    <tr>\n      <th>1803</th>\n      <td>E_006cc2b2a1ce9a</td>\n      <td>Anantara Hotel</td>\n      <td>Hotels</td>\n      <td>NaN</td>\n      <td>NaN</td>\n      <td>NaN</td>\n      <td>[E_006cc2b2a1ce9a, E_01de2a08b62351, E_0031c76...</td>\n      <td>[0.0, 0.028557175210048108, 0.0726438672189792...</td>\n    </tr>\n    <tr>\n      <th>1823</th>\n      <td>E_006d916aa271d3</td>\n      <td>بالشارع</td>\n      <td>Buildings</td>\n      <td>Sharjah</td>\n      <td>NaN</td>\n      <td>NaN</td>\n      <td>[E_006d916aa271d3, E_02451350cead62, E_0102160...</td>\n      <td>[0.0, 0.1585029171825895, 0.17328351943459508,...</td>\n    </tr>\n    <tr>\n      <th>2001</th>\n      <td>E_0076e00a9cf084</td>\n      <td>SEGA Republic</td>\n      <td>Arcades, Toy / Game Stores, General Entertainment</td>\n      <td>Downtown Dubai</td>\n      <td>Dubai</td>\n      <td>NaN</td>\n      <td>[E_0076e00a9cf084, E_01729db6614527, E_01e41bc...</td>\n      <td>[0.0, 0.014613009494782, 0.026275538078677923,...</td>\n    </tr>\n    <tr>\n      <th>2405</th>\n      <td>E_0091956d4df68f</td>\n      <td>Rimal Saloon</td>\n      <td>Salons / Barbershops</td>\n      <td>Dubai</td>\n      <td>Dubai</td>\n      <td>NaN</td>\n      <td>[E_0091956d4df68f, E_013fdbb05c8107, E_0019ce8...</td>\n      <td>[0.0, 0.0027762204198563526, 0.021498928835568...</td>\n    </tr>\n    <tr>\n      <th>2756</th>\n      <td>E_00a55713b33416</td>\n      <td>Better Life</td>\n      <td>Cosmetics Shops, Laundry Services</td>\n      <td>Dubai</td>\n      <td>NaN</td>\n      <td>NaN</td>\n      <td>[E_00a55713b33416, E_01b7aec94b03ef, E_02189c2...</td>\n      <td>[0.0, 0.0024942750885842318, 0.003995807863180...</td>\n    </tr>\n    <tr>\n      <th>3236</th>\n      <td>E_00c1216c65c1a5</td>\n      <td>ADAS Staff Room Terminal 1</td>\n      <td>Diners</td>\n      <td>Abu Dhabi</td>\n      <td>United Arab Emirates</td>\n      <td>3668</td>\n      <td>[E_00c1216c65c1a5, E_0237f1ca3ed586, E_0013149...</td>\n      <td>[0.0, 0.0581804892987272, 0.06575899037071478,...</td>\n    </tr>\n    <tr>\n      <th>3876</th>\n      <td>E_00e4afebc11826</td>\n      <td>Kambaa</td>\n      <td>Coffee Shops, Cafés</td>\n      <td>Dubai</td>\n      <td>U.A.E</td>\n      <td>NaN</td>\n      <td>[E_00e4afebc11826, E_01b35767eb9bc5, E_013fdbb...</td>\n      <td>[0.0, 0.01146483826934143, 0.07034380303512579...</td>\n    </tr>\n    <tr>\n      <th>4355</th>\n      <td>E_010216001148cd</td>\n      <td>Dubai Festival City Mall</td>\n      <td>NaN</td>\n      <td>Dubai</td>\n      <td>NaN</td>\n      <td>NaN</td>\n      <td>[E_010216001148cd, E_0146037951197b, E_0245135...</td>\n      <td>[0.0, 0.012978420758960888, 0.0147839008506107...</td>\n    </tr>\n    <tr>\n      <th>4753</th>\n      <td>E_0117b75aff7fcb</td>\n      <td>كَفْتِيرْيَا الرَّبِيع الأَخْضَر (بَحَر الشَّا...</td>\n      <td>Cafeterias</td>\n      <td>الشَّارْجَة</td>\n      <td>NaN</td>\n      <td>NaN</td>\n      <td>[E_0117b75aff7fcb, E_02383bdcc2e254, E_01aaf14...</td>\n      <td>[0.0, 0.06569167134909425, 0.10788987572161239...</td>\n    </tr>\n    <tr>\n      <th>5127</th>\n      <td>E_012d7bb6a3a554</td>\n      <td>COS</td>\n      <td>Clothing Stores</td>\n      <td>Dubai</td>\n      <td>Dubai</td>\n      <td>NaN</td>\n      <td>[E_012d7bb6a3a554, E_005661be0c9b52, E_01d948f...</td>\n      <td>[0.0, 0.0011728014637258227, 0.002861680284032...</td>\n    </tr>\n    <tr>\n      <th>5481</th>\n      <td>E_013fdbb05c8107</td>\n      <td>Hallmark</td>\n      <td>Gift Shops, Toy / Game Stores</td>\n      <td>Dubai</td>\n      <td>Dubai</td>\n      <td>NaN</td>\n      <td>[E_013fdbb05c8107, E_0091956d4df68f, E_0019ce8...</td>\n      <td>[0.0, 0.0027762204198563526, 0.020375809037147...</td>\n    </tr>\n    <tr>\n      <th>5581</th>\n      <td>E_0146037951197b</td>\n      <td>Dubai Musium</td>\n      <td>NaN</td>\n      <td>Dubai</td>\n      <td>NaN</td>\n      <td>NaN</td>\n      <td>[E_0146037951197b, E_010216001148cd, E_0245135...</td>\n      <td>[0.0, 0.012978420758960888, 0.0199519423382730...</td>\n    </tr>\n    <tr>\n      <th>6402</th>\n      <td>E_01729db6614527</td>\n      <td>Maggie's Home Office Dubai</td>\n      <td>Offices</td>\n      <td>Dubai</td>\n      <td>NaN</td>\n      <td>NaN</td>\n      <td>[E_01729db6614527, E_01e41bc656a2c3, E_0076e00...</td>\n      <td>[0.0, 0.01224182464584516, 0.014613009494782, ...</td>\n    </tr>\n    <tr>\n      <th>6475</th>\n      <td>E_0176cc3cf6c966</td>\n      <td>Snappy Cut Gents Salon NEW LOCATION</td>\n      <td>Salons / Barbershops</td>\n      <td>Abu Dhabi</td>\n      <td>Abu Dhabi</td>\n      <td>001</td>\n      <td>[E_0176cc3cf6c966, E_022f45fe704571, E_0031c76...</td>\n      <td>[0.0, 0.01254198677842509, 0.01626713494303584...</td>\n    </tr>\n    <tr>\n      <th>7317</th>\n      <td>E_01aaf148cedd3e</td>\n      <td>Burj Al Nahda Bldg.</td>\n      <td>Residential Buildings (Apartments / Condos), B...</td>\n      <td>Dubai</td>\n      <td>Dubai</td>\n      <td>NaN</td>\n      <td>[E_01aaf148cedd3e, E_02383bdcc2e254, E_0146037...</td>\n      <td>[0.0, 0.051330124186718576, 0.0556289211435661...</td>\n    </tr>\n    <tr>\n      <th>7470</th>\n      <td>E_01b35767eb9bc5</td>\n      <td>HolidayMe.com</td>\n      <td>Travel Agencies, General Travel</td>\n      <td>Dubai</td>\n      <td>Dubai</td>\n      <td>938533</td>\n      <td>[E_01b35767eb9bc5, E_00e4afebc11826, E_013fdbb...</td>\n      <td>[0.0, 0.01146483826934143, 0.05961754285578807...</td>\n    </tr>\n    <tr>\n      <th>7557</th>\n      <td>E_01b7aec94b03ef</td>\n      <td>Medcare Clinic</td>\n      <td>Medical Centers</td>\n      <td>Dubai</td>\n      <td>NaN</td>\n      <td>NaN</td>\n      <td>[E_01b7aec94b03ef, E_00a55713b33416, E_02189c2...</td>\n      <td>[0.0, 0.0024942750885842318, 0.003223754179014...</td>\n    </tr>\n    <tr>\n      <th>8155</th>\n      <td>E_01d948fe724451</td>\n      <td>Cosi</td>\n      <td>Coffee Shops</td>\n      <td>Dubai</td>\n      <td>Dubai</td>\n      <td>NaN</td>\n      <td>[E_01d948fe724451, E_005661be0c9b52, E_012d7bb...</td>\n      <td>[0.0, 0.0025391263907334235, 0.002861680284032...</td>\n    </tr>\n    <tr>\n      <th>8240</th>\n      <td>E_01de2a08b62351</td>\n      <td>Burger King</td>\n      <td>Burger Joints</td>\n      <td>Abu Dhabi</td>\n      <td>Abu Dhabi</td>\n      <td>NaN</td>\n      <td>[E_01de2a08b62351, E_006cc2b2a1ce9a, E_0237f1c...</td>\n      <td>[0.0, 0.028557175210048108, 0.0895986217047725...</td>\n    </tr>\n    <tr>\n      <th>8344</th>\n      <td>E_01e41bc656a2c3</td>\n      <td>Celcius @ Radisson Royal</td>\n      <td>Restaurants</td>\n      <td>Dubai</td>\n      <td>NaN</td>\n      <td>NaN</td>\n      <td>[E_01e41bc656a2c3, E_01729db6614527, E_0076e00...</td>\n      <td>[0.0, 0.01224182464584516, 0.02627553807867792...</td>\n    </tr>\n    <tr>\n      <th>9227</th>\n      <td>E_02189c27d738ff</td>\n      <td>GBK</td>\n      <td>Burger Joints</td>\n      <td>Dubai</td>\n      <td>Dubai</td>\n      <td>NaN</td>\n      <td>[E_02189c27d738ff, E_01b7aec94b03ef, E_00a5571...</td>\n      <td>[0.0, 0.0032237541790147463, 0.003995807863180...</td>\n    </tr>\n    <tr>\n      <th>9613</th>\n      <td>E_022f45fe704571</td>\n      <td>Forbice Salon</td>\n      <td>Health &amp; Beauty Services, Salons / Barbershops...</td>\n      <td>Abu Dhabi</td>\n      <td>Abu Dhabi</td>\n      <td>NaN</td>\n      <td>[E_022f45fe704571, E_0176cc3cf6c966, E_0031c76...</td>\n      <td>[0.0, 0.01254198677842509, 0.02880633397313206...</td>\n    </tr>\n    <tr>\n      <th>9758</th>\n      <td>E_0237f1ca3ed586</td>\n      <td>Sevilla</td>\n      <td>Breakfast Spots</td>\n      <td>Abu Dhabi</td>\n      <td>Abu Dhabi</td>\n      <td>NaN</td>\n      <td>[E_0237f1ca3ed586, E_00c1216c65c1a5, E_0013149...</td>\n      <td>[0.0, 0.0581804892987272, 0.08702324428002006,...</td>\n    </tr>\n    <tr>\n      <th>9768</th>\n      <td>E_02383bdcc2e254</td>\n      <td>Al Qamar Al Sateh General Trading L.L.C.</td>\n      <td>Automotive Shops</td>\n      <td>Sharjah</td>\n      <td>Sharjah</td>\n      <td>36443</td>\n      <td>[E_02383bdcc2e254, E_01aaf148cedd3e, E_0117b75...</td>\n      <td>[0.0, 0.051330124186718576, 0.0656916713490942...</td>\n    </tr>\n    <tr>\n      <th>9965</th>\n      <td>E_02451350cead62</td>\n      <td>Burj Al Arab</td>\n      <td>Hotels</td>\n      <td>Dubai</td>\n      <td>Dubai</td>\n      <td>NaN</td>\n      <td>[E_02451350cead62, E_010216001148cd, E_0146037...</td>\n      <td>[0.0, 0.014783900850610704, 0.0199519423382730...</td>\n    </tr>\n  </tbody>\n</table>\n</div>"
     },
     "execution_count": 35,
     "metadata": {},
     "output_type": "execute_result"
    }
   ],
   "source": [
    "df['matches'] = df['id'].apply(lambda x: list(knn_df[knn_df['id'] == x]['match_id']))\n",
    "df['dists'] = df['id'].apply(lambda x: list(knn_df[knn_df['id'] == x]['kdist_country']))\n",
    "df[df['matches'].map(len) > 1]"
   ],
   "metadata": {
    "collapsed": false,
    "pycharm": {
     "name": "#%%\n"
    }
   }
  },
  {
   "cell_type": "code",
   "execution_count": 32,
   "outputs": [],
   "source": [],
   "metadata": {
    "collapsed": false,
    "pycharm": {
     "name": "#%%\n"
    }
   }
  }
 ],
 "metadata": {
  "kernelspec": {
   "display_name": "Python 3",
   "language": "python",
   "name": "python3"
  },
  "language_info": {
   "codemirror_mode": {
    "name": "ipython",
    "version": 2
   },
   "file_extension": ".py",
   "mimetype": "text/x-python",
   "name": "python",
   "nbconvert_exporter": "python",
   "pygments_lexer": "ipython2",
   "version": "2.7.6"
  }
 },
 "nbformat": 4,
 "nbformat_minor": 0
}